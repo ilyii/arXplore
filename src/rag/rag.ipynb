{
 "cells": [
  {
   "cell_type": "markdown",
   "metadata": {},
   "source": [
    "# RAG"
   ]
  },
  {
   "cell_type": "markdown",
   "metadata": {},
   "source": [
    "## 1. Index Data"
   ]
  },
  {
   "cell_type": "code",
   "execution_count": 1,
   "metadata": {},
   "outputs": [],
   "source": [
    "import requests\n",
    "import numpy as np\n",
    "import pandas as pd\n",
    "from openai import OpenAI\n",
    "import json"
   ]
  },
  {
   "cell_type": "code",
   "execution_count": 2,
   "metadata": {},
   "outputs": [],
   "source": [
    "DATA_PATH = r\"D:\\Personal\\OneDrive\\Gabrilyi\\arxiv_project\\arxiv_metadata_sample.parquet.gzip\"\n",
    "CATEGORIES_PATH = r\"..\\data\\categories.json\""
   ]
  },
  {
   "cell_type": "code",
   "execution_count": 3,
   "metadata": {},
   "outputs": [],
   "source": [
    "def load_data(p):\n",
    "    return pd.read_parquet(p)\n",
    "\n",
    "def load_categories(p):\n",
    "    with open(p, \"r\") as f:\n",
    "        return json.load(f)\n",
    "\n",
    "\n",
    "df = load_data(DATA_PATH)\n",
    "categories = load_categories(CATEGORIES_PATH)"
   ]
  },
  {
   "cell_type": "code",
   "execution_count": 4,
   "metadata": {},
   "outputs": [
    {
     "data": {
      "text/html": [
       "<div>\n",
       "<style scoped>\n",
       "    .dataframe tbody tr th:only-of-type {\n",
       "        vertical-align: middle;\n",
       "    }\n",
       "\n",
       "    .dataframe tbody tr th {\n",
       "        vertical-align: top;\n",
       "    }\n",
       "\n",
       "    .dataframe thead th {\n",
       "        text-align: right;\n",
       "    }\n",
       "</style>\n",
       "<table border=\"1\" class=\"dataframe\">\n",
       "  <thead>\n",
       "    <tr style=\"text-align: right;\">\n",
       "      <th></th>\n",
       "      <th>id</th>\n",
       "      <th>title</th>\n",
       "      <th>abstract</th>\n",
       "      <th>categories</th>\n",
       "      <th>update_date</th>\n",
       "      <th>title_words</th>\n",
       "      <th>abstract_words</th>\n",
       "      <th>mapped_categories</th>\n",
       "      <th>amount_categories</th>\n",
       "      <th>update_year</th>\n",
       "    </tr>\n",
       "  </thead>\n",
       "  <tbody>\n",
       "    <tr>\n",
       "      <th>0</th>\n",
       "      <td>1911.1286</td>\n",
       "      <td>Double-Scaling Limit in Principal Chiral Model...</td>\n",
       "      <td>We initiate a systematic, non-perturbative s...</td>\n",
       "      <td>[hep-th]</td>\n",
       "      <td>2020-05-20</td>\n",
       "      <td>10</td>\n",
       "      <td>116</td>\n",
       "      <td>[High Energy Physics - Theory]</td>\n",
       "      <td>1</td>\n",
       "      <td>2020</td>\n",
       "    </tr>\n",
       "    <tr>\n",
       "      <th>1</th>\n",
       "      <td>astro-ph/9509086</td>\n",
       "      <td>Genus Statistics of the Large-Scale Structure ...</td>\n",
       "      <td>As a statistical measure to quantify the top...</td>\n",
       "      <td>[astro-ph]</td>\n",
       "      <td>2009-10-28</td>\n",
       "      <td>10</td>\n",
       "      <td>95</td>\n",
       "      <td>[Astrophysics]</td>\n",
       "      <td>1</td>\n",
       "      <td>2009</td>\n",
       "    </tr>\n",
       "    <tr>\n",
       "      <th>2</th>\n",
       "      <td>1106.3718</td>\n",
       "      <td>Quantum Efficiency of Intermediate-Band Solar ...</td>\n",
       "      <td>As an appealing concept for developing next-...</td>\n",
       "      <td>[cond-mat.mtrl-sci]</td>\n",
       "      <td>2012-10-10</td>\n",
       "      <td>12</td>\n",
       "      <td>165</td>\n",
       "      <td>[Materials Science]</td>\n",
       "      <td>1</td>\n",
       "      <td>2012</td>\n",
       "    </tr>\n",
       "    <tr>\n",
       "      <th>3</th>\n",
       "      <td>2212.10001</td>\n",
       "      <td>Towards Understanding Chain-of-Thought Prompti...</td>\n",
       "      <td>Chain-of-Thought (CoT) prompting can dramati...</td>\n",
       "      <td>[cs.CL]</td>\n",
       "      <td>2023-06-02</td>\n",
       "      <td>10</td>\n",
       "      <td>160</td>\n",
       "      <td>[Computation and Language]</td>\n",
       "      <td>1</td>\n",
       "      <td>2023</td>\n",
       "    </tr>\n",
       "    <tr>\n",
       "      <th>4</th>\n",
       "      <td>1806.01954</td>\n",
       "      <td>Mining for meaning: from vision to language th...</td>\n",
       "      <td>Describing visual data into natural language...</td>\n",
       "      <td>[cs.CV]</td>\n",
       "      <td>2020-05-26</td>\n",
       "      <td>11</td>\n",
       "      <td>161</td>\n",
       "      <td>[Computer Vision and Pattern Recognition]</td>\n",
       "      <td>1</td>\n",
       "      <td>2020</td>\n",
       "    </tr>\n",
       "  </tbody>\n",
       "</table>\n",
       "</div>"
      ],
      "text/plain": [
       "                 id                                              title  \\\n",
       "0         1911.1286  Double-Scaling Limit in Principal Chiral Model...   \n",
       "1  astro-ph/9509086  Genus Statistics of the Large-Scale Structure ...   \n",
       "2         1106.3718  Quantum Efficiency of Intermediate-Band Solar ...   \n",
       "3        2212.10001  Towards Understanding Chain-of-Thought Prompti...   \n",
       "4        1806.01954  Mining for meaning: from vision to language th...   \n",
       "\n",
       "                                            abstract           categories  \\\n",
       "0    We initiate a systematic, non-perturbative s...             [hep-th]   \n",
       "1    As a statistical measure to quantify the top...           [astro-ph]   \n",
       "2    As an appealing concept for developing next-...  [cond-mat.mtrl-sci]   \n",
       "3    Chain-of-Thought (CoT) prompting can dramati...              [cs.CL]   \n",
       "4    Describing visual data into natural language...              [cs.CV]   \n",
       "\n",
       "  update_date  title_words  abstract_words  \\\n",
       "0  2020-05-20           10             116   \n",
       "1  2009-10-28           10              95   \n",
       "2  2012-10-10           12             165   \n",
       "3  2023-06-02           10             160   \n",
       "4  2020-05-26           11             161   \n",
       "\n",
       "                           mapped_categories  amount_categories  update_year  \n",
       "0             [High Energy Physics - Theory]                  1         2020  \n",
       "1                             [Astrophysics]                  1         2009  \n",
       "2                        [Materials Science]                  1         2012  \n",
       "3                 [Computation and Language]                  1         2023  \n",
       "4  [Computer Vision and Pattern Recognition]                  1         2020  "
      ]
     },
     "execution_count": 4,
     "metadata": {},
     "output_type": "execute_result"
    }
   ],
   "source": [
    "df.head()"
   ]
  },
  {
   "cell_type": "code",
   "execution_count": 11,
   "metadata": {},
   "outputs": [],
   "source": [
    "df = df[:1000]"
   ]
  },
  {
   "cell_type": "code",
   "execution_count": 12,
   "metadata": {},
   "outputs": [],
   "source": [
    "from langchain_community.document_loaders import TextLoader\n",
    "from langchain.docstore.document import Document\n",
    "\n",
    "docs = []\n",
    "for i, row in df.iterrows():\n",
    "    doc = Document(\n",
    "        page_content=row[\"abstract\"],\n",
    "        metadata={\n",
    "            \"source\": row[\"id\"]\n",
    "        }\n",
    "    )\n",
    "    docs.append(doc)"
   ]
  },
  {
   "cell_type": "code",
   "execution_count": 13,
   "metadata": {},
   "outputs": [
    {
     "data": {
      "text/plain": [
       "1000"
      ]
     },
     "execution_count": 13,
     "metadata": {},
     "output_type": "execute_result"
    }
   ],
   "source": [
    "len(docs)"
   ]
  },
  {
   "cell_type": "markdown",
   "metadata": {},
   "source": [
    "### Split"
   ]
  },
  {
   "cell_type": "code",
   "execution_count": 14,
   "metadata": {},
   "outputs": [
    {
     "data": {
      "text/plain": [
       "2353"
      ]
     },
     "execution_count": 14,
     "metadata": {},
     "output_type": "execute_result"
    }
   ],
   "source": [
    "from langchain_text_splitters import RecursiveCharacterTextSplitter\n",
    "\n",
    "text_splitter = RecursiveCharacterTextSplitter(\n",
    "    chunk_size=512, chunk_overlap=64, add_start_index=True # ~ 2.35x\n",
    ")\n",
    "docs_split = text_splitter.split_documents(docs)\n",
    "\n",
    "len(docs_split)"
   ]
  },
  {
   "cell_type": "markdown",
   "metadata": {},
   "source": [
    "### Store"
   ]
  },
  {
   "cell_type": "code",
   "execution_count": 22,
   "metadata": {},
   "outputs": [],
   "source": [
    "from langchain_chroma import Chroma\n",
    "import chromadb\n",
    "\n",
    "\n",
    "class Embedder:\n",
    "      def __init__(self, model=\"second-state/All-MiniLM-L6-v2-Embedding-GGUF\"):\n",
    "         self.model = model\n",
    "         self.client = OpenAI(base_url=\"http://localhost:5000/v1\", api_key=\"lm-studio\")\n",
    "\n",
    "      def embed_documents(self, texts):\n",
    "         # return self.client.embeddings.create(input = texts, model=self.model)\n",
    "         return [d.embedding for d in self.client.embeddings.create(input = texts, model=self.model).data]\n",
    "\n",
    "      def embed_query(self, query: str):\n",
    "            return self.client.embeddings.create(input = query, model=self.model).data[0].embedding\n",
    "\n",
    "embedder = Embedder()\n",
    "\n",
    "vectorstore = Chroma.from_documents(documents=docs_split, embedding=embedder, persist_directory=\"../data/chroma\")\n",
    "\n",
    "client = chromadb.PersistentClient(path=\"../data/chroma\")\n",
    "\n"
   ]
  },
  {
   "cell_type": "code",
   "execution_count": 23,
   "metadata": {},
   "outputs": [
    {
     "data": {
      "text/plain": [
       "6"
      ]
     },
     "execution_count": 23,
     "metadata": {},
     "output_type": "execute_result"
    }
   ],
   "source": [
    "retriever = vectorstore.as_retriever(search_type=\"similarity\", search_kwargs={\"k\": 6})\n",
    "\n",
    "retrieved_docs = retriever.invoke(\"The quick brown fox jumps over the lazy dog.\")\n",
    "\n",
    "len(retrieved_docs)"
   ]
  },
  {
   "cell_type": "code",
   "execution_count": 26,
   "metadata": {},
   "outputs": [
    {
     "data": {
      "text/plain": [
       "[Document(page_content='exponent of the quenched-averaged dispersion of the walker is sub-ballistic but\\nsuper-diffusive. We also show that the features are universal to a class of\\nsub- and super-Poissonian distributed quenched randomized jumps.', metadata={'source': '1806.04024', 'start_index': 452}),\n",
       " Document(page_content='exponent of the quenched-averaged dispersion of the walker is sub-ballistic but\\nsuper-diffusive. We also show that the features are universal to a class of\\nsub- and super-Poissonian distributed quenched randomized jumps.', metadata={'source': '1806.04024', 'start_index': 452}),\n",
       " Document(page_content='with the nulling-drifting interaction: the unexpected brightness of the first\\nactive pulse and the low post-null driftrate. We put forward a new\\ninterpretation of the subpulse-position jump over the null, indicating that the\\nspeedup time scale of the post-null drifting is much shorter than previously\\nthought. The speedup time scale we find is no longer discrepant with the time\\nscales found for the subpulse-drift slowdown and the emission decay around the\\nnull.', metadata={'source': 'astro-ph/0202477', 'start_index': 487}),\n",
       " Document(page_content='with the nulling-drifting interaction: the unexpected brightness of the first\\nactive pulse and the low post-null driftrate. We put forward a new\\ninterpretation of the subpulse-position jump over the null, indicating that the\\nspeedup time scale of the post-null drifting is much shorter than previously\\nthought. The speedup time scale we find is no longer discrepant with the time\\nscales found for the subpulse-drift slowdown and the emission decay around the\\nnull.', metadata={'source': 'astro-ph/0202477', 'start_index': 487}),\n",
       " Document(page_content='We consider a quantum particle (walker) on a line who coherently chooses to\\njump to the left or right depending on the result of toss of a quantum coin.\\nThe lengths of the jumps are considered to be independent and identically\\ndistributed quenched Poisson random variables. We find that the spread of the\\nwalker is significantly inhibited, whereby it resides in the near-origin\\nregion, with respect to the case when there is no disorder. The scaling', metadata={'source': '1806.04024', 'start_index': 2}),\n",
       " Document(page_content='We consider a quantum particle (walker) on a line who coherently chooses to\\njump to the left or right depending on the result of toss of a quantum coin.\\nThe lengths of the jumps are considered to be independent and identically\\ndistributed quenched Poisson random variables. We find that the spread of the\\nwalker is significantly inhibited, whereby it resides in the near-origin\\nregion, with respect to the case when there is no disorder. The scaling', metadata={'source': '1806.04024', 'start_index': 2})]"
      ]
     },
     "execution_count": 26,
     "metadata": {},
     "output_type": "execute_result"
    }
   ],
   "source": [
    "retrieved_docs"
   ]
  }
 ],
 "metadata": {
  "kernelspec": {
   "display_name": "Python 3",
   "language": "python",
   "name": "python3"
  },
  "language_info": {
   "codemirror_mode": {
    "name": "ipython",
    "version": 3
   },
   "file_extension": ".py",
   "mimetype": "text/x-python",
   "name": "python",
   "nbconvert_exporter": "python",
   "pygments_lexer": "ipython3",
   "version": "3.11.6"
  }
 },
 "nbformat": 4,
 "nbformat_minor": 2
}
