{
 "cells": [
  {
   "cell_type": "code",
   "execution_count": 71,
   "metadata": {},
   "outputs": [],
   "source": [
    "import pandas as pd\n",
    "\n",
    "PARQUET_PATH = \"../data/arxiv_metadata.parquet.gzip\"\n",
    "df = pd.read_parquet(PARQUET_PATH)\n",
    "\n",
    "import json\n",
    "with open(\"categories.json\", \"r\", encoding=\"utf-8\") as f:\n",
    "    categories = json.load(f)"
   ]
  },
  {
   "cell_type": "code",
   "execution_count": 75,
   "metadata": {},
   "outputs": [],
   "source": [
    "# import os\n",
    "# from dotenv import load_dotenv\n",
    "# from openai import AzureOpenAI\n",
    "\n",
    "# load_dotenv(\".env\")\n",
    "\n",
    "\n",
    "# client = AzureOpenAI(\n",
    "#     api_key=os.getenv(\"AZURE_OPENAI_API_KEY\"),\n",
    "#     api_version=\"2023-12-01-preview\",\n",
    "#     azure_endpoint=os.getenv(\"AZURE_OPENAI_ENDPOINT\")\n",
    "# )"
   ]
  },
  {
   "cell_type": "code",
   "execution_count": 76,
   "metadata": {},
   "outputs": [],
   "source": [
    "inputs = titles\n",
    "# save inputs for embedding mapping\n",
    "# with open(\"inputs.txt\", \"w\", encoding=\"utf-8\") as f:\n",
    "#     f.write(\"\\n\".join(inputs))"
   ]
  },
  {
   "cell_type": "code",
   "execution_count": 77,
   "metadata": {},
   "outputs": [],
   "source": [
    "# chunk_size = 999\n",
    "# embeddings = []\n",
    "# for i in range(0, len(inputs), chunk_size):\n",
    "#     chunk = inputs[i:i + chunk_size]\n",
    "#     embedding = client.embeddings.create(\n",
    "#         input=chunk,\n",
    "#         model=\"text-embedding-3-small\",\n",
    "#     )\n",
    "#     embeddings.extend(embedding.data)\n",
    "\n",
    "# # Save in npy format\n",
    "# import numpy as np\n",
    "\n",
    "# embeddings_np = np.array([embed.embedding for embed in embeddings])\n",
    "# np.save('embeddings_cv-10_000.npy', embeddings_np)\n",
    "# print(embeddings_np.shape)"
   ]
  },
  {
   "cell_type": "code",
   "execution_count": 78,
   "metadata": {},
   "outputs": [],
   "source": [
    "# import numpy as np\n",
    "# import pandas as pd\n",
    "# import plotly.express as px\n",
    "# from sklearn.manifold import TSNE\n",
    "# from sklearn.decomposition import PCA\n",
    "\n",
    "# # Load embeddings and titles\n",
    "# embeddings = np.load('embeddings.npy')\n",
    "# tsne = TSNE(n_components=2, random_state=0)\n",
    "# embeddings_2d = tsne.fit_transform(embeddings)\n",
    "# tsne_df = pd.DataFrame(embeddings_2d, columns=['x', 'y'])\n",
    "# tsne_df['title'] = inputs\n",
    "\n",
    "# # Define a column to specify if the title contains a specific string\n",
    "# specific_string = \"x-ray\"  # Change this to your desired string\n",
    "# tsne_df['highlight'] = tsne_df['title'].apply(lambda x: specific_string in x)\n",
    "\n",
    "# # Plot with Plotly\n",
    "# fig = px.scatter(tsne_df, x='x', y='y', color='highlight', hover_data=['title'], title='t-SNE Visualization of Word Embeddings', width=1000, height=1000)\n",
    "# fig.update_layout(\n",
    "#     xaxis_title='x',\n",
    "#     yaxis_title='y',\n",
    "# )\n",
    "# fig.show()\n"
   ]
  },
  {
   "cell_type": "code",
   "execution_count": 79,
   "metadata": {},
   "outputs": [],
   "source": [
    "# Create title embeddings\n",
    "import torch\n",
    "import transformers\n",
    "\n",
    "device = \"cuda\"\n",
    "cache_dir = 'cache'\n",
    "if not os.path.exists(cache_dir):\n",
    "    os.makedirs(cache_dir)\n"
   ]
  },
  {
   "cell_type": "code",
   "execution_count": 80,
   "metadata": {},
   "outputs": [],
   "source": [
    "cfg_roberta = transformers.RobertaConfig.from_pretrained(\"FacebookAI/roberta-base\", cache_dir=cache_dir)\n",
    "model = transformers.RobertaForMaskedLM.from_pretrained(\"FacebookAI/roberta-base\",config=cfg_roberta, cache_dir=cache_dir).to(device)\n",
    "tokenizer = transformers.RobertaTokenizer.from_pretrained(\"FacebookAI/roberta-base\", cache_dir=cache_dir)\n"
   ]
  },
  {
   "cell_type": "code",
   "execution_count": 81,
   "metadata": {},
   "outputs": [],
   "source": [
    "embeddings = []\n",
    "with torch.no_grad():\n",
    "    inputs = tokenizer(inputs, padding=True, truncation=True, return_tensors=\"pt\").to(device)\n",
    "    x = model.roberta.embeddings(inputs.input_ids)\n",
    "    embeddings = model.roberta.encoder(x)\n",
    "\n",
    "embeddings_roberta = embeddings.last_hidden_state.mean(dim=1)"
   ]
  },
  {
   "cell_type": "code",
   "execution_count": 89,
   "metadata": {},
   "outputs": [],
   "source": [
    "from collections import Counter\n",
    "from spacy.lang.en import STOP_WORDS\n",
    "\n",
    "vocab = Counter()\n",
    "for title in titles:\n",
    "    vocab.update(title.split())\n",
    "\n",
    "STOP_WORDS = set(STOP_WORDS)\n",
    "\n",
    "vocab = {k: v for k, v in vocab.items() if k not in STOP_WORDS}\n",
    "vocab = sorted(vocab.items(), key=lambda x: x[1], reverse=True)"
   ]
  },
  {
   "cell_type": "code",
   "execution_count": 90,
   "metadata": {},
   "outputs": [
    {
     "data": {
      "text/plain": [
       "[('image', 162),\n",
       " ('recognition', 122),\n",
       " ('based', 113),\n",
       " ('images', 98),\n",
       " ('detection', 72),\n",
       " ('analysis', 68),\n",
       " ('approach', 66),\n",
       " ('quantum', 66),\n",
       " ('face', 62),\n",
       " ('classification', 62),\n",
       " ('segmentation', 60),\n",
       " ('algorithm', 60),\n",
       " ('model', 58),\n",
       " ('theory', 53),\n",
       " ('learning', 52),\n",
       " ('data', 42),\n",
       " ('system', 42),\n",
       " ('new', 42),\n",
       " ('feature', 42),\n",
       " ('method', 40),\n",
       " ('3d', 40),\n",
       " ('field', 37),\n",
       " ('automatic', 35),\n",
       " ('fusion', 35),\n",
       " ('energy', 35),\n",
       " ('clustering', 34),\n",
       " ('statistical', 32),\n",
       " ('linear', 31),\n",
       " ('systems', 31),\n",
       " ('human', 30),\n",
       " ('networks', 29),\n",
       " ('local', 29),\n",
       " ('visual', 29),\n",
       " ('digital', 29),\n",
       " ('shape', 29),\n",
       " ('wavelet', 28),\n",
       " ('phase', 28),\n",
       " ('modeling', 27),\n",
       " ('models', 27),\n",
       " ('sparse', 27),\n",
       " ('features', 27),\n",
       " ('algorithms', 26),\n",
       " ('fast', 26),\n",
       " ('robust', 26),\n",
       " ('efficient', 26),\n",
       " ('neural', 25),\n",
       " ('-', 25),\n",
       " ('object', 25),\n",
       " ('functions', 25),\n",
       " ('color', 25),\n",
       " ('extraction', 25),\n",
       " ('spin', 25),\n",
       " ('methods', 24),\n",
       " ('network', 24),\n",
       " ('handwritten', 24),\n",
       " ('vector', 23),\n",
       " ('time', 23),\n",
       " ('multiple', 23),\n",
       " ('technique', 23),\n",
       " ('information', 22),\n",
       " ('processing', 22),\n",
       " ('structure', 22),\n",
       " ('selection', 22),\n",
       " ('matching', 22),\n",
       " ('representation', 22),\n",
       " ('character', 22),\n",
       " ('estimation', 21),\n",
       " ('high', 21),\n",
       " ('framework', 21),\n",
       " ('application', 21),\n",
       " ('filtering', 21),\n",
       " ('transform', 21),\n",
       " ('dynamics', 21),\n",
       " ('evolution', 21),\n",
       " ('techniques', 20),\n",
       " ('fields', 20),\n",
       " ('large', 20),\n",
       " ('state', 20),\n",
       " ('emission', 20),\n",
       " ('search', 19),\n",
       " ('solutions', 19),\n",
       " ('effects', 19),\n",
       " ('properties', 19),\n",
       " ('finite', 19),\n",
       " ('hierarchical', 18),\n",
       " ('geometric', 18),\n",
       " ('adaptive', 18),\n",
       " ('facial', 18),\n",
       " ('states', 18),\n",
       " ('equations', 18),\n",
       " ('identification', 17),\n",
       " ('vision', 17),\n",
       " ('fuzzy', 17),\n",
       " ('problem', 17),\n",
       " ('random', 17),\n",
       " ('generalized', 17),\n",
       " ('retrieval', 17),\n",
       " ('tracking', 17),\n",
       " ('study', 17),\n",
       " ('dark', 17),\n",
       " ('star', 17),\n",
       " ('reconstruction', 16),\n",
       " ('video', 16),\n",
       " ('gaussian', 16),\n",
       " ('applications', 16),\n",
       " ('x-ray', 16),\n",
       " ('complex', 16),\n",
       " ('spectral', 16),\n",
       " ('point', 15),\n",
       " ('motion', 15),\n",
       " ('space', 15),\n",
       " ('entropy', 15),\n",
       " ('representations', 15),\n",
       " ('correlation', 15),\n",
       " ('effect', 15),\n",
       " ('transition', 15),\n",
       " ('magnetic', 15),\n",
       " ('line', 14),\n",
       " ('spaces', 14),\n",
       " ('graph', 14),\n",
       " ('pattern', 14),\n",
       " ('imaging', 14),\n",
       " ('coding', 14),\n",
       " ('optimal', 14),\n",
       " ('optical', 14),\n",
       " ('noise', 14),\n",
       " ('region', 14),\n",
       " ('binary', 14),\n",
       " ('boundary', 14),\n",
       " ('geometry', 14),\n",
       " ('group', 14),\n",
       " ('diffusion', 14),\n",
       " ('formation', 14),\n",
       " ('black', 14),\n",
       " ('entanglement', 14),\n",
       " ('equation', 14),\n",
       " ('medical', 13),\n",
       " ('enhancement', 13),\n",
       " ('quantization', 13),\n",
       " ('level', 13),\n",
       " ('nonlinear', 13),\n",
       " ('component', 13),\n",
       " ('active', 13),\n",
       " ('markov', 13),\n",
       " ('scheme', 13),\n",
       " ('type', 13),\n",
       " ('cluster', 13),\n",
       " ('matter', 13),\n",
       " ('survey', 12),\n",
       " ('registration', 12),\n",
       " ('mapping', 12),\n",
       " ('source', 12),\n",
       " ('discrete', 12),\n",
       " ('problems', 12),\n",
       " ('order', 12),\n",
       " ('implementation', 12),\n",
       " ('distributed', 12),\n",
       " ('texture', 12),\n",
       " ('inference', 12),\n",
       " ('novel', 12),\n",
       " ('manifolds', 12),\n",
       " ('limit', 12),\n",
       " ('real-time', 12),\n",
       " ('global', 12),\n",
       " ('fingerprint', 12),\n",
       " ('performance', 12),\n",
       " ('thermal', 12),\n",
       " ('scattering', 12),\n",
       " ('density', 12),\n",
       " ('electron', 12),\n",
       " ('decays', 12),\n",
       " ('particles', 12),\n",
       " ('nuclear', 11),\n",
       " ('evaluation', 11),\n",
       " ('filters', 11),\n",
       " ('solution', 11),\n",
       " ('function', 11),\n",
       " ('reduction', 11),\n",
       " ('scale', 11),\n",
       " ('curvature', 11),\n",
       " ('topological', 11),\n",
       " ('automated', 11),\n",
       " ('observations', 11),\n",
       " ('invariant', 11),\n",
       " ('matrix', 11),\n",
       " ('exact', 11),\n",
       " ('decomposition', 11),\n",
       " ('shapes', 11),\n",
       " ('regularization', 11),\n",
       " ('distance', 11),\n",
       " ('denoising', 11),\n",
       " ('resolution', 11),\n",
       " ('iris', 11),\n",
       " ('evidence', 11),\n",
       " ('light', 11),\n",
       " ('sensing', 11),\n",
       " ('stochastic', 11),\n",
       " ('effective', 11),\n",
       " ('experimental', 11),\n",
       " ('single', 11),\n",
       " ('groups', 11),\n",
       " ('general', 11),\n",
       " ('distribution', 11),\n",
       " ('algebras', 11),\n",
       " ('decay', 11),\n",
       " ('sets', 10),\n",
       " ('approximation', 10),\n",
       " ('view', 10),\n",
       " ('camera', 10),\n",
       " ('satellite', 10),\n",
       " ('combination', 10),\n",
       " ('dimension', 10),\n",
       " ('dynamic', 10),\n",
       " ('integral', 10),\n",
       " ('pose', 10),\n",
       " ('generation', 10),\n",
       " ('classifier', 10),\n",
       " ('dipole', 10),\n",
       " ('restoration', 10),\n",
       " ('brain', 10),\n",
       " ('optimization', 10),\n",
       " ('iterative', 10),\n",
       " ('fractal', 10),\n",
       " ('behavior', 10),\n",
       " ('velocity', 10),\n",
       " ('clusters', 10),\n",
       " ('low', 10),\n",
       " ('interactions', 10),\n",
       " ('dynamical', 10),\n",
       " ('strong', 10),\n",
       " ('mixing', 10),\n",
       " ('galaxies', 10),\n",
       " ('curves', 9),\n",
       " ('subspace', 9),\n",
       " ('case', 9),\n",
       " ('structural', 9),\n",
       " ('computer', 9),\n",
       " ('kernel', 9),\n",
       " ('similarity', 9),\n",
       " ('distributions', 9),\n",
       " ('design', 9),\n",
       " ('patterns', 9),\n",
       " ('bayesian', 9),\n",
       " ('convergence', 9),\n",
       " ('2d', 9),\n",
       " ('applied', 9),\n",
       " ('rule', 9),\n",
       " ('higher', 9),\n",
       " ('control', 9),\n",
       " ('conditions', 9),\n",
       " ('compression', 9),\n",
       " ('free', 9),\n",
       " ('interaction', 9),\n",
       " ('online', 9),\n",
       " ('two-dimensional', 9),\n",
       " ('gabor', 9),\n",
       " ('hilbert', 9),\n",
       " ('biometric', 9),\n",
       " ('metric', 9),\n",
       " ('mobile', 9),\n",
       " ('weighted', 9),\n",
       " ('signal', 9),\n",
       " ('improved', 9),\n",
       " ('signature', 9),\n",
       " ('devices', 9),\n",
       " ('open', 9),\n",
       " ('relaxation', 9),\n",
       " ('dimensional', 9),\n",
       " ('temperature', 9),\n",
       " ('measurement', 9),\n",
       " ('neutrinos', 9),\n",
       " ('relativistic', 9),\n",
       " ('bose-einstein', 9),\n",
       " ('potential', 9),\n",
       " ('spectroscopy', 9),\n",
       " ('gamma-ray', 9),\n",
       " ('neutron', 9),\n",
       " ('galaxy', 9),\n",
       " ('hole', 9),\n",
       " ('complexity', 8),\n",
       " ('localization', 8),\n",
       " ('deformable', 8),\n",
       " ('theorem', 8),\n",
       " ('variational', 8),\n",
       " ('supervised', 8),\n",
       " ('nonparametric', 8),\n",
       " ('comparison', 8),\n",
       " ('set', 8),\n",
       " ('natural', 8),\n",
       " ('machine', 8),\n",
       " ('process', 8),\n",
       " ('test', 8),\n",
       " ('mixture', 8),\n",
       " ('polynomial', 8),\n",
       " ('rules', 8),\n",
       " ('affine', 8),\n",
       " ('lower', 8),\n",
       " ('lines', 8),\n",
       " ('depth', 8),\n",
       " ('maps', 8),\n",
       " ('descriptors', 8),\n",
       " ('modular', 8),\n",
       " ('flow', 8),\n",
       " ('multi', 8),\n",
       " ('mri', 8),\n",
       " ('development', 8),\n",
       " ('resonance', 8),\n",
       " ('action', 8),\n",
       " ('simultaneous', 8),\n",
       " ('compressed', 8),\n",
       " ('symmetries', 8),\n",
       " ('devnagari', 8),\n",
       " ('spectra', 8),\n",
       " ('radial', 8),\n",
       " ('mass', 8),\n",
       " ('measures', 8),\n",
       " ('anisotropic', 8),\n",
       " ('particle', 8),\n",
       " ('simulation', 8),\n",
       " ('real', 8),\n",
       " ('2', 8),\n",
       " ('dimensions', 8),\n",
       " ('number', 8),\n",
       " ('molecular', 8),\n",
       " ('chiral', 8),\n",
       " ('lattice', 8),\n",
       " ('nuclei', 8),\n",
       " ('gas', 8),\n",
       " ('string', 8),\n",
       " ('dependence', 8),\n",
       " ('critical', 8),\n",
       " ('stars', 8),\n",
       " ('universe', 8),\n",
       " ('superconducting', 8),\n",
       " ('differential', 8),\n",
       " ('disk', 8),\n",
       " ('map', 7),\n",
       " ('mean', 7),\n",
       " ('super-resolution', 7),\n",
       " ('graphs', 7),\n",
       " ('tomography', 7),\n",
       " ('laser', 7),\n",
       " ('measure', 7),\n",
       " ('construction', 7),\n",
       " ('probabilistic', 7),\n",
       " ('principal', 7),\n",
       " ('moments', 7),\n",
       " ('nearest', 7),\n",
       " ('perceptron', 7),\n",
       " ('imagery', 7),\n",
       " ('dictionary', 7),\n",
       " ('boosting', 7),\n",
       " ('variation', 7),\n",
       " ('probability', 7),\n",
       " ('convex', 7),\n",
       " ('fractional', 7),\n",
       " ('hybrid', 7),\n",
       " ('approximate', 7),\n",
       " ('filter', 7),\n",
       " ('non', 7),\n",
       " ('genetic', 7),\n",
       " ('intelligent', 7),\n",
       " ('coefficients', 7),\n",
       " ('transformations', 7),\n",
       " ('objects', 7),\n",
       " ('constraints', 7),\n",
       " ('weak', 7),\n",
       " ('maximum', 7),\n",
       " ('near', 7),\n",
       " ('minimization', 7),\n",
       " ('signals', 7),\n",
       " ('mechanics', 7),\n",
       " ('surfaces', 7),\n",
       " ('background', 7),\n",
       " ('smooth', 7),\n",
       " ('angular', 7),\n",
       " ('atomic', 7),\n",
       " ('graphene', 7),\n",
       " ('symmetry', 7),\n",
       " ('supernova', 7),\n",
       " ('white', 7),\n",
       " ('polarization', 7),\n",
       " ('gauge', 7),\n",
       " ('rings', 7),\n",
       " ('condensates', 7),\n",
       " ('holes', 7),\n",
       " ('vortex', 7),\n",
       " ('modes', 7),\n",
       " ('surface', 7),\n",
       " ('radio', 7),\n",
       " ('coupled', 7),\n",
       " ('text', 6),\n",
       " ('independent', 6),\n",
       " ('multi-dimensional', 6),\n",
       " ('structures', 6),\n",
       " ('sensor', 6),\n",
       " ('understanding', 6),\n",
       " ('belief', 6),\n",
       " ('propagation', 6),\n",
       " ('unified', 6),\n",
       " ('reduced', 6),\n",
       " ('operators', 6),\n",
       " ('arrays', 6),\n",
       " ('support', 6),\n",
       " ('aspects', 6),\n",
       " ('testing', 6),\n",
       " ('ratio', 6),\n",
       " ('determination', 6),\n",
       " ('pixels', 6),\n",
       " ('range', 6),\n",
       " ('neighbor', 6),\n",
       " ('size', 6),\n",
       " ('environment', 6),\n",
       " ('multilayer', 6),\n",
       " ('seeded', 6),\n",
       " ('generic', 6),\n",
       " ('speed', 6),\n",
       " ('prediction', 6),\n",
       " ('detecting', 6),\n",
       " ('edge', 6),\n",
       " ('formulation', 6),\n",
       " ('error', 6),\n",
       " ('rotation', 6),\n",
       " ('total', 6),\n",
       " ('quality', 6),\n",
       " ('assessment', 6),\n",
       " ('topology', 6),\n",
       " ('cancer', 6),\n",
       " ('sampling', 6),\n",
       " ('current', 6),\n",
       " ('elliptical', 6),\n",
       " ('artificial', 6),\n",
       " ('characters', 6),\n",
       " ('review', 6),\n",
       " ('recovery', 6),\n",
       " ('comparative', 6),\n",
       " ('scalar', 6),\n",
       " ('extended', 6),\n",
       " ('fourier', 6),\n",
       " ('driven', 6),\n",
       " ('ii', 6),\n",
       " ('computation', 6),\n",
       " ('low-rank', 6),\n",
       " ('compressive', 6),\n",
       " ('sources', 6),\n",
       " ('domain', 6),\n",
       " ('discovery', 6),\n",
       " ('ring', 6),\n",
       " ('--', 6),\n",
       " ('codes', 6),\n",
       " ('locally', 6),\n",
       " ('correlated', 6),\n",
       " ('bounds', 6),\n",
       " ('momentum', 6),\n",
       " ('direct', 6),\n",
       " ('spectrum', 6),\n",
       " ('lhc', 6),\n",
       " ('fluid', 6),\n",
       " ('-->', 6),\n",
       " ('solar', 6),\n",
       " ('ferromagnetic', 6),\n",
       " ('crystal', 6),\n",
       " ('origin', 6),\n",
       " ('kinetic', 6),\n",
       " ('dwarf', 6),\n",
       " ('invariance', 6),\n",
       " ('globular', 6),\n",
       " ('gravity', 6),\n",
       " ('einstein', 6),\n",
       " ('carbon', 6),\n",
       " ('dots', 6),\n",
       " ('calculations', 6),\n",
       " ('glast', 6),\n",
       " ('electromagnetic', 6),\n",
       " ('correlations', 6),\n",
       " ('simulations', 6),\n",
       " ('radiation', 6),\n",
       " ('coupling', 6),\n",
       " ('planetary', 6),\n",
       " ('constant', 6),\n",
       " ('multiresolution', 5),\n",
       " ('noisy', 5),\n",
       " ('decision', 5),\n",
       " ('ensemble', 5),\n",
       " ('path', 5),\n",
       " ('force', 5),\n",
       " ('attack', 5),\n",
       " ('spatio-temporal', 5),\n",
       " ('sequences', 5),\n",
       " ('dimensionality', 5),\n",
       " ('sharing', 5),\n",
       " ('classifiers', 5),\n",
       " ('approaches', 5),\n",
       " ('i:', 5),\n",
       " ('contour', 5),\n",
       " ('diagnosis', 5),\n",
       " ('interactive', 5),\n",
       " ('exponential', 5),\n",
       " ('growing', 5),\n",
       " ('materials', 5),\n",
       " (':', 5),\n",
       " ('skin', 5),\n",
       " ('astronomical', 5),\n",
       " ('observation', 5),\n",
       " ('bound', 5),\n",
       " ('urban', 5),\n",
       " ('cell', 5),\n",
       " ('histogram', 5),\n",
       " ('plane', 5),\n",
       " ('vectors', 5),\n",
       " ('combinatorial', 5),\n",
       " ('engineering', 5),\n",
       " ('finding', 5),\n",
       " ('gesture', 5),\n",
       " ('wave', 5),\n",
       " ('fully', 5),\n",
       " ('parallel', 5),\n",
       " ('adaboost', 5),\n",
       " ('labeling', 5),\n",
       " ('pairs', 5),\n",
       " ('sparsity', 5),\n",
       " ('vehicle', 5),\n",
       " ('transformation', 5),\n",
       " ('discriminant', 5),\n",
       " ('orthogonal', 5),\n",
       " ('variability', 5),\n",
       " ('threshold', 5),\n",
       " ('lie', 5),\n",
       " ('gradient', 5),\n",
       " ('tumor', 5),\n",
       " ('complete', 5),\n",
       " ('scaling', 5),\n",
       " ('channel', 5),\n",
       " ('different', 5),\n",
       " ('inverse', 5),\n",
       " ('unitary', 5),\n",
       " ('ocr', 5),\n",
       " ('engine', 5),\n",
       " ('violation', 5),\n",
       " ('expression', 5),\n",
       " ('correspondence', 5),\n",
       " ('descriptor', 5),\n",
       " ('spatial', 5),\n",
       " ('perturbation', 5),\n",
       " ('training', 5),\n",
       " ('change', 5),\n",
       " ('solving', 5),\n",
       " ('wavelets', 5),\n",
       " ('determining', 5),\n",
       " ('switching', 5),\n",
       " ('related', 5),\n",
       " ('ion', 5),\n",
       " ('potentials', 5),\n",
       " ('measurements', 5),\n",
       " ('harmonic', 5),\n",
       " ('weight', 5),\n",
       " ('families', 5),\n",
       " ('volume', 5),\n",
       " ('modified', 5),\n",
       " ('navigation', 5),\n",
       " ('domains', 5),\n",
       " ('principle', 5),\n",
       " ('production', 5),\n",
       " ('numbers', 5),\n",
       " ('spitzer', 5),\n",
       " ('observed', 5),\n",
       " ('form', 5),\n",
       " ('holomorphic', 5),\n",
       " ('loop', 5),\n",
       " ('pure', 5),\n",
       " ('spinor', 5),\n",
       " ('baryons', 5),\n",
       " ('spectroscopic', 5),\n",
       " ('neutrino', 5),\n",
       " ('classical', 5),\n",
       " ('transitions', 5),\n",
       " ('cosmology', 5),\n",
       " ('coulomb', 5),\n",
       " ('theories', 5),\n",
       " ('oscillations', 5),\n",
       " ('operator', 5),\n",
       " ('singularities', 5),\n",
       " ('timing', 5),\n",
       " ('heavy', 5),\n",
       " ('junctions', 5),\n",
       " ('gamma', 5),\n",
       " ('ngc', 5),\n",
       " ('bursts', 5),\n",
       " ('absorption', 5),\n",
       " ('crossover', 5),\n",
       " ('organic', 5),\n",
       " ('dependent', 5),\n",
       " ('collisions', 5),\n",
       " ('d', 5),\n",
       " ('galactic', 5),\n",
       " ('gravitational', 5),\n",
       " ('massive', 5),\n",
       " ('conjecture', 5),\n",
       " ('hd', 5),\n",
       " ('photons', 5),\n",
       " ('riemannian', 4),\n",
       " ('planar', 4),\n",
       " ('evolutionary', 4),\n",
       " ('sequential', 4),\n",
       " ('prior', 4),\n",
       " ('monitoring', 4),\n",
       " ('area', 4),\n",
       " ('composite', 4),\n",
       " ('computational', 4),\n",
       " ('modelling', 4),\n",
       " ('watermarking', 4),\n",
       " ('inequality', 4),\n",
       " ('mixed', 4),\n",
       " ('relativity', 4),\n",
       " ('model:', 4),\n",
       " ('rates', 4),\n",
       " ('vs', 4),\n",
       " ('schemes', 4),\n",
       " ('land', 4),\n",
       " ('cover', 4),\n",
       " ('transport', 4),\n",
       " ('acquisition', 4),\n",
       " ('architecture', 4),\n",
       " ('classification:', 4),\n",
       " ('normalized', 4),\n",
       " ('regions', 4),\n",
       " ('accuracy', 4),\n",
       " ('spatially', 4),\n",
       " ('k', 4),\n",
       " ('cellular', 4),\n",
       " ('commercial', 4),\n",
       " ('region-based', 4),\n",
       " ('family', 4),\n",
       " ('priors', 4),\n",
       " ('cross', 4),\n",
       " ('i.', 4),\n",
       " ('de', 4),\n",
       " ('conceptualization', 4),\n",
       " ('aggregation.', 4),\n",
       " ('points', 4),\n",
       " ('arbitrary', 4),\n",
       " ('structured', 4),\n",
       " ('regression', 4),\n",
       " ('graph-based', 4),\n",
       " ('power', 4),\n",
       " ('submodular', 4),\n",
       " ('coherence', 4),\n",
       " ('fragmentation', 4),\n",
       " ('machines', 4),\n",
       " ('removal', 4),\n",
       " ('theoretical', 4),\n",
       " ('joint', 4),\n",
       " ('dual', 4),\n",
       " ('model-based', 4),\n",
       " ('wireless', 4),\n",
       " ('reality', 4),\n",
       " ('tensor', 4),\n",
       " ('actions', 4),\n",
       " ('ricci', 4),\n",
       " ('interpolation', 4),\n",
       " ('building', 4),\n",
       " ('social', 4),\n",
       " ('coherent', 4),\n",
       " ('orientation', 4),\n",
       " ('absolute', 4),\n",
       " ('programming', 4),\n",
       " ('physical', 4),\n",
       " ('terms', 4),\n",
       " ('improvement', 4),\n",
       " ('intensity', 4),\n",
       " ('quasicrystals', 4),\n",
       " ('semantic', 4),\n",
       " ('directions', 4),\n",
       " ('conformal', 4),\n",
       " ('transforms', 4),\n",
       " ('box', 4),\n",
       " ('combining', 4),\n",
       " ('database', 4),\n",
       " ('multimodal', 4),\n",
       " ('palmprint', 4),\n",
       " ('outliers', 4),\n",
       " ('extension', 4),\n",
       " ('ultrasound', 4),\n",
       " ('entropic', 4),\n",
       " ('thresholding', 4),\n",
       " ('science', 4),\n",
       " ('multispectral', 4),\n",
       " ('spatiotemporal', 4),\n",
       " ('integer', 4),\n",
       " ('verification', 4),\n",
       " ('parameter', 4),\n",
       " ('tree', 4),\n",
       " ('synthesis', 4),\n",
       " ('rate', 4),\n",
       " ('3-d', 4),\n",
       " ('comparing', 4),\n",
       " ('scenes', 4),\n",
       " ('mining', 4),\n",
       " ('manifold', 4),\n",
       " ('ct', 4),\n",
       " ('kannada', 4),\n",
       " ('svm', 4),\n",
       " ('offline', 4),\n",
       " ('algorithmic', 4),\n",
       " ('card', 4),\n",
       " ('vehicles', 4),\n",
       " ('investigation', 4),\n",
       " ('numeral', 4),\n",
       " ('layer', 4),\n",
       " ('boltzmann', 4),\n",
       " ('tesseract', 4),\n",
       " ('hidden', 4),\n",
       " ('unit', 4),\n",
       " ('robustness', 4),\n",
       " ('continuous', 4),\n",
       " ('parameters', 4),\n",
       " ('subspaces', 4),\n",
       " ('description', 4),\n",
       " ('detector', 4),\n",
       " ('content', 4),\n",
       " ('metrics', 4),\n",
       " ('calculation', 4),\n",
       " ('characteristics', 4),\n",
       " ('basis', 4),\n",
       " ('scene', 4),\n",
       " ('sequence', 4),\n",
       " ('growth', 4),\n",
       " ('approximations', 4),\n",
       " ('minimax', 4),\n",
       " ('dermoscopy', 4),\n",
       " ('content-based', 4),\n",
       " ('singular', 4),\n",
       " ('value', 4),\n",
       " ('microwave', 4),\n",
       " ('flows', 4),\n",
       " ('static', 4),\n",
       " ('partial', 4),\n",
       " ('learned', 4),\n",
       " ('expansion', 4),\n",
       " ('stable', 4),\n",
       " ('projections', 4),\n",
       " ('integrating', 4),\n",
       " ('frequency', 4),\n",
       " ('waves', 4),\n",
       " ('percolation', 4),\n",
       " ('square', 4),\n",
       " ('bundles', 4),\n",
       " ('asymptotic', 4),\n",
       " ('transfer', 4),\n",
       " ('mechanism', 4),\n",
       " ('early', 4),\n",
       " ('cohomology', 4),\n",
       " ('rank', 4),\n",
       " ('perspective', 4),\n",
       " ('polar', 4),\n",
       " ('multi-scale', 4),\n",
       " ('polynomials', 4),\n",
       " ('exploring', 4),\n",
       " ('second', 4),\n",
       " ('clouds', 4),\n",
       " ('means', 4),\n",
       " ('experiment', 4),\n",
       " ('feedback', 4),\n",
       " ('non-local', 4),\n",
       " ('relations', 4),\n",
       " ('young', 4),\n",
       " ('forms', 4),\n",
       " ('counting', 4),\n",
       " ('infrared', 4),\n",
       " ('numerical', 4),\n",
       " ('superstring', 4),\n",
       " ('strongly', 4),\n",
       " ('noncommutative', 4),\n",
       " ('relation', 4),\n",
       " ('sources:', 4),\n",
       " ('persistent', 4),\n",
       " ('one-dimensional', 4),\n",
       " ('chemical', 4),\n",
       " ('laws', 4),\n",
       " ('thin', 4),\n",
       " ('films', 4),\n",
       " ('phonon', 4),\n",
       " ('fe', 4),\n",
       " ('vacuum', 4),\n",
       " ('decoherence', 4),\n",
       " ('initial', 4),\n",
       " ('spin-1/2', 4),\n",
       " ('heisenberg', 4),\n",
       " ('chains', 4),\n",
       " ('pairing', 4),\n",
       " ('equilibrium', 4),\n",
       " ('events', 4),\n",
       " ('exotic', 4),\n",
       " ('interacting', 4),\n",
       " ('flux', 4),\n",
       " ('modulation', 4),\n",
       " ('algebraic', 4),\n",
       " ('tunneling', 4),\n",
       " ('boson', 4),\n",
       " ('hubbard', 4),\n",
       " ('yang-mills', 4),\n",
       " ('planet', 4),\n",
       " ('nearby', 4),\n",
       " ('canonical', 4),\n",
       " ('qed', 4),\n",
       " ('periodic', 4),\n",
       " ('small', 4),\n",
       " ('elliptic', 4),\n",
       " ('metallic', 4),\n",
       " ('conservation', 4),\n",
       " ('incompressible', 4),\n",
       " ('superconductors', 4),\n",
       " ('oscillation', 4),\n",
       " ('stability', 4),\n",
       " ('higgs', 4),\n",
       " ('cosmological', 4),\n",
       " ('surveys', 4),\n",
       " ('long', 4),\n",
       " ('electronic', 4),\n",
       " ('varieties', 4),\n",
       " ('gev', 4),\n",
       " ('redshift', 4),\n",
       " ('variable', 4),\n",
       " ('cosmic', 4),\n",
       " ('self-organizing', 3),\n",
       " ('template', 3),\n",
       " ('ii:', 3),\n",
       " ('virtual', 3),\n",
       " ('plasma', 3),\n",
       " ('reactor', 3),\n",
       " ('reversible', 3),\n",
       " ('fingerprints', 3),\n",
       " ('inpainting', 3),\n",
       " ('colour', 3),\n",
       " ('affinity', 3),\n",
       " ('recognition:', 3),\n",
       " ('derived', 3),\n",
       " ('code', 3),\n",
       " ('research', 3),\n",
       " ('generalization', 3),\n",
       " ('hierarchy', 3),\n",
       " ('class', 3),\n",
       " ('multilevel', 3),\n",
       " ('multiclass', 3),\n",
       " ('advanced', 3),\n",
       " ('curvelet', 3),\n",
       " ('inspection', 3),\n",
       " ('ant', 3),\n",
       " ('automata', 3),\n",
       " ('increasing', 3),\n",
       " ('directional', 3),\n",
       " ('block', 3),\n",
       " ('memory', 3),\n",
       " ('wavelet-based', 3),\n",
       " ('sonar', 3),\n",
       " ('radar', 3),\n",
       " ('final', 3),\n",
       " ('wide', 3),\n",
       " ('accurate', 3),\n",
       " ('pipeline', 3),\n",
       " ('m', 3),\n",
       " ('documents', 3),\n",
       " ('audio', 3),\n",
       " ('paths', 3),\n",
       " ('hough', 3),\n",
       " ('spherical', 3),\n",
       " ('cost', 3),\n",
       " ('necessary', 3),\n",
       " ('multidimensional', 3),\n",
       " ('capture', 3),\n",
       " ('length', 3),\n",
       " ('diagrams', 3),\n",
       " ('norm', 3),\n",
       " ('currents', 3),\n",
       " ('games', 3),\n",
       " ('stereo', 3),\n",
       " ('svm-based', 3),\n",
       " ('specification', 3),\n",
       " ('searches', 3),\n",
       " ('event', 3),\n",
       " ('augmented', 3),\n",
       " ('mr', 3),\n",
       " ('margin', 3),\n",
       " ('enhanced', 3),\n",
       " ('document', 3),\n",
       " ('relative', 3),\n",
       " ('3', 3),\n",
       " ('tool', 3),\n",
       " ('maximal', 3),\n",
       " ('segments', 3),\n",
       " ('cells', 3),\n",
       " ('significant', 3),\n",
       " ('special', 3),\n",
       " ('hand', 3),\n",
       " ('optics', 3),\n",
       " ('standard', 3),\n",
       " ('location', 3),\n",
       " ('robot', 3),\n",
       " ('regularized', 3),\n",
       " ('median', 3),\n",
       " ('possible', 3),\n",
       " ('shrinkage', 3),\n",
       " ('cameras', 3),\n",
       " ('categorization', 3),\n",
       " ('positive', 3),\n",
       " ('semidefinite', 3),\n",
       " ('$p$-adic', 3),\n",
       " ('curve', 3),\n",
       " ('designing', 3),\n",
       " ('fmri', 3),\n",
       " ('creation', 3),\n",
       " ('authentication', 3),\n",
       " ('deep', 3),\n",
       " ('ear', 3),\n",
       " ('focus', 3),\n",
       " ('&', 3),\n",
       " ('2-d', 3),\n",
       " ('sum', 3),\n",
       " ('competitive', 3),\n",
       " ('empirical', 3),\n",
       " ('unsupervised', 3),\n",
       " ('vein', 3),\n",
       " ('quadratic', 3),\n",
       " ('isotropic', 3),\n",
       " ('reference', 3),\n",
       " ('paradigm', 3),\n",
       " ('biometrics', 3),\n",
       " ('remote', 3),\n",
       " ('mammograms', 3),\n",
       " ('wind', 3),\n",
       " ('impact', 3),\n",
       " ('step', 3),\n",
       " ('mlp', 3),\n",
       " ('business', 3),\n",
       " ('plates', 3),\n",
       " ('indian', 3),\n",
       " ('window', 3),\n",
       " ('disorder', 3),\n",
       " ('arabic', 3),\n",
       " ('numerals', 3),\n",
       " ('tuning', 3),\n",
       " ('comprehensive', 3),\n",
       " ('screening', 3),\n",
       " ('red', 3),\n",
       " ('binarization', 3),\n",
       " ('attention', 3),\n",
       " ('units', 3),\n",
       " ('analysis:', 3),\n",
       " ('pca', 3),\n",
       " ('salient', 3),\n",
       " ('computed', 3),\n",
       " ('three-dimensional', 3),\n",
       " ('incremental', 3),\n",
       " ('airglow', 3),\n",
       " ('imager', 3),\n",
       " ('sector', 3),\n",
       " ('web', 3),\n",
       " ('daubechies', 3),\n",
       " ('off-line', 3),\n",
       " ('stage', 3),\n",
       " ('bilateral', 3),\n",
       " ('tissue', 3),\n",
       " ('asymmetric', 3),\n",
       " ('response', 3),\n",
       " ('morphologies', 3),\n",
       " ('use', 3),\n",
       " ('decompositions', 3),\n",
       " ('pursuit', 3),\n",
       " ('rigid', 3),\n",
       " ('factorization', 3),\n",
       " ('likelihood', 3),\n",
       " ('modules', 3),\n",
       " ('forward', 3),\n",
       " ('super', 3),\n",
       " ('multivariate', 3),\n",
       " ('internal', 3),\n",
       " ('category', 3),\n",
       " ('estimating', 3),\n",
       " ('self-organising', 3),\n",
       " ('characterizing', 3),\n",
       " ('chain', 3),\n",
       " ('alternative', 3),\n",
       " ('chebyshev', 3),\n",
       " ('fundamental', 3),\n",
       " ('sample', 3),\n",
       " ('multiscale', 3),\n",
       " ('behaviour', 3),\n",
       " ('universal', 3),\n",
       " ('lattices', 3),\n",
       " ('acoustic', 3),\n",
       " ('uniform', 3),\n",
       " ('inhomogeneous', 3),\n",
       " ('media', 3),\n",
       " ('reconstruction:', 3),\n",
       " ('k-means', 3),\n",
       " ('temporal', 3),\n",
       " ('simultaneously', 3),\n",
       " ('reflection', 3),\n",
       " ('cervical', 3),\n",
       " ('improving', 3),\n",
       " ...]"
      ]
     },
     "execution_count": 90,
     "metadata": {},
     "output_type": "execute_result"
    }
   ],
   "source": [
    "vocab"
   ]
  },
  {
   "cell_type": "code",
   "execution_count": 91,
   "metadata": {},
   "outputs": [
    {
     "data": {
      "application/vnd.plotly.v1+json": {
       "config": {
        "plotlyServerURL": "https://plot.ly"
       },
       "data": [
        {
         "customdata": [
          [
           "text line segmentation of historical documents: a survey"
          ],
          [
           "rough sets computations to impute missing data"
          ],
          [
           "the parameter-less self-organizing map algorithm"
          ],
          [
           "riemannian level-set methods for tensor-valued data"
          ],
          [
           "multiresolution approximation of polygonal curves in linear complexity"
          ],
          [
           "medical image segmentation and localization using deformable templates"
          ],
          [
           "enhancement of noisy planar nuclear medicine images using mean field\n  annealing"
          ],
          [
           "an independent evaluation of subspace face recognition algorithms"
          ],
          [
           "evolutionary optimisation methods for template based image registration"
          ],
          [
           "multi-dimensional recurrent neural networks"
          ],
          [
           "scanning and sequential decision making for multi-dimensional data -\n  part ii: the noisy case"
          ],
          [
           "mi image registration using prior knowledge"
          ],
          [
           "structural health monitoring using neural network based vibrational\n  system identification"
          ],
          [
           "morphing ensemble kalman filters"
          ],
          [
           "local area damage detection in composite structures using piezoelectric\n  transducers"
          ],
          [
           "automatic detection of pulmonary embolism using computational\n  intelligence"
          ],
          [
           "virtual sensor based fault detection and classification on a plasma etch\n  reactor"
          ],
          [
           "towards understanding and modelling office daily life"
          ],
          [
           "very fast watermarking by reversible contrast mapping"
          ],
          [
           "the cyborg astrobiologist: porting from a wearable computer to the\n  astrobiology phone-cam"
          ],
          [
           "modeling visual information processing in brain: a computer vision point\n  of view and approach"
          ],
          [
           "a structure from motion inequality"
          ],
          [
           "on ullman's theorem in computer vision"
          ],
          [
           "space and camera path reconstruction for omni-directional vision"
          ],
          [
           "the fuzzy vault for fingerprints is vulnerable to brute force attack"
          ],
          [
           "variational local structure estimation for image super-resolution"
          ],
          [
           "bandwidth selection for kernel estimation in mixed multi-dimensional\n  spaces"
          ],
          [
           "supervised learning on graphs of spatio-temporal similarity in satellite\n  image sequences"
          ],
          [
           "graph rigidity, cyclic belief propagation and point pattern matching"
          ],
          [
           "high-order nonparametric belief-propagation for fast image inpainting"
          ],
          [
           "the theory of unified relativity for a biovielectroluminescence\n  phenomenon via fly's visual and imaging system"
          ],
          [
           "colour image segmentation by the vector-valued allen-cahn phase-field\n  model: a multigrid solution"
          ],
          [
           "lossless representation of graphs using distributions"
          ],
          [
           "an affinity propagation based method for vector quantization codebook\n  design"
          ],
          [
           "comparison and combination of state-of-the-art techniques for\n  handwritten character recognition: topping the mnist benchmark"
          ],
          [
           "fuzzy modeling of electrical impedance tomography image of the lungs"
          ],
          [
           "the entropy of keys derived from laser speckle"
          ],
          [
           "code similarity on high level programs"
          ],
          [
           "addendum to research mmmcv; a man/microbio/megabio/computer vision"
          ],
          [
           "on the information rates of the plenoptic function"
          ],
          [
           "image classification using svms: one-against-one vs one-against-all"
          ],
          [
           "representation and measure of structural information"
          ],
          [
           "learning similarity for character recognition and 3d object recognition"
          ],
          [
           "learning view generalization functions"
          ],
          [
           "view based methods can achieve bayes-optimal 3d recognition"
          ],
          [
           "dimensionality reduction and reconstruction using mirroring neural\n  networks and object recognition based on reduced dimension characteristic\n  vector"
          ],
          [
           "hierarchy construction schemes within the scale set framework"
          ],
          [
           "the source coding game with a cheating switcher"
          ],
          [
           "a class of lulu operators on multi-dimensional arrays"
          ],
          [
           "pattern recognition system design with linear encoding for discrete\n  patterns"
          ],
          [
           "a fast hierarchical multilevel image segmentation method using unbiased\n  estimators"
          ],
          [
           "probabilistic visual secret sharing schemes for gray-scale images and\n  color images"
          ],
          [
           "a path following algorithm for the graph matching problem"
          ],
          [
           "automatic text area segmentation in natural images"
          ],
          [
           "bayesian nonlinear principal component analysis using random fields"
          ],
          [
           "extreme learning machine for land cover classification"
          ],
          [
           "support vector classifiers for land cover classification"
          ],
          [
           "multiclass approaches for support vector machine based land cover\n  classification"
          ],
          [
           "some aspects of testing process for transport streams in digital video\n  broadcasting"
          ],
          [
           "implementing a test strategy for an advanced video acquisition and\n  processing architecture"
          ],
          [
           "wavelet and curvelet moments for image classification: application to\n  aggregate mixture grading"
          ],
          [
           "polynomial time algorithms for bi-criteria, multi-objective and ratio\n  problems in clustering and imaging. part i: normalized cut and ratio regions"
          ],
          [
           "acquisition accuracy evaluation in visual inspection systems - a\n  practical approach"
          ],
          [
           "spatio-activity based object detection"
          ],
          [
           "lambda-connectedness determination for image segmentation"
          ],
          [
           "kohonants: a self-organizing ant algorithm for clustering and pattern\n  classification"
          ],
          [
           "using spatially varying pixels exposures and bayer-covered photosensors\n  for high dynamic range imaging"
          ],
          [
           "discrete schemes for gaussian curvature and their convergence"
          ],
          [
           "fast k nearest neighbor search using gpu"
          ],
          [
           "linear time recognition algorithms for topological invariants in 3d"
          ],
          [
           "theory and applications of two-dimensional, null-boundary,\n  nine-neighborhood, cellular automata linear rules"
          ],
          [
           "technical report - automatic contour extraction from 2d neuron images"
          ],
          [
           "a new approach to automated epileptic diagnosis using eeg and\n  probabilistic neural network"
          ],
          [
           "natural pseudo-distance and optimal matching between reduced size\n  functions"
          ],
          [
           "a new algorithm for interactive structural image segmentation"
          ],
          [
           "a multilateral filtering method applied to airplane runway image"
          ],
          [
           "increasing linear dynamic range of commercial digital photocamera used\n  in imaging systems with optical coding"
          ],
          [
           "statistical region-based active contours with exponential family\n  observations"
          ],
          [
           "region-based active contour with noise and shape priors"
          ],
          [
           "dimreduction - interactive graphic environment for dimensionality\n  reduction"
          ],
          [
           "directional cross diamond search algorithm for fast block motion\n  estimation"
          ],
          [
           "the euler-poincare theory of metamorphosis"
          ],
          [
           "a nonparametric approach to 3d shape analysis from digital camera images\n  - i. in memory of w.p. dayawansa"
          ],
          [
           "fast wavelet-based visual classification"
          ],
          [
           "evaluation for uncertain image classification and segmentation"
          ],
          [
           "human expert fusion for image classification"
          ],
          [
           "classification of curves in 2d and 3d via affine integral signatures"
          ],
          [
           "fusion de classifieurs pour la classification d'images sonar"
          ],
          [
           "experts fusion and multilayer perceptron based on belief learning for\n  sonar image classification"
          ],
          [
           "generalized proportional conflict redistribution rule applied to sonar\n  imagery and radar targets classification"
          ],
          [
           "learning graph matching"
          ],
          [
           "conceptualization of seeded region growing by pixels aggregation. part\n  1: the framework"
          ],
          [
           "conceptualization of seeded region growing by pixels aggregation. part\n  2: how to localize a final partition invariant about the seeded region\n  initialisation order"
          ],
          [
           "conceptualization of seeded region growing by pixels aggregation. part\n  3: a wide range of algorithms"
          ],
          [
           "conceptualization of seeded region growing by pixels aggregation. part\n  4: simple, generic and robust extraction of grains in granular materials\n  obtained by x-ray tomography"
          ],
          [
           "intrusion detection using cost-sensitive classification"
          ],
          [
           "the five points pose problem : a new and accurate solution adapted to\n  any geometric configuration"
          ],
          [
           "visual grouping by neural oscillators"
          ],
          [
           "an image-based sensor system for autonomous rendez-vous with\n  uncooperative satellites"
          ],
          [
           "an image processing analysis of skin textures"
          ],
          [
           "i'm sorry to say, but your understanding of image processing\n  fundamentals is absolutely wrong"
          ],
          [
           "a 8 bits pipeline analog to digital converter design for high speed\n  camera application"
          ],
          [
           "design and implementation a 8 bits pipeline analog to digital converter\n  in the technology 0.6 \\mu m cmos process"
          ],
          [
           "higher order moments generation by mellin transform for compound models\n  of clutter"
          ],
          [
           "automatic identification and data extraction from 2-dimensional plots in\n  digital documents"
          ],
          [
           "supervised dictionary learning"
          ],
          [
           "generalized prediction intervals for arbitrary distributed\n  high-dimensional data"
          ],
          [
           "robust near-isometric matching via structured learning of graphical\n  models"
          ],
          [
           "modeling and control with local linearizing nadaraya watson regression"
          ],
          [
           "audio classification from time-frequency texture"
          ],
          [
           "non-negative matrix factorization, convexity and isometry"
          ],
          [
           "faster and better: a machine learning approach to corner detection"
          ],
          [
           "detecting the most unusual part of a digital image"
          ],
          [
           "hierarchical bag of paths for kernel based shape classification"
          ],
          [
           "astronomical imaging: the theory of everything"
          ],
          [
           "efficient exact inference in planar ising models"
          ],
          [
           "camera distortion self-calibration using the plumb-line constraint and\n  minimal hough entropy"
          ],
          [
           "graph-based classification of multiple observation sets"
          ],
          [
           "3d face recognition with sparse spherical representations"
          ],
          [
           "a branch-and-bound feature selection algorithm for u-shaped cost\n  functions"
          ],
          [
           "necessary conditions for discontinuities of multidimensional size\n  functions"
          ],
          [
           "the expressive power of binary submodular functions"
          ],
          [
           "faster retrieval with a two-pass dynamic-time-warping lower bound"
          ],
          [
           "chi2tex semi-automatic translation from chiwriter to latex"
          ],
          [
           "automatic generation of the axial lines of urban environments to capture\n  what we perceive"
          ],
          [
           "mapping images with the coherence length diagrams"
          ],
          [
           "a matlab implementation of a flat norm motivated polygonal edge matching\n  method using a decomposition of boundary into four 1-dimensional currents"
          ],
          [
           "a novel clustering algorithm based on quantum games"
          ],
          [
           "stroke fragmentation based on geometry features and hmm"
          ],
          [
           "obtaining depth maps from color images by region based stereo matching\n  algorithms"
          ],
          [
           "classification of cell images using mpeg-7-influenced descriptors and\n  support vector machines in cell morphology"
          ],
          [
           "feature selection by kdda for svm-based multiview face recognition"
          ],
          [
           "face detection using adaboosted svm-based component classifier"
          ],
          [
           "sparse component analysis (sca) in random-valued and salt and pepper\n  noise removal"
          ],
          [
           "a new clustering algorithm based upon flocking on complex network"
          ],
          [
           "a novel clustering algorithm based upon games on evolving network"
          ],
          [
           "exact histogram specification optimized for structural similarity"
          ],
          [
           "a theoretical analysis of joint manifolds"
          ],
          [
           "an upper limit of ac huffman code length in jpeg compression"
          ],
          [
           "on the dual formulation of boosting algorithms"
          ],
          [
           "enhancing the capabilities of ligo time-frequency plane searches through\n  clustering"
          ],
          [
           "model-based event detection in wireless sensor networks"
          ],
          [
           "a keygraph classification framework for real-time object detection"
          ],
          [
           "over-enhancement reduction in local histogram equalization using its\n  degrees of freedom"
          ],
          [
           "a standalone markerless 3d tracker for handheld augmented reality"
          ],
          [
           "using slp neural network to persian handwritten digits recognition"
          ],
          [
           "dipole and quadrupole moments in image processing"
          ],
          [
           "are tensor decomposition solutions unique? on the global convergence of\n  hosvd and parafac algorithms"
          ],
          [
           "dipole vectors in images processing"
          ],
          [
           "recognition of regular shapes in satelite images"
          ],
          [
           "real-time texture error detection"
          ],
          [
           "the digital restoration of da vinci's sketches"
          ],
          [
           "free actions and grassmanian variety"
          ],
          [
           "tracking using explanation-based modeling"
          ],
          [
           "markov random field segmentation of brain mr images"
          ],
          [
           "combinatorial ricci curvature and laplacians for image processing"
          ],
          [
           "gradient-based adaptive interpolation in super-resolution image\n  restoration"
          ],
          [
           "building the information kernel and the problem of recognition"
          ],
          [
           "an exponential lower bound on the complexity of regularization paths"
          ],
          [
           "a combinatorial algorithm to compute regularization paths"
          ],
          [
           "digital restoration of ancient papyri"
          ],
          [
           "color dipole moments for edge detection"
          ],
          [
           "on the closed-form solution of the rotation matrix arising in computer\n  vision problems"
          ],
          [
           "boosting through optimization of margin distributions"
          ],
          [
           "automated epilepsy diagnosis using interictal scalp eeg"
          ],
          [
           "better global polynomial approximation for image rectification"
          ],
          [
           "facebots: steps towards enhanced long-term human-robot interaction by\n  utilizing and publishing online social information"
          ],
          [
           "the modular audio recognition framework (marf) and its applications:\n  scientific and software engineering notes"
          ],
          [
           "on design and implementation of the distributed modular audio\n  recognition framework: requirements and specification design document"
          ],
          [
           "generalized kernel-based visual tracking"
          ],
          [
           "point-set registration: coherent point drift"
          ],
          [
           "colorization of natural images via l1 optimization"
          ],
          [
           "a statistical learning approach to color demosaicing"
          ],
          [
           "information distance in multiples"
          ],
          [
           "a new solution to the relative orientation problem using only 3 points\n  and the vertical direction"
          ],
          [
           "managing distributed marf with snmp"
          ],
          [
           "total variation, adaptive total variation and nonconvex smoothly clipped\n  absolute deviation penalty for denoising blocky images"
          ],
          [
           "quality assessment of the mpeg-4 scalable video codec"
          ],
          [
           "segmentation of facial expressions using semi-definite programming and\n  generalized principal component analysis"
          ],
          [
           "the voise algorithm: a versatile tool for automatic segmentation of\n  astronomical images"
          ],
          [
           "maximal digital straight segments and convergence of discrete geometric\n  estimators"
          ],
          [
           "coding cells of digital spaces: a framework to write generic digital\n  topology algorithms"
          ],
          [
           "deformable model with a complexity independent from image resolution"
          ],
          [
           "adaptive regularization of ill-posed problems: application to non-rigid\n  image registration"
          ],
          [
           "finding significant subregions in large image databases"
          ],
          [
           "two-dimensional arma modeling for breast cancer detection and\n  classification"
          ],
          [
           "automatic defect detection and classification technique from image: a\n  special case using ceramic tiles"
          ],
          [
           "physical modeling techniques in active contours for image segmentation"
          ],
          [
           "on landmark selection and sampling in high-dimensional data analysis"
          ],
          [
           "efficient iris recognition through improvement of feature extraction and\n  subset selection"
          ],
          [
           "a new approach for digit recognition based on hand gesture analysis"
          ],
          [
           "comments on \"a new combination of evidence based on compromise\" by k.\n  yamada"
          ],
          [
           "multi-label mrf optimization via least squares s-t cuts"
          ],
          [
           "an iterative fingerprint enhancement algorithm based on accurate\n  determination of orientation flow"
          ],
          [
           "bounding the probability of error for high precision recognition"
          ],
          [
           "augmenting light field to model wave optics effects"
          ],
          [
           "multiresolution elastic medical image registration in standard intensity\n  scale"
          ],
          [
           "registration of standardized histological images in feature space"
          ],
          [
           "fully automatic 3d reconstruction of histological images"
          ],
          [
           "parallel adaboost algorithm for gabor wavelet selection in face\n  recognition"
          ],
          [
           "image sampling with quasicrystals"
          ],
          [
           "learning object location predictors with boosting and grammar-guided\n  feature extraction"
          ],
          [
           "automatic local gabor features extraction for face recognition"
          ],
          [
           "multiple pattern classification by sparse subspace decomposition"
          ],
          [
           "side-channel attack on labeling captchas"
          ],
          [
           "segmentation for radar images based on active contour"
          ],
          [
           "a dyadic solution of relative pose problems"
          ],
          [
           "semantic robot vision challenge: current state and future directions"
          ],
          [
           "non-quadratic convex regularized reconstruction of mr images from spiral\n  acquisitions"
          ],
          [
           "geometric analysis of the conformal camera for intermediate-level vision\n  and perisaccadic perception"
          ],
          [
           "construction of hilbert transform pairs of wavelet bases and gabor-like\n  transforms"
          ],
          [
           "on the shiftability of dual-tree complex wavelet transforms"
          ],
          [
           "gabor wavelet analysis and the fractional hilbert transform"
          ],
          [
           "fast adaptive elliptical filtering using box splines"
          ],
          [
           "co-occurrence matrix and fractal dimension for image segmentation"
          ],
          [
           "handwritten farsi character recognition using artificial neural network"
          ],
          [
           "scale-based gaussian coverings: combining intra and inter mixture models\n  in image segmentation"
          ],
          [
           "sparse image representation by discrete cosine/spline based dictionaries"
          ],
          [
           "kernel spectral curvature clustering (kscc)"
          ],
          [
           "motion segmentation by scc on the hopkins 155 database"
          ],
          [
           "sparsity and `something else': an approach to encrypted image folding"
          ],
          [
           "an efficient secure multimodal biometric fusion using palmprint and face\n  image"
          ],
          [
           "median k-flats for hybrid linear modeling with many outliers"
          ],
          [
           "a possible low-level explanation of \"temporal dynamics of brightness\n  induction and white's illusion\""
          ],
          [
           "extension of path probability method to approximate inference over time"
          ],
          [
           "a method for extraction and recognition of isolated license plate\n  characters"
          ],
          [
           "information tracking approach to segmentation of ultrasound imagery of\n  prostate"
          ],
          [
           "iterative shrinkage approach to restoration of optical imagery"
          ],
          [
           "improvements of the 3d images captured with time-of-flight cameras"
          ],
          [
           "adaboost with \"keypoint presence features\" for real-time vehicle visual\n  detection"
          ],
          [
           "introducing new adaboost features for real-time vehicle detection"
          ],
          [
           "visual object categorization with new keypoint-based adaboost features"
          ],
          [
           "modular traffic sign recognition applied to on-vehicle real-time visual\n  detection of american and european speed limit signs"
          ],
          [
           "local and global approaches of affinity propagation clustering for large\n  scale data"
          ],
          [
           "3d/2d registration of mapping catheter images for arrhythmia\n  interventional assistance"
          ],
          [
           "color image clustering using block truncation algorithm"
          ],
          [
           "distributed object medical imaging model"
          ],
          [
           "microstructure reconstruction using entropic descriptors"
          ],
          [
           "positive semidefinite metric learning with boosting"
          ],
          [
           "fractional differentiation based image processing"
          ],
          [
           "behavior subtraction"
          ],
          [
           "algorithms for image analysis and combination of pattern classifiers\n  with application to medical diagnosis"
          ],
          [
           "parallelization of the lbg vector quantization algorithm for shared\n  memory systems"
          ],
          [
           "a $p$-adic ransac algorithm for stereo vision using hensel lifting"
          ],
          [
           "an iterative shrinkage approach to total-variation image restoration"
          ],
          [
           "the cyborg astrobiologist: testing a novelty-detection algorithm on two\n  mobile exploration systems at rivas vaciamadrid in spain and at the mars\n  desert research station in utah"
          ],
          [
           "metric and kernel learning using a linear transformation"
          ],
          [
           "an optimal method for wake detection in sar images using radon\n  transformation combined with wavelet filters"
          ],
          [
           "breast cancer detection using multilevel thresholding"
          ],
          [
           "an innovative scheme for effectual fingerprint data compression using\n  bezier curve representations"
          ],
          [
           "generalized discriminant analysis algorithm for feature reduction in\n  cyber attack detection system"
          ],
          [
           "seeing science"
          ],
          [
           "bio-inspired speed detection and discrimination"
          ],
          [
           "designing fuzzy rule based classifier using self-organizing feature map\n  for analysis of multispectral satellite images"
          ],
          [
           "land cover classification using fuzzy rules and aggregation of\n  contextual information through evidence theory"
          ],
          [
           "canica: model-based extraction of reproducible group-level ica patterns\n  from fmri time series"
          ],
          [
           "non-photorealistic image processing: an impressionist rendering"
          ],
          [
           "maximin affinity learning of image segmentation"
          ],
          [
           "laser actuated presentation system"
          ],
          [
           "pigment melanin: pattern for iris recognition"
          ],
          [
           "mapping the spatiotemporal dynamics of calcium signaling in cellular\n  neural networks using optical flow"
          ],
          [
           "isometric multi-manifolds learning"
          ],
          [
           "sequential clustering based facial feature extraction method for\n  automatic creation of facial models from orthogonal views"
          ],
          [
           "reversible image authentication with tamper localization based on\n  integer wavelet transform"
          ],
          [
           "behavior and performance of the deep belief networks on image\n  classification"
          ],
          [
           "fingerprint verification based on gabor filter enhancement"
          ],
          [
           "robust multi biometric recognition using face and ear images"
          ],
          [
           "fish recognition based on the combination between robust feature\n  selection, image segmentation and geometrical parameter techniques using\n  artificial neural network and decision tree"
          ],
          [
           "performance analysis of non linear filtering algorithms for underwater\n  images"
          ],
          [
           "biogeography based satellite image classification"
          ],
          [
           "genetic programming framework for fingerprint matching"
          ],
          [
           "automatic creation of urban velocity fields from aerial video"
          ],
          [
           "gesture recognition with a focus on important actions by using a path\n  searching method in weighted graph"
          ],
          [
           "synthesis of supervised classification algorithm using intelligent and\n  statistical tools"
          ],
          [
           "heart rate variability analysis using threshold of wavelet package\n  coefficients"
          ],
          [
           "learning an interactive segmentation system"
          ],
          [
           "a model-based approach to predicting predator-prey & friend-foe\n  relationships in ant colonies"
          ],
          [
           "matching 2-d ellipses to 3-d circles with application to vehicle pose\n  estimation"
          ],
          [
           "a novel feature extraction for robust emg pattern recognition"
          ],
          [
           "fast alternating linearization methods for minimizing the sum of two\n  convex functions"
          ],
          [
           "genus computing for 3d digital objects: algorithm and implementation"
          ],
          [
           "writer identification using inexpensive signal processing techniques"
          ],
          [
           "comparing distributions and shapes using the kernel distance"
          ],
          [
           "accelerating competitive learning graph quantization"
          ],
          [
           "an empirical evaluation of four algorithms for multi-class\n  classification: mart, abc-mart, robust logitboost, and abc-logitboost"
          ],
          [
           "an unsupervised algorithm for learning lie group transformations"
          ],
          [
           "boosting k-nn for categorization of natural scenes"
          ],
          [
           "a new method to extract dorsal hand vein pattern using quadratic\n  inference function"
          ],
          [
           "a topological derivative based image segmentation for sign language\n  recognition system using isotropic filter"
          ],
          [
           "a new image steganography based on first component alteration technique"
          ],
          [
           "an improved image mining technique for brain tumour classification using\n  efficient classifier"
          ],
          [
           "an explicit nonlinear mapping for manifold learning"
          ],
          [
           "analytical shape determination of fiber-like objects with virtual image\n  correlation"
          ],
          [
           "features based text similarity detection"
          ],
          [
           "3d skull recognition using 3d matching technique"
          ],
          [
           "hybrid medical image classification using association rule mining with\n  decision tree algorithm"
          ],
          [
           "gradient based seeded region grow method for ct angiographic image\n  segmentation"
          ],
          [
           "svm-based multiview face recognition by generalization of discriminant\n  analysis"
          ],
          [
           "detection and demarcation of tumor using vector quantization in mri\n  images"
          ],
          [
           "multi-camera realtime 3d tracking of multiple flying animals"
          ],
          [
           "kannada character recognition system a review"
          ],
          [
           "threshold based indexing of commercial shoe print to create reference\n  and recovery images"
          ],
          [
           "face recognition by fusion of local and global matching scores using ds\n  theory: an evaluation with uni-classifier and multi-classifier paradigm"
          ],
          [
           "feature level clustering of large biometric database"
          ],
          [
           "face identification by sift-based complete graph topology"
          ],
          [
           "sift-based ear recognition by fusion of detected keypoints from color\n  similarity slice regions"
          ],
          [
           "feature level fusion of biometrics cues: human identification with\n  doddingtons caricature"
          ],
          [
           "fusion of multiple matchers using svm for offline signature\n  identification"
          ],
          [
           "a comparative study of removal noise from remote sensing image"
          ],
          [
           "the influence of intensity standardization on medical image registration"
          ],
          [
           "ball-scale based hierarchical multi-object recognition in 3d medical\n  images"
          ],
          [
           "an improved dc recovery method from ac coefficients of dct-transformed\n  images"
          ],
          [
           "intrinsic dimension estimation of data by principal component analysis"
          ],
          [
           "detection of microcalcification in mammograms using wavelet transform\n  and fuzzy shell clustering"
          ],
          [
           "the fast haar wavelet transform for signal & image processing"
          ],
          [
           "vision based game development using human computer interaction"
          ],
          [
           "automatic diagnosis of retinal diseases from color retinal images"
          ],
          [
           "medical image compression using wavelet decomposition for prediction\n  method"
          ],
          [
           "feature level fusion of face and fingerprint biometrics"
          ],
          [
           "assessment of the wind farm impact on the radar"
          ],
          [
           "multibiometrics belief fusion"
          ],
          [
           "geometric approach to sampling and communication"
          ],
          [
           "iterative exact global histogram specification and ssim gradient ascent:\n  a proof of convergence, step size and parameter selection"
          ],
          [
           "supervised learning of digital image restoration based on quantization\n  nearest neighbor algorithm"
          ],
          [
           "handwritten bangla basic and compound character recognition using mlp\n  and svm classifier"
          ],
          [
           "supervised classification performance of multispectral images"
          ],
          [
           "cld-shaped brushstrokes in non-photorealistic rendering"
          ],
          [
           "scalable large-margin mahalanobis distance metric learning"
          ],
          [
           "a unified algorithmic framework for multi-dimensional scaling"
          ],
          [
           "text region extraction from business card images for mobile devices"
          ],
          [
           "binarizing business card images for mobile devices"
          ],
          [
           "securing interactive sessions using mobile device through visual channel\n  and visual inspection"
          ],
          [
           "properties of the discrete pulse transform for multi-dimensional arrays"
          ],
          [
           "an offline technique for localization of license plates for indian\n  commercial vehicles"
          ],
          [
           "secured cryptographic key generation from multimodal biometrics: feature\n  level fusion of fingerprint and iris"
          ],
          [
           "clinical gait data analysis based on spatio-temporal features"
          ],
          [
           "nonlinear filter based image denoising using amf approach"
          ],
          [
           "facial gesture recognition using correlation and mahalanobis distance"
          ],
          [
           "a ga based window selection methodology to enhance window based multi\n  wavelet transformation and thresholding aided ct image denoising technique"
          ],
          [
           "investigation and assessment of disorder of ultrasound b-mode images"
          ],
          [
           "handwritten arabic numeral recognition using a multi layer perceptron"
          ],
          [
           "a comparative study of different feature sets for recognition of\n  handwritten arabic numerals using a multi layer perceptron"
          ],
          [
           "fast space-variant elliptical filtering using box splines"
          ],
          [
           "pattern recognition using inverse resonance filtration"
          ],
          [
           "sliding window approach based text binarisation from complex textual\n  images"
          ],
          [
           "on mmse and map denoising under sparse representation modeling over a\n  unitary dictionary"
          ],
          [
           "the projected gsure for automatic parameter tuning in iterative\n  shrinkage methods"
          ],
          [
           "system-theoretic approach to image interest point detection"
          ],
          [
           "a comprehensive review of image enhancement techniques"
          ],
          [
           "land-cover classification and mapping for eastern himalayan state sikkim"
          ],
          [
           "towards automated high-throughput screening of c. elegans on agar"
          ],
          [
           "large margin boltzmann machines and large margin sigmoid belief networks"
          ],
          [
           "active testing for face detection and localization"
          ],
          [
           "the video genome"
          ],
          [
           "image compression and watermarking scheme using scalar quantization"
          ],
          [
           "tuning cld maps"
          ],
          [
           "robust multi-camera view face recognition"
          ],
          [
           "offline signature identification by fusion of multiple classifiers using\n  statistical learning theory"
          ],
          [
           "development of a multi-user handwriting recognition system using\n  tesseract open source ocr engine"
          ],
          [
           "recognition of handwritten roman script using tesseract open source ocr\n  engine"
          ],
          [
           "recognition of handwritten textual annotations using tesseract open\n  source ocr engine for information just in time (ijit)"
          ],
          [
           "development of a multi-user recognition engine for handwritten bangla\n  basic characters and digits"
          ],
          [
           "recognition of handwritten roman numerals using tesseract open source\n  ocr engine"
          ],
          [
           "development of an automated red light violation detection system (rlvds)\n  for indian vehicles"
          ],
          [
           "a novel scheme for binarization of vehicle images using hierarchical\n  histogram equalization technique"
          ],
          [
           "a stochastic model of human visual attention with a dynamic bayesian\n  network"
          ],
          [
           "trends and techniques in visual gaze analysis"
          ],
          [
           "facial expression representation and recognition using 2dhlda, gabor\n  wavelets, and ensemble learning"
          ],
          [
           "object-image correspondence for curves under finite and affine cameras"
          ],
          [
           "analysis, interpretation, and recognition of facial action units and\n  expressions using neuro-fuzzy modeling"
          ],
          [
           "recognizing combinations of facial action units with different intensity\n  using a mixture of hidden markov models and neural network"
          ],
          [
           "multilinear biased discriminant analysis: a novel method for facial\n  action unit representation"
          ],
          [
           "extended two-dimensional pca for efficient face representation and\n  recognition"
          ],
          [
           "regularized richardson-lucy algorithm for sparse reconstruction of\n  poissonian images"
          ],
          [
           "signature recognition using multi scale fourier descriptor and wavelet\n  transform"
          ],
          [
           "a robust fuzzy clustering technique with spatial neighborhood\n  information for effective medical image segmentation"
          ],
          [
           "new clustering algorithm for vector quantization using rotation of error\n  vector"
          ],
          [
           "a new approach to lung image segmentation using fuzzy possibilistic\n  c-means algorithm"
          ],
          [
           "sar image segmentation using vector quantization technique on entropy\n  images"
          ],
          [
           "feature level fusion of face and palmprint biometrics by isomorphic\n  graph-based improved k-medoids partitioning"
          ],
          [
           "maximized posteriori attributes selection from facial salient landmarks\n  for face recognition"
          ],
          [
           "offline handwriting recognition using genetic algorithm"
          ],
          [
           "color image compression based on wavelet packet best tree"
          ],
          [
           "signature region of interest using auto cropping"
          ],
          [
           "simultaneous bayesian inference of motion velocity fields and\n  probabilistic models in successive video-frames described by spatio-temporal\n  mrfs"
          ],
          [
           "parcellation of fmri datasets with ica and pls-a data driven approach"
          ],
          [
           "hashing image patches for zooming"
          ],
          [
           "spatially-adaptive reconstruction in computed tomography based on\n  statistical learning"
          ],
          [
           "deblured gaussian blurred images"
          ],
          [
           "an efficient watermarking algorithm to improve payload and robustness\n  without affecting image perceptual quality"
          ],
          [
           "logical methods of object recognition on satellite images using spatial\n  constraints"
          ],
          [
           "many-to-many graph matching: a continuous relaxation approach"
          ],
          [
           "compressed sensing with off-axis frequency-shifting holography"
          ],
          [
           "isometric embeddings in imaging and vision: facts and fiction"
          ],
          [
           "graphic symbol recognition using graph based signature and bayesian\n  network classifier"
          ],
          [
           "employing fuzzy intervals and loop-based methodology for designing\n  structural signature: an application to symbol recognition"
          ],
          [
           "bayesian estimation of regularization and psf parameters for wiener-hunt\n  deconvolution"
          ],
          [
           "perturbation resilience and superiorization of iterative algorithms"
          ],
          [
           "detecting the most unusual part of two and three-dimensional digital\n  images"
          ],
          [
           "randomized hybrid linear modeling by local best-fit flats"
          ],
          [
           "multistage hybrid arabic/indian numeral ocr system"
          ],
          [
           "an efficient vein pattern-based recognition system"
          ],
          [
           "classification via incoherent subspaces"
          ],
          [
           "hierarchical clustering for finding symmetries and other patterns in\n  massive, high dimensional datasets"
          ],
          [
           "on the subspace of image gradient orientations"
          ],
          [
           "image segmentation by using threshold techniques"
          ],
          [
           "combining multiple feature extraction techniques for handwritten\n  devnagari character recognition"
          ],
          [
           "face synthesis (fasy) system for generation of a face image from human\n  description"
          ],
          [
           "classification of polar-thermal eigenfaces using multilayer perceptron\n  for human face recognition"
          ],
          [
           "reduction of feature vectors using rough set theory for human face\n  recognition"
          ],
          [
           "lacboost and fisherboost: optimally building cascade classifiers"
          ],
          [
           "incremental training of a detector using online sparse\n  eigen-decomposition"
          ],
          [
           "classification of lulc change detection using remotely sensed data for\n  coimbatore city, tamilnadu, india"
          ],
          [
           "application of fuzzy system in segmentation of mri brain tumor"
          ],
          [
           "compression rate method for empirical science and application to\n  computer vision"
          ],
          [
           "content based image retrieval using exact legendre moments and support\n  vector machine"
          ],
          [
           "detection of bleeding in wireless capsule endoscopy images using range\n  ratio color"
          ],
          [
           "biometric authentication using nonparametric methods"
          ],
          [
           "c-hilasso: a collaborative hierarchical sparse modeling framework"
          ],
          [
           "l2-optimal image interpolation and its applications to medical imaging"
          ],
          [
           "image segmentation using weak shape priors"
          ],
          [
           "penalized k-nearest-neighbor-graph based metrics for clustering"
          ],
          [
           "an effective fingerprint verification technique"
          ],
          [
           "solving inverse problems with piecewise linear estimators: from gaussian\n  mixture models to structured sparsity"
          ],
          [
           "normalized information distance is not semicomputable"
          ],
          [
           "image processing of a spectrogram produced by spectrometer airglow\n  temperature imager"
          ],
          [
           "algorithm for sector spectra calculation from images registered by the\n  spectral airglow temperature imager"
          ],
          [
           "action recognition in videos: from motion capture labs to the web"
          ],
          [
           "segmentation of natural images by texture and boundary compression"
          ],
          [
           "optimization of weighted curvature for image segmentation"
          ],
          [
           "large gaps imputation in remote sensed imagery of the environment"
          ],
          [
           "efficient region-based image querying"
          ],
          [
           "noise invalidation denoising"
          ],
          [
           "kalman filters and homography: utilizing the matrix $a$"
          ],
          [
           "polyharmonic daubechies type wavelets in image processing and astronomy,\n  ii"
          ],
          [
           "performance comparison of svm and ann for handwritten devnagari\n  character recognition"
          ],
          [
           "recognition of non-compound handwritten devnagari characters using a\n  combination of mlp and minimum edit distance"
          ],
          [
           "application of statistical features in handwritten devnagari character\n  recognition"
          ],
          [
           "multiple classifier combination for off-line handwritten devnagari\n  character recognition"
          ],
          [
           "a two stage classification approach for handwritten devanagari\n  characters"
          ],
          [
           "a novel approach for handwritten devnagari character recognition"
          ],
          [
           "classification of gradient change features using mlp for handwritten\n  character recognition"
          ],
          [
           "fpga based assembling of facial components for human face construction"
          ],
          [
           "fuzzy classification of facial component parameters"
          ],
          [
           "survey of nearest neighbor techniques"
          ],
          [
           "uncertainty of visual measurement and efficient allocation of sensory\n  resources"
          ],
          [
           "repairing people trajectories based on point clustering"
          ],
          [
           "a fast decision technique for hierarchical hough transform for line\n  detection"
          ],
          [
           "face synthesis (fasy) system for determining the characteristics of a\n  face image"
          ],
          [
           "quotient based multiresolution image fusion of thermal and visual images\n  using daubechies wavelet transform for human face recognition"
          ],
          [
           "fusion of daubechies wavelet coefficients for human face recognition"
          ],
          [
           "fusion of wavelet coefficients from visual and thermal face images for\n  human face recognition - a comparative study"
          ],
          [
           "a parallel framework for multilayer perceptron for human face\n  recognition"
          ],
          [
           "image pixel fusion for human face recognition"
          ],
          [
           "classification of fused images using radial basis function neural\n  network for human face recognition"
          ],
          [
           "classification of fused face images using multilayer perceptron neural\n  network"
          ],
          [
           "classification of log-polar-visual eigenfaces using multilayer\n  perceptron"
          ],
          [
           "human face recognition using line features"
          ],
          [
           "bilateral filters: what they can and cannot do"
          ],
          [
           "registration of brain images using fast walsh hadamard transform"
          ],
          [
           "multi-environment model estimation for motility analysis of\n  caenorhabditis elegans"
          ],
          [
           "improved ransac performance using simple, iterative minimal-set solvers"
          ],
          [
           "a study on the effectiveness of different patch size and shape for eyes\n  and mouth detection"
          ],
          [
           "neural network based reconstruction of a 3d object from a 2d wireframe"
          ],
          [
           "a machine learning approach to recovery of scene geometry from images"
          ],
          [
           "fast l1-minimization algorithms for robust face recognition"
          ],
          [
           "video event recognition for surveillance applications (versa)"
          ],
          [
           "orthogonal multifilters image processing of astronomical images from\n  scanned photographic plates"
          ],
          [
           "ear identification by fusion of segmented slice regions using invariant\n  features: an experimental manifold with dual fusion approach"
          ],
          [
           "competitive analysis of minimum-cut maximum flow algorithms in vision\n  problems"
          ],
          [
           "an efficient automatic mass classification method in digitized\n  mammograms using artificial neural network"
          ],
          [
           "fully automatic extraction of salient objects from videos in near\n  real-time"
          ],
          [
           "image sequence interpolation using optimal control"
          ],
          [
           "modeling the growth of fingerprints improves matching for adolescents"
          ],
          [
           "biometric authentication using nonparametric methods"
          ],
          [
           "homotopy perturbation method for image restoration and denoising"
          ],
          [
           "a miniature-based image retrieval system"
          ],
          [
           "optimally training a cascade classifier"
          ],
          [
           "proliferating cell nuclear antigen (pcna) allows the automatic\n  identification of follicles in microscopic images of human ovarian tissue"
          ],
          [
           "comparative study of statistical skin detection algorithms for\n  sub-continental human images"
          ],
          [
           "automated acanthamoeba polyphaga detection and computation of salmonella\n  typhimurium concentration in spatio-temporal images"
          ],
          [
           "on euclidean norm approximations"
          ],
          [
           "penalty decomposition methods for $l0$-norm minimization"
          ],
          [
           "variational iteration method for image restoration"
          ],
          [
           "weighted attribute fusion model for face recognition"
          ],
          [
           "fast color space transformations using minimax approximations"
          ],
          [
           "effective pedestrian detection using center-symmetric local\n  binary/trinary patterns"
          ],
          [
           "distance measures for reduced ordering based vector filters"
          ],
          [
           "real-time implementation of order-statistics based directional filters"
          ],
          [
           "cost-effective implementation of order-statistics based vector filters\n  using minimax approximations"
          ],
          [
           "a fast switching filter for impulsive noise removal from color images"
          ],
          [
           "nonlinear vector filtering for impulsive noise removal from color images"
          ],
          [
           "automatic detection of blue-white veil and related structures in\n  dermoscopy images"
          ],
          [
           "an improved objective evaluation measure for border detection in\n  dermoscopy images"
          ],
          [
           "approximate lesion localization in dermoscopy images"
          ],
          [
           "evolutionary computational method of facial expression analysis for\n  content-based video retrieval using 2-dimensional cellular automata"
          ],
          [
           "invariant spectral hashing of image saliency graph"
          ],
          [
           "asymmetric totally-corrective boosting for real-time object detection"
          ],
          [
           "deep self-taught learning for handwritten character recognition"
          ],
          [
           "robust low-rank subspace segmentation with semidefinite guarantees"
          ],
          [
           "a family of statistical symmetric divergences based on jensen's\n  inequality"
          ],
          [
           "3d-mesh denoising using an improved vertex based anisotropic diffusion"
          ],
          [
           "balancing clusters to reduce response time variability in large scale\n  image search"
          ],
          [
           "modeling instantaneous changes in natural scenes"
          ],
          [
           "image segmentation by discounted cumulative ranking on maximal cliques"
          ],
          [
           "rotation invariant face detection using wavelet, pca and radial basis\n  function networks"
          ],
          [
           "defining and generating axial lines from street center lines for better\n  understanding of urban morphologies"
          ],
          [
           "use of multiple singular value decompositions to analyze complex\n  intracellular calcium ion signals"
          ],
          [
           "face detection with effective feature extraction"
          ],
          [
           "how to extract the geometry and topology from very large 3d\n  segmentations"
          ],
          [
           "an embarrassingly simple speed-up of belief propagation with robust\n  potentials"
          ],
          [
           "a microwave imaging and enhancement technique from noisy synthetic data"
          ],
          [
           "visual-hint boundary to segment algorithm for image segmentation"
          ],
          [
           "convolutional matching pursuit and dictionary training"
          ],
          [
           "real-time robust principal components' pursuit"
          ],
          [
           "profile based sub-image search in image databases"
          ],
          [
           "combinatorial continuous maximal flows"
          ],
          [
           "robust recovery of subspace structures by low-rank representation"
          ],
          [
           "hybrid linear modeling via local best-fit flats"
          ],
          [
           "fast inference in sparse coding algorithms with applications to object\n  recognition"
          ],
          [
           "joint interpretation of on-board vision and static gps cartography for\n  determination of correct speed limit"
          ],
          [
           "3-d rigid models from partial views - global factorization"
          ],
          [
           "maximum likelihood mosaics"
          ],
          [
           "ansig - an analytic signature for arbitrary 2d shapes (or bags of\n  unlabeled points)"
          ],
          [
           "multiplierless modules for forward and backward integer wavelet\n  transform"
          ],
          [
           "revisiting complex moments for 2d shape representation and image\n  normalization"
          ],
          [
           "statistical compressive sensing of gaussian mixture models"
          ],
          [
           "collaborative sources identification in mixed signals via hierarchical\n  sparse modeling"
          ],
          [
           "local component analysis for nonparametric bayes classifier"
          ],
          [
           "selective image super-resolution"
          ],
          [
           "fast color quantization using weighted sort-means clustering"
          ],
          [
           "multiple view reconstruction of calibrated images using singular value\n  decomposition"
          ],
          [
           "lesion border detection in dermoscopy images"
          ],
          [
           "performance analysis of spectral clustering on compressed, incomplete\n  and inaccurate measurements"
          ],
          [
           "featureless 2d-3d pose estimation by minimising an\n  illumination-invariant loss"
          ],
          [
           "statistical mechanics of digital halftoning"
          ],
          [
           "single frame image super resolution using learned directionlets"
          ],
          [
           "image segmentation with multidimensional refinement indicators"
          ],
          [
           "bounded multivariate surfaces on monovariate internal functions"
          ],
          [
           "classification with scattering operators"
          ],
          [
           "tensor-sift based earth mover's distance for contour tracking"
          ],
          [
           "the data replication method for the classification with reject option"
          ],
          [
           "warping peirce quincuncial panoramas"
          ],
          [
           "modeling image structure with factorized phase-coupled boltzmann\n  machines"
          ],
          [
           "a fuzzy clustering model for fuzzy data with outliers"
          ],
          [
           "generalized tree-based wavelet transform"
          ],
          [
           "closed-form solutions to a category of nuclear norm minimization\n  problems"
          ],
          [
           "formulation of a n-degree polynomial for depth estimation using a single\n  image"
          ],
          [
           "edge preserving image denoising in reproducing kernel hilbert spaces"
          ],
          [
           "learning sparse representations of depth"
          ],
          [
           "survey on various gesture recognition techniques for interfacing\n  machines based on ambient intelligence"
          ],
          [
           "an effective method of image retrieval using image mining techniques"
          ],
          [
           "image deblurring and super-resolution by adaptive sparse domain\n  selection and adaptive regularization"
          ],
          [
           "automatic image segmentation by dynamic region merging"
          ],
          [
           "sparse motion segmentation using multiple six-point consistencies"
          ],
          [
           "affine invariant, model-based object recognition using robust metrics\n  and bayesian statistics"
          ],
          [
           "real-time visual tracking using sparse representation"
          ],
          [
           "tilt: transform invariant low-rank textures"
          ],
          [
           "adaptive cluster expansion (ace): a multilayer network for estimating\n  probability density functions"
          ],
          [
           "stochastic vector quantisers"
          ],
          [
           "the development of dominance stripes and orientation maps in a\n  self-organising visual cortex network (vicon)"
          ],
          [
           "detecting image forgeries using geometric cues"
          ],
          [
           "diffusion-geometric maximally stable component detection in deformable\n  shapes"
          ],
          [
           "lp-recovery of the most significant subspace among multiple subspaces\n  with outliers"
          ],
          [
           "self-organising stochastic encoders"
          ],
          [
           "a self-organising neural network for processing data from multiple\n  sensors"
          ],
          [
           "characterizing structure through shape matching and applications to self\n  assembly"
          ],
          [
           "harmonic order parameters for characterizing complex particle\n  morphologies"
          ],
          [
           "texture feature extraction in the spatial-frequency domain for\n  content-based image retrieval"
          ],
          [
           "affine-invariant diffusion geometry for the analysis of deformable 3d\n  shapes"
          ],
          [
           "affine-invariant geodesic geometry of deformable 3d shapes"
          ],
          [
           "a fast statistical method for multilevel thresholding in wavelet domain"
          ],
          [
           "a framework for real-time face and facial feature tracking using optical\n  flow pre-estimation and template tracking"
          ],
          [
           "binary and nonbinary description of hypointensity in human brain mr\n  images"
          ],
          [
           "combining neural networks for skin detection"
          ],
          [
           "segmentation of camera captured business card images for mobile devices"
          ],
          [
           "extending bron kerbosch for solving the maximum weight clique problem"
          ],
          [
           "application of freeman chain codes: an alternative recognition technique\n  for malaysian car plates"
          ],
          [
           "illustrating color evolution and color blindness by the decoding model\n  of color vision"
          ],
          [
           "group invariant scattering"
          ],
          [
           "automatic segmentation of hela cell images"
          ],
          [
           "content-based filtering for video sharing social networks"
          ],
          [
           "a review of research on devnagari character recognition"
          ],
          [
           "support vector machines/relevance vector machine for remote sensing\n  classification: a review"
          ],
          [
           "safevchat: detecting obscene content and misbehaving users in online\n  video chat services"
          ],
          [
           "introduction to the bag of features paradigm for image classification\n  and retrieval"
          ],
          [
           "efficient independence-based map approach for robust markov networks\n  structure discovery"
          ],
          [
           "automated image processing for the analysis of dna repair dynamics"
          ],
          [
           "transductive-inductive cluster approximation via multivariate chebyshev\n  inequality"
          ],
          [
           "diffusion framework for geometric and photometric data fusion in\n  non-rigid shape analysis"
          ],
          [
           "statistical multiresolution dantzig estimation in imaging: fundamental\n  concepts and algorithmic framework"
          ],
          [
           "online adaptive decision fusion framework based on entropic projections\n  onto convex sets with application to wildfire detection in video"
          ],
          [
           "using feature weights to improve performance of neural networks"
          ],
          [
           "a generalized method for integrating rule-based knowledge into inductive\n  methods through virtual sample creation"
          ],
          [
           "a panorama on multiscale geometric representations, intertwining\n  spatial, directional and frequency selectivity"
          ],
          [
           "a correspondence-less approach to matching of deformable shapes"
          ],
          [
           "geometric models with co-occurrence groups"
          ],
          [
           "statistical compressed sensing of gaussian mixture models"
          ],
          [
           "smart depth of field optimization applied to a robotised view camera"
          ],
          [
           "statistical methods for tissue array images - algorithmic scoring and\n  co-training"
          ],
          [
           "natural images from the birthplace of the human eye"
          ],
          [
           "evidence feed forward hidden markov model: a new type of hidden markov\n  model"
          ],
          [
           "total variation regularization for fmri-based prediction of behaviour"
          ],
          [
           "modeling dynamic swarms"
          ],
          [
           "a comparison of two human brain tumor segmentation methods for mri data"
          ],
          [
           "guaranteeing convergence of iterative skewed voting algorithms for image\n  segmentation"
          ],
          [
           "chernoff information of exponential families"
          ],
          [
           "a general framework for development of the cortex-like visual object\n  recognition system: waves of spikes, predictive coding and universal\n  dictionary of features"
          ],
          [
           "feature selection via simultaneous sparse approximation for person\n  specific face verification"
          ],
          [
           "feature selection via sparse approximation for face recognition"
          ],
          [
           "multi-task gloh feature selection for human age estimation"
          ],
          [
           "an efficient and integrated algorithm for video enhancement in\n  challenging lighting conditions"
          ],
          [
           "searching in one billion vectors: re-rank with source coding"
          ],
          [
           "a linear framework for region-based image segmentation and inpainting\n  involving curvature penalization"
          ],
          [
           "shrec 2011: robust feature detection and description benchmark"
          ],
          [
           "detection of objects in noisy images and site percolation on square\n  lattices"
          ],
          [
           "computationally efficient algorithms for statistical image processing.\n  implementation in r"
          ],
          [
           "weighted radial variation for node feature classification"
          ],
          [
           "continuous multiclass labeling approaches and algorithms"
          ],
          [
           "a novel super resolution reconstruction of low reoslution images\n  progressively using dct and zonal filter based denoising"
          ],
          [
           "automatic detection of ringworm using local binary pattern (lbp)"
          ],
          [
           "an algorithm for repairing low-quality video enhancement techniques\n  based on trained filter"
          ],
          [
           "a medial axis based thinning strategy for character images"
          ],
          [
           "submodular decomposition framework for inference in associative markov\n  networks with global constraints"
          ],
          [
           "evaluation of a novel approach for automatic volume determination of\n  glioblastomas based on several manual expert segmentations"
          ],
          [
           "a semi-automatic graph-based approach for determining the boundary of\n  eloquent fiber bundles in the human brain"
          ],
          [
           "all roads lead to rome"
          ],
          [
           "aorta segmentation for stent simulation"
          ],
          [
           "ray-based and graph-based methods for fiber bundle boundary estimation"
          ],
          [
           "adaptive mosaic image representation for image processing"
          ],
          [
           "so(3)-invariant asymptotic observers for dense depth field estimation\n  based on visual data and known camera motion"
          ],
          [
           "sparse transfer learning for interactive video search reranking"
          ],
          [
           "multi-parameter acoustic imaging of uniform objects in inhomogeneous\n  media"
          ],
          [
           "identification of arabic word from bilingual text using character\n  features"
          ],
          [
           "off-line handwritten signature identification using rotated complex\n  wavelet filters"
          ],
          [
           "4d wavelet-based regularization for parallel mri reconstruction: impact\n  on subject and group-levels statistical sensitivity in fmri"
          ],
          [
           "handwritten digit recognition with a committee of deep neural nets on\n  gpus"
          ],
          [
           "automatic extraction of open space area from high resolution urban\n  satellite imagery"
          ],
          [
           "a comparison of gap statistic definitions with and without logarithm\n  function"
          ],
          [
           "automatic open space area extraction and change detection from high\n  resolution urban satellite images"
          ],
          [
           "application of threshold techniques for readability improvement of jawi\n  historical manuscript images"
          ],
          [
           "improved edge awareness in discontinuity preserving smoothing"
          ],
          [
           "internal constraints of the trifocal tensor"
          ],
          [
           "image retrieval method using top-surf descriptor"
          ],
          [
           "visual concept detection and real time object detection"
          ],
          [
           "block-sparse recovery via convex optimization"
          ],
          [
           "a statistical nonparametric approach of face recognition: combination of\n  eigenface & modified k-means clustering"
          ],
          [
           "gaussian affine feature detector"
          ],
          [
           "fuzzy rules and evidence theory for satellite image analysis"
          ],
          [
           "a bio-inspired image coder with temporal scalability"
          ],
          [
           "benchmarking the quality of diffusion-weighted images"
          ],
          [
           "\"improved fcm algorithm for clustering on web usage mining\""
          ],
          [
           "off-line handwritten signature retrieval using curvelet transforms"
          ],
          [
           "template-based matching using weight maps"
          ],
          [
           "geomir2k9 - a similar scene finder"
          ],
          [
           "from a modified ambrosio-tortorelli to a randomized part hierarchy tree"
          ],
          [
           "extracting parts of 2d shapes using local and global interactions\n  simultaneously"
          ],
          [
           "elimination of specular reflection and identification of roi: the first\n  step in automated detection of cervical cancer using digital colposcopy"
          ],
          [
           "hypothesize and bound: a computational focus of attention mechanism for\n  simultaneous n-d segmentation, pose estimation and classification using shape\n  priors"
          ],
          [
           "an axis-based representation for recognition"
          ],
          [
           "disconnected skeleton: shape at its absolute scale"
          ],
          [
           "an effect of spatial filtering in visualization of coronary arteries\n  imaging"
          ],
          [
           "visualization techniques for data mining of latur district satellite\n  imagery"
          ],
          [
           "hue histograms to spatiotemporal local features for action recognition"
          ],
          [
           "a meshless method for variational nonrigid 2-d shape registration"
          ],
          [
           "improving digital signal interpolation: l2-optimal kernels with\n  kernel-invariant interpolation speed"
          ],
          [
           "curved gabor filters for fingerprint image enhancement"
          ],
          [
           "intent inference and syntactic tracking with gmti measurements"
          ],
          [
           "convex approaches to model wavelet sparsity patterns"
          ],
          [
           "positive semidefinite metric learning using boosting-like algorithms"
          ],
          [
           "bayesian approach for near-duplicate image detection"
          ],
          [
           "preprocessing: a step in automating early detection of cervical cancer"
          ],
          [
           "content-based spam filtering on video sharing social networks"
          ],
          [
           "a supervised clustering approach for fmri-based inference of brain\n  states"
          ],
          [
           "an automated size recognition technique for acetabular implant in total\n  hip replacement"
          ],
          [
           "methods of hierarchical clustering"
          ],
          [
           "considerations and results in multimedia and dvb application development\n  on philips nexperia platform"
          ],
          [
           "streaming multimedia information using the features of the dvb-s card"
          ],
          [
           "a modified cross correlation algorithm for reference-free image\n  alignment of non-circular projections in single-particle electron microscopy"
          ],
          [
           "a multiple component matching framework for person re-identification"
          ],
          [
           "$\\ell_0$ minimization for wavelet frame based image restoration"
          ],
          [
           "view subspaces for indexing and retrieval of 3d models"
          ],
          [
           "salient local 3d features for 3d shape retrieval"
          ],
          [
           "face recognition using 3d facial shape and color map information:\n  comparison and combination"
          ],
          [
           "retrieval and clustering from a 3d human database based on body and head\n  shape"
          ],
          [
           "planar pixelations and image recognition"
          ],
          [
           "optimal camera placement to measure distances conservativly regarding\n  static and dynamic obstacles"
          ],
          [
           "invariant representative cocycles of cohomology generators using\n  irregular graph pyramids"
          ],
          [
           "face shape and reflectance acquisition using a multispectral light stage"
          ],
          [
           "benchmarks, performance evaluation and contests for 3d shape retrieval"
          ],
          [
           "an algorithmic solution to the five-point pose problem based on the\n  cayley representation of rotations"
          ],
          [
           "hierarchical recursive running median"
          ],
          [
           "a multiple-choice test recognition system based on the gamera framework"
          ],
          [
           "human identity verification based on heart sounds: recent advances and\n  future directions"
          ],
          [
           "cubical cohomology ring of 3d photographs"
          ],
          [
           "fast o(1) bilateral filtering using trigonometric range kernels"
          ],
          [
           "preprocessing for automating early detection of cervical cancer"
          ],
          [
           "on the cohomology of 3d digital images"
          ],
          [
           "a tool for integer homology computation: lambda-at model"
          ],
          [
           "image splicing detection using inherent lens radial distortion"
          ],
          [
           "efficient learning of sparse invariant representations"
          ],
          [
           "scale-invariant local descriptor for event recognition in 1d sensor\n  signals"
          ],
          [
           "neural networks for emotion classification"
          ],
          [
           "alignment of microtubule imagery"
          ],
          [
           "rasid: a robust wlan device-free passive motion detection system"
          ],
          [
           "incremental top-k list comparison approach to robust multi-structure\n  model fitting"
          ],
          [
           "handwritten character recognition of south indian scripts: a review"
          ],
          [
           "learning hierarchical sparse representations using iterative dictionary\n  learning and dimension reduction"
          ],
          [
           "a novel image segmentation enhancement technique based on active contour\n  and topological alignments"
          ],
          [
           "recovering epipolar geometry from images of smooth surfaces"
          ],
          [
           "an efficient circle detection scheme in digital images using ant system\n  algorithm"
          ],
          [
           "nearest prime simplicial complex for object recognition"
          ],
          [
           "exact reconstruction of the rank order coding using frames theory"
          ],
          [
           "omni-tomography/multi-tomography -- integrating multiple modalities for\n  simultaneous imaging"
          ],
          [
           "clustering with multi-layer graphs: a spectral perspective"
          ],
          [
           "comparing haar-hilbert and log-gabor based iris encoders on bath iris\n  image database"
          ],
          [
           "robust mobile object tracking based on multiple feature similarity and\n  trajectory filtering"
          ],
          [
           "who clicks there!: anonymizing the photographer in a camera saturated\n  society"
          ],
          [
           "nested graph words for object recognition"
          ],
          [
           "polar fusion technique analysis for evaluating the performances of image\n  fusion of thermal and visual images for human face recognition"
          ],
          [
           "next level of data fusion for human face recognition"
          ],
          [
           "high performance human face recognition using independent high intensity\n  gabor wavelet responses: a statistical approach"
          ],
          [
           "dwt based fingerprint recognition using non minutiae features"
          ],
          [
           "exploratory simulation of an intelligent iris verifier distributed\n  system"
          ],
          [
           "inferring 3d articulated models for box packaging robot"
          ],
          [
           "face identification from manipulated facial images using sift"
          ],
          [
           "morphological reconstruction for word level script identification"
          ],
          [
           "learning shape and texture characteristics of ct tree-in-bud opacities\n  for cad systems"
          ],
          [
           "pose estimation from a single depth image for arbitrary kinematic\n  skeletons"
          ],
          [
           "automated segmentation of the pulmonary arteries in low-dose ct by\n  vessel tracking"
          ],
          [
           "augmented reality implementation methods in mainstream applications"
          ],
          [
           "mobile augmented reality applications"
          ],
          [
           "fingerprint: dwt, svd based enhancement and significant contrast for\n  ridges and valleys using fuzzy measures"
          ],
          [
           "a replica inference approach to unsupervised multi-scale image\n  segmentation"
          ],
          [
           "active classification: theory and application to underwater inspection"
          ],
          [
           "image denoising assessment using anisotropic stack filtering"
          ],
          [
           "visual secret sharing scheme using grayscale images"
          ],
          [
           "vision-based navigation iii: pose and motion from omnidirectional\n  optical flow and a digital terrain map"
          ],
          [
           "unstructured human activity detection from rgbd images"
          ],
          [
           "vision-based navigation i: a navigation filter for fusing\n  dtm/correspondence updates"
          ],
          [
           "3d terrestrial lidar data classification of complex natural scenes using\n  a multi-scale dimensionality criterion: applications in geomorphology"
          ],
          [
           "automatic road lighting system (arls) model based on image processing of\n  moving object"
          ],
          [
           "online vehicle detection for estimating traffic status"
          ],
          [
           "spatial features for multi-font/multi-size kannada numerals and vowels\n  recognition"
          ],
          [
           "integrating generic sensor fusion algorithms with sound state\n  representations through encapsulation of manifolds"
          ],
          [
           "evidence-based filters for signal detection: application to evoked brain\n  responses"
          ],
          [
           "vision-based navigation ii: error analysis for a navigation algorithm\n  based on optical-flow and a digital terrain map"
          ],
          [
           "analysis and improvement of low rank representation for subspace\n  segmentation"
          ],
          [
           "prostate biopsy tracking with deformation estimation"
          ],
          [
           "information-theoretic measures for objective evaluation of\n  classifications"
          ],
          [
           "median algorithm for sector spectra calculation from images registered\n  by the spectral airglow temperature imager"
          ],
          [
           "kunchenko's polynomials for template matching"
          ],
          [
           "a variation of the box-counting algorithm applied to colour images"
          ],
          [
           "bsvm: a banded suport vector machine"
          ],
          [
           "learning hypergraph labeling for feature matching"
          ],
          [
           "a fuzzy view on k-means based signal quantization with application in\n  iris segmentation"
          ],
          [
           "exploring new directions in iris recognition"
          ],
          [
           "topographic feature extraction for bengali and hindi character images"
          ],
          [
           "face recognition using curvelet transform"
          ],
          [
           "the chan-vese algorithm"
          ],
          [
           "modelling distributed shape priors by gibbs random fields of second\n  order"
          ],
          [
           "label-specific training set construction from web resource for image\n  annotation"
          ],
          [
           "a hilbert scheme in computer vision"
          ],
          [
           "fingerprint recognition using standardized fingerprint model"
          ],
          [
           "facial expression classification based on multi artificial neural\n  network and two dimensional principal component analysis"
          ],
          [
           "arithmetic and frequency filtering methods of pixel-based image fusion\n  techniques"
          ],
          [
           "applying advanced spaceborne thermal emission and reflection radiometer\n  (aster) spectral indices for geological mapping and mineral identification on\n  the tibetan plateau"
          ],
          [
           "3-phase recognition approach to pseudo 3d building generation from 2d\n  floor plan"
          ],
          [
           "weakly supervised learning of foreground-background segmentation using\n  masked rbms"
          ],
          [
           "the ihs transformations based image fusion"
          ],
          [
           "constant-time filtering using shiftable kernels"
          ],
          [
           "on the hilbert transform of wavelets"
          ],
          [
           "efficient variational inference in large-scale bayesian compressed\n  sensing"
          ],
          [
           "correlation estimation from compressed images"
          ],
          [
           "diffeomorphic metric mapping of high angular resolution diffusion\n  imaging based on riemannian structure of orientation distribution functions"
          ],
          [
           "efficient and accurate gaussian image filtering using running sums"
          ],
          [
           "variational gaussian process dynamical systems"
          ],
          [
           "an iterative feature selection method for grns inference by exploring\n  topological properties"
          ],
          [
           "fast multi-scale edge-detection in medical ultrasound signals"
          ],
          [
           "multi layer analysis"
          ],
          [
           "confidence-based dynamic classifier combination for mean-shift tracking"
          ],
          [
           "a invertible dimension reduction of curves on a manifold"
          ],
          [
           "an efficient real time method of fingertip detection"
          ],
          [
           "leveraging billions of faces to overcome performance barriers in\n  unconstrained face recognition"
          ],
          [
           "learning representations by maximizing compression"
          ],
          [
           "real time face recognition using adaboost improved fast pca algorithm"
          ],
          [
           "gender recognition based on sift features"
          ],
          [
           "a new embedding quality assessment method for manifold learning"
          ],
          [
           "undithering using linear filtering and non-linear diffusion techniques"
          ],
          [
           "compressive imaging using approximate message passing and a markov-tree\n  prior"
          ],
          [
           "the statistical methods of pixel-based image fusion techniques"
          ],
          [
           "advanced phase retrieval: maximum likelihood technique with sparse\n  regularization of phase and amplitude"
          ],
          [
           "a machine learning perspective on predictive coding with paq"
          ],
          [
           "hamiltonian streamline guided feature extraction with applications to\n  face detection"
          ],
          [
           "hierarchical object parsing from structured noisy point clouds"
          ],
          [
           "toward parts-based scene understanding with pixel-support parts-sparse\n  pictorial structures"
          ],
          [
           "multisensor images fusion based on feature-level"
          ],
          [
           "edge detection based on morphological amoebas"
          ],
          [
           "learning from complex systems: on the roles of entropy and fisher\n  information in pairwise isotropic gaussian markov random fields"
          ],
          [
           "solving principal component pursuit in linear time via $l_1$ filtering"
          ],
          [
           "noise covariance properties in dual-tree wavelet decompositions"
          ],
          [
           "conjugate variables as a resource in signal and image processing"
          ],
          [
           "biometric authorization system using gait biometry"
          ],
          [
           "anisotropic k-nearest neighbor search using covariance quadtree"
          ],
          [
           "an efficient codebook initialization approach for lbg algorithm"
          ],
          [
           "automatic application level set approach in detection calcifications in\n  mammographic image"
          ],
          [
           "vessel segmentation in medical imaging using a tight-frame based\n  algorithm"
          ],
          [
           "shareboost: efficient multiclass learning with feature sharing"
          ],
          [
           "moving object detection by detecting contiguous outliers in the low-rank\n  representation"
          ],
          [
           "toward designing intelligent pdes for computer vision: an optimal\n  control approach"
          ],
          [
           "automatic diagnosis of abnormal tumor region from brain computed\n  tomography images using wavelet based statistical texture features"
          ],
          [
           "an automatic clustering technique for optimal clusters"
          ],
          [
           "color texture classification approach based on combination of primitive\n  pattern units and statistical features"
          ],
          [
           "on partial opimality by auxiliary submodular problems"
          ],
          [
           "estimating 3d human shapes from measurements"
          ],
          [
           "devnagari document segmentation using histogram approach"
          ],
          [
           "curvature prior for mrf-based segmentation and shape inpainting"
          ],
          [
           "exact subspace segmentation and outlier detection by low-rank\n  representation"
          ],
          [
           "progressive versus random projections for compressive capture of images,\n  lightfields and higher dimensional visual signals"
          ],
          [
           "a radial version of the central limit theorem"
          ],
          [
           "efficient minimization of higher order submodular functions using\n  monotonic boolean functions"
          ],
          [
           "mis-boost: multiple instance selection boosting"
          ],
          [
           "a probabilistic framework for discriminative dictionary learning"
          ],
          [
           "multi-hypothesis crf-segmentation of neural tissue in anisotropic em\n  volumes"
          ],
          [
           "a non-iterative solution to the four-point three-views pose problem in\n  case of collinear cameras"
          ],
          [
           "design of an optical character recognition system for camera-based\n  handheld devices"
          ],
          [
           "connectivity-enforcing hough transform for the robust extraction of line\n  segments"
          ],
          [
           "generalised object detection and semantic analysis: casino example using\n  matlab"
          ],
          [
           "online robust subspace tracking from partial information"
          ],
          [
           "digital (co)homology modules and digital pontryagin algebras"
          ],
          [
           "detachable object detection: segmentation and depth ordering from\n  short-baseline video"
          ],
          [
           "probabilistic prototype models for attributed graphs"
          ],
          [
           "sparse online low-rank projection and outlier rejection (solo) for 3-d\n  rigid-body motion registration"
          ],
          [
           "beyond pixels and regions: a non local patch means (nlpm) method for\n  content-level restoration, enhancement, and reconstruction of degraded\n  document images"
          ],
          [
           "improvements on \"fast space-variant elliptical filtering using box\n  splines\""
          ],
          [
           "squiggle - a glyph recognizer for gesture input"
          ],
          [
           "higher-order markov tag-topic models for tagged documents and images"
          ],
          [
           "posterior mean super-resolution with a causal gaussian markov random\n  field prior"
          ],
          [
           "hypothesize and bound: a computational focus of attention mechanism for\n  simultaneous 3d shape reconstruction, pose estimation and classification from\n  a single 2d image"
          ],
          [
           "abhivyakti: a vision based intelligent system for elder and sick persons"
          ],
          [
           "the statistical inefficiency of sparse coding for images (or, one gabor\n  to rule them all)"
          ],
          [
           "a novel comprehensive method for real time video motion detection\n  surveillance"
          ],
          [
           "learning image transformations without training examples"
          ],
          [
           "learning to relate images: mapping units, complex cells and simultaneous\n  eigenspaces"
          ],
          [
           "robust artificial neural networks and outlier detection. technical\n  report"
          ],
          [
           "eclectic extraction of propositional rules from neural networks"
          ],
          [
           "face recognition using optimal representation ensemble"
          ],
          [
           "discriminately decreasing discriminability with learned image filters"
          ],
          [
           "identifying relationships between drugs and medical conditions: winning\n  experience in the challenge 2 of the omop 2010 cup"
          ],
          [
           "non-gaussian scale space filtering with 2 by 2 matrix of linear filters"
          ],
          [
           "linearized additive classifiers"
          ],
          [
           "dictionary learning for deblurring and digital zoom"
          ],
          [
           "rotation, scaling and translation analysis of biometric signature\n  templates"
          ],
          [
           "runtime guarantees for regression problems"
          ],
          [
           "a face recognition scheme using wavelet based dominant features"
          ],
          [
           "a comparative experiment of several shape methods in recognizing plants"
          ],
          [
           "foliage plant retrieval using polar fourier transform, color moments and\n  vein features"
          ],
          [
           "the proximal point method for a hybrid model in image restoration"
          ],
          [
           "steps towards a theory of visual information: active perception,\n  signal-to-symbol conversion and the interplay between sensing and control"
          ],
          [
           "closed-loop learning of visual control policies"
          ],
          [
           "ground metric learning"
          ],
          [
           "sparse image representation with epitomes"
          ],
          [
           "robust image analysis by l1-norm semi-supervised learning"
          ],
          [
           "controlled total variation regularization for inverse problems"
          ],
          [
           "algorithms to automatically quantify the geometric similarity of\n  anatomical surfaces"
          ],
          [
           "multi-criteria anomaly detection using pareto depth analysis"
          ],
          [
           "anti-sparse coding for approximate nearest neighbor search"
          ],
          [
           "aoso-logitboost: adaptive one-vs-one logitboost for multi-class problem"
          ],
          [
           "studying satellite image quality based on the fusion techniques"
          ],
          [
           "spectral descriptors for deformable shapes"
          ],
          [
           "absolute uniqueness of phase retrieval with random illumination"
          ],
          [
           "towards holistic scene understanding: feedback enabled cascaded\n  classification models"
          ],
          [
           "face recognition based on svm and 2dpca"
          ],
          [
           "hand tracking based on hierarchical clustering of range data"
          ],
          [
           "a new similarity measure for non-local means filtering of mri images"
          ],
          [
           "iris codes classification using discriminant and witness directions"
          ],
          [
           "topology on locally finite metric spaces"
          ],
          [
           "kernel diff-hash"
          ],
          [
           "distributed lossy source coding using real-number codes"
          ],
          [
           "graph regularized nonnegative matrix factorization for hyperspectral\n  data unmixing"
          ],
          [
           "sparsity and robustness in face recognition"
          ],
          [
           "a robust, low-cost approach to face detection and face recognition"
          ],
          [
           "securing biometric images using reversible watermarking"
          ],
          [
           "covariant fractional extension of the modified laplace-operator used in\n  3d-shape recovery"
          ],
          [
           "speculative parallel evaluation of classification trees on gpgpu compute\n  engines"
          ],
          [
           "face recognition using discrete cosine transform for global and local\n  features"
          ],
          [
           "multimodal diff-hash"
          ],
          [
           "iris recognition based on lbp and combined lvq classifier"
          ],
          [
           "efficient hierarchical markov random fields for object detection on a\n  mobile robot"
          ],
          [
           "new method for 3d shape retrieval"
          ],
          [
           "discriminative local sparse representations for robust face recognition"
          ],
          [
           "a novel approach to texture classification using statistical feature"
          ],
          [
           "digital manifolds and the theorem of jordan-brouwer"
          ],
          [
           "a prototype system for handwritten sub-word recognition: toward\n  arabic-manuscript transliteration"
          ],
          [
           "good pairs of adjacency relations in arbitrary dimensions"
          ],
          [
           "the object projection feature estimation problem in unsupervised\n  markerless 3d motion tracking"
          ],
          [
           "a facial expression classification system integrating canny, principal\n  component analysis and artificial neural network"
          ],
          [
           "a single euler number feature for multi-font multi-size kannada numeral\n  recognition"
          ],
          [
           "multi-font multi-size kannada numeral recognition based on structural\n  features"
          ],
          [
           "redundant wavelets on graphs and high dimensional data clouds"
          ],
          [
           "a self-portrait of young leonardo"
          ],
          [
           "facial asymmetry and emotional expression"
          ],
          [
           "enhancement of image resolution by binarization"
          ],
          [
           "distributed multi-view matching in networks with limited communications"
          ],
          [
           "a theory for optical flow-based transport on image manifolds"
          ],
          [
           "a new iris normalization process for recognition system with\n  cryptographic techniques"
          ],
          [
           "contextually guided semantic labeling and search for 3d point clouds"
          ],
          [
           "distributed representation of geometrically correlated images with\n  compressed linear measurements"
          ],
          [
           "suboptimality of nonlocal means for images with sharp edges"
          ],
          [
           "an image processing of a raphael's portrait of leonardo"
          ],
          [
           "compressed sensing of astronomical images:orthogonal wavelets domains"
          ],
          [
           "ward's hierarchical clustering method: clustering criterion and\n  agglomerative algorithm"
          ],
          [
           "3d model retrieval based on semantic and shape indexes"
          ],
          [
           "efficient adaptive compressive sensing using sparse hierarchical learned\n  dictionaries"
          ],
          [
           "determining a rotation of a tetrahedron from a projection"
          ],
          [
           "invariant texture analysis through local binary patterns"
          ],
          [
           "local naive bayes nearest neighbor for image classification"
          ],
          [
           "a biomimetic model of the outer plexiform layer by incorporating\n  memristive devices"
          ],
          [
           "optimality bounds for a variational relaxation of the image partitioning\n  problem"
          ],
          [
           "classification with invariant scattering representations"
          ],
          [
           "meaningful matches in stereovision"
          ],
          [
           "a multi-feature tracking algorithm enabling adaptation to context\n  variations"
          ],
          [
           "pocs based super-resolution image reconstruction using an adaptive\n  regularization parameter"
          ],
          [
           "re-initialization free level set evolution via reaction diffusion"
          ],
          [
           "real-time face swapping as a tool for understanding infant\n  self-recognition"
          ],
          [
           "improvement of bm3d algorithm and employment to satellite and cfa images\n  denoising"
          ],
          [
           "large scale correlation clustering optimization"
          ],
          [
           "supervised generative reconstruction: an efficient way to flexibly store\n  and recognize patterns"
          ],
          [
           "a new variational principle for the euclidean distance function: linear\n  approach to the non-linear eikonal problem"
          ],
          [
           "data processing for atomic resolution eels"
          ],
          [
           "gpu-based image analysis on mobile devices"
          ],
          [
           "higher-order momentum distributions and locally affine lddmm\n  registration"
          ],
          [
           "automatic post-picking improves particle image detection from cryo-em\n  micrographs"
          ],
          [
           "insights from classifying visual concepts with multiple kernel learning"
          ],
          [
           "developing autonomic properties for distributed pattern-recognition\n  systems with assl: a distributed marf case study"
          ],
          [
           "a real time vehicles detection algorithm for vision based sensors"
          ],
          [
           "vehicles recognition using fuzzy descriptors of image segments"
          ],
          [
           "a reduced reference image quality measure using bessel k forms model for\n  tetrolet coefficients"
          ],
          [
           "a geometric approach for fully automatic chromosome segmentation"
          ],
          [
           "oracle inequalities and minimax rates for non-local means and related\n  adaptive kernel-based methods"
          ],
          [
           "discretization of parametrizable signal manifolds"
          ],
          [
           "learning smooth pattern transformation manifolds"
          ],
          [
           "on b-spline framelets derived from the unitary extension principle"
          ],
          [
           "online adaptive statistical compressed sensing of gaussian mixture\n  models"
          ],
          [
           "multispectral palmprint recognition using a hybrid feature"
          ],
          [
           "automated polyu palmprint sample registration and coarse classification"
          ],
          [
           "descriptor learning for omnidirectional image matching"
          ],
          [
           "multi-q analysis of image patterns"
          ],
          [
           "spatio-temporal wavelet regularization for parallel mri reconstruction:\n  application to functional mri"
          ],
          [
           "learning joint intensity-depth sparse representations"
          ],
          [
           "on the convergence of gradient descent for finding the riemannian center\n  of mass"
          ],
          [
           "probabilistic motion estimation based on temporal coherence"
          ],
          [
           "information distance: new developments"
          ],
          [
           "picture collage with genetic algorithm and stereo vision"
          ],
          [
           "minutiae extraction from fingerprint images - a review"
          ],
          [
           "a united image force for deformable models and direct transforming\n  geometric active contorus to snakes by level sets"
          ],
          [
           "adaptive noise reduction scheme for salt and pepper"
          ],
          [
           "polynomial regression on riemannian manifolds"
          ],
          [
           "an efficient fpga implementation of mri image filtering and tumor\n  characterization using xilinx system generator"
          ],
          [
           "autonomous cleaning of corrupted scanned documents - a generative\n  modeling approach"
          ],
          [
           "nonparametric sparse representation"
          ],
          [
           "negcut: automatic image segmentation based on mrf-map"
          ],
          [
           "g-lets: signal processing using transformation groups"
          ],
          [
           "automatic system for counting cells with elliptical shape"
          ],
          [
           "enhancing volumetric bouligand-minkowski fractal descriptors by using\n  functional data analysis"
          ],
          [
           "shape analysis using fractal dimension: a curvature based approach"
          ],
          [
           "fractal descriptors in the fourier domain applied to color texture\n  analysis"
          ],
          [
           "fractal and multi-scale fractal dimension analysis: a comparative study\n  of bouligand-minkowski method"
          ],
          [
           "assessing the value of 3d reconstruction in building construction"
          ],
          [
           "variations of images to increase their visibility"
          ],
          [
           "a new color feature extraction method based on dynamic color\n  distribution entropy of neighborhoods"
          ],
          [
           "multiscale fractal descriptors applied to nanoscale images"
          ],
          [
           "spatiotemporal gabor filters: a new method for dynamic texture\n  recognition"
          ],
          [
           "on the lagrangian biduality of sparsity minimization problems"
          ],
          [
           "a multimodal biometric system using linear discriminant analysis for\n  improved performance"
          ],
          [
           "image labeling and segmentation using hierarchical conditional random\n  field model"
          ],
          [
           "a pca-based super-resolution algorithm for short image sequences"
          ],
          [
           "a novel approach to fast image filtering algorithm of infrared images\n  based on intro sort algorithm"
          ],
          [
           "image decomposition with anisotropic diffusion applied to leaf-texture\n  analysis"
          ],
          [
           "fractal descriptors based on fourier spectrum applied to texture\n  analysis"
          ],
          [
           "compressive acquisition of dynamic scenes"
          ],
          [
           "a new local adaptive thresholding technique in binarization"
          ],
          [
           "task-driven adaptive statistical compressive sensing of gaussian mixture\n  models"
          ],
          [
           "comparing methods for segmentation of microcalcification clusters in\n  digitized mammograms"
          ],
          [
           "cognitive memory network"
          ],
          [
           "feature selection using nearest attributes"
          ],
          [
           "examplers based image fusion features for face recognition"
          ],
          [
           "the watershed concept and its use in segmentation : a brief history"
          ],
          [
           "resolving implementation ambiguity and improving surf"
          ],
          [
           "comparing background subtraction algorithms and method of car counting"
          ],
          [
           "wavelet-based deconvolution of ultrasonic signals in nondestructive\n  evaluation"
          ],
          [
           "improving feature selection algorithms using normalised feature\n  histograms"
          ],
          [
           "fully automatic expression-invariant face correspondence"
          ],
          [
           "robust seed selection algorithm for k-means type algorithms"
          ],
          [
           "automatic clustering with single optimal solution"
          ],
          [
           "calculation of prompt diphoton production cross sections at tevatron and\n  lhc energies"
          ],
          [
           "sparsity-certifying graph decompositions"
          ],
          [
           "the evolution of the earth-moon system based on the dark matter field\n  fluid model"
          ],
          [
           "a determinant of stirling cycle numbers counts unlabeled acyclic\n  single-source automata"
          ],
          [
           "from dyadic $\\lambda_{\\alpha}$ to $\\lambda_{\\alpha}$"
          ],
          [
           "bosonic characters of atomic cooper pairs across resonance"
          ],
          [
           "polymer quantum mechanics and its continuum limit"
          ],
          [
           "numerical solution of shock and ramp compression for general material\n  properties"
          ],
          [
           "the spitzer c2d survey of large, nearby, insterstellar clouds. ix. the\n  serpens yso population as observed with irac and mips"
          ],
          [
           "partial cubes: structures, characterizations, and constructions"
          ],
          [
           "computing genus 2 hilbert-siegel modular forms over $\\q(\\sqrt{5})$ via\n  the jacquet-langlands correspondence"
          ],
          [
           "distribution of integral fourier coefficients of a modular form of half\n  integral weight modulo primes"
          ],
          [
           "$p$-adic limit of weakly holomorphic modular forms of half integral\n  weight"
          ],
          [
           "iterated integral and the loop product"
          ],
          [
           "fermionic superstring loop amplitudes in the pure spinor formalism"
          ],
          [
           "lifetime of doubly charmed baryons"
          ],
          [
           "spectroscopic observations of the intermediate polar ex hydrae in\n  quiescence"
          ],
          [
           "in quest of a generalized callias index theorem"
          ],
          [
           "approximation for extinction probability of the contact process based on\n  the gr\\\"obner basis"
          ],
          [
           "measurement of the hadronic form factor in d0 --> k- e+ nue decays"
          ],
          [
           "molecular synchronization waves in arrays of allosterically regulated\n  enzymes"
          ],
          [
           "stochastic lie group integrators"
          ],
          [
           "alma as the ideal probe of the solar chromosphere"
          ],
          [
           "formation of quasi-solitons in transverse confined ferromagnetic film\n  media"
          ],
          [
           "spectroscopic properties of polarons in strongly correlated systems by\n  exact diagrammatic monte carlo method"
          ],
          [
           "placeholder substructures ii: meta-fractals, made of box-kites, fill\n  infinite-dimensional skies"
          ],
          [
           "filling-factor-dependent magnetophonon resonance in graphene"
          ],
          [
           "pfaffians, hafnians and products of real linear functionals"
          ],
          [
           "understanding the flavor symmetry breaking and nucleon flavor-spin\n  structure within chiral quark model"
          ],
          [
           "tuning correlation effects with electron-phonon interactions"
          ],
          [
           "crystal channeling of lhc forward protons with preserved distribution in\n  phase space"
          ],
          [
           "probing non-standard neutrino interactions with supernova neutrinos"
          ],
          [
           "convergence of the discrete dipole approximation. i. theoretical\n  analysis"
          ],
          [
           "origin of adaptive mutants: a quantum measurement?"
          ],
          [
           "convergence of the discrete dipole approximation. ii. an extrapolation\n  technique to increase the accuracy"
          ],
          [
           "a remark on the number of steady states in a multiple futile cycle"
          ],
          [
           "the discrete dipole approximation for simulation of light scattering by\n  particles much larger than the wavelength"
          ],
          [
           "the discrete dipole approximation: an overview and recent developments"
          ],
          [
           "scalar radius of the pion and zeros in the form factor"
          ],
          [
           "multilinear function series in conditionally free probability with\n  amalgamation"
          ],
          [
           "quantum group of isometries in classical and noncommutative geometry"
          ],
          [
           "general system theory, like-quantum semantics and fuzzy sets"
          ],
          [
           "nonequilibrium entropy limiters in lattice boltzmann methods"
          ],
          [
           "astrophysical gyrokinetics: kinetic and fluid turbulent cascades in\n  magnetized weakly collisional plasmas"
          ],
          [
           "evolution of solitary waves and undular bores in shallow-water flows\n  over a gradual slope with bottom friction"
          ],
          [
           "a limit relation for entropy and channel capacity per unit cost"
          ],
          [
           "intelligent location of simultaneously active acoustic emission sources:\n  part i"
          ],
          [
           "inference on white dwarf binary systems using the first round mock lisa\n  data challenges data sets"
          ],
          [
           "an algorithm for the classification of smooth fano polytopes"
          ],
          [
           "intelligent location of simultaneously active acoustic emission sources:\n  part ii"
          ],
          [
           "visualizing teleportation"
          ],
          [
           "quantum field theory on curved backgrounds. ii. spacetime symmetries"
          ],
          [
           "a global approach to the theory of special finsler manifolds"
          ],
          [
           "the hardy-lorentz spaces $h^{p,q}(r^n)$"
          ],
          [
           "potassium intercalation in graphite: a van der waals density-functional\n  study"
          ],
          [
           "phase diagram of gaussian-core nematics"
          ],
          [
           "high-spin to low-spin and orbital polarization transitions in\n  multiorbital mott systems"
          ],
          [
           "intelligent life in cosmology"
          ],
          [
           "the mass and radius of the unseen m-dwarf companion in the single-lined\n  eclipsing binary hat-tr-205-013"
          ],
          [
           "coulomb excitation of unstable nuclei at intermediate energies"
          ],
          [
           "intersection bodies and generalized cosine transforms"
          ],
          [
           "on-line viterbi algorithm and its relationship to random walks"
          ],
          [
           "experimental efforts in search of 76ge neutrinoless double beta decay"
          ],
          [
           "nilpotent symmetry invariance in the superfield formulation: the\n  (non-)abelian 1-form gauge theories"
          ],
          [
           "littlewood-richardson polynomials"
          ],
          [
           "lagrangian quantum field theory in momentum picture. iv. commutation\n  relations for free fields"
          ],
          [
           "order of epitaxial self-assembled quantum dots: linear analysis"
          ],
          [
           "a note about the {ki(z)} functions"
          ],
          [
           "dynamical objects for cohomologically expanding maps"
          ],
          [
           "coincidence of the oscillations in the dipole transition and in the\n  persistent current of narrow quantum rings with two electrons"
          ],
          [
           "pairwise comparisons of typological profiles (of languages)"
          ],
          [
           "the decomposition method and maple procedure for finding first integrals\n  of nonlinear pdes of any order with any number of independent variables"
          ],
          [
           "a transcendental approach to koll\\'ar's injectivity theorem"
          ],
          [
           "injective morita contexts (revisited)"
          ],
          [
           "strong decays of charmed baryons"
          ],
          [
           "cp violation in beauty decays"
          ],
          [
           "linear perturbations of matched spacetimes: the gauge problem and\n  background symmetries"
          ],
          [
           "operator algebras associated with unitary commutation relations"
          ],
          [
           "shaping the globular cluster mass function by stellar-dynamical\n  evaporation"
          ],
          [
           "quantum deformations of relativistic symmetries"
          ],
          [
           "matter-wave bright solitons with a finite background in spinor\n  bose-einstein condensates"
          ],
          [
           "why there is something rather than nothing (out of everything)?"
          ],
          [
           "formation of density singularities in ideal hydrodynamics of freely\n  cooling inelastic gases: a family of exact solutions"
          ],
          [
           "a universality in pp-waves"
          ],
          [
           "clustering in a stochastic model of one-dimensional gas"
          ],
          [
           "approximate solutions to the dirichlet problem for harmonic maps between\n  hyperbolic spaces"
          ],
          [
           "some new experimental photonic flame effect features"
          ],
          [
           "a general approach to statistical modeling of physical laws:\n  nonparametric regression"
          ],
          [
           "real options for project schedules (rops)"
          ],
          [
           "groups with finitely many conjugacy classes and their automorphisms"
          ],
          [
           "timing and lensing of the colliding bullet clusters: barely enough time\n  and gravity to accelerate the bullet"
          ],
          [
           "geometry of locally compact groups of polynomial growth and shape of\n  large balls"
          ],
          [
           "much ado about 248"
          ],
          [
           "conformal field theory and operator algebras"
          ],
          [
           "sparsely-spread cdma - a statistical mechanics based analysis"
          ],
          [
           "on ando's inequalities for convex and concave functions"
          ],
          [
           "topology change of black holes"
          ],
          [
           "the birth of string theory"
          ],
          [
           "duality and tameness"
          ],
          [
           "generalized regularly discontinuous solutions of the einstein equations"
          ],
          [
           "a geometric realization of sl(6,c)"
          ],
          [
           "rigid subsets of symplectic manifolds"
          ],
          [
           "multiple parton scattering in nuclei: quark-quark scattering"
          ],
          [
           "experimental modeling of physical laws"
          ],
          [
           "reducing sat to 2-sat"
          ],
          [
           "half-metallic silicon nanowires"
          ],
          [
           "on equivariant embedding of hilbert c^* modules"
          ],
          [
           "invariance and the twisted chern character : a case study"
          ],
          [
           "placeholder substructures iii: a bit-string-driven ''recipe theory'' for\n  infinite-dimensional zero-divisor spaces"
          ],
          [
           "langmuir blodgett assembly of densely aligned single walled carbon\n  nanotubes from bulk materials"
          ],
          [
           "quantum phase transition in the four-spin exchange antiferromagnet"
          ],
          [
           "smooth maps with singularities of bounded k-codimensions"
          ],
          [
           "stringy jacobi fields in morse theory"
          ],
          [
           "lower ground state due to counter-rotating wave interaction in trapped\n  ion system"
          ],
          [
           "strained single-crystal al2o3 grown layer-by-layer on nb (110) thin\n  films"
          ],
          [
           "quasi-quartet crystal electric field ground state in a tetragonal\n  ceag$_2$ge$_2$ single crystal"
          ],
          [
           "strong phase and $d^0-d^0bar$ mixing at bes-iii"
          ],
          [
           "meta-stable brane configuration of product gauge groups"
          ],
          [
           "spinor dipolar bose-einstein condensates; classical spin approach"
          ],
          [
           "nonlinear dynamics of the phonon stimulated emission in microwave\n  solid-state resonator of the nonautonomous phaser generator"
          ],
          [
           "proper j-holomorphic discs in stein domains of dimension 2"
          ],
          [
           "anisotropic thermo-elasticity in 2d -- part i: a unified approach"
          ],
          [
           "i-v characteristics of the vortex state in mgb2 thin films"
          ],
          [
           "magnetic fingerprints of sub-100 nm fe nanodots"
          ],
          [
           "an online repository of swift/xrt light curves of grbs"
          ],
          [
           "on the total disconnectedness of the quotient aubry set"
          ],
          [
           "new simple modular lie superalgebras as generalized prolongs"
          ],
          [
           "vacuum structure and potential"
          ],
          [
           "counterflow of electrons in two isolated quantum point contacts"
          ],
          [
           "pah emission and star formation in the host of the z~2.56 cloverleaf qso"
          ],
          [
           "causal dissipative hydrodynamics for qgp fluid in 2+1 dimensions"
          ],
          [
           "a single trapped ion as a time-dependent harmonic oscillator"
          ],
          [
           "compounding fields and their quantum equations in the trigintaduonion\n  space"
          ],
          [
           "topological defects, geometric phases, and the angular momentum of light"
          ],
          [
           "circular and non-circular nearly horizon-skimming orbits in kerr\n  spacetimes"
          ],
          [
           "the blue straggler population of the globular cluster m5"
          ],
          [
           "entanglement entropy of two-dimensional anti-de sitter black holes"
          ],
          [
           "towards self-consistent definition of instanton liquid parameters"
          ],
          [
           "some aspects of the nonperturbative renormalization of the phi^4 model"
          ],
          [
           "instanton liquid at finite temperature and chemical potential of quarks"
          ],
          [
           "eternal inflation and localization on the landscape"
          ],
          [
           "singularity resolution in isotropic loop quantum cosmology: recent\n  developments"
          ],
          [
           "vortices in bose-einstein condensates: theory"
          ],
          [
           "a povm view of the ensemble approach to polarization optics"
          ],
          [
           "reexamination of spin decoherence in semiconductor quantum dots from\n  equation-of-motion approach"
          ],
          [
           "construction of initial data for 3+1 numerical relativity"
          ],
          [
           "magnetism and thermodynamics of spin-1/2 heisenberg diamond chains in a\n  magnetic field"
          ],
          [
           "extraction of physical laws from joint experimental data"
          ],
          [
           "kinetic equation for finite systems of fermions with pairing"
          ],
          [
           "hadrons in medium -- theory confronts experiment"
          ],
          [
           "a computer program for fast non-lte analysis of interstellar line\n  spectra"
          ],
          [
           "nonlinear force-free coronal magnetic field extrapolation scheme based\n  on the direct boundary integral formulation"
          ],
          [
           "alternative approaches to the equilibrium properties of hard-sphere\n  liquids"
          ],
          [
           "complexities of human promoter sequences"
          ],
          [
           "evidence for an excitonic insulator phase in 1t-tise$_{2}$"
          ],
          [
           "oxygen-rich droplets and the enrichment of the ism"
          ],
          [
           "soft modes and nte in zn(cn)2 from raman spectroscopy and first\n  principles calculations"
          ],
          [
           "estimation of experimental data redundancy and related statistics"
          ],
          [
           "effective potentials for quasicrystals from ab-initio data"
          ],
          [
           "on smooth foliations with morse singularities"
          ],
          [
           "frobenius-schur indicators for semisimple lie algebras"
          ],
          [
           "supersymmetry breaking metastable vacua in runaway quiver gauge theories"
          ],
          [
           "radiative losses and cut-offs of energetic particles at relativistic\n  shocks"
          ],
          [
           "very strong and slowly varying magnetic fields as source of axions"
          ],
          [
           "symmetry disquisition on the tiox phase diagram"
          ],
          [
           "thermal entanglement of qubit pairs on the shastry-sutherland lattice"
          ],
          [
           "bonding of h in o vacancies of zno"
          ],
          [
           "reparametrization invariance, the controversial extraction of $\\alpha$\n  from $b\\to\\pi\\pi$ and new physics"
          ],
          [
           "switching mechanism of photochromic diarylethene derivatives molecular\n  junctions"
          ],
          [
           "robust manipulation of electron spin coherence in an ensemble of singly\n  charged quantum dots"
          ],
          [
           "equation of state for dense hydrogen and plasma phase transition"
          ],
          [
           "experimental nonclassicality of single-photon-added thermal light states"
          ],
          [
           "neutron skin and giant resonances in nuclei"
          ],
          [
           "genetic optimization of photonic bandgap structures"
          ],
          [
           "huge magneto-crystalline anisotropy of x-ray linear dichroism observed\n  on co/femn bilayers"
          ],
          [
           "temperature dependence of the tensile properties of single walled carbon\n  nanotubes: o(n) tight binding md simulation"
          ],
          [
           "gamma-ray emitting agn and glast"
          ],
          [
           "potfit: effective potentials from ab-initio data"
          ],
          [
           "the transverse proximity effect in spectral hardness on the line of\n  sight towards he 2347-4342"
          ],
          [
           "biased random walks on combs"
          ],
          [
           "monoid generalizations of the richard thompson groups"
          ],
          [
           "the reliability on the direction of the incident neutrino for the fully\n  contained events and partially contained events due to qel in the\n  super-kamiokande"
          ],
          [
           "intricate knots in proteins: function and evolution"
          ],
          [
           "star formation in galaxies with large lower surface brightness disks"
          ],
          [
           "domain wall dynamics near a quantum critical point"
          ],
          [
           "quantum mechanical approach to decoherence and relaxation generated by\n  fluctuating environment"
          ],
          [
           "group-theoretical properties of nilpotent modular categories"
          ],
          [
           "remarks on n_c dependence of decays of exotic baryons"
          ],
          [
           "analysis of random boolean networks using the average sensitivity"
          ],
          [
           "theory of polariton mediated raman scattering in microcavities"
          ],
          [
           "decomposition numbers for finite coxeter groups and generalised\n  non-crossing partitions"
          ],
          [
           "electromagnetic polarizabilities and the excited states of the nucleon"
          ],
          [
           "hecke-clifford algebras and spin hecke algebras i: the classical affine\n  type"
          ],
          [
           "towards minimal resources of measurement-based quantum computation"
          ],
          [
           "a spitzer census of the ic 348 nebula"
          ],
          [
           "non-equilibrium josephson and andreev current through interacting\n  quantum dots"
          ],
          [
           "discovery of x-ray emission from the young radio pulsar psr j1357-6429"
          ],
          [
           "resonant activation in bistable semiconductor lasers"
          ],
          [
           "quark matter and the astrophysics of neutron stars"
          ],
          [
           "some non-braided fusion categories of rank 3"
          ],
          [
           "chandra observations of supernova 1987a"
          ],
          [
           "classification of superpotentials"
          ],
          [
           "linkedness and ordered cycles in digraphs"
          ],
          [
           "curvature and isocurvature perturbations in two-field inflation"
          ],
          [
           "geometric complexity theory v: on deciding nonvanishing of a generalized\n  littlewood-richardson coefficient"
          ],
          [
           "a schematic model of scattering in pt-symmetric quantum mechanics"
          ],
          [
           "the exact asymptotic of the collision time tail distribution for\n  independent brownian particles with different drifts"
          ],
          [
           "ab initio study of graphene on sic"
          ],
          [
           "capacity of a multiple-antenna fading channel with a quantized precoding\n  matrix"
          ],
          [
           "on almost periodicity criteria for morphic sequences in some particular\n  cases"
          ],
          [
           "the radio emission, x-ray emission, and hydrodynamics of g328.4+0.2: a\n  comprehensive analysis of a luminous pulsar wind nebula, its neutron star,\n  and the progenitor supernova explosion"
          ],
          [
           "three particle correlations from star"
          ],
          [
           "the return of a static universe and the end of cosmology"
          ],
          [
           "dark matter annihilation in draco: new considerations on the expected\n  gamma flux"
          ],
          [
           "magnetohydrodynamic rebound shocks of supernovae"
          ],
          [
           "are there mach cones in heavy ion collisions? three-particle\n  correlations from star"
          ],
          [
           "exploring first stars era with glast"
          ],
          [
           "correlated modulation between the redshifted fe k alpha line and the\n  continuum emission in ngc 3783"
          ],
          [
           "isotopic effects in nuclear reactions at relativistic energies"
          ],
          [
           "einstein vs maxwell: is gravitation a curvature of space, a field in\n  flat space, or both?"
          ],
          [
           "geometric complexity theory vi: the flip via saturated and positive\n  integer programming in representation theory and algebraic geometry"
          ],
          [
           "two new basaltic asteroids in the outer main belt?"
          ],
          [
           "interpolating and sampling sequences in finite riemann surfaces"
          ],
          [
           "new algebraic aspects of perturbative and non-perturbative quantum field\n  theory"
          ],
          [
           "many-body interband tunneling as a witness for complex dynamics in the\n  bose-hubbard model"
          ],
          [
           "comments on ``are swift gamma-ray bursts consistent with the ghirlanda\n  relation?\", by campana et al.(astro--ph/0703676)"
          ],
          [
           "the determination of the helicity of $w'$ boson couplings at the lhc"
          ],
          [
           "curvature flows in semi-riemannian manifolds"
          ],
          [
           "hydrodynamic and spectral simulations of hmxb winds"
          ],
          [
           "radio astrometric detection and characterization of extra-solar planets:\n  a white paper submitted to the nsf exoplanet task force"
          ],
          [
           "interface dynamics of microscopic cavities in water"
          ],
          [
           "viscosity, black holes, and quantum field theory"
          ],
          [
           "superconducting states of the quasi-2d holstein model: effects of vertex\n  and non-local corrections"
          ],
          [
           "masers and star formation"
          ],
          [
           "renormalized quasiparticles in antiferromagnetic states of the hubbard\n  model"
          ],
          [
           "comparison of exact-exchange calculations for solids in\n  current-spin-density- and spin-density-functional theory"
          ],
          [
           "one-loop mhv rules and pure yang-mills"
          ],
          [
           "fermi-liquid effects in the transresistivity in quantum hall double\n  layers near $\\nu= 1/2 $"
          ],
          [
           "geometry of four-dimensional killing spinors"
          ],
          [
           "a rigorous time-domain analysis of full--wave electromagnetic cloaking\n  (invisibility)"
          ],
          [
           "non-perturbative conserving approximations and luttinger's sum rule"
          ],
          [
           "2d-mit as self-doping of a wigner-mott insulator"
          ],
          [
           "entanglement of subspaces and error correcting codes"
          ],
          [
           "does the present data on b_s - bar b_s mixing rule out a large\n  enhancement in the branching ratio of b_s --> mu+ mu- ?"
          ],
          [
           "the spitzer c2d survey of large, nearby, interstellar clouds viii.\n  serpens observed with mips"
          ],
          [
           "unravelling the sbottom spin at the cern lhc"
          ],
          [
           "modeling the three-point correlation function"
          ],
          [
           "multi-spectral observations of lunar occultations: i. resolving the dust\n  shell around afgl 5440"
          ],
          [
           "orbifold cohomology of abelian symplectic reductions and the case of\n  weighted projective spaces"
          ],
          [
           "correlation functions in the non perturbative renormalization group and\n  field expansion"
          ],
          [
           "formation and collisional evolution of kuiper belt objects"
          ],
          [
           "on existence of boundary values of polyharmonic functions"
          ],
          [
           "constraints on the self-interaction cross-section of dark matter from\n  numerical simulations of the merging galaxy cluster 1e 0657-5"
          ],
          [
           "stringy instantons at orbifold singularities"
          ],
          [
           "turbulent diffusion of lines and circulations"
          ],
          [
           "gluon radiation of an expanding color skyrmion in the quark-gluon plasma"
          ],
          [
           "rem near-ir and optical multiband observations of pks2155-304 in 2005"
          ],
          [
           "supernova polarization and the type iin classification"
          ],
          [
           "near-infrared spectra of the black hole x-ray binary, a0620-00"
          ],
          [
           "automated generation of layout and control for quantum circuits"
          ],
          [
           "the harps search for southern extra-solar planets. x. a m sin i = 11\n  mearth planet around the nearby spotted m dwarf gj 674"
          ],
          [
           "an individual based model with global competition interaction:\n  fluctuations effects in pattern formation"
          ],
          [
           "a comparison between anomalous 6-cm h$_2$co absorption and co(1-0)\n  emission in the l1204/s140"
          ],
          [
           "dimers on surface graphs and spin structures. ii"
          ],
          [
           "new version announcement for taylur, an arbitrary-order diagonal\n  automatic differentiation package for fortran 95"
          ],
          [
           "mapping radii of metric spaces"
          ],
          [
           "a new model for the loop-i (the north polar spur) region"
          ],
          [
           "leray numbers of projections and a topological helly type theorem"
          ],
          [
           "q-deformed spin foam models of quantum gravity"
          ],
          [
           "hi velocity dispersion in ngc 1058"
          ],
          [
           "common envelope evolution redux"
          ],
          [
           "the source of turbulence in astrophysical disks: an ill-posed problem."
          ],
          [
           "on punctured pragmatic space-time codes in block fading channel"
          ],
          [
           "on the markov trace for temperley--lieb algebras of type $e_n$"
          ],
          [
           "second order perturbative calculation of quasinormal modes of\n  schwarzschild black holes"
          ],
          [
           "epitaxial graphene"
          ],
          [
           "mathematics of thermoacoustic tomography"
          ],
          [
           "specific heat and bimodality in canonical and grand canonical versions\n  of the thermodynamic model"
          ],
          [
           "vortex proliferation in the berezinskii-kosterlitz-thouless regime on a\n  two-dimensional lattice of bose-einstein condensates"
          ],
          [
           "the core binary fractions of star clusters from realistic simulations"
          ],
          [
           "approaching the heisenberg limit in an atom laser"
          ],
          [
           "a practical seedless infrared-safe cone jet algorithm"
          ],
          [
           "isospin breaking in the yield of heavy meson pairs in e+e- annihilation\n  near threshold"
          ],
          [
           "qed x qcd resummation and shower/me matching for lhc physics"
          ],
          [
           "on the number of topological types occurring in a parametrized family of\n  arrangements"
          ],
          [
           "generalized twistor transform and dualities, with a new description of\n  particles with spin, beyond free and massless"
          ],
          [
           "remnant evolution after a carbon-oxygen white dwarf merger"
          ],
          [
           "direct theorems in the theory of approximation of the banach space\n  vectors by entire vectors of exponential type"
          ],
          [
           "parametrized post-newtonian expansion of chern-simons gravity"
          ],
          [
           "scaling of resistance and electron mean free path of single-walled\n  carbon nanotubes"
          ],
          [
           "differential recursion and differentially algebraic functions"
          ],
          [
           "spline single-index prediction model"
          ],
          [
           "measurement of the aerosol phase function at the pierre auger\n  observatory"
          ],
          [
           "the world as evolving information"
          ],
          [
           "polymerization force driven buckling of microtubule bundles determines\n  the wavelength of patterns formed in tubulin solutions"
          ],
          [
           "neutron inelastic scattering processes as background for double-beta\n  decay experiments"
          ],
          [
           "periodic accretion from a circumbinary disk in the young binary uz tau e"
          ],
          [
           "effect of node deleting on network structure"
          ],
          [
           "the complexity of hcp in digraps with degree bound two"
          ],
          [
           "vlbi observations of nineteen ghz-peaked-spectrum radio sources at 1.6\n  ghz"
          ],
          [
           "moment switching in nanotube magnetic force probes"
          ],
          [
           "possibility of gapless spin liquid state by one-dimensionalization"
          ],
          [
           "extra dimensions and lorentz invariance violation"
          ],
          [
           "the small deviations of many-dimensional diffusion processes and\n  rarefaction by boundaries"
          ],
          [
           "the millennium galaxy catalogue: the local supermassive black hole mass\n  function in early- and late-type galaxies"
          ],
          [
           "complete shrinking ricci solitons have finite fundamental group"
          ],
          [
           "effects of dirac sea on pion propagation in asymmetric nuclear matter"
          ],
          [
           "spin-orbit coupling effect on the persistent currents in mesoscopic ring\n  with an anderson impurity"
          ],
          [
           "probability distributions generated by fractional diffusion equations"
          ],
          [
           "fabrication of half metallicity in a ferromagnetic metal"
          ],
          [
           "emergence of spatiotemporal chaos driven by far-field breakup of spiral\n  waves in the plankton ecological systems"
          ],
          [
           "general sequential quantum cloning"
          ],
          [
           "on the pseudospectrum of elliptic quadratic differential operators"
          ],
          [
           "fluctuation-dissipation relation on a melde string in a turbulent flow,\n  considerations on a \"dynamical temperature\""
          ],
          [
           "on generalized entropy measures and pathways"
          ],
          [
           "evolution of a band insulating phase from a correlated metallic phase"
          ],
          [
           "electroweak phase transitions in the mssm with an extra $u(1)'$"
          ],
          [
           "solutions of fractional reaction-diffusion equations in terms of the\n  h-function"
          ],
          [
           "random matrix theory at nonzero $\\mu$ and $t$"
          ],
          [
           "symmetries by base substitutions in the genetic code predict 2' or 3'\n  aminoacylation of trnas"
          ],
          [
           "optical properties of the holstein-t-j model from dynamical mean-field\n  theory"
          ],
          [
           "a multiphilic descriptor for chemical reactivity and selectivity"
          ],
          [
           "approximation of the distribution of a stationary markov process with\n  application to option pricing"
          ],
          [
           "bursting dynamics of the 3d euler equations in cylindrical domains"
          ],
          [
           "synergistic effects of modtc and zdtp on frictional behaviour of\n  tribofilms at the nanometer scale"
          ],
          [
           "lattice boltzmann inverse kinetic approach for the incompressible\n  navier-stokes equations"
          ],
          [
           "phonon-mediated decay of an atom in a surface-induced potential"
          ],
          [
           "infrared evolution equations: method and applications"
          ],
          [
           "cofibrations in the category of frolicher spaces. part i"
          ],
          [
           "experimental observation of structural crossover in binary mixtures of\n  colloidal hard spheres"
          ],
          [
           "the blazar spectral sequence and glast"
          ],
          [
           "a high robustness and low cost model for cascading failures"
          ],
          [
           "diffuse x-ray emission from the carina nebula observed with suzaku"
          ],
          [
           "resolvent estimates related with a class of dispersive equations"
          ],
          [
           "what can emission lines tell us?"
          ],
          [
           "the colin de verdi\\`ere number and graphs of polytopes"
          ],
          [
           "visible spectroscopic and photometric survey of jupiter trojans: final\n  results on dynamical families"
          ],
          [
           "first-based survey of compact steep spectrum sources, v.\n  milliarcsecond-scale morphology of css objects"
          ],
          [
           "investigation of relaxation phenomena in high-temperature\n  superconductors hoba2cu3o7-d at the action of pulsed magnetic fields"
          ],
          [
           "spin and pseudospin symmetries and the equivalent spectra of\n  relativistic spin-1/2 and spin-0 particles"
          ],
          [
           "general asymptotic solutions of the einstein equations and phase\n  transitions in quantum gravity"
          ],
          [
           "trigonometric parallaxes of high velocity halo white dwarf candidates"
          ],
          [
           "amr simulations of the low t/|w| bar-mode instability of neutron stars"
          ],
          [
           "evolutionary games on minimally structured populations"
          ],
          [
           "flavor physics in susy at large tan(beta)"
          ],
          [
           "some properties of the complex monge-ampere operator in cegrell's\n  classes and applications"
          ],
          [
           "torsional oscillations of longitudinally inhomogeneous coronal loops"
          ],
          [
           "pseudo-random puncturing: a technique to lower the error floor of turbo\n  codes"
          ],
          [
           "the arctic circle revisited"
          ],
          [
           "time and motion in physics: the reciprocity principle, relativistic\n  invariance of the lengths of rulers and time dilatation"
          ],
          [
           "b --> rho k* decays and other rare vector-vector modes"
          ],
          [
           "extending the theory of phonon-mediated superconductivity in quasi-2d"
          ],
          [
           "generalized nariai solutions for yang-type monopoles"
          ],
          [
           "instanton representation of plebanski gravity. consistency of the\n  initital value constraints under time evolution"
          ],
          [
           "metal-insulator transition in the low-dimensional organic conductor\n  (tmtsf)2fso3 probed by infrared microspectroscopy"
          ],
          [
           "the effect of topcolor assisted technicolor, and other models, on\n  neutrino oscillation"
          ],
          [
           "shaped angular dependence of the spin transfer torque and microwave\n  generation without magnetic field"
          ],
          [
           "levy-lieb constrained-search formulation as a minimization of the\n  correlation functional"
          ],
          [
           "reality of linear and angular momentum expectation values in bound\n  states"
          ],
          [
           "gravity-induced electric polarization of matter and planetary magnetic\n  fields"
          ],
          [
           "rich methane premixed laminar flames doped by light unsaturated\n  hydrocarbons - part i : allene and propyne"
          ],
          [
           "environmental noise reduction for holonomic quantum gates"
          ],
          [
           "the lifetime of unstable particles in electromagnetic fields"
          ],
          [
           "an equilibrium problem for the limiting eigenvalue distribution of\n  banded toeplitz matrices"
          ],
          [
           "capturing knots in polymers"
          ],
          [
           "exponential growth rates in a typed branching diffusion"
          ],
          [
           "the collision velocity of the bullet cluster in conventional and\n  modified dynamics"
          ],
          [
           "on some subgroup chains related to kneser's theorem"
          ],
          [
           "the exact boundary condition to solve the schrodinger equation of many\n  electron system"
          ],
          [
           "clustering features of $^9$be, $^{14}$n, $^7$be, and $^8$b nuclei in\n  relativistic fragmentation"
          ],
          [
           "super-shell structures and pairing in ultracold trapped fermi gases"
          ],
          [
           "quantum non-local effects with bose-einstein condensates"
          ],
          [
           "low mass visual binaries in the solar neighbourhood: the case of\n  hd141272"
          ],
          [
           "sterile neutrinos at the cngs"
          ],
          [
           "evolution of the carter constant for inspirals into a black hole: effect\n  of the black hole quadrupole"
          ],
          [
           "dual billiards, fagnano orbits and regular polygons"
          ],
          [
           "exactly solvable spin dynamics of an electron coupled to large number of\n  nuclei and the electron-nuclear spin echo in a quantum dot"
          ],
          [
           "simulation of robustness against lesions of cortical networks"
          ],
          [
           "a thermodynamic model for the melting of supported metal nanoparticles"
          ],
          [
           "average optimality for risk-sensitive control with general state space"
          ],
          [
           "a study of $b_{d}^0 \\to j/\\psi \\eta^{(\\prime)}$ decays in the pqcd\n  approach"
          ],
          [
           "finite-temperature phase transitions in a two-dimensional boson hubbard\n  model"
          ],
          [
           "conditional generation of path-entangled optical noon states"
          ],
          [
           "renewals for exponentially increasing lifetimes, with an application to\n  digital search trees"
          ],
          [
           "hawking radiation of linear dilaton black holes"
          ],
          [
           "the s-matrix of ads/cft and yangian symmetry"
          ],
          [
           "modelling the near-ir spectra of red supergiant-dominated populations"
          ],
          [
           "review: semiconductor quantum light sources"
          ],
          [
           "to the origin of the difference of fsi phases in $b\\to\\pi\\pi$ and\n  $b\\to\\rho\\rho$ decays"
          ],
          [
           "an invariance principle for semimartingale reflecting brownian motions\n  in domains with piecewise smooth boundaries"
          ],
          [
           "finite drude weight for 1d low temperature conductors"
          ],
          [
           "density dependent hadronic models and the relation between neutron stars\n  and neutron skin thickness"
          ],
          [
           "photoconductance of organic single-molecule contacts"
          ],
          [
           "on the over-barrier reflection in quantum mechanics with multiple\n  degrees of freedom"
          ],
          [
           "cyclotron resonance study of the electron and hole velocity in graphene\n  monolayers"
          ],
          [
           "molecular circuits based on graphene nano-ribbon junctions"
          ],
          [
           "unit groups of integral finite group rings with no noncyclic abelian\n  finite subgroups"
          ],
          [
           "exotic hadron in pole-dominated qcd sum rules"
          ],
          [
           "leaky modes of a left-handed slab"
          ],
          [
           "coulomb blockade of field emission from nanoscale conductors"
          ],
          [
           "origamis with non congruence veech groups"
          ],
          [
           "thermodynamic stability - a note on a footnote in ruelle's book"
          ],
          [
           "entanglement entropy at infinite randomness fixed points in higher\n  dimensions"
          ],
          [
           "ultrasound attenuation of superfluid $^{3}$he in aerogel"
          ],
          [
           "the hourglass - consequences of pure hamiltonian evolution of a\n  radiating system"
          ],
          [
           "the sigma-d relation for planetary nebulae: preliminary analysis"
          ],
          [
           "polarization conversion in a silica microsphere"
          ],
          [
           "limits on wimp-nucleon interactions with csi(tl) crystal detectors"
          ],
          [
           "qed for fields obeying a square root operator equation"
          ],
          [
           "feedback from first radiation sources: h- photodissociation"
          ],
          [
           "the 3d +-j ising model at the ferromagnetic transition line"
          ],
          [
           "star formation in the bok globule cb54"
          ],
          [
           "quantitative resolution to some \"absolute discrepancies\" in cancer\n  theories: a view from phage lambda genetic switch"
          ],
          [
           "reduced phase space and toric variety coordinatizations of delzant\n  spaces"
          ],
          [
           "fragmentation of general relativistic quasi-toroidal polytropes"
          ],
          [
           "a survey of huebschmann and stasheff's paper: formal solution of the\n  master equation via hpt and deformation theory"
          ],
          [
           "a variational formulation of electrodynamics with external sources"
          ],
          [
           "protein and ionic surfactants - promoters and inhibitors of contact line\n  pinning"
          ],
          [
           "type d einstein spacetimes in higher dimensions"
          ],
          [
           "eigen equation of the nonlinear spinor"
          ],
          [
           "measurement of b(d_s^+ --> ell^+ nu) and the decay constant f_d_{s^+}"
          ],
          [
           "broadening the higgs boson with right-handed neutrinos and a higher\n  dimension operator at the electroweak scale"
          ],
          [
           "coulomb blockade of anyons"
          ],
          [
           "dynamics of a quantum phase transition in a ferromagnetic bose-einstein\n  condensate"
          ],
          [
           "evidence for a planetary companion around a nearby young star"
          ],
          [
           "quantum electromagnetic x-waves"
          ],
          [
           "neutron-neutron scattering length from the reaction gamma d --> pi^+ nn\n  employing chiral perturbation theory"
          ],
          [
           "multiple unfoldings of orbifold singularities: engineering geometric\n  analogies to unification"
          ],
          [
           "geometrically engineering the standard model: locally unfolding three\n  families out of e8"
          ],
          [
           "the classification of surfaces with p_g=q=1 isogenous to a product of\n  curves"
          ],
          [
           "manipulating the rotational properties of a two-component bose gas"
          ],
          [
           "giant planet migration in viscous power-law discs"
          ],
          [
           "worldsheet instantons and torsion curves, part b: mirror symmetry"
          ],
          [
           "disorder screening near the mott-anderson transition"
          ],
          [
           "electromigrated nanoscale gaps for surface-enhanced raman spectroscopy"
          ],
          [
           "dramatic variability of x-ray absorption lines in the black hole\n  candidate cygnus x-1"
          ],
          [
           "antiferromagnetism-superconductivity competition in electron-doped\n  cuprates triggered by oxygen reduction"
          ],
          [
           "an extrasolar planet census with a space-based microlensing survey"
          ],
          [
           "usco1606-1935: an unusually wide low-mass triple system?"
          ],
          [
           "particle propagation in cosmological backgrounds"
          ],
          [
           "quantum analysis of a linear dc squid mechanical displacement detector"
          ],
          [
           "rotation measures of extragalactic sources behind the southern galactic\n  plane: new insights into the large-scale magnetic field of the inner milky\n  way"
          ],
          [
           "on iterated image size for point-symmetric relations"
          ],
          [
           "the kilodegree extremely little telescope (kelt): a small robotic\n  telescope for large-area synoptic surveys"
          ],
          [
           "entanglement increase from local interactions with\n  not-completely-positive maps"
          ],
          [
           "extended solar emission - an analysis of the egret data"
          ],
          [
           "mass and temperature of the twa 7 debris disk"
          ],
          [
           "annealed importance sampling of dileucine peptide"
          ],
          [
           "a general nonlinear fokker-planck equation and its associated entropy"
          ],
          [
           "conduction electron spin-lattice relaxation time in the mgb2\n  superconductor"
          ],
          [
           "modeling accretion disk x-ray continuum of black hole candidates"
          ],
          [
           "inapproximability of maximum weighted edge biclique and its applications"
          ],
          [
           "on line arrangements with applications to 3-nets"
          ],
          [
           "testing turbulence model at metric scales with mid-infrared visir images\n  at the vlt"
          ],
          [
           "competitive nucleation and the ostwald rule in a generalized potts model\n  with multiple metastable phases"
          ],
          [
           "contrasting two transformation-based methods for obtaining absolute\n  extrema"
          ],
          [
           "application of ewald summations to long-range dispersion forces"
          ],
          [
           "possible non-thermal nature of the soft-excess emission in the cluster\n  of galaxies sersic 159-03"
          ],
          [
           "geometric phase of an atom inside an adiabatic radio frequency potential"
          ],
          [
           "the transition from the first stars to the second stars in the early\n  universe"
          ],
          [
           "super star cluster velocity dispersions and virial masses in the m82\n  nuclear starburst"
          ],
          [
           "the affine part of the picard scheme"
          ],
          [
           "enhanced quantum zeno effect and bunching in the decay of interacting\n  bosons from an unstable state"
          ],
          [
           "the few scales of nuclei and nuclear matter"
          ],
          [
           "implementation of holonomic quantum computation through engineering and\n  manipulating environment"
          ],
          [
           "vortex state in a fulde-ferrell-larkin-ovchinnikov superconductor based\n  on the quasiclassical theory"
          ],
          [
           "search for chaotic behavior in a flapping flag"
          ],
          [
           "optimal shape design for stokes flow via minimax differentiability"
          ],
          [
           "kinematic decoupling of globular clusters with extended\n  horizontal-branch"
          ],
          [
           "scalar potential model progress"
          ],
          [
           "relativistic treatment in d-dimensions to a spin-zero particle with\n  noncentral equal scalar and vector ring-shaped kratzer potential"
          ],
          [
           "long distance signaling using axion-like particles"
          ],
          [
           "weighted percolation on directed networks"
          ],
          [
           "refuting the pseudo attack on the reesse1+ cryptosystem"
          ],
          [
           "phase structure of a surface model on dynamically triangulated spheres\n  with elastic skeletons"
          ],
          [
           "vortex dynamics at the initial stage of resistive transition in\n  superconductors with fractal cluster structure"
          ],
          [
           "the veldkamp space of two-qubits"
          ],
          [
           "fusion process studied with preequilibrium giant dipole resonance in\n  time dependent hartree-fock theory"
          ],
          [
           "penalization approach for mixed hyperbolic systems with constant\n  coefficients satisfying a uniform lopatinski condition"
          ],
          [
           "a unified analysis of the reactor neutrino program towards the\n  measurement of the theta_13 mixing angle"
          ],
          [
           "optimal routing for decode-and-forward based cooperation in wireless\n  networks"
          ],
          [
           "on the polynomial automorphisms of a group"
          ],
          [
           "on universality of critical behaviour in the focusing nonlinear\n  schr\\\"odinger equation, elliptic umbilic catastrophe and the {\\it\n  tritronqu\\'ee} solution to the painlev\\'e-i equation"
          ],
          [
           "generic representations of orthogonal groups: projective functors in the\n  category fquad"
          ],
          [
           "manifolds admitting a $\\tilde g_2$-structure"
          ],
          [
           "compatibility of exotic states with neutron star observation"
          ],
          [
           "exact solutions of einstein-yang-mills theory with higher-derivative\n  coupling"
          ],
          [
           "dimensional crossover of quantum critical behavior in cecoin$_5$"
          ],
          [
           "e_6 and the bipartite entanglement of three qutrits"
          ],
          [
           "invariance principle for additive functionals of markov chains"
          ],
          [
           "dissipative backward stochastic differential equations with locally\n  lipschitz nonlinearity"
          ],
          [
           "axino warm dark matter and $\\omega_b - \\omega_{dm}$ coincidence"
          ],
          [
           "a unified approach to sic-povms and mubs"
          ],
          [
           "stable oscillations of a predator-prey probabilistic cellular automaton:\n  a mean-field approach"
          ],
          [
           "sdss j233325.92+152222.1 and the evolution of intermediate polars"
          ],
          [
           "complexity considerations, csat lower bound"
          ],
          [
           "temperature dependence of coulomb drag between finite-length quantum\n  wires"
          ],
          [
           "effects of imperfect gate operations in shor's prime factorization\n  algorithm"
          ],
          [
           "using decomposed household food acquisitions as inputs of a kinetic\n  dietary exposure model"
          ],
          [
           "dust and gas emission in the prototypical hot core g29.96-0.02 at\n  sub-arcsecond resolution"
          ],
          [
           "hamilton-jacobi fractional sequential mechanics"
          ],
          [
           "a critical theory of quantum entanglement for the hydrogen molecule"
          ],
          [
           "fractionally charged excitations on frustrated lattices"
          ],
          [
           "measurement of decay amplitudes of b -->(c cbar) kstar with an angular\n  analysis, for (c cbar)=j/psi, psi(2s) and chi_c1"
          ],
          [
           "quantum superpositions and entanglement of thermal states at high\n  temperatures and their applications to quantum information processing"
          ],
          [
           "optimal control of stochastic differential equations with dynamical\n  boundary conditions"
          ],
          [
           "fractional wkb approximation"
          ],
          [
           "towards skyrmion stars: large baryon configurations in the\n  einstein-skyrme model"
          ],
          [
           "many-to-one throughput capacity of ieee 802.11 multi-hop wireless\n  networks"
          ],
          [
           "scanning tunneling spectroscopy in the superconducting state and vortex\n  cores of the beta-pyrochlore kos2o6"
          ],
          [
           "noncommutative solitons in a supersymmetric chiral model in 2+1\n  dimensions"
          ],
          [
           "gravitational duality transformations on (a)ds4"
          ],
          [
           "effect of transition-metal elements on the electronic properties of\n  quasicrystals and complex aluminides"
          ],
          [
           "non-resonant and resonant x-ray scattering studies on multiferroic\n  tbmn2o5"
          ],
          [
           "self-diffusion and interdiffusion in al80ni20 melts: simulation and\n  experiment"
          ],
          [
           "the formation of globular cluster systems in massive elliptical\n  galaxies: globular cluster multimodality from radial variation of stellar\n  populations"
          ],
          [
           "binaries, microquasars and glast"
          ],
          [
           "linearisation of finite abelian subgroups of the cremona group of the\n  plane"
          ],
          [
           "oriented growth of pentacene films on vacuum-deposited\n  polytetrafluoroethylene layers aligned by rubbing technique"
          ],
          [
           "integral representations for convolutions of non-central multivariate\n  gamma distributions"
          ],
          [
           "on the achievable rate regions for interference channels with degraded\n  message sets"
          ],
          [
           "on complete subsets of the cyclic group"
          ],
          [
           "hilbert functions of points on schubert varieties in orthogonal\n  grassmannians"
          ],
          [
           "swift/xrt observes the fifth outburst of the periodic supergiant fast\n  x-ray transient igr j11215-5952"
          ],
          [
           "crossover behavior in fluids with coulomb interactions"
          ],
          [
           "reply to comment of kenzelmann and harris"
          ],
          [
           "persistent currents in superconducting quantum interference devices"
          ],
          [
           "mid-infrared fine structure line ratios in active galactic nuclei\n  observed with spitzer irs: evidence for extinction by the torus"
          ],
          [
           "neutrinos and non-proliferation in europe"
          ],
          [
           "kinks and particles in non-integrable quantum field theories"
          ],
          [
           "the old open clusters berkeley 32 and king 11"
          ],
          [
           "the genetic programming collaboration network and its communities"
          ],
          [
           "the expanding photosphere method: progress and problems"
          ],
          [
           "spontaneous lorentz violation: non-abelian gauge fields as\n  pseudo-goldstone vector bosons"
          ],
          [
           "in-medium effects on particle production in heavy ion collisions"
          ],
          [
           "the graham conjecture implies the erdos-turan conjecture"
          ],
          [
           "mixed chemistry phenomenon during late stages of stellar evolution"
          ],
          [
           "m-regularity of the fano surface"
          ],
          [
           "signal for space-time noncommutativity: the z -> gamma gamma decay in\n  the renormalizable gauge sector of the theta-expanded ncsm"
          ],
          [
           "laser spectroscopy of hyperfine structure in highly-charged ions: a test\n  of qed at high fields"
          ],
          [
           "confinement into a state with persistent current by thermal quenching of\n  loop of josephson junctions"
          ],
          [
           "frequency modulation fourier transform spectroscopy"
          ],
          [
           "universe without singularities. a group approach to de sitter cosmology"
          ],
          [
           "spectral action on noncommutative torus"
          ],
          [
           "the lifshitz-slyozov-wagner equation for reaction-controlled kinetics"
          ],
          [
           "canonical singular hermitian metrics on relative canonical bundles"
          ],
          [
           "yield curve shapes and the asymptotic short rate distribution in affine\n  one-factor models"
          ],
          [
           "thermally stimulated luminescence and current in new heterocyclic\n  materials for organic field transistors and organic light emitting diodes"
          ],
          [
           "a microfluidic device based on droplet storage for screening solubility\n  diagrams"
          ],
          [
           "composite fermion wave functions as conformal field theory correlators"
          ],
          [
           "$\\bz\\to\\pip\\pim\\piz$ time dependent dalitz analysis at babar"
          ],
          [
           "new organic thermally stable materials for optoelectronics devices - a\n  linear spectroscopy study"
          ],
          [
           "elativistic treatment in}$d$ - dimensions to a spin-zero particle with\n  noncentral equal scalar and vector ring-shaped kratzer potential"
          ],
          [
           "on the potential of transit surveys in star clusters: impact of\n  correlated noise and radial velocity follow-up"
          ],
          [
           "a non-perturbative proof of bertrand's theorem"
          ],
          [
           "neutron-capture elements in the double-enhanced star he 1305-0007: a new\n  s- and r-process paradigm"
          ],
          [
           "membrane in m5-branes background"
          ],
          [
           "3d photospheric velocity field of a supergranular cell"
          ],
          [
           "substructures in wings clusters"
          ],
          [
           "ising-like dynamics and frozen states in systems of ultrafine magnetic\n  particles"
          ],
          [
           "counting characters in linear group actions"
          ],
          [
           "continuous interfaces with disorder: even strong pinning is too weak in\n  2 dimensions"
          ],
          [
           "on the kk-theory of strongly self-absorbing c*-algebras"
          ],
          [
           "effective interactions from q-deformed inspired transformations"
          ],
          [
           "magnetospectroscopy of epitaxial few-layer graphene"
          ],
          [
           "dust formation and survival in supernova ejecta"
          ],
          [
           "preferential interaction coefficient for nucleic acids and other\n  cylindrical poly-ions"
          ],
          [
           "a new approach to mutual information"
          ],
          [
           "analysis of the real estate market in las vegas: bubble, seasonal\n  patterns, and prediction of the csw indexes"
          ],
          [
           "a low complexity algorithm and architecture for systematic encoding of\n  hermitian codes"
          ],
          [
           "quantum criticality and disorder in the antiferromagnetic critical point\n  of nis$_{2}$ pyrite"
          ],
          [
           "spin coherence of holes in gaas/algaas quantum wells"
          ],
          [
           "local-field effects in radiatively broadened magneto-dielectric media:\n  negative refraction and absorption reduction"
          ],
          [
           "search for a fourth generation b'-quark at lep-ii at sqrt{s}=196-209 gev"
          ],
          [
           "about curvature, conformal metrics and warped products"
          ],
          [
           "the local structure of conformally symmetric manifolds"
          ],
          [
           "investigation of colour reconnection in ww events with the delphi\n  detector at lep-2"
          ],
          [
           "evolutionary neural gas (eng): a model of self organizing network from\n  input categorization"
          ],
          [
           "x-ray dichroism and the pseudogap phase of cuprates"
          ],
          [
           "solvability of linear equations within weak mixing sets"
          ],
          [
           "d-\\bar d mixing and rare d decays in the littlest higgs model with\n  non-unitarity matrix"
          ],
          [
           "alternative large nc schemes and chiral dynamics"
          ],
          [
           "the height dependence of temperature - velocity correlation in the solar\n  photosphere"
          ],
          [
           "magnetism in the high-tc analogue cs2agf4 studied with muon-spin\n  relaxation"
          ],
          [
           "reconciling the x(3872) with the near-threshold enhancement in the\n  d^0\\bar{d}^{*0} final state"
          ],
          [
           "three-dimensional effects in \"atom diodes\": atom-optical devices for\n  one-way motion"
          ],
          [
           "plasmon amplification through stimulated emission at terahertz\n  frequencies in graphene"
          ],
          [
           "on the homology of two-dimensional elimination"
          ],
          [
           "the effectiveness of quantum operations for eavesdropping on sealed\n  messages"
          ],
          [
           "shocks in nonlocal media"
          ],
          [
           "modeling the field of laser welding melt pool by rbfnn"
          ],
          [
           "anomalous c-axis transport in layered metals"
          ],
          [
           "proper holomorphic mappings of the spectral unit ball"
          ],
          [
           "parsimony via concensus"
          ],
          [
           "millimeter imaging of hd 163296: probing the disk structure and\n  kinematics"
          ],
          [
           "spectropolarimetric observations of the ca ii 8498 a and 8542 a lines in\n  the quiet sun"
          ],
          [
           "number of moduli of irreducible families of plane curves with nodes and\n  cusps"
          ],
          [
           "search for heavy neutral mssm higgs bosons with cms: reach and\n  higgs-mass precision"
          ],
          [
           "white dwarf masses derived from planetary nebulae modelling"
          ],
          [
           "uniqueness theorems for cauchy integrals"
          ],
          [
           "on the number of moduli of plane sextics with six cusps"
          ],
          [
           "algorithm for anisotropic diffusion in hydrogen-bonded networks"
          ],
          [
           "temporal evolution of step-edge fluctuations under electromigration\n  conditions"
          ],
          [
           "renormgroup origin and analysis of split higgsino scenario"
          ],
          [
           "electromagnetic structure and weak decay of meson k in a light-front\n  qcd-inspired"
          ],
          [
           "black hole puncture initial data with realistic gravitational wave\n  content"
          ],
          [
           "measurement of the decay constant $f_d{_s^+}$ using $d_s^+ --> ell^+ nu"
          ],
          [
           "the $e^+ e^-\\to k^+ k^- \\pi^+\\pi^-$, $k^+ k^- \\pi^0\\pi^0$ and $k^+ k^-\n  k^+ k^-$ cross sections measured with initial-state radiation"
          ],
          [
           "orthogonality criterion for banishing hydrino states from standard\n  quantum mechanics"
          ],
          [
           "detecting and characterizing planetary systems with transit timing"
          ],
          [
           "d-wave superconductivity from electron-phonon interactions"
          ],
          [
           "a finite element framework for computation of protein normal modes and\n  mechanical response"
          ],
          [
           "reply to 'comment on 'heavy element production in inhomogeneous big bang\n  nucleosynthesis''"
          ],
          [
           "sum-over-states vs quasiparticle pictures of coherent correlation\n  spectroscopy of excitons in semiconductors; femtosecond analogues of\n  multidimensional nmr"
          ],
          [
           "are constant loop widths an artifact of the background and the spatial\n  resolution?"
          ],
          [
           "polarizations of j/psi and psi(2s) mesons produced in ppbar collisions\n  at 1.96 tev"
          ],
          [
           "a measure of the non-gaussian character of a quantum state"
          ],
          [
           "skew-hadamard matrices of orders 188 and 388 exist"
          ],
          [
           "quantum engineering of photon states with entangled atomic ensembles"
          ],
          [
           "direct photons and dileptons via color dipoles"
          ],
          [
           "mapping the youngest galaxies to redshift one"
          ],
          [
           "on the homfly and tutte polynomials"
          ],
          [
           "discovery of extreme asymmetry in the debris disk surrounding hd 15115"
          ],
          [
           "the mathematical universe"
          ],
          [
           "testing string theory with cmb"
          ],
          [
           "behavioral response to strong aversive stimuli: a neurodynamical model"
          ],
          [
           "quivers with potentials and their representations i: mutations"
          ],
          [
           "coherent macroscopic quantum tunneling in boson-fermion mixtures"
          ],
          [
           "efficiency of thin film photocells"
          ],
          [
           "galactic wind signatures around high redshift galaxies"
          ],
          [
           "`st\\\"uckelberg interferometry' with ultracold molecules"
          ],
          [
           "an integral field spectroscopic survey for high redshift damped\n  lyman-alpha galaxies"
          ],
          [
           "exploring the variable sky with the sloan digital sky survey"
          ],
          [
           "necessary optimality conditions for the calculus of variations on time\n  scales"
          ],
          [
           "the boundary conditions of the heliosphere: photoionization models\n  constrained by interstellar and in situ data"
          ],
          [
           "collective excitations in a magnetically doped quantized hall\n  ferromagnet"
          ],
          [
           "long gamma-ray burst progenitors: boundary conditions and binary models"
          ],
          [
           "multiscale model of electronic behavior and localization in stretched\n  dry dna"
          ],
          [
           "ample subvarieties and rationally connected fibrations"
          ],
          [
           "bounds for multiplicities of unitary representations of cohomological\n  type in spaces of cusp forms"
          ],
          [
           "decoherence of quantum-enhanced timing accuracy"
          ],
          [
           "stock market return distributions: from past to present"
          ],
          [
           "string inspired explanation for the super-acceleration of our universe"
          ],
          [
           "topological free entropy dimension of in unital c^*-algebras"
          ],
          [
           "j/psi production in an equilibrating partonic system"
          ],
          [
           "reduced and extended weak coupling limit"
          ],
          [
           "complete set of polarization transfer observables for the $^{12}{\\rm\n  c}(p,n)$ reaction at 296 mev and 0$^{\\circ}$"
          ],
          [
           "learning from compressed observations"
          ],
          [
           "hamiltonian formalism in friedmann cosmology and its quantization"
          ],
          [
           "optimal stimulus and noise distributions for information transmission\n  via suprathreshold stochastic resonance"
          ],
          [
           "three different types of galaxy alignment within dark matter halos"
          ],
          [
           "proto-neutron star winds, magnetar birth, and gamma-ray bursts"
          ],
          [
           "a very massive runaway star from cygnus ob2"
          ],
          [
           "optical spectrum of the post-agb star hd56126 in the region 4010-8790 aa"
          ],
          [
           "generation of large number-path entanglement using linear optics and\n  feed-forward"
          ],
          [
           "finite branch solutions to painleve vi around a fixed singular point"
          ],
          [
           "monitoring spatially heterogeneous dynamics in a drying colloidal thin\n  film"
          ],
          [
           "mapping the circumstellar sio maser emission in r leo"
          ],
          [
           "partially disordered state near ferromagnetic transition in mnsi"
          ],
          [
           "fluctuations in glassy systems"
          ],
          [
           "a generalization of chebyshev polynomials and non rooted posets"
          ],
          [
           "statistical analysis of weighted networks"
          ],
          [
           "finite dimensionality of 2-d micropolar fluid flow with periodic\n  boundary conditions"
          ],
          [
           "strong spherical asymptotics for rotor-router aggregation and the\n  divisible sandpile"
          ],
          [
           "study on correlations between the twin kilohertz quasi-periodic\n  oscillations in low-mass x-ray binaries"
          ],
          [
           "fuzzballs with internal excitations"
          ],
          [
           "birth, survival and death of languages by monte carlo simulation"
          ],
          [
           "rigorous derivation of the mean field green functions of the two-band\n  hubbard model of superconductivity"
          ],
          [
           "geometry effects at atomic-size aluminium contacts"
          ],
          [
           "current - voltage characteristics of break junctions of high-$t_c$\n  superconductors"
          ],
          [
           "photon splitting in a laser field"
          ],
          [
           "phonon instability and structural phase transition in vanadium under\n  high pressure"
          ],
          [
           "cp violation due to multi froggatt-nielsen fields"
          ],
          [
           "rigorous results for the periodic oscillation of an adiabatic piston"
          ],
          [
           "thermal decomposition of norbornane (bicyclo[2.2.1]heptane) dissolved in\n  benzene. experimental study and mechanism investigation"
          ],
          [
           "detailed kinetic study of the ring opening of cycloalkanes by cbs-qb3\n  calculations"
          ],
          [
           "on thermal effects in solid state lasers: the case of ytterbium-doped\n  materials"
          ],
          [
           "dimensional crossover of thermal conductance in nanowires"
          ],
          [
           "transient behavior of surface plasmon polaritons scattered at a\n  subwavelength groove"
          ],
          [
           "entropic measure and wasserstein diffusion"
          ],
          [
           "second-order eikonal corrections for a(e,e'p)"
          ],
          [
           "akari detection of the infrared-bright supernova remnant b0104-72.3 in\n  the small magellanic cloud"
          ],
          [
           "flory-huggins theory for the solubility of heterogeneously-modified\n  polymers"
          ],
          [
           "on second order shape optimization methods for electrical impedance\n  tomography"
          ],
          [
           "braiding transformation, entanglement swapping and berry phase in\n  entanglement space"
          ],
          [
           "photoproduction of pi0 omega off protons for e(gamma) < 3 gev"
          ],
          [
           "two-pion exchange three-nucleon potential: o(q^4) chiral expansion"
          ],
          [
           "interference effects in above-threshold ionization from diatomic\n  molecules: determining the internuclear separation"
          ],
          [
           "neel order in the two-dimensional s=1/2 heisenberg model"
          ],
          [
           "maximum solutions of normalized ricci flows on 4-manifolds"
          ],
          [
           "phase separation and flux quantization in the doped quantum dimer model\n  on the square and triangular lattices"
          ],
          [
           "limit distributions and scaling functions"
          ],
          [
           "incommmensurability and unconventional superconductor to insulator\n  transition in the hubbard model with bond-charge interaction"
          ],
          [
           "gravitational wave signals from chaotic system: a point mass with a disk"
          ],
          [
           "$c^r$-lohner algorithm"
          ],
          [
           "timing evidence in determining the accretion state of the seyfert galaxy\n  ngc 3783"
          ],
          [
           "two- and three-point green's functions in two-dimensional landau-gauge\n  yang-mills theory"
          ],
          [
           "coupled electron and phonon transport in one-dimensional atomic\n  junctions"
          ],
          [
           "observation of spin-orbit berry's phase in magnetoresistance of a\n  two-dimensional hole anti-dot system"
          ],
          [
           "on the dragging of light by a rotating medium"
          ],
          [
           "long-range correlation and multifractality in bach's inventions pitches"
          ],
          [
           "circuit qed with a flux qubit strongly coupled to a coplanar\n  transmission line resonator"
          ],
          [
           "zero bias anomaly out of equilibrium"
          ],
          [
           "the first law for boosted kaluza-klein black holes"
          ],
          [
           "revisiting the issues on netflow sample and export performance"
          ],
          [
           "cosmological singularities and a conjectured gravity/coset\n  correspondence"
          ],
          [
           "acceleration and localization of matter in a ring trap"
          ],
          [
           "gro j1655-40: from asca and xmm-newton observations"
          ],
          [
           "the hellas2xmm survey. x. the bolometric output of luminous obscured\n  quasars: the spitzer perspective"
          ],
          [
           "$p$-adic haar multiresolution analysis"
          ],
          [
           "jumping through loops: on soft terms from large volume compactifications"
          ],
          [
           "driven activation versus thermal activation"
          ],
          [
           "computation of power loss in likelihood ratio tests for probability\n  densities extended by lehmann alternatives"
          ],
          [
           "vertical dynamics of disk galaxies in mond"
          ],
          [
           "al'tshuler-aronov correction to the conductivity of a large metallic\n  square network"
          ],
          [
           "magnetoconductance oscillations in metallic rings and decoherence due to\n  electron-electron interaction"
          ],
          [
           "diatomic molecule as a quantum entanglement switch"
          ],
          [
           "quantifying social group evolution"
          ],
          [
           "weak and strong taylor methods for numerical solutions of stochastic\n  differential equations"
          ],
          [
           "finite bias visibility of the electronic mach-zehnder interferometer"
          ],
          [
           "a note on higher-order differential operations"
          ],
          [
           "experimental challenges involved in searches for axion-like particles\n  and nonlinear quantum electrodynamic effects by sensitive optical techniques"
          ],
          [
           "binary systems as test-beds of gravity theories"
          ],
          [
           "some combinatorial aspects of differential operation compositions on\n  space $r^n$"
          ],
          [
           "hyperbolicity in unbounded convex domains"
          ],
          [
           "actions for the bosonic string with the curved worldsheet"
          ],
          [
           "bianchi type i massive string magnetized barotropic perfect fluid\n  cosmological model in general relativity"
          ],
          [
           "general relativity today"
          ],
          [
           "a procedure for finding the k-th power of a matrix"
          ],
          [
           "the dynamical casimir effect in braneworlds"
          ],
          [
           "bounds on negativity of superpositions"
          ],
          [
           "entangling independent photons by time measurement"
          ],
          [
           "search for heavy, long-lived particles that decay to photons at cdf ii"
          ],
          [
           "dependence of the critical adsorption point on surface and sequence\n  disorders for self-avoiding walks interacting with a planar surface"
          ],
          [
           "coherent control of atomic tunneling"
          ],
          [
           "correlation functions and excitation spectrum of the frustrated\n  ferromagnetic spin-1/2 chain in an external magnetic field"
          ],
          [
           "evidence of spatially inhomogeous pairing on the insulating side of a\n  disorder-tuned superconductor-insulator transition"
          ],
          [
           "local de broglie-bohm trajectories from entangled wavefunctions"
          ],
          [
           "ground-based microlensing surveys"
          ],
          [
           "the luminous infrared composite seyfert 2 galaxy ngc 7679 through the [o\n  iii] 5007 emission line"
          ],
          [
           "the fermionic density-functional at feshbach resonance"
          ],
          [
           "chemical evolution"
          ],
          [
           "suppression of 1/f noise in one-qubit systems"
          ],
          [
           "stability of a colocated finite volume scheme for the incompressible\n  navier-stokes equations"
          ],
          [
           "collective behavior of stock price movements in an emerging market"
          ],
          [
           "galaxy morphologies and environment in the abell 901/902 supercluster\n  from combo-17"
          ],
          [
           "k_0-theory of n-potents in rings and algebras"
          ],
          [
           "spin coupling in zigzag wigner crystals"
          ],
          [
           "decoupling supergravity from the superstring"
          ],
          [
           "frobenius splitting and geometry of $g$-schubert varieties"
          ],
          [
           "fusion of radioactive $^{132}$sn with $^{64}$ni"
          ],
          [
           "tri-layer superlattices: a route to magnetoelectric multiferroics?"
          ],
          [
           "testing outer boundary treatments for the einstein equations"
          ],
          [
           "stability of a finite volume scheme for the incompressible fluids"
          ],
          [
           "d-brane instantons on the t^6/z_3 orientifold"
          ],
          [
           "viscoplastic properties and tribological behavior of diamond-like carbon\n  films using nanoindentation and nanoscratch tests"
          ],
          [
           "implication of the d^0 width difference on cp-violation in d^0-\\bar d^0\n  mixing"
          ],
          [
           "convergence of a finite volume scheme for the incompressible fluids"
          ],
          [
           "optimal synthesis of multiple algorithms"
          ],
          [
           "new close binary systems from the sdss-i (data release five) and the\n  search for magnetic white dwarfs in cataclysmic variable progenitor systems"
          ],
          [
           "dynamical casimir effect for gravitons in bouncing braneworlds"
          ],
          [
           "spectral analysis of swift long grbs with known redshift"
          ],
          [
           "the relationship between molecular gas tracers and kennicutt-schmidt\n  laws"
          ],
          [
           "friedmann equations and thermodynamics of apparent horizons"
          ],
          [
           "constraints on the interactions between dark matter and baryons from the\n  x-ray quantum calorimetry experiment"
          ],
          [
           "heavy-light semileptonic decays in staggered chiral perturbation theory"
          ],
          [
           "a density tensor hierarchy for open system dynamics: retrieving the\n  noise"
          ],
          [
           "scalar self-force on eccentric geodesics in schwarzschild spacetime: a\n  time-domain computation"
          ],
          [
           "nonimmersions of rp^n implied by tmf, revisited"
          ],
          [
           "spin evolution of accreting neutron stars: nonlinear development of the\n  r-mode instability"
          ],
          [
           "quantum auctions"
          ],
          [
           "fundamental solutions for a class of non-elliptic homogeneous\n  differential operators"
          ],
          [
           "hybrid-arq in multihop networks with opportunistic relay selection"
          ],
          [
           "geometric phase and superconducting flux quantization"
          ],
          [
           "equation-free implementation of statistical moment closures"
          ],
          [
           "opportunistic relay selection with limited feedback"
          ],
          [
           "the sloan digital sky survey quasar catalog iv. fifth data release"
          ],
          [
           "nuclear forces from chiral effective field theory"
          ],
          [
           "on a conjecture of em stein on the hilbert transform on vector fields"
          ],
          [
           "wide field surveys and astronomical discovery space"
          ],
          [
           "the cosmic foreground explorer (cofe): a balloon-borne microwave\n  polarimeter to characterize polarized foregrounds"
          ],
          [
           "jet interactions in massive x-ray binaries"
          ],
          [
           "the na i d resonance lines in main sequence late-type stars"
          ],
          [
           "dynamics of bose-einstein condensates"
          ],
          [
           "photons as quasi-charged particles"
          ],
          [
           "exchange of quantum states between coupled oscillators"
          ],
          [
           "3-d simulations of ergospheric disk driven poynting jets"
          ],
          [
           "an s_3-symmetric littlewood-richardson rule"
          ],
          [
           "two-scale structure of the electron dissipation region during\n  collisionless magnetic reconnection"
          ],
          [
           "position-velocity diagrams for the maser emission coming from a\n  keplerian ring"
          ],
          [
           "coupling of whispering-gallery modes in size-mismatched microdisk\n  photonic molecules"
          ],
          [
           "spin solid phases of spin 1 and spin 3/2 antiferromagnets on a cubic\n  lattice"
          ],
          [
           "braided quantum field theories and their symmetries"
          ],
          [
           "chromospheric flares"
          ],
          [
           "on the (3,n) maurer-cartan equation"
          ],
          [
           "9.7 micrometer silicate absorption in a damped lyman-alpha absorber at\n  z=0.52"
          ],
          [
           "photometry of the globular cluster ngc 5466: red giants and blue\n  stragglers"
          ],
          [
           "vortex molecular crystal and vortex plastic crystal states in honeycomb\n  and kagome pinning arrays"
          ],
          [
           "quark-antiquark and diquark condensates in vacuum in a 3d two-flavor\n  gross-neveu model"
          ],
          [
           "spin accumulation from the non-abelian aharonov-bohm effect"
          ],
          [
           "on packet lengths and overhead for random linear coding over the erasure\n  channel"
          ],
          [
           "terrestrial and habitable planet formation in binary and multi-star\n  systems"
          ],
          [
           "local well-posedness of nonlinear dispersive equations on modulation\n  spaces"
          ],
          [
           "p-adic arithmetic coding"
          ],
          [
           "compton x-ray and gamma-ray emission from extended radio galaxies"
          ],
          [
           "a matroid-friendly basis for the quasisymmetric functions"
          ],
          [
           "bremsstrahlung radiation at a vacuum bubble wall"
          ],
          [
           "universal source coding for monotonic and fast decaying monotonic\n  distributions"
          ],
          [
           "moduli spaces of rational tropical curves"
          ],
          [
           "associated production of the charged higgs boson and single top quark at\n  the lhc"
          ],
          [
           "difermion condensates in vacuum in 2-4d four-fermion interaction models"
          ],
          [
           "oscillation bands of condensates on a ring: beyond the mean field theory"
          ],
          [
           "kadowaki-woods ratio of strongly coupled fermi liquids"
          ],
          [
           "structure of strange dwarfs with color superconducting core"
          ],
          [
           "information entropic superconducting microcooler"
          ],
          [
           "pi degree parity in q-skew polynomial rings"
          ],
          [
           "semi-spheroidal quantum harmonic oscillator"
          ],
          [
           "growing perfect decagonal quasicrystals by local rules"
          ],
          [
           "lrs bianchi type-v viscous fluid universe with a time dependent\n  cosmological term $\\lambda$"
          ],
          [
           "density matrix elements and entanglement entropy for the spin-1/2 xxz\n  chain at $\\delta$=1/2"
          ],
          [
           "counting on rectangular areas"
          ],
          [
           "bose-einstein correlations of direct photons in au+au collisions at\n  $\\sqrt{s_{nn}} = 200$ gev"
          ],
          [
           "normalized ricci flow on nonparabolic surfaces"
          ],
          [
           "polarization properties of subwavelength hole arrays consisting of\n  rectangular holes"
          ],
          [
           "three dimensional cooling and trapping with a narrow line"
          ],
          [
           "approximate selection rule for orbital angular momentum in atomic\n  radiative transitions"
          ],
          [
           "extrasolar scale change in newton's law from 5d `plain' r^2-gravity"
          ],
          [
           "lessons learned from the deployment of a high-interaction honeypot"
          ],
          [
           "availability assessment of sunos/solaris unix systems based on syslogd\n  and wtmpx logfiles : a case study"
          ],
          [
           "empirical analysis and statistical modeling of attack processes based on\n  honeypots"
          ],
          [
           "the low co content of the extremely metal poor galaxy i zw 18"
          ],
          [
           "a binary model for the uv-upturn of elliptical galaxies (mnras version)"
          ],
          [
           "redshifts of the long gamma-ray bursts"
          ],
          [
           "an architecture-based dependability modeling framework using aadl"
          ],
          [
           "a priori estimates for weak solutions of complex monge-amp\\`ere\n  equations"
          ],
          [
           "density oscillation in highly flattened quantum elliptic rings and\n  tunable strong dipole radiation"
          ],
          [
           "effect of electron-electron interaction on the phonon-mediated spin\n  relaxation in quantum dots"
          ],
          [
           "connected operators for the totally asymmetric exclusion process"
          ],
          [
           "proposal for an enhanced optical cooling system test in an electron\n  storage ring"
          ],
          [
           "the idv source j1128+5925, a new candidate for annual modulation?"
          ],
          [
           "spectral perturbation bounds for selfadjoint operators"
          ],
          [
           "predicting the frequencies of diverse exo-planetary systems"
          ],
          [
           "higher ramification and varieties of secant divisors on the generic\n  curve"
          ],
          [
           "the concrete theory of numbers: initial numbers and wonderful properties\n  of numbers repunit"
          ],
          [
           "non-monotone convergence in the quadratic wasserstein distance"
          ],
          [
           "the bimodality of type ia supernovae"
          ],
          [
           "structural relaxation around substitutional cr3+ in mgal2o4"
          ],
          [
           "a hierarchical approach for dependability analysis of a commercial\n  cache-based raid storage architecture"
          ],
          [
           "stochastic action principle and maximum entropy"
          ],
          [
           "gauge-higgs unification and lhc/ilc"
          ],
          [
           "extension theorems of sakai type for separately holomorphic and\n  meromorphic functions"
          ],
          [
           "uniform measures and countably additive measures"
          ],
          [
           "lower bounds for the conductivities of correlated quantum systems"
          ],
          [
           "non-extensive thermodynamics of 1d systems with long-range interaction"
          ],
          [
           "nmr evidence for a strong modulation of the bose-einstein condensate in\n  bacusi$_2$o$_6$"
          ],
          [
           "bibliometric statistical properties of the 100 largest european\n  universities: prevalent scaling rules in the science system"
          ],
          [
           "on the origin of asymmetries in bilateral supernova remnants"
          ],
          [
           "reactor monitoring with neutrinos"
          ],
          [
           "nonstationary pattern in unsynchronizable complex networks"
          ],
          [
           "topological phase for spin-orbit transformations on a laser beam"
          ],
          [
           "the solar neighborhood. xix. discovery and characterization of 33 new\n  nearby white dwarf systems"
          ],
          [
           "gorenstein locus of minuscule schubert varieties"
          ],
          [
           "model c critical dynamics of random anisotropy magnets"
          ],
          [
           "a unified approach to the theory of separately holomorphic mappings"
          ],
          [
           "higher spin algebras as higher symmetries"
          ],
          [
           "calfuse v3: a data-reduction pipeline for the far ultraviolet\n  spectroscopic explorer"
          ],
          [
           "voltage-current curves for small josephson junction arrays"
          ],
          [
           "the density of critical percolation clusters touching the boundaries of\n  strips and squares"
          ],
          [
           "effective band-structure in the insulating phase versus strong dynamical\n  correlations in metallic vo2"
          ],
          [
           "new possible properties of atomic nuclei investigated by non linear\n  methods: fractal and recurrence quantification analysis"
          ],
          [
           "the use of weighting in periodicity searches in all-sky monitor data:\n  applications to the glast lat"
          ],
          [
           "dielectronic recombination of fe xv forming fe xiv: laboratory\n  measurements and theoretical calculations"
          ],
          [
           "experimental test of the high-frequency quantum shot noise theory in a\n  quantum point contact"
          ],
          [
           "extragalactic radio sources and the wmap cold spot"
          ],
          [
           "l^2 rho form for normal coverings of fibre bundles"
          ],
          [
           "on the nonexistence of nontrivial involutive n-homomorphisms of\n  c*-algebras"
          ],
          [
           "smooth and starburst tidal tails in the gems and goods fields"
          ],
          [
           "nuclear spin effects in optical lattice clocks"
          ],
          [
           "electromagnetic wormholes via handlebody constructions"
          ],
          [
           "millimeter-thick single-walled carbon nanotube forests: hidden role of\n  catalyst support"
          ],
          [
           "test of nuclear level density inputs for hauser-feshbach model\n  calculations"
          ],
          [
           "the harps search for southern extra-solar planets. ix. exoplanets\n  orbiting hd 100777, hd 190647, and hd 221287"
          ],
          [
           "algebraic geometry of gaussian bayesian networks"
          ],
          [
           "interactions, superconducting $t_c$, and fluctuation magnetization for\n  two coupled dots in the crossover between the gaussian orthogonal and unitary\n  ensembles"
          ],
          [
           "two-proton radioactivity and three-body decay. iii. integral formulae\n  for decay widths in a simplified semianalytical approach"
          ],
          [
           "z^0 \\to 2\\gamma and the twisted coproduct of the poincar\\'{e} group"
          ],
          [
           "a variation of gronwall's lemma"
          ],
          [
           "when the cramer-rao inequality provides no information"
          ],
          [
           "lower order terms in the 1-level density for families of holomorphic\n  cuspidal newforms"
          ],
          [
           "spinor dynamics in an antiferromagnetic spin-1 condensate"
          ],
          [
           "a contraction theory approach to stochastic incremental stability"
          ],
          [
           "a symplectic test of the l-functions ratios conjecture"
          ],
          [
           "cosmology from string theory"
          ],
          [
           "noncommutative electromagnetism as a large n gauge theory"
          ],
          [
           "marginal solutions for the superstring"
          ],
          [
           "the isophotal structure of early-type galaxies in the sdss: dependence\n  on agn activity and environment"
          ],
          [
           "on the origin of the dichotomy of early-type galaxies: the role of dry\n  mergers and agn feedback"
          ],
          [
           "quantum and classical spins on the spatially distorted kagome lattice:\n  applications to volborthite"
          ],
          [
           "two-proton radioactivity and three-body decay. iv. connection to\n  quasiclassical formulation"
          ],
          [
           "percolation modeling of conductance of self-healing composites"
          ],
          [
           "analytic solutions for marginal deformations in open superstring field\n  theory"
          ],
          [
           "invariants of triangular lie algebras"
          ],
          [
           "approaching equilibrium and the distribution of clusters"
          ],
          [
           "does the blazar gamma-ray spectrum harden with increasing flux? analysis\n  of 9 years of egret data"
          ],
          [
           "glueball masses in (2+1)-dimensional anisotropic weakly-coupled\n  yang-mills theory"
          ],
          [
           "recovering galaxy star formation and metallicity histories from spectra\n  using vespa"
          ],
          [
           "axiom a polynomial skew products of c^2 and their postcritical sets"
          ],
          [
           "search for gravitational-wave bursts in ligo data from the fourth\n  science run"
          ],
          [
           "glast and dark matter substructure in the milky way"
          ],
          [
           "gibbs fragmentation trees"
          ],
          [
           "efficient simulations of early structure formation and reionization"
          ],
          [
           "jet-disturbed molecular gas near the seyfert 2 nucleus in m51"
          ],
          [
           "spectroscopy of nine cataclysmic variable stars"
          ],
          [
           "conservation laws for invariant functionals containing compositions"
          ],
          [
           "displacement of the sun from the galactic plane"
          ],
          [
           "correlation amplitude and entanglement entropy in random spin chains"
          ],
          [
           "sim planetquest: the most promising near-term technique to detect, find\n  masses, and determine three-dimensional orbits of nearby habitable planets"
          ],
          [
           "ir observations of ms 1054-03: star formation and its evolution in rich\n  galaxy clusters"
          ],
          [
           "sensor networks with random links: topology design for distributed\n  consensus"
          ],
          [
           "charges from attractors"
          ],
          [
           "nodeless d-wave superconducting pairing due to residual\n  antiferromagnetism in underdoped pr$_{2-x}$ce$_x$cuo$_{4-\\delta}$"
          ],
          [
           "one-dimensional brownian particle systems with rank dependent drifts"
          ],
          [
           "simultaneous swift and rem monitoring of the blazar pks0537-441 in 2005"
          ],
          [
           "theoretical status of pentaquarks"
          ],
          [
           "generating squeezed states of nanomechanical resonator"
          ],
          [
           "on the orbital period of the magnetic cataclysmic variable hs 0922+1333"
          ],
          [
           "the einstein-varicak correspondence on relativistic rigid rotation"
          ],
          [
           "nova geminorum 1912 and the origin of the idea of gravitational lensing"
          ],
          [
           "upper bounds on entangling rates of bipartite hamiltonians"
          ],
          [
           "separability criterion for multipartite pure states"
          ],
          [
           "cluster properties from two-particle angular correlations in p+p\n  collisions at $\\sqrt{s}$ = 200 and 410 gev"
          ],
          [
           "cross-layer optimization of mimo-based mesh networks with gaussian\n  vector broadcast channels"
          ],
          [
           "criteria in the selection of target events for planetary microlensing\n  follow-up observation"
          ],
          [
           "the necessary and sufficient conditions of separability for bipartite\n  pure states in infinite dimensional hilbert spaces"
          ],
          [
           "magnetic fields in protoplanetary disks"
          ],
          [
           "d0-anti-d0 mixing and cp violation in d0 vs anti-d0 to k*(+-) k(-+)\n  decays"
          ],
          [
           "the dissolution of the vacancy gas and grain boundary diffusion in\n  crystalline solids"
          ],
          [
           "x-ray timing observations of psr j1930+1852 in the crab-like snr\n  g54.1+0.3"
          ],
          [
           "vortex-induced topological transition of the bilinear-biquadratic\n  heisenberg antiferromagnet on the triangular lattice"
          ],
          [
           "recurrence analysis of the portevin-le chatelier effect"
          ],
          [
           "a topological glass"
          ],
          [
           "anomalous pressure behavior of tangential modes in single-wall carbon\n  nanotubes"
          ],
          [
           "distribution of the molecular absorption in front of the quasar\n  b0218+357"
          ],
          [
           "cosmogenic neutrinos as a probe of the transition from galactic to\n  extragalactic cosmic rays"
          ],
          [
           "spin state mixing in inas double quantum dots"
          ],
          [
           "construction of complete embedded self-similar surfaces under mean\n  curvature flow. part ii"
          ],
          [
           "daemons and dama: their celestial-mechanics interrelations"
          ],
          [
           "form factors of the exotic baryons with isospin i=5/2"
          ],
          [
           "transfer of a polaritonic qubit through a coupled cavity array"
          ],
          [
           "architecture for pseudo acausal evolvable embedded systems"
          ],
          [
           "evidence for a massive protocluster in s255n"
          ],
          [
           "enumerating limit groups"
          ],
          [
           "dynamics of size-selected gold nanoparticles studied by ultrafast\n  electron nanocrystallography"
          ],
          [
           "a direct method for solving optimal switching problems of\n  one-dimensional diffusions"
          ],
          [
           "compatibility of radial, lorenz and harmonic gauges"
          ],
          [
           "late-time tails of a yang-mills field on minkowski and schwarzschild\n  backgrounds"
          ],
          [
           "mediatic graphs"
          ],
          [
           "composite structure and causality"
          ],
          [
           "brane world black rings"
          ],
          [
           "stable algebras of entire functions"
          ],
          [
           "test vectors for trilinear forms, when two representations are\n  unramified and one is special"
          ],
          [
           "generic character sheaves on disconnected groups and character values"
          ],
          [
           "measurement of d0-d0bar mixing in d0->ks pi+ pi- decays"
          ]
         ],
         "hovertemplate": "highlight=False<br>x=%{x}<br>y=%{y}<br>title=%{customdata[0]}<extra></extra>",
         "legendgroup": "False",
         "marker": {
          "color": "#636efa",
          "symbol": "circle"
         },
         "mode": "markers",
         "name": "False",
         "showlegend": true,
         "type": "scattergl",
         "x": [
          7.794902,
          -41.321274,
          -25.38078,
          -37.48586,
          -37.335182,
          -38.89357,
          -37.80393,
          -32.628773,
          -38.53042,
          -33.06269,
          -44.435665,
          -44.439346,
          -44.688347,
          -32.98709,
          -24.819225,
          7.849551,
          -39.56053,
          -35.92669,
          -46.17691,
          -23.78107,
          -10.247429,
          -24.787476,
          -24.04867,
          6.8354144,
          -51.513897,
          -42.480995,
          -34.642834,
          -50.309055,
          -24.45241,
          -39.769516,
          -36.479538,
          -2.2855587,
          -44.250298,
          -41.22548,
          -50.486767,
          -28.26325,
          -54.219322,
          -2.097438,
          -30.989143,
          -20.805677,
          -1.8883826,
          -51.51225,
          -39.18598,
          -11.016807,
          -30.707956,
          -52.550636,
          -2.4799967,
          -60.053505,
          -17.85812,
          -30.649939,
          -11.024077,
          -0.3903038,
          -36.824192,
          -27.996588,
          -35.73713,
          -9.813052,
          -31.220821,
          -32.101852,
          -41.75127,
          -46.081703,
          -1.7357935,
          -35.333332,
          -43.279606,
          -50.827965,
          -48.27354,
          -37.116142,
          -45.827232,
          -8.41522,
          -33.957,
          -36.39318,
          -19.133629,
          -25.592377,
          -35.487514,
          -23.834835,
          -32.60316,
          -15.538364,
          -29.976858,
          -52.189434,
          14.219452,
          -33.491993,
          -6.229094,
          -13.473956,
          -23.864231,
          -55.650658,
          1.140304,
          -53.993195,
          6.1593995,
          -13.488094,
          10.686859,
          -54.157997,
          -12.051202,
          -7.47315,
          -50.361065,
          -34.44425,
          -34.448112,
          -54.974052,
          -50.72427,
          -48.487064,
          -47.157192,
          -14.95889,
          -18.297869,
          -14.100675,
          -30.121004,
          -14.898894,
          -9.304997,
          -26.905533,
          -27.096634,
          -38.05246,
          -52.50936,
          -23.817265,
          -24.246044,
          -21.53131,
          -40.01975,
          -51.89941,
          -57.496014,
          -46.33721,
          -10.224124,
          -6.2200155,
          -10.299653,
          -8.073409,
          -57.672882,
          -7.92526,
          -28.096415,
          -14.053508,
          -26.262094,
          -42.338474,
          -43.6936,
          -16.335527,
          -32.235134,
          -34.403004,
          -25.995865,
          -42.12842,
          -8.650666,
          23.848467,
          -6.910142,
          -59.08441,
          2.8015113,
          -58.85743,
          -58.838406,
          0.4118495,
          -37.985596,
          -29.37207,
          -12.420031,
          -29.053448,
          -16.523468,
          -1.0682231,
          -46.061,
          -39.142918,
          -50.001957,
          -21.167732,
          -6.9117665,
          -51.530094,
          -44.722874,
          -2.2928085,
          -21.493294,
          -54.22217,
          -17.700068,
          -39.823128,
          -31.403616,
          67.99339,
          -12.530888,
          -9.031658,
          -52.369484,
          -7.9970965,
          -38.532402,
          -29.178158,
          -43.873665,
          -24.31888,
          -23.986502,
          -43.815216,
          -36.847168,
          -45.333153,
          -15.552615,
          -24.355658,
          -26.128326,
          -17.79567,
          -34.33537,
          -6.0794244,
          13.408779,
          -22.805971,
          -46.98523,
          4.575315,
          -28.54076,
          -50.636696,
          -33.399555,
          -27.949932,
          -13.495677,
          -45.85824,
          -51.81688,
          -25.356817,
          -24.618687,
          -10.260569,
          -40.66159,
          -52.306637,
          -29.747456,
          -31.772009,
          -14.775735,
          -58.108932,
          -35.0279,
          -33.703186,
          -32.759197,
          -58.048237,
          -41.716263,
          -36.60774,
          -28.37572,
          -35.754784,
          23.86014,
          37.744774,
          -0.86461085,
          -32.13014,
          -12.781979,
          -24.55375,
          -0.6730797,
          0.8910986,
          -37.82317,
          -13.338997,
          -46.1665,
          -14.553523,
          -18.981462,
          -10.741161,
          -36.758183,
          -67.20734,
          0.7143707,
          12.106947,
          -23.010603,
          -30.045517,
          -49.04105,
          -49.03477,
          -48.29857,
          -23.297808,
          -19.588173,
          -6.138394,
          -61.87858,
          -21.943962,
          -22.227531,
          -21.076706,
          -9.663516,
          -26.075796,
          12.161069,
          -32.77211,
          -35.218548,
          -0.81747955,
          -25.120695,
          -48.08036,
          -26.693562,
          -21.77431,
          -31.559046,
          -39.134533,
          -31.179401,
          -52.924046,
          -50.612293,
          -10.243282,
          -47.896305,
          -52.781136,
          -35.05509,
          -27.90124,
          -37.77451,
          -13.551835,
          -1.4777466,
          -1.7175745,
          -26.991907,
          -30.144344,
          -49.108067,
          -43.348293,
          66.38133,
          -1.659713,
          -16.35908,
          -14.757549,
          -8.070862,
          -53.74836,
          -52.49253,
          -41.86828,
          -14.669109,
          -47.962975,
          20.007336,
          -49.22788,
          -47.569798,
          -36.741703,
          -50.03407,
          66.35724,
          -37.233795,
          -34.289356,
          -26.988237,
          -34.5437,
          -35.15939,
          -30.330751,
          -54.16717,
          57.2199,
          -55.54764,
          -48.942173,
          -54.383495,
          -14.052205,
          -5.606973,
          -36.4342,
          -25.935434,
          -28.348923,
          -2.8057876,
          -12.741644,
          -60.840874,
          -7.165282,
          -49.45945,
          -38.13221,
          -44.77717,
          -35.02911,
          -9.315621,
          -25.734983,
          -26.237556,
          -17.751644,
          -6.222588,
          -52.659554,
          -1.8673973,
          -28.094994,
          -16.809317,
          -22.936539,
          -44.07573,
          -51.95932,
          -58.831306,
          -54.40603,
          -25.36826,
          -1.5235926,
          -26.54977,
          -25.27197,
          -25.435007,
          -58.451057,
          -14.6317005,
          11.484044,
          -6.428593,
          -61.312958,
          -39.966553,
          -53.840405,
          -38.249397,
          -62.656605,
          -61.638542,
          -25.009396,
          -0.6271266,
          -48.585934,
          6.448241,
          -27.901276,
          -25.010786,
          -36.032444,
          56.352444,
          -47.99402,
          -53.68072,
          -8.934085,
          29.360989,
          30.830332,
          -57.82113,
          -38.092003,
          -22.06004,
          -0.94326466,
          -62.490868,
          -30.349459,
          -35.819027,
          -62.82141,
          -12.004381,
          -21.258606,
          -25.242516,
          -34.91697,
          -51.55136,
          -42.843044,
          -39.845848,
          -21.198545,
          -15.368138,
          -45.91358,
          -28.570044,
          -30.724323,
          -21.890884,
          -4.4421797,
          1.2441823,
          -54.25489,
          -4.394215,
          -25.822723,
          -63.11485,
          -10.946707,
          -6.7383747,
          1.2651057,
          -46.785946,
          -43.076767,
          -66.38049,
          -39.076256,
          -25.905376,
          -54.496387,
          -26.146767,
          -41.991386,
          -34.13563,
          -38.10884,
          -36.084877,
          -33.83337,
          -32.348335,
          -32.366848,
          -29.83803,
          -48.46589,
          -43.143497,
          -26.183035,
          -59.130177,
          -10.28076,
          -8.161042,
          -2.3536403,
          -41.107597,
          -8.405648,
          -30.228819,
          -54.322186,
          2.8154044,
          -51.864056,
          -59.898582,
          -35.241314,
          -12.035594,
          -27.118471,
          -39.777534,
          -21.126093,
          -4.132418,
          -52.63482,
          -15.74458,
          -42.577682,
          -34.40986,
          39.960022,
          -35.075275,
          -47.467873,
          -40.586094,
          7.555591,
          -24.516718,
          9.672516,
          6.7861714,
          22.86815,
          -57.966255,
          1.3063147,
          -38.029903,
          1.2165273,
          9.554294,
          1.4138325,
          -30.079243,
          -12.7364855,
          -30.365547,
          -16.062223,
          -30.348913,
          -25.49208,
          -50.23844,
          -28.318867,
          -17.588226,
          -28.22847,
          -40.156048,
          -51.11372,
          2.2394102,
          -17.19059,
          -32.106533,
          31.162167,
          -27.897259,
          -39.096527,
          -52.141956,
          -36.05904,
          -1.4405689,
          -2.4200168,
          -1.609264,
          -18.955389,
          -62.175713,
          52.430645,
          -1.213651,
          -35.856453,
          -0.24587691,
          -28.344814,
          -56.70285,
          -50.434906,
          -27.20309,
          -21.345987,
          -29.340012,
          -1.6374302,
          -2.8993258,
          -2.0438442,
          -29.255531,
          -9.388788,
          -1.8806064,
          -1.9661697,
          66.96964,
          66.67114,
          -20.729616,
          -0.7898483,
          -44.206707,
          -39.699757,
          -51.057495,
          29.034813,
          7.679902,
          -9.701703,
          -63.150574,
          -23.00422,
          -7.3355775,
          -10.377462,
          -55.05023,
          -5.4643035,
          -41.50728,
          -9.094096,
          -33.777332,
          -35.82346,
          -15.9771185,
          -59.80848,
          -63.23327,
          -62.62535,
          -62.873817,
          -63.540264,
          -62.519894,
          -5.703105,
          -47.20834,
          -30.746828,
          -64.07471,
          -57.68985,
          -57.664783,
          -62.70702,
          -57.25926,
          -24.84103,
          -23.681074,
          -25.809086,
          3.0159733,
          -27.291636,
          -14.87526,
          -21.323366,
          -10.096043,
          -1.2106487,
          -18.745462,
          -53.784485,
          -52.871754,
          -28.365967,
          -30.283236,
          -27.304918,
          -40.765976,
          -28.303959,
          -39.64563,
          -41.000088,
          -13.003735,
          -34.738792,
          -32.277405,
          -5.659135,
          -28.794434,
          6.090064,
          -10.800484,
          -15.254511,
          -25.358904,
          -43.79587,
          -21.608469,
          -9.359662,
          -29.322023,
          -27.40465,
          -29.177536,
          -30.525797,
          -30.44109,
          -48.29168,
          24.14229,
          -43.370174,
          -36.690937,
          -52.673157,
          -15.004331,
          -63.184155,
          -36.247986,
          44.960266,
          -13.911198,
          37.736378,
          -22.171804,
          -51.979614,
          -9.381913,
          -38.578407,
          -57.518867,
          45.208767,
          -33.75186,
          -43.836277,
          -30.273945,
          -22.5599,
          -1.3293737,
          -41.057323,
          -4.8771396,
          -24.49973,
          -50.18398,
          -61.124325,
          -32.341335,
          -10.655459,
          -59.09914,
          -20.4347,
          -34.112934,
          -57.748577,
          -10.865566,
          -15.111051,
          -54.39269,
          -47.906605,
          -37.783535,
          -49.233047,
          -49.223778,
          -38.30525,
          -28.106468,
          -43.398277,
          -12.309191,
          -12.892038,
          -13.181943,
          -28.31599,
          -28.290611,
          -12.893334,
          10.085779,
          -4.6526885,
          -4.156895,
          -4.790208,
          -1.9563642,
          -40.06714,
          -41.671406,
          7.528038,
          -46.16697,
          -46.16239,
          -54.348152,
          -52.75966,
          -26.370386,
          -3.1747844,
          1.2271305,
          -6.4300838,
          -29.344318,
          -38.972572,
          -5.261312,
          -5.864552,
          -41.267864,
          -10.561198,
          3.4113078,
          -33.2133,
          -6.60307,
          -1.3014153,
          -57.216564,
          -39.38469,
          -38.567608,
          11.913098,
          -51.461655,
          25.607044,
          -62.89916,
          -39.85443,
          0.8487251,
          -44.03642,
          -31.22337,
          -32.243362,
          -60.38046,
          -0.07063004,
          -18.977556,
          22.370193,
          66.68289,
          -4.3953385,
          2.2702117,
          -35.8758,
          -31.978485,
          32.121513,
          -24.111578,
          -35.51376,
          -48.76382,
          -48.640903,
          -14.682971,
          -13.484488,
          -14.707641,
          -14.748434,
          -44.33708,
          -66.547745,
          21.702778,
          -57.02393,
          -53.082912,
          -29.763762,
          -48.93858,
          -19.06701,
          -55.143147,
          -55.357758,
          -49.61378,
          -41.762417,
          -9.172893,
          -3.10028,
          -24.931519,
          -30.77063,
          -27.156326,
          7.421283,
          -57.24316,
          -20.55641,
          2.6371686,
          -26.876995,
          -33.353336,
          51.46473,
          -11.275576,
          -15.0677805,
          -14.1490965,
          -15.352083,
          -14.997447,
          -6.9373364,
          3.5374238,
          -33.491047,
          -16.35583,
          -32.97301,
          -29.415575,
          22.833414,
          -38.02395,
          3.2963393,
          -36.39251,
          1.922147,
          -25.047195,
          -15.469132,
          -14.052124,
          -16.447277,
          -12.081059,
          -57.052937,
          -36.41393,
          -19.345314,
          -17.64337,
          -43.643444,
          -9.156172,
          17.695753,
          -24.25887,
          -10.24987,
          -31.182634,
          -37.058342,
          -29.657837,
          -37.073517,
          -11.165138,
          -15.8616495,
          -29.93865,
          -33.089127,
          -14.474012,
          -31.647535,
          -27.629715,
          7.781255,
          -32.26833,
          -36.102512,
          -61.427334,
          -46.2314,
          2.3922145,
          -11.943858,
          -13.481814,
          -17.79236,
          -13.621641,
          -41.297817,
          -16.076593,
          -60.095287,
          -32.38543,
          -31.216505,
          -57.01154,
          0.77073586,
          -38.60946,
          -57.085403,
          -55.26673,
          -15.040501,
          -14.154594,
          -48.71039,
          -16.513653,
          -38.081375,
          -14.975323,
          -65.73456,
          -12.212494,
          11.822742,
          -13.111922,
          -54.731358,
          -22.989935,
          6.3904524,
          -55.95597,
          -32.467445,
          9.720388,
          -16.350664,
          3.5440667,
          -28.087547,
          -26.475134,
          -16.121605,
          -15.592349,
          -27.472574,
          -41.564976,
          -6.774308,
          -2.5085354,
          1.4141699,
          -38.891594,
          4.8479147,
          -12.616235,
          11.4550705,
          -17.109123,
          -16.661554,
          -15.132297,
          -13.240517,
          -17.681376,
          -39.138477,
          -47.956673,
          -27.138315,
          -37.220505,
          -13.160577,
          5.817755,
          -2.7132416,
          -2.9609516,
          -3.7052202,
          -2.5692928,
          -2.5834143,
          -3.4021447,
          -52.00854,
          -12.405242,
          -56.467133,
          -53.25432,
          -27.899204,
          -10.563445,
          -57.198593,
          -38.663162,
          -34.31991,
          -39.466156,
          -22.031513,
          5.728115,
          -50.3443,
          -28.127592,
          -22.090296,
          -44.33168,
          -49.062668,
          -65.90579,
          5.9469438,
          4.6203117,
          -6.1104035,
          1.4677743,
          -31.331127,
          -32.221256,
          -47.187115,
          -32.199165,
          -56.01601,
          -33.839863,
          -2.5530093,
          -12.140759,
          -23.04152,
          -22.510006,
          2.325066,
          -34.112556,
          -23.9204,
          -24.797876,
          -22.333504,
          -57.28707,
          -24.589674,
          -34.94879,
          -62.136433,
          -49.245934,
          -49.937256,
          -7.744122,
          -35.268013,
          -30.214012,
          -46.44451,
          -10.17633,
          -41.132065,
          3.4201028,
          -46.768616,
          -40.778957,
          -51.21272,
          -53.082603,
          39.86508,
          -26.095129,
          39.97912,
          -33.78365,
          8.037598,
          -39.13466,
          -16.788702,
          -30.386581,
          4.8193655,
          -40.886017,
          -29.243355,
          3.5576038,
          -52.604908,
          -0.0039721713,
          -31.329939,
          4.452588,
          -59.453766,
          -48.261738,
          -21.675632,
          -23.575003,
          -25.678688,
          -45.20303,
          -14.581098,
          -5.798128,
          2.2586334,
          -6.80339,
          -2.040627,
          -23.348423,
          -10.06754,
          -39.20029,
          -5.1542754,
          4.523243,
          -28.592165,
          -35.52865,
          -16.326725,
          -60.5766,
          -2.2280622,
          2.7048514,
          -61.07337,
          -32.77154,
          -3.9089208,
          6.6460547,
          44.76624,
          -30.595282,
          -24.0138,
          -30.66987,
          -28.076693,
          -24.261364,
          -53.35911,
          -61.107235,
          -42.67194,
          -43.38766,
          6.0273757,
          -14.881341,
          4.1180253,
          -40.0692,
          -18.10064,
          -8.977064,
          -44.318012,
          -7.988823,
          -62.395977,
          -53.139633,
          -57.4564,
          -41.646862,
          -26.206902,
          -37.335682,
          -37.777786,
          7.781827,
          -52.078823,
          25.95321,
          24.252407,
          -53.614357,
          -24.80343,
          -3.6340468,
          -37.06769,
          -14.08447,
          -2.3196015,
          -28.751661,
          -47.37867,
          5.8103223,
          -58.56533,
          -57.797207,
          -39.1547,
          -49.062706,
          -18.540415,
          -15.853092,
          -32.738472,
          -23.099169,
          -36.8165,
          -36.988537,
          -30.014603,
          -34.79568,
          4.1752734,
          7.7110643,
          -26.116234,
          -53.53297,
          -42.340572,
          -3.274337,
          -48.073067,
          -45.232346,
          18.513832,
          22.829615,
          -45.70019,
          18.33653,
          -16.00717,
          -43.53003,
          -36.73048,
          5.6302023,
          -53.55476,
          -34.504307,
          -9.4454565,
          0.056544967,
          -45.42147,
          -23.100288,
          -26.474955,
          -37.989925,
          -21.56925,
          -26.621191,
          -33.887245,
          -6.5844746,
          -42.006493,
          -42.77165,
          -55.537453,
          -41.44848,
          -39.855816,
          -31.953146,
          -31.925482,
          -18.694986,
          0.5519524,
          -8.131304,
          -38.92975,
          -6.389617,
          -42.295265,
          -37.85281,
          -43.70384,
          -46.344574,
          -40.21361,
          -56.177074,
          -34.34428,
          -43.13447,
          -54.75155,
          -24.093784,
          -13.213134,
          -56.244545,
          17.26683,
          -49.162136,
          -40.470535,
          -54.232624,
          -51.390266,
          -15.679765,
          -40.15474,
          -22.24378,
          -2.6311283,
          44.869694,
          -38.108376,
          -25.028908,
          -60.196873,
          -35.47701,
          -32.427998,
          -19.450071,
          67.993195,
          -2.8993123,
          -13.919388,
          -9.381737,
          10.085039,
          32.123642,
          21.702845,
          51.46526,
          23.533583,
          4.452565,
          0.5522581,
          33.635826,
          6.653584,
          14.741437,
          -44.543922,
          30.95284,
          -44.86794,
          10.232538,
          39.250557,
          7.9038973,
          11.167639,
          19.08838,
          23.060274,
          15.358872,
          58.288937,
          28.834654,
          6.306418,
          48.903625,
          15.6079645,
          23.529564,
          -66.901596,
          27.490438,
          -10.9643345,
          -19.465652,
          58.61499,
          27.931889,
          -20.133968,
          -9.980568,
          6.4812555,
          17.054165,
          52.953014,
          -1.4626222,
          49.311085,
          10.916278,
          21.916698,
          2.6429183,
          -5.192982,
          -19.600615,
          -5.228672,
          46.539852,
          28.230064,
          37.057625,
          -3.5768456,
          33.214157,
          6.5493603,
          52.697918,
          52.511185,
          52.60921,
          -11.998054,
          -11.339502,
          29.002167,
          -2.281658,
          38.29152,
          36.428295,
          30.476398,
          -5.5098004,
          17.699923,
          8.729147,
          2.0660653,
          27.005423,
          -19.352234,
          35.66663,
          21.863663,
          -0.9640682,
          31.893242,
          29.59069,
          35.484856,
          35.278152,
          2.0887592,
          13.62635,
          -27.727715,
          25.495552,
          28.720982,
          29.699575,
          57.184994,
          17.537718,
          43.177784,
          43.756767,
          42.61067,
          -3.1487632,
          40.20252,
          40.831223,
          44.072845,
          12.674875,
          8.198623,
          37.113144,
          42.99469,
          25.994017,
          -9.672498,
          -9.675148,
          16.745441,
          40.737103,
          12.243173,
          2.8650858,
          11.027264,
          3.5499344,
          41.183857,
          9.705121,
          42.084663,
          40.25358,
          40.507217,
          -34.05428,
          4.4584646,
          40.253647,
          38.48263,
          53.485058,
          4.132839,
          -6.718242,
          2.096975,
          14.385589,
          67.63221,
          12.376418,
          9.6772175,
          20.19941,
          -7.0219326,
          29.53128,
          22.329062,
          37.027527,
          50.63623,
          51.11494,
          26.006027,
          -5.9711256,
          -6.799336,
          -0.62646484,
          -5.989173,
          -21.495226,
          3.155386,
          -4.07177,
          -15.438866,
          38.757618,
          31.362366,
          14.869842,
          61.844276,
          20.53357,
          -9.934221,
          20.316854,
          47.999023,
          43.012394,
          52.272846,
          12.772129,
          27.758017,
          20.155243,
          28.699457,
          49.12972,
          2.678364,
          2.693359,
          52.445812,
          20.774788,
          21.311485,
          2.1024475,
          21.913418,
          23.45715,
          -4.480838,
          -4.369267,
          16.967798,
          35.4047,
          34.72049,
          -18.383873,
          -6.0588307,
          24.407293,
          -11.254717,
          48.534702,
          33.946526,
          9.222422,
          -16.873014,
          9.754154,
          20.264969,
          22.278898,
          31.298119,
          37.01802,
          35.193977,
          29.571709,
          4.8359036,
          50.82858,
          55.096493,
          3.0344627,
          4.330881,
          55.74492,
          39.51165,
          -48.98362,
          26.270529,
          34.106373,
          34.702118,
          52.415592,
          -55.729855,
          39.440117,
          52.068623,
          9.207485,
          34.923088,
          35.722652,
          13.726258,
          32.999813,
          18.887083,
          14.07254,
          25.809381,
          23.667704,
          25.595594,
          14.291339,
          13.754493,
          61.577053,
          26.736906,
          12.856738,
          -0.41359362,
          30.533827,
          14.311328,
          58.042236,
          2.836888,
          -67.89796,
          4.128566,
          42.209488,
          28.87336,
          26.780888,
          18.498634,
          39.02148,
          39.077793,
          40.089542,
          39.237724,
          -3.1723537,
          28.743893,
          33.295742,
          25.353449,
          11.843983,
          4.3090467,
          21.999485,
          1.7443011,
          35.411263,
          -19.647285,
          23.2634,
          26.291224,
          7.880068,
          5.4023943,
          27.897528,
          31.305285,
          55.034203,
          47.52439,
          -25.162546,
          43.06356,
          48.846085,
          46.93762,
          20.506563,
          25.304312,
          29.699923,
          -56.75044,
          50.930336,
          8.384643,
          8.8333435,
          49.4718,
          39.769814,
          44.51233,
          54.807457,
          48.11109,
          18.684095,
          49.607277,
          58.99793,
          13.589041,
          40.880013,
          32.36292,
          29.467176,
          31.565516,
          -16.756475,
          24.891645,
          49.836823,
          6.2580776,
          28.67054,
          5.948688,
          1.7606262,
          -1.8852885,
          8.828125,
          40.727413,
          50.986225,
          34.972137,
          38.62909,
          33.881153,
          8.251491,
          24.574295,
          65.93494,
          50.63721,
          35.222355,
          31.419697,
          50.34235,
          30.897245,
          17.407183,
          58.346382,
          39.625824,
          59.7688,
          59.861465,
          58.1159,
          59.97477,
          58.641823,
          60.912754,
          49.06713,
          25.801022,
          30.54504,
          6.939279,
          32.26012,
          26.8624,
          11.465624,
          36.112698,
          25.694912,
          58.65323,
          -45.213783,
          59.43032,
          15.219039,
          0.30256703,
          26.541178,
          61.144714,
          50.118877,
          25.240738,
          4.7542233,
          -1.2214122,
          50.023907,
          35.25509,
          23.220776,
          58.810757,
          45.60569,
          28.419193,
          50.093235,
          28.98704,
          28.081795,
          62.9119,
          62.87939,
          14.405578,
          47.4106,
          32.063557,
          13.160024,
          1.5818627,
          26.559294,
          34.080727,
          52.0826,
          -22.128263,
          3.9063785,
          45.925457,
          -15.984118,
          37.65507,
          -30.126942,
          53.63528,
          60.730328,
          62.39673,
          63.350544,
          63.483337,
          61.240067,
          63.41936,
          40.736458,
          31.719461,
          3.5270462,
          45.490788,
          50.130775,
          47.521126,
          46.96187,
          49.236397,
          51.80687,
          19.936201,
          52.066742,
          29.642887,
          -17.90184,
          29.634592,
          31.647596,
          58.45354,
          55.10004,
          60.473446,
          25.676527,
          31.997454,
          18.331974,
          20.510645,
          37.330822,
          23.139673,
          30.663689,
          39.03438,
          48.408085,
          -4.37617,
          20.756458,
          9.6299515,
          39.576885,
          47.03766,
          16.986925,
          -8.369591,
          40.385193,
          63.988598,
          49.904713,
          9.163328,
          -1.969029,
          22.779554,
          33.00124,
          59.031612,
          60.206936,
          47.000072,
          53.43335,
          28.154875,
          15.44796,
          50.640778,
          28.654963,
          16.507395,
          43.43502,
          35.370968,
          61.557323,
          4.353964,
          16.185131,
          33.02778,
          57.535202,
          7.507749,
          -17.786097,
          20.703276,
          20.121096,
          34.69028,
          33.513577,
          30.784426,
          48.83634,
          38.81056,
          27.090708,
          21.096628,
          22.444988,
          58.008896,
          60.41065,
          59.077568,
          59.007996,
          59.116413,
          59.430725,
          57.411705,
          58.874992,
          48.6273,
          1.948779,
          12.728909,
          25.101442,
          38.03194,
          60.2338,
          54.93064,
          54.253105,
          54.562717,
          54.503464,
          56.094337,
          47.30503,
          46.778427,
          46.812553,
          53.649582,
          17.360687,
          27.206741,
          -22.088814,
          7.7334843,
          45.215767,
          28.342424,
          27.867456,
          53.72456,
          35.636913,
          21.06953,
          -2.9091444,
          33.552498,
          35.554916,
          15.941916,
          59.30331,
          61.557564,
          25.730665,
          40.408688,
          28.298553,
          33.684937,
          44.238518,
          37.19711,
          5.416027,
          5.8489356,
          25.883808,
          56.863953,
          44.088398,
          0.18026738,
          0.8946607,
          0.589492,
          28.463976,
          28.39856,
          36.96828,
          37.220375,
          37.381496,
          48.652073,
          37.035843,
          38.772087,
          60.085712,
          10.393952,
          -7.5496764,
          27.85376,
          28.894764,
          16.429937,
          28.874676,
          50.834587,
          12.246384,
          16.76912,
          50.877533,
          28.279028,
          -12.705054,
          21.505093,
          30.84442,
          12.437919,
          7.508456,
          39.16402,
          -3.1959987,
          10.597796,
          3.4788737,
          15.170969,
          38.794994,
          15.335777,
          18.409742,
          24.908295,
          24.792744,
          9.75234,
          4.6201754,
          6.265539,
          29.767414,
          -0.33703676,
          17.22318,
          37.283493,
          9.000495,
          19.044344,
          19.80809,
          30.2636,
          32.318344,
          -6.6549716,
          -21.918766,
          18.658884,
          32.009037,
          17.165522,
          4.9735723,
          1.0296957,
          24.732662,
          3.6797369,
          20.759794,
          25.751574,
          14.883709,
          54.415936,
          40.984955,
          29.39495,
          19.400875,
          21.847881,
          16.362358,
          21.913364,
          -8.294539,
          -17.33182,
          9.1886215,
          41.521732,
          19.849874,
          11.281278,
          -16.124735,
          2.3173485,
          22.977947,
          -21.079384,
          42.737526,
          19.162338,
          19.09883,
          29.41901,
          19.215693,
          26.940956,
          45.57327,
          50.12451,
          -8.410302,
          42.537243,
          36.18121,
          -22.51917,
          34.186283,
          32.187515,
          59.776535,
          51.690178,
          32.763454,
          42.370068,
          -7.785137,
          -54.67914,
          0.9955233,
          19.396263,
          19.20417,
          9.440125,
          57.69282,
          45.647808,
          17.134426,
          21.160742,
          0.6209134,
          9.679197,
          17.11182,
          34.545418,
          25.564842,
          22.899996,
          22.478188,
          -22.163294,
          28.23495,
          29.329597,
          -17.687067,
          9.362628,
          54.63839,
          56.26319,
          33.069782,
          -18.904638,
          31.149328,
          53.511055,
          42.775578,
          18.861765,
          44.51901,
          30.92651,
          30.186005,
          43.731045,
          32.973064,
          35.808445,
          28.562834,
          18.512962,
          -11.451899,
          30.083918,
          18.485674,
          34.67375,
          19.955276,
          15.418044,
          22.231037,
          63.441498,
          53.268105,
          24.190283,
          60.90888,
          48.12876,
          -11.594141,
          48.156418,
          64.45637,
          23.30165,
          28.246988,
          -11.0005245,
          42.169975,
          36.94118,
          9.376299,
          49.809578,
          46.157104,
          47.594776,
          34.233345,
          24.419928,
          -4.5357633,
          53.430523,
          14.475588,
          34.57447,
          -5.797285,
          24.450033,
          34.27374,
          24.83241,
          47.293354,
          22.685266,
          50.16265,
          44.95146,
          21.412449,
          16.086876,
          54.519283,
          12.750082,
          7.881094,
          4.2638507,
          24.435814,
          33.731953,
          32.258354,
          26.384537,
          34.26075,
          -3.4435644,
          -12.994612,
          20.934744,
          55.155514,
          26.180159,
          28.810623,
          26.39456,
          50.571682,
          26.954317,
          44.393936,
          16.426949,
          -0.2694665,
          21.694815,
          27.08019,
          12.956297,
          -3.4595156,
          57.60058,
          62.74734,
          -0.7837571,
          16.186468,
          33.743256,
          -1.0072882,
          -2.6180956,
          40.473274,
          14.484353,
          45.77662,
          46.51686,
          -31.019949,
          -15.682256,
          -7.145339,
          60.164066,
          12.752157,
          35.119156,
          27.66271,
          27.574793,
          44.435707,
          -19.692705,
          22.9256,
          49.878887,
          19.016268,
          37.77853,
          39.82969,
          55.68861,
          56.046223,
          52.899696,
          57.011974,
          8.187822,
          27.470901,
          58.231438,
          64.56095,
          20.35224,
          30.287579,
          14.0686035,
          14.150801,
          56.0691,
          28.043425,
          39.299465,
          28.145155,
          37.072502,
          14.229094,
          36.20596,
          13.639304,
          50.42938,
          40.02133,
          39.075222,
          61.975475,
          -1.8344096,
          21.387672,
          14.105765,
          10.990616,
          28.97642,
          -3.1952527,
          20.054884,
          13.682233,
          33.55846,
          52.891895,
          -2.9677136,
          50.819843,
          53.34798,
          42.614883,
          12.143233,
          24.069029,
          23.550926,
          58.163242,
          48.01105,
          46.669876,
          19.80048,
          29.905907,
          29.279417,
          58.52062,
          15.7306,
          25.369255,
          10.447186,
          15.171677,
          18.315102,
          -32.316868,
          -1.229143,
          26.869972,
          41.695328,
          17.576279,
          7.025547,
          57.025402,
          54.46884,
          10.689117,
          51.42421,
          59.101818,
          7.8406863,
          18.869587,
          11.690392,
          46.677673,
          13.597607,
          9.591416,
          51.330437,
          31.22656,
          31.988358,
          58.45669,
          37.19251,
          -17.157604,
          7.7032514,
          23.214579,
          9.099835,
          19.346169,
          62.17013,
          2.5916185,
          -19.872972,
          32.68478,
          30.34173,
          26.575403,
          12.432931,
          11.564205,
          32.964615,
          -2.8017733,
          41.44685,
          2.3831847,
          27.143023,
          59.294266,
          31.330378,
          11.550501,
          15.018927,
          6.976335,
          26.081545,
          12.105394,
          27.751833,
          13.8706255,
          59.116463,
          38.043583,
          36.47659,
          11.850207,
          -1.6760098,
          35.33923,
          -9.269557,
          13.7840185,
          39.17943,
          14.4244,
          55.23733,
          24.280945,
          11.914282,
          24.798405,
          10.980984,
          15.23295,
          35.964394,
          8.843131,
          10.222664,
          3.7035737,
          1.532054,
          51.075035,
          26.150833,
          36.307,
          15.896084,
          5.328175,
          31.132793,
          60.473957,
          2.4911423,
          42.701996,
          42.304325,
          25.430096,
          11.748377,
          11.609863,
          5.2761273,
          13.327007,
          35.696392,
          23.081282,
          34.32765,
          -1.9043078,
          2.7379003,
          27.260582,
          47.522095,
          20.794563,
          13.7610655,
          27.800932,
          51.60898,
          18.074192,
          26.276512,
          48.936142,
          -22.28483,
          9.681264,
          53.198677,
          53.712612,
          39.689278,
          20.354403,
          30.374481,
          53.094223,
          4.402311,
          49.211334,
          21.081354,
          26.431673,
          53.287655,
          41.38837,
          -5.8172874,
          63.84377,
          -0.3178724,
          19.740765,
          47.85168,
          62.01407,
          62.058628,
          0.882391,
          50.243023,
          32.111073,
          -5.2536197,
          8.456056,
          51.34291,
          29.902023,
          15.084878,
          50.28215,
          21.17364,
          -3.4645019,
          28.124708,
          12.170504,
          13.965732,
          43.62264,
          24.492378,
          7.361944,
          24.709923,
          -22.101076,
          23.074831,
          18.173616,
          28.936232,
          -26.902935,
          56.089485,
          29.598866,
          -2.0159245,
          11.968025,
          -21.538437,
          -54.677372,
          49.22617,
          17.734947,
          -54.677288,
          40.932125,
          -5.180292,
          38.779106,
          48.141914,
          24.450426,
          32.76392,
          2.5578282,
          -27.745995,
          6.337518,
          8.946497,
          13.102907,
          9.3280325,
          57.70954,
          57.836296,
          48.090267,
          41.551716,
          24.190157,
          14.808339,
          7.5394764,
          18.565195,
          -18.341583,
          23.960619,
          57.17218,
          20.56442,
          26.255651,
          6.9175453,
          29.732195,
          12.760458,
          13.828163,
          30.885614,
          8.8755,
          34.911804,
          12.51686,
          12.172864,
          13.821038,
          12.533898,
          29.14129,
          36.59359,
          34.6426,
          12.941282,
          44.119766,
          5.8151865,
          60.960274,
          26.64406,
          30.239372,
          29.579315,
          42.26285,
          13.819294,
          9.574432,
          32.406487,
          -12.142344,
          56.183502,
          56.74408,
          38.124992,
          -6.854939,
          40.296772,
          23.699383,
          57.5526,
          51.922264,
          0.2017123,
          -2.7510529
         ],
         "xaxis": "x",
         "y": [
          -12.483697,
          -39.384804,
          -12.080384,
          -16.16194,
          -16.17914,
          -16.542192,
          -16.593544,
          -29.76891,
          -4.520509,
          23.163048,
          9.700715,
          9.704869,
          -35.666046,
          -42.206364,
          -5.6032333,
          -33.871742,
          -37.091797,
          -10.809907,
          -5.0214458,
          -32.834976,
          17.501837,
          34.57632,
          -33.037895,
          -28.532068,
          -17.983927,
          -28.467474,
          -29.902405,
          -11.2372265,
          -32.95475,
          -22.908014,
          -11.104468,
          9.057789,
          -21.612242,
          -14.29495,
          -13.961299,
          -13.98632,
          -15.567346,
          -23.382229,
          22.553993,
          -8.467363,
          -23.384418,
          -5.3185067,
          -0.75315034,
          -24.360714,
          19.662874,
          -22.133215,
          -28.79572,
          -0.8805438,
          -0.97665596,
          -12.40587,
          22.45501,
          -22.250025,
          -3.5746472,
          3.4500184,
          -6.7189193,
          22.106943,
          18.377108,
          -36.77108,
          -4.173329,
          -5.0180497,
          18.544682,
          -28.179296,
          3.597999,
          -10.876353,
          2.6171694,
          -21.927399,
          -17.42486,
          -6.191109,
          -2.1438768,
          -24.22348,
          -31.023333,
          26.26638,
          -27.750767,
          27.012455,
          27.53654,
          17.288425,
          -16.864517,
          -27.41496,
          16.381216,
          -41.757988,
          -28.751703,
          -35.16145,
          15.0840025,
          -7.157919,
          19.4002,
          -5.953872,
          10.438211,
          -33.351444,
          -2.6212997,
          -1.0843209,
          -1.0208039,
          -34.895138,
          -20.908209,
          -19.184555,
          -19.188852,
          -18.870424,
          -8.462572,
          -27.352757,
          -11.09267,
          -28.097628,
          26.028883,
          -1.9383963,
          -18.9765,
          -34.5413,
          12.008946,
          27.446253,
          27.431665,
          3.4392607,
          -13.144791,
          18.553982,
          13.922762,
          17.342339,
          -22.916582,
          -10.627025,
          -23.494793,
          -29.074202,
          33.88272,
          32.897453,
          33.993534,
          24.76738,
          -21.990723,
          24.84249,
          -19.372274,
          2.8810813,
          -8.192852,
          -21.257116,
          -35.622562,
          23.152994,
          -36.21862,
          -43.52,
          24.102518,
          -38.169243,
          24.314669,
          -25.341925,
          17.271206,
          -8.824397,
          16.790495,
          -9.639621,
          -9.678979,
          -34.15414,
          -42.147747,
          -33.096436,
          29.319588,
          24.298754,
          -32.73859,
          -37.608875,
          -9.113682,
          8.44844,
          -3.335521,
          -36.908283,
          -40.910564,
          -5.3043666,
          -14.743487,
          11.803773,
          19.772291,
          -7.13965,
          25.763885,
          -4.97544,
          -21.3775,
          21.890823,
          -6.2814465,
          10.034537,
          -16.891703,
          26.771826,
          -42.73967,
          27.860786,
          0.73593795,
          16.741703,
          -34.248856,
          0.5088013,
          -36.099228,
          14.463047,
          -27.83669,
          -42.369987,
          10.1255455,
          22.463942,
          -12.9751,
          24.39525,
          2.0494554,
          14.000365,
          -25.211378,
          -10.896116,
          -25.37288,
          -8.437096,
          -37.66081,
          18.02982,
          0.7305502,
          -26.266247,
          -30.391146,
          37.009823,
          -0.94803023,
          -10.241136,
          -27.299898,
          -11.828756,
          -25.487759,
          33.825882,
          -2.6709595,
          2.0839906,
          -26.346512,
          -10.724581,
          -23.555199,
          -24.950623,
          -12.708998,
          -38.012276,
          -33.458866,
          -16.20867,
          6.3936653,
          -15.234026,
          -35.356422,
          -17.945633,
          -1.2722044,
          12.899961,
          -29.68946,
          22.71266,
          -22.367563,
          -33.723934,
          -13.580366,
          8.2886505,
          -23.330002,
          -22.956228,
          -0.18848868,
          -16.713467,
          15.522588,
          -21.031937,
          28.692425,
          -38.559223,
          4.761768,
          4.8469124,
          4.9529157,
          17.300081,
          28.697119,
          -12.190397,
          -17.0778,
          34.309875,
          34.542362,
          34.13593,
          1.9708366,
          6.8513937,
          -14.805936,
          27.47676,
          -39.638664,
          -27.259972,
          -16.415632,
          -9.204087,
          -6.473005,
          -10.6398735,
          30.288643,
          -10.774235,
          -36.004883,
          -28.288025,
          -16.768368,
          22.270712,
          -23.875431,
          -18.751074,
          -37.129734,
          -18.851393,
          -3.4361837,
          5.013083,
          -13.783536,
          -38.214664,
          32.556915,
          -38.61461,
          0.4560485,
          -13.070114,
          28.183174,
          -3.3563554,
          15.766274,
          -34.0179,
          -39.06401,
          -24.67395,
          -13.634082,
          -28.250479,
          1.8157738,
          -9.171052,
          20.116669,
          -26.025808,
          -20.61825,
          -11.853094,
          -26.005568,
          28.172405,
          -4.702751,
          -34.512226,
          15.614081,
          26.895931,
          -2.822621,
          -28.090548,
          -20.123056,
          10.623213,
          -24.837313,
          -29.846893,
          -31.603539,
          6.734366,
          -40.11728,
          -24.49532,
          -1.7180759,
          -12.609503,
          -21.308704,
          4.1444826,
          -1.4852693,
          -9.356834,
          4.8667274,
          -8.738819,
          8.582946,
          -15.244402,
          2.20188,
          34.535503,
          33.875057,
          -4.36263,
          -28.631672,
          -17.559877,
          -31.311394,
          18.282919,
          30.705183,
          19.630579,
          -22.263685,
          -21.600529,
          3.559133,
          -31.523218,
          17.880236,
          -26.674152,
          19.60326,
          18.343756,
          -6.0195622,
          -19.441113,
          7.7119174,
          36.467823,
          -29.69897,
          -26.347567,
          -28.105307,
          -11.064688,
          -3.1153576,
          2.9642367,
          -25.79408,
          15.423801,
          -27.499037,
          -17.042603,
          -4.65487,
          27.58582,
          21.174547,
          -26.02299,
          -1.3046137,
          -1.0588831,
          -32.48229,
          -33.753796,
          26.119917,
          13.273689,
          -17.546017,
          4.2799854,
          26.491108,
          -35.072872,
          2.8809927,
          21.324263,
          -32.060505,
          -20.57021,
          2.5796533,
          18.947655,
          13.931515,
          7.9491014,
          -28.352526,
          -10.517497,
          0.45741364,
          29.79417,
          21.400972,
          -24.620613,
          -30.081013,
          -32.02298,
          -9.564108,
          -32.439766,
          33.84795,
          -14.9683485,
          -26.025835,
          26.016884,
          -17.12553,
          -2.3396828,
          -40.56947,
          33.819016,
          -30.677881,
          4.382324,
          -15.771858,
          -35.735527,
          -35.747246,
          -24.111094,
          22.216099,
          -31.622276,
          26.861578,
          -8.673553,
          -9.130604,
          -33.59531,
          -14.439554,
          -14.4506855,
          -6.951929,
          -6.0148478,
          -31.225578,
          10.586921,
          -11.152517,
          -11.840747,
          -17.502876,
          -29.788845,
          -9.4531975,
          -34.20189,
          -13.603076,
          8.412429,
          -21.064552,
          -27.790121,
          -0.65500283,
          -16.73542,
          25.413462,
          16.081528,
          -12.666025,
          26.242432,
          -32.352364,
          -21.90472,
          34.62268,
          -9.143076,
          2.1301816,
          9.950616,
          -21.677656,
          -36.607616,
          -28.377592,
          -2.6143212,
          29.72369,
          40.005795,
          14.1840105,
          4.753843,
          -26.323233,
          41.0004,
          -7.0141044,
          40.945614,
          40.825493,
          8.989102,
          -15.707188,
          29.645721,
          32.14389,
          20.127296,
          32.14944,
          28.572298,
          -19.018152,
          25.07278,
          31.608595,
          32.816982,
          -11.3146,
          -25.553099,
          14.962047,
          32.57001,
          -22.221533,
          -12.885001,
          3.6491783,
          14.426165,
          -19.176268,
          0.8830312,
          -11.744885,
          25.386429,
          25.479452,
          -23.961395,
          -16.467878,
          3.5133736,
          25.735016,
          -35.918728,
          -29.104559,
          -11.210795,
          -24.946981,
          -14.529874,
          -0.78669804,
          29.912127,
          26.453375,
          18.20119,
          14.678741,
          40.88245,
          30.100134,
          20.643599,
          32.039974,
          31.937021,
          24.771593,
          25.047283,
          -8.406224,
          -23.296505,
          -21.401316,
          -2.804256,
          -8.430187,
          26.649446,
          -33.95387,
          -27.576574,
          -8.948137,
          30.950014,
          -2.6604245,
          0.2238405,
          -7.274086,
          19.550245,
          -35.28603,
          11.13255,
          -6.4749246,
          -2.3024218,
          -33.17052,
          -14.4796295,
          -6.15354,
          -6.4262705,
          -8.5762,
          -5.8275814,
          -15.044469,
          8.534551,
          -13.288003,
          -10.439004,
          -5.082521,
          9.42817,
          8.164526,
          -8.259187,
          8.812787,
          33.072727,
          31.917437,
          34.59812,
          -32.797626,
          -23.165274,
          32.539314,
          24.162813,
          9.197233,
          -32.149406,
          -24.905756,
          -7.464647,
          -11.548803,
          -13.035114,
          -7.081077,
          -12.802457,
          -33.01929,
          26.549213,
          -16.714518,
          -7.031397,
          0.028961498,
          -3.471475,
          -26.463448,
          30.104378,
          -30.199343,
          -11.001025,
          4.7003517,
          -33.321518,
          14.698931,
          -31.279306,
          19.951765,
          -27.49918,
          22.326452,
          20.168364,
          22.693634,
          28.391201,
          23.879915,
          -25.709545,
          22.54952,
          -12.904615,
          29.699944,
          1.7697096,
          -31.42242,
          -11.929133,
          21.928162,
          11.582573,
          10.740776,
          -12.280939,
          -9.249787,
          -19.645657,
          -21.801105,
          -26.857456,
          -25.123137,
          28.353992,
          -36.456184,
          -25.499287,
          22.65156,
          15.714793,
          -34.246002,
          -0.2150326,
          -5.5065837,
          14.505943,
          -18.89338,
          -26.606855,
          -2.1658163,
          -3.1752582,
          -20.808052,
          28.83796,
          -25.04631,
          -21.858168,
          -15.911628,
          17.866562,
          -13.994492,
          -22.68832,
          -19.708578,
          11.234453,
          11.230169,
          16.571508,
          -25.345423,
          -17.12822,
          -6.313892,
          14.514366,
          20.628069,
          35.020668,
          35.00996,
          28.052137,
          -23.005827,
          24.546532,
          24.65188,
          -5.485915,
          -38.393375,
          -37.280758,
          -1.2546154,
          -2.0944788,
          -2.7741306,
          -2.7523012,
          -10.3569355,
          1.7637779,
          15.886601,
          -21.324615,
          -27.264526,
          14.187634,
          26.538635,
          -25.347017,
          -2.3496716,
          -3.4038432,
          -18.979301,
          0.08700653,
          18.604288,
          -5.3326807,
          -17.574873,
          32.74407,
          -2.1465933,
          -3.1600828,
          16.047695,
          9.280881,
          -29.313145,
          10.8435335,
          -13.035895,
          -0.65091944,
          -38.916756,
          -19.896717,
          -23.723457,
          -23.33385,
          -6.4172115,
          -25.870495,
          -15.000987,
          2.1750357,
          19.665499,
          3.8617828,
          15.3376045,
          -5.7182446,
          -35.145206,
          6.1486425,
          30.461647,
          25.190289,
          -23.770779,
          -33.521255,
          25.4307,
          25.214224,
          25.257778,
          26.161982,
          -26.237581,
          -19.22224,
          10.664337,
          -4.9418488,
          -24.837605,
          -16.393946,
          -29.739693,
          -15.0446825,
          -16.308744,
          -16.448944,
          -20.916134,
          -39.942757,
          -42.242245,
          -23.850935,
          -25.893051,
          -10.242522,
          32.5334,
          -28.415531,
          -1.951014,
          18.639572,
          -20.883142,
          33.994816,
          -37.75811,
          1.7606119,
          -15.897014,
          -16.672672,
          -18.46165,
          -16.626558,
          -17.354425,
          -4.2674937,
          23.982332,
          -29.26241,
          -13.656923,
          -32.255672,
          30.501234,
          4.717282,
          3.671156,
          -21.687626,
          -38.48082,
          22.297472,
          23.867216,
          -12.209421,
          -17.94234,
          -15.14351,
          -30.35185,
          -28.569002,
          -10.060845,
          4.196574,
          0.35013103,
          -25.0771,
          -42.25771,
          32.282322,
          -17.5023,
          -10.25815,
          -34.189594,
          -34.151775,
          -25.484173,
          -7.5743527,
          -19.169212,
          -16.8538,
          23.377838,
          22.039124,
          -25.85348,
          -27.85761,
          29.662437,
          12.045049,
          -42.212795,
          -2.239481,
          -21.629639,
          -28.938864,
          28.975521,
          8.223677,
          -14.009071,
          -14.7044935,
          -14.045319,
          -14.291125,
          -27.137163,
          -21.954075,
          28.687153,
          -31.272272,
          -28.485546,
          40.557774,
          -37.584217,
          -26.016342,
          -12.854111,
          -14.033434,
          -16.900234,
          -17.044432,
          -14.075388,
          -6.8849454,
          -14.377573,
          -14.394173,
          -13.128519,
          34.11204,
          35.109528,
          -19.0218,
          -2.6238382,
          -35.287457,
          -25.081022,
          2.2301164,
          39.995388,
          -9.062019,
          -20.026102,
          25.190413,
          31.76357,
          -14.38535,
          -18.496828,
          17.069548,
          -31.935698,
          16.054846,
          -30.87979,
          -17.362598,
          -25.170193,
          24.762964,
          -13.41742,
          36.480373,
          -16.645754,
          -13.467574,
          -18.536093,
          -18.398563,
          -12.987683,
          -3.2069542,
          -10.664849,
          -33.411106,
          -14.69986,
          -18.074099,
          42.37524,
          27.929934,
          25.236298,
          -10.819472,
          28.371082,
          28.352354,
          21.156225,
          -14.1096525,
          -0.3490133,
          -26.376307,
          13.246203,
          -20.28221,
          -8.26009,
          -3.9650307,
          13.530226,
          -8.476662,
          -38.634235,
          31.31488,
          -4.078955,
          -27.788889,
          15.130894,
          -37.006916,
          -10.884099,
          0.2879473,
          -15.42804,
          23.484982,
          25.100374,
          -8.681605,
          15.738585,
          24.34111,
          -27.47369,
          -13.334673,
          -18.09478,
          -21.789917,
          -29.08796,
          10.220702,
          8.010492,
          -0.0055624843,
          0.52878284,
          29.043259,
          0.35750225,
          31.689894,
          32.973106,
          18.926659,
          -5.5658326,
          -42.816364,
          7.9097266,
          -22.487978,
          -13.632185,
          -2.3848333,
          -34.70285,
          -21.999512,
          -14.085172,
          -16.221937,
          17.245132,
          -26.62082,
          -32.804134,
          -14.080781,
          -3.7873302,
          -21.701656,
          13.592336,
          5.1449747,
          30.17793,
          5.2308493,
          -26.808311,
          15.375971,
          14.668893,
          -33.95215,
          -6.9297104,
          -13.86339,
          20.381771,
          14.451918,
          -23.935537,
          -1.5351934,
          -31.127527,
          31.549614,
          18.975739,
          -11.407689,
          -10.653518,
          25.42848,
          -21.156693,
          36.29227,
          23.578505,
          -35.830463,
          9.145919,
          33.685402,
          16.003527,
          -26.116259,
          -20.679077,
          17.225626,
          -6.8321133,
          -18.575891,
          -27.798283,
          2.3862004,
          -32.392334,
          -9.397305,
          1.4573925,
          -34.25355,
          35.33115,
          -16.417652,
          -32.790085,
          -26.97335,
          25.50943,
          11.936612,
          26.518932,
          -25.167475,
          26.559402,
          29.394768,
          -25.377584,
          -16.76559,
          -21.537535,
          -16.276182,
          -5.974511,
          27.714172,
          6.928328,
          26.893738,
          -6.8706784,
          31.586458,
          8.886603,
          -20.631025,
          27.413166,
          -16.23539,
          -15.245932,
          -19.068985,
          -20.726976,
          13.575941,
          -19.385857,
          -1.8922602,
          -5.6395836,
          -16.132647,
          2.9515293,
          2.1622849,
          -2.3150976,
          -11.581327,
          11.571479,
          -6.2088103,
          24.406672,
          9.233047,
          -15.064802,
          -26.122982,
          27.62136,
          2.442167,
          -16.74547,
          -31.024694,
          -7.4654884,
          -11.921437,
          24.769068,
          -33.453503,
          -14.655705,
          -30.182205,
          -34.52869,
          -35.93172,
          -39.075005,
          26.810526,
          38.604458,
          -2.1845593,
          -1.9629356,
          -11.506121,
          -4.0783973,
          -14.3620825,
          -17.369709,
          24.392849,
          13.203675,
          -8.433912,
          -9.53952,
          -28.842882,
          2.1210856,
          -29.634975,
          4.5119796,
          -20.912703,
          -35.681923,
          32.78388,
          33.434822,
          0.94836694,
          12.476817,
          -6.9929695,
          -4.3682513,
          33.7832,
          -20.13497,
          -27.530546,
          -14.0645275,
          -6.5898542,
          -10.370567,
          -0.43314764,
          -22.55078,
          -38.782627,
          24.99413,
          24.95015,
          -23.97195,
          12.274776,
          -0.8565872,
          -35.818638,
          -12.823527,
          -1.943478,
          -0.7441697,
          -2.2623625,
          -18.92209,
          -36.4538,
          -23.657513,
          1.1599493,
          -8.418022,
          -13.300233,
          31.247095,
          20.809395,
          -17.931177,
          32.25766,
          -24.065893,
          -19.64554,
          -26.407677,
          -23.087128,
          7.330506,
          -12.425461,
          26.617374,
          -16.461597,
          -4.924752,
          -42.28444,
          21.19772,
          -19.633749,
          -7.3326755,
          17.180939,
          -37.666756,
          21.890768,
          14.678682,
          10.740034,
          -21.801245,
          -23.005953,
          6.148461,
          10.66425,
          1.7605257,
          -17.267157,
          18.97563,
          12.2742195,
          -1.1846875,
          25.584108,
          5.7474265,
          11.071697,
          13.804225,
          12.323018,
          23.133669,
          6.292514,
          34.69101,
          20.91194,
          -2.1901631,
          -6.1986694,
          23.290863,
          19.017094,
          -12.545687,
          -7.474086,
          -9.71881,
          -18.158176,
          -10.813062,
          -19.257736,
          -0.030625936,
          -5.9251943,
          12.060362,
          26.88311,
          10.595547,
          -24.220253,
          13.616212,
          34.35403,
          -6.148279,
          -4.263303,
          -13.751493,
          -1.3780065,
          6.771296,
          -0.7401142,
          -7.3295517,
          -8.532183,
          18.642614,
          -18.511883,
          17.242304,
          2.7275376,
          -6.3583674,
          5.90114,
          2.652772,
          1.5803707,
          -10.0637245,
          -9.487363,
          -9.479773,
          40.71103,
          40.4249,
          21.68878,
          0.06791777,
          15.522877,
          25.877665,
          0.8733891,
          0.7331183,
          27.738565,
          -19.344414,
          -2.7996838,
          -20.953735,
          4.189399,
          7.99806,
          27.451618,
          6.743518,
          3.6300707,
          -7.0311775,
          0.2823528,
          0.30030388,
          -7.5238905,
          9.46952,
          -38.097286,
          -22.427805,
          21.482151,
          2.8863547,
          9.363377,
          -22.675592,
          9.786164,
          9.941184,
          9.107484,
          4.9378324,
          -8.034476,
          -7.7105355,
          13.616775,
          -27.308798,
          18.514008,
          33.032085,
          4.6610937,
          35.85481,
          44.26516,
          44.27703,
          -15.54485,
          -4.439728,
          0.10243141,
          -10.383749,
          3.5291443,
          3.7986388,
          18.664892,
          -8.119725,
          29.28619,
          -3.577344,
          10.608691,
          -43.213734,
          -9.710762,
          -0.8504043,
          23.788181,
          1.9576994,
          -14.239331,
          -21.31717,
          -25.173897,
          3.0708508,
          24.452293,
          28.067762,
          2.2201207,
          -16.955414,
          -0.6394109,
          -19.09734,
          -3.9453113,
          11.098674,
          3.6377447,
          8.42628,
          -6.063492,
          -0.82416195,
          -0.6628276,
          -12.861404,
          -24.983015,
          13.963921,
          9.139515,
          -2.450569,
          34.700893,
          24.362864,
          -8.336751,
          36.055058,
          26.0181,
          7.0012636,
          -20.967773,
          6.905517,
          -10.588044,
          20.059994,
          36.62469,
          -17.649815,
          7.7156563,
          -13.39476,
          -13.28197,
          15.545653,
          -16.298222,
          -16.2308,
          36.543655,
          7.082571,
          -6.609076,
          9.222363,
          27.504105,
          -12.057432,
          35.850685,
          35.98676,
          1.9255142,
          -3.4858527,
          -6.1476517,
          -2.389443,
          34.908123,
          -14.639735,
          41.26318,
          7.4912934,
          4.564463,
          -18.745993,
          19.737394,
          -17.488844,
          -22.689463,
          -16.733568,
          17.002708,
          14.991669,
          2.0080945,
          -0.5425374,
          -7.6027436,
          20.680248,
          25.230038,
          35.902157,
          0.24560483,
          18.465824,
          15.736111,
          -12.48049,
          12.709758,
          9.238372,
          8.2248125,
          9.853013,
          -10.760947,
          27.191725,
          9.907902,
          -10.014458,
          38.10573,
          1.8459109,
          -26.41671,
          32.18933,
          -12.086697,
          20.901611,
          22.355467,
          21.362844,
          22.006533,
          8.101161,
          13.916508,
          25.944674,
          1.1779876,
          -3.7640095,
          -1.7186514,
          5.1296573,
          -5.294709,
          13.726824,
          2.3138175,
          -19.86143,
          -10.445667,
          35.197056,
          14.591307,
          -13.161277,
          24.396143,
          30.381731,
          30.00905,
          27.851967,
          33.385067,
          -4.011936,
          13.102863,
          -4.103726,
          14.572289,
          14.9696665,
          8.375921,
          -12.072384,
          -39.544598,
          13.453857,
          11.533107,
          -4.945649,
          -13.134742,
          34.66399,
          6.853023,
          18.134386,
          17.10661,
          16.80518,
          2.8100533,
          -41.461056,
          29.384136,
          -8.339666,
          -8.596615,
          -29.985336,
          37.504997,
          1.2403871,
          -14.711478,
          21.939287,
          17.59068,
          5.18103,
          2.2986321,
          7.1588206,
          9.63303,
          18.313244,
          13.912388,
          10.034479,
          -10.312335,
          17.57175,
          27.820034,
          23.591457,
          24.430012,
          19.501776,
          4.206355,
          4.875019,
          -19.787956,
          11.064339,
          -17.036198,
          -21.37773,
          -3.3637342,
          0.03754599,
          3.8713822,
          8.01577,
          27.139116,
          17.387175,
          3.7211983,
          4.5734053,
          13.211362,
          5.25049,
          -22.0549,
          19.849014,
          -0.95472294,
          13.372953,
          11.081836,
          3.781967,
          8.771387,
          4.3916774,
          25.189276,
          -14.548259,
          9.404565,
          13.210052,
          4.881372,
          6.4541497,
          11.497311,
          9.810829,
          -14.550933,
          14.520312,
          -10.610684,
          0.20529641,
          15.478389,
          20.664108,
          32.74858,
          15.408361,
          18.297274,
          12.61495,
          23.568165,
          12.208604,
          -9.225124,
          -12.789324,
          -11.719968,
          28.2049,
          -8.170534,
          37.470196,
          7.584489,
          -6.3213882,
          27.557238,
          37.067986,
          23.093061,
          13.605985,
          23.043686,
          -7.732421,
          6.1230574,
          17.828148,
          15.299095,
          26.875826,
          26.928202,
          7.88205,
          17.277908,
          -5.536529,
          -2.0647788,
          -12.628799,
          -3.2186394,
          -12.298784,
          -12.506632,
          5.1298203,
          11.268279,
          4.7922406,
          16.201496,
          5.648655,
          10.077553,
          5.766325,
          9.7436,
          24.336329,
          24.359512,
          23.725506,
          27.858397,
          24.431011,
          33.965393,
          -7.1220617,
          14.967403,
          24.403221,
          6.551094,
          6.920598,
          6.8177905,
          4.531314,
          6.9538436,
          -11.019591,
          13.702104,
          6.8563766,
          11.52795,
          6.8215313,
          8.194057,
          12.908048,
          3.397133,
          24.083956,
          18.45921,
          2.2778814,
          -0.7790996,
          -29.986013,
          -10.114323,
          13.114091,
          -15.720475,
          5.295292,
          -10.324049,
          4.2755857,
          19.12825,
          4.6426063,
          22.872166,
          15.513777,
          -10.341568,
          11.909936,
          -3.7133431,
          27.322742,
          17.222319,
          -10.912266,
          -6.4947977,
          -9.304596,
          0.86250997,
          28.002295,
          2.5715094,
          11.658487,
          7.9816084,
          27.7043,
          -2.5839438,
          -12.392881,
          8.323964,
          -6.7608504,
          -12.056041,
          17.037458,
          14.844548,
          -4.935901,
          11.216853,
          -0.28598118,
          18.295746,
          -7.735648,
          -4.200776,
          33.878944,
          33.73287,
          30.539608,
          2.2044291,
          -1.5655988,
          -14.472457,
          -12.5499525,
          -7.062165,
          -6.286693,
          19.01713,
          27.93491,
          29.01021,
          28.620739,
          27.753036,
          29.43756,
          28.466362,
          29.320951,
          2.3779786,
          8.252318,
          -2.3542523,
          21.549149,
          -28.179535,
          -0.99130535,
          2.5988927,
          10.778622,
          10.8868065,
          10.715697,
          7.4021845,
          8.77108,
          10.206841,
          10.407414,
          11.67829,
          8.537187,
          8.285602,
          20.282122,
          5.094844,
          -15.155234,
          4.4774866,
          -26.4319,
          -18.019413,
          4.126025,
          30.629066,
          18.174162,
          1.3534,
          14.341514,
          28.682528,
          11.949949,
          17.851963,
          14.84442,
          -11.055814,
          -13.143625,
          27.382875,
          20.816092,
          4.9915967,
          9.428498,
          -18.90313,
          -16.891527,
          -12.713032,
          7.9967265,
          17.594769,
          6.259736,
          6.1715546,
          6.012726,
          -5.334179,
          -5.4127555,
          17.88782,
          18.437893,
          19.048115,
          6.4935794,
          -9.194471,
          28.871292,
          26.237566,
          -11.160164,
          -24.793879,
          -8.624504,
          -1.5242878,
          20.006422,
          0.8653703,
          12.649737,
          28.10539,
          -12.853847,
          10.178494,
          -20.054783,
          14.469142,
          11.38704,
          1.1437012,
          0.9557605,
          0.59506667,
          -13.564943,
          1.4052199,
          -11.727237,
          2.7892838,
          -3.5174208,
          34.044205,
          -25.797224,
          -23.29741,
          20.532124,
          -23.623196,
          -5.5395904,
          -4.849866,
          1.9897505,
          -13.009302,
          3.3960986,
          -12.842289,
          18.744333,
          -3.9696605,
          -4.2445936,
          -8.755918,
          -13.456813,
          0.45236385,
          -21.323217,
          -28.341503,
          1.6022034,
          25.18297,
          17.275764,
          11.830718,
          1.6055934,
          21.095621,
          -25.320444,
          -3.5352397,
          -10.006422,
          -0.945554,
          24.88728,
          -13.121075,
          -13.972437,
          -0.67878443,
          -0.611839,
          0.9650563,
          -9.024297,
          1.9672853,
          11.62536,
          20.588182,
          -1.8378803,
          -20.123947,
          -11.945706,
          11.626655,
          20.854294,
          -21.23729,
          -6.2362065,
          -13.043789,
          -20.67977,
          -21.137857,
          18.735035,
          3.3671556,
          8.064109,
          7.0224185,
          27.611004,
          -6.182048,
          35.496334,
          -5.018172,
          -28.41095,
          6.5398755,
          37.90255,
          28.816399,
          -9.143163,
          37.525753,
          -12.127956,
          4.865699,
          8.272542,
          -9.966666,
          -19.934172,
          -8.594698,
          11.731637,
          -3.248745,
          -8.728777,
          17.255276,
          -19.511757,
          -5.174421,
          -5.623486,
          23.116396,
          11.302288,
          38.968822,
          2.3088439,
          -14.679947,
          0.9069986,
          8.602379,
          2.219115,
          -23.541336,
          20.736094,
          2.5882266,
          2.1677272,
          -12.328627,
          15.038268,
          -2.0169675,
          -0.092457324,
          -4.4895587,
          -7.894913,
          0.25114763,
          26.42757,
          -11.500284,
          16.831488,
          -12.3276615,
          -20.828936,
          9.266705,
          14.412022,
          29.469389,
          11.673488,
          14.409878,
          -9.264362,
          -2.4650986,
          1.0803176,
          14.94293,
          28.953142,
          15.173341,
          10.337935,
          25.568941,
          -13.073597,
          -29.979904,
          -12.9720745,
          22.818516,
          13.713308,
          -10.350001,
          -22.375465,
          -13.556568,
          28.359514,
          -13.033981,
          2.276672,
          1.944716,
          -8.696939,
          -9.645221,
          8.724516,
          -0.9178046,
          14.986216,
          -20.49634,
          -17.927752,
          -11.36047,
          -24.493963,
          18.855373,
          -1.4039506,
          -0.21429536,
          -23.032143,
          -12.12041,
          20.709797,
          -18.400322,
          10.96142,
          18.278704,
          -17.814426,
          -9.180319,
          8.405859,
          1.370159,
          19.359632,
          37.88925,
          6.634667,
          16.02945,
          -7.4561257,
          40.713108,
          13.097747,
          6.939842,
          -14.077336,
          -23.512041,
          -22.861624,
          -0.462766,
          -23.98672,
          -3.762518,
          23.276752,
          -19.505367,
          32.391426,
          -22.738012,
          -27.108103,
          -8.592895,
          23.679043,
          12.760989,
          -19.047726,
          8.517477,
          19.345863,
          -19.006067,
          -16.733341,
          -0.93289375,
          -2.7952094,
          20.11794,
          8.653034,
          -12.0653105,
          35.625023,
          5.9939227,
          27.307697,
          -1.2121634,
          2.4672053,
          -17.92025,
          -3.41737,
          -2.712721,
          15.621216,
          14.834443,
          21.092176,
          2.6379251,
          -16.135822,
          23.908892,
          9.741214,
          8.687128,
          10.323012,
          17.378332,
          31.247934,
          -25.499321,
          5.0597944,
          29.795801,
          -3.1348822,
          12.539021,
          36.045193,
          36.01386,
          17.634504,
          2.4686902,
          12.817655,
          -7.7760296,
          -6.363302,
          24.044428,
          25.478653,
          24.479134,
          -10.642327,
          33.069378,
          31.898058,
          31.553951,
          38.213066,
          26.715837,
          24.166115,
          -11.0062,
          14.678774,
          -14.726634,
          33.769936,
          -21.028713,
          -4.3892655,
          -5.1761136,
          4.929134,
          21.012115,
          13.946184,
          -19.753983,
          -7.433223,
          6.420773,
          -5.535609,
          17.613337,
          7.6830816,
          -5.1913457,
          32.916325,
          -26.526897,
          4.0029373,
          7.981383,
          8.831852,
          21.940802,
          -4.35393,
          -7.5280623,
          -19.20334,
          -0.30178928,
          17.424286,
          14.512853,
          13.965831,
          2.7033637,
          -21.99716,
          19.421448,
          5.5997257,
          -2.4277618,
          8.250803,
          5.4254932,
          5.2031813,
          9.8107195,
          -6.138452,
          -5.250491,
          -14.381118,
          -0.2761436,
          10.824011,
          -22.752634,
          -22.430538,
          8.604564,
          9.792247,
          -24.904894,
          0.6217826,
          21.217434,
          -16.646395,
          6.5163536,
          15.198222,
          -2.0099757,
          12.009059,
          15.09435,
          10.979885,
          29.342962,
          -10.997238,
          19.863525,
          12.983007,
          -1.4028167,
          17.904207,
          -24.84842,
          -24.66086,
          30.473139,
          -2.033036,
          -11.057495,
          19.465195,
          -25.032381,
          29.126183,
          0.023579301,
          7.0259943,
          -26.55903,
          24.978361,
          -0.9707351,
          27.67659,
          -9.835017,
          -19.041561,
          28.450912,
          3.659976,
          -11.502545,
          -9.444849,
          7.8266997,
          25.74084,
          3.2940407,
          -6.6934147,
          -1.4407402,
          32.26998,
          -4.6568666,
          30.719732,
          7.6406536,
          3.5985997,
          23.143703,
          17.394802,
          6.0726886,
          -8.852868,
          13.157568,
          6.921155,
          3.3186016,
          -15.473979,
          15.643558,
          -11.8377075,
          1.8239682,
          3.0112486,
          -11.51267,
          21.21955,
          19.28643,
          7.1955934,
          -4.4074416,
          -2.5801969,
          -14.706771,
          10.850658,
          12.009752,
          -1.9885519,
          30.252047,
          -6.2587676,
          -20.522013,
          -14.391628,
          27.010736,
          7.392727,
          1.3416846,
          9.462487,
          18.809961,
          17.32184,
          -7.675082,
          3.2894108,
          4.991111,
          6.7756276,
          -13.706319,
          29.49686,
          12.277335,
          48.073017,
          17.09423,
          2.4932883,
          -22.810658,
          3.1998658,
          18.07214,
          -25.131205,
          28.241993,
          -7.336055,
          2.3226883,
          7.7841086,
          31.623865,
          31.551647,
          -7.4316325,
          37.434906,
          -7.2899795,
          4.8209205,
          16.948273,
          20.913923,
          -23.152903,
          -7.773848,
          37.41643,
          18.850197,
          -7.2987204,
          -23.358953,
          -3.1457343,
          -29.013773,
          17.539774,
          0.7228665,
          38.66201,
          -13.13696,
          -28.366205,
          -2.9121332,
          3.0060728,
          -13.837661,
          -5.9778786,
          5.7946563,
          -8.931387,
          -3.1441727,
          3.9283705,
          -20.906948,
          6.085805,
          27.10573,
          -16.044128,
          6.0666213,
          11.194952,
          35.178596,
          31.41847,
          14.086978,
          -8.466558,
          4.374886,
          5.8968744,
          -18.22527,
          -22.319544,
          6.3297095,
          7.3315606,
          -5.3360815,
          14.534204,
          15.248339,
          -1.6106265,
          14.03575,
          10.401297,
          -0.911337,
          -20.319368,
          -0.72858846,
          -2.1918435,
          -4.0407577,
          17.25301,
          -22.709389,
          -6.2329154,
          -20.844553,
          9.0107975,
          4.387406,
          -2.761136,
          3.085913,
          8.730964,
          6.5334325,
          12.967888,
          13.561127,
          15.349036,
          13.254489,
          -26.323082,
          -14.50992,
          -6.1540127,
          14.453622,
          20.175285,
          -15.721345,
          13.428259,
          3.0839565,
          -12.504322,
          -4.6273136,
          3.495708,
          15.403063,
          -5.1374893,
          15.2388,
          4.4186997,
          -0.71508676,
          8.587937,
          2.0270293,
          12.122756,
          31.0551,
          18.335928,
          -3.0794082,
          5.3446736,
          -1.0010445,
          -1.3814602
         ],
         "yaxis": "y"
        },
        {
         "customdata": [
          [
           "combinatorial pyramids and discrete geometry for energy-minimizing\n  segmentation"
          ],
          [
           "automatic spatially-adaptive balancing of energy terms for image\n  segmentation"
          ],
          [
           "a parametric level set approach to simultaneous object identification\n  and background reconstruction for dual energy computed tomography"
          ],
          [
           "generalized fast approximate energy minimization via graph cuts:\n  alpha-expansion beta-shrink moves"
          ],
          [
           "zero-temperature limit of a convergent algorithm to minimize the bethe\n  free energy"
          ],
          [
           "universal forces and the dark energy problem"
          ],
          [
           "energy density for chiral lattice fermions with chemical potential"
          ],
          [
           "aspects of electron-phonon self-energy revealed from angle-resolved\n  photoemission spectroscopy"
          ],
          [
           "reciprocal symmetry and classical discrete oscillator incorporating\n  half-integral energy levels"
          ],
          [
           "low energy aspects of heavy meson decays"
          ],
          [
           "discovery of a point-like very-high-energy gamma-ray source in monoceros"
          ],
          [
           "solar system constraints on gauss-bonnet mediated dark energy"
          ],
          [
           "dark energy and neutrino model in susy -- remarks on active and sterile\n  neutrinos mixing --"
          ],
          [
           "modeling the spectral energy distribution and variability of 3c 66a\n  during the webt campaign of 2003 -- 2004"
          ],
          [
           "search for very high energy emission from gamma-ray bursts using milagro"
          ],
          [
           "power spectra to 1% accuracy between dynamical dark energy cosmologies"
          ],
          [
           "the effect of a fifth large-scale space-time dimension on the\n  conservation of energy in a four dimensional universe"
          ],
          [
           "influence of phonon dimensionality on electron energy relaxation"
          ],
          [
           "dark energy interacting with neutrinos and dark matter: a\n  phenomenological theory"
          ],
          [
           "locating the peaks of least-energy solutions to a quasilinear elliptic\n  neumann problem"
          ],
          [
           "stopping effects in u+u collisions with a beam energy of 520 mev/nucleon"
          ],
          [
           "density dependence of the symmetry energy and the nuclear equation of\n  state: a dynamical and statistical model perspective"
          ],
          [
           "teleparallel version of the stationary axisymmetric solutions and their\n  energy contents"
          ],
          [
           "on the energy-momentum problem in static einstein universe"
          ],
          [
           "effective conservation of energy and momentum algorithm using switching\n  potentials suitable for molecular dynamics simulation of thermodynamical\n  systems"
          ],
          [
           "solving the high energy evolution equation including running coupling\n  corrections"
          ],
          [
           "probing dark energy with steerable wavelets through correlation of wmap\n  and nvss local morphological measures"
          ],
          [
           "global well-posedness and scattering for the energy-critical, defocusing\n  hartree equation for radial data"
          ],
          [
           "an inverse $f(r)$ gravitation for cosmic speed up, and dark energy\n  equivalent"
          ],
          [
           "flavor composition and energy spectrum of astrophysical neutrinos"
          ],
          [
           "the tensor part of the skyrme energy density functional. i. spherical\n  nuclei"
          ],
          [
           "energy conservation and onsager's conjecture for the euler equations"
          ],
          [
           "failure of the work-hamiltonian connection for free energy calculations"
          ],
          [
           "high energy variability of synchrotron-self compton emitting sources:\n  why one zone models do not work and how we can fix it"
          ],
          [
           "electronic structure of kinetic energy driven superconductors in the\n  presence of bilayer splitting"
          ],
          [
           "transfinite diameter, chebyshev constant and energy on locally compact\n  spaces"
          ],
          [
           "constraining the dark energy equation of state with cosmic voids"
          ],
          [
           "a dark energy model combining dgp gravity and chaplygin gas"
          ],
          [
           "metropolis algorithm and equienergy sampling for two mean field spin\n  systems"
          ],
          [
           "domain wall switching: optimizing the energy landscape"
          ],
          [
           "on reference frames in spacetime and gravitational energy in freely\n  falling frames"
          ],
          [
           "a kind of prediction from string phenomenology: extra matter at low\n  energy"
          ]
         ],
         "hovertemplate": "highlight=True<br>x=%{x}<br>y=%{y}<br>title=%{customdata[0]}<extra></extra>",
         "legendgroup": "True",
         "marker": {
          "color": "#EF553B",
          "symbol": "circle"
         },
         "mode": "markers",
         "name": "True",
         "showlegend": true,
         "type": "scattergl",
         "x": [
          -35.70346,
          -56.264862,
          -32.977345,
          23.533813,
          -10.6153555,
          17.673952,
          40.260345,
          40.147896,
          -4.0475335,
          32.56047,
          18.098217,
          13.721039,
          38.91866,
          56.90279,
          27.434832,
          26.226967,
          50.456112,
          41.787518,
          17.066004,
          3.5225003,
          0.7614699,
          59.920284,
          0.36181682,
          34.957,
          31.61017,
          54.488716,
          -7.878005,
          29.102665,
          -13.187667,
          -5.686423,
          31.79966,
          31.909536,
          61.71669,
          18.90142,
          2.3889704,
          52.033073,
          -5.15605,
          4.402527,
          48.026546,
          27.993477,
          16.055275,
          32.1239
         ],
         "xaxis": "x",
         "y": [
          -40.763042,
          8.767568,
          -5.292837,
          -17.266905,
          -37.705284,
          27.718172,
          -8.044778,
          -8.12499,
          -39.46643,
          32.64033,
          -16.406044,
          -27.294945,
          -12.940989,
          12.86625,
          30.462885,
          12.599394,
          27.758987,
          34.85449,
          -22.115753,
          2.8232055,
          -2.2712626,
          6.9673367,
          4.34171,
          -8.585811,
          2.6841226,
          2.425302,
          4.656819,
          12.33431,
          40.71198,
          -3.3989286,
          12.04481,
          8.035628,
          29.604288,
          -6.2723594,
          -25.059229,
          12.969773,
          -22.481344,
          48.077164,
          5.567285,
          -10.565992,
          19.758427,
          -6.84485
         ],
         "yaxis": "y"
        }
       ],
       "layout": {
        "legend": {
         "title": {
          "text": "highlight"
         },
         "tracegroupgap": 0
        },
        "template": {
         "data": {
          "bar": [
           {
            "error_x": {
             "color": "#2a3f5f"
            },
            "error_y": {
             "color": "#2a3f5f"
            },
            "marker": {
             "line": {
              "color": "#E5ECF6",
              "width": 0.5
             },
             "pattern": {
              "fillmode": "overlay",
              "size": 10,
              "solidity": 0.2
             }
            },
            "type": "bar"
           }
          ],
          "barpolar": [
           {
            "marker": {
             "line": {
              "color": "#E5ECF6",
              "width": 0.5
             },
             "pattern": {
              "fillmode": "overlay",
              "size": 10,
              "solidity": 0.2
             }
            },
            "type": "barpolar"
           }
          ],
          "carpet": [
           {
            "aaxis": {
             "endlinecolor": "#2a3f5f",
             "gridcolor": "white",
             "linecolor": "white",
             "minorgridcolor": "white",
             "startlinecolor": "#2a3f5f"
            },
            "baxis": {
             "endlinecolor": "#2a3f5f",
             "gridcolor": "white",
             "linecolor": "white",
             "minorgridcolor": "white",
             "startlinecolor": "#2a3f5f"
            },
            "type": "carpet"
           }
          ],
          "choropleth": [
           {
            "colorbar": {
             "outlinewidth": 0,
             "ticks": ""
            },
            "type": "choropleth"
           }
          ],
          "contour": [
           {
            "colorbar": {
             "outlinewidth": 0,
             "ticks": ""
            },
            "colorscale": [
             [
              0,
              "#0d0887"
             ],
             [
              0.1111111111111111,
              "#46039f"
             ],
             [
              0.2222222222222222,
              "#7201a8"
             ],
             [
              0.3333333333333333,
              "#9c179e"
             ],
             [
              0.4444444444444444,
              "#bd3786"
             ],
             [
              0.5555555555555556,
              "#d8576b"
             ],
             [
              0.6666666666666666,
              "#ed7953"
             ],
             [
              0.7777777777777778,
              "#fb9f3a"
             ],
             [
              0.8888888888888888,
              "#fdca26"
             ],
             [
              1,
              "#f0f921"
             ]
            ],
            "type": "contour"
           }
          ],
          "contourcarpet": [
           {
            "colorbar": {
             "outlinewidth": 0,
             "ticks": ""
            },
            "type": "contourcarpet"
           }
          ],
          "heatmap": [
           {
            "colorbar": {
             "outlinewidth": 0,
             "ticks": ""
            },
            "colorscale": [
             [
              0,
              "#0d0887"
             ],
             [
              0.1111111111111111,
              "#46039f"
             ],
             [
              0.2222222222222222,
              "#7201a8"
             ],
             [
              0.3333333333333333,
              "#9c179e"
             ],
             [
              0.4444444444444444,
              "#bd3786"
             ],
             [
              0.5555555555555556,
              "#d8576b"
             ],
             [
              0.6666666666666666,
              "#ed7953"
             ],
             [
              0.7777777777777778,
              "#fb9f3a"
             ],
             [
              0.8888888888888888,
              "#fdca26"
             ],
             [
              1,
              "#f0f921"
             ]
            ],
            "type": "heatmap"
           }
          ],
          "heatmapgl": [
           {
            "colorbar": {
             "outlinewidth": 0,
             "ticks": ""
            },
            "colorscale": [
             [
              0,
              "#0d0887"
             ],
             [
              0.1111111111111111,
              "#46039f"
             ],
             [
              0.2222222222222222,
              "#7201a8"
             ],
             [
              0.3333333333333333,
              "#9c179e"
             ],
             [
              0.4444444444444444,
              "#bd3786"
             ],
             [
              0.5555555555555556,
              "#d8576b"
             ],
             [
              0.6666666666666666,
              "#ed7953"
             ],
             [
              0.7777777777777778,
              "#fb9f3a"
             ],
             [
              0.8888888888888888,
              "#fdca26"
             ],
             [
              1,
              "#f0f921"
             ]
            ],
            "type": "heatmapgl"
           }
          ],
          "histogram": [
           {
            "marker": {
             "pattern": {
              "fillmode": "overlay",
              "size": 10,
              "solidity": 0.2
             }
            },
            "type": "histogram"
           }
          ],
          "histogram2d": [
           {
            "colorbar": {
             "outlinewidth": 0,
             "ticks": ""
            },
            "colorscale": [
             [
              0,
              "#0d0887"
             ],
             [
              0.1111111111111111,
              "#46039f"
             ],
             [
              0.2222222222222222,
              "#7201a8"
             ],
             [
              0.3333333333333333,
              "#9c179e"
             ],
             [
              0.4444444444444444,
              "#bd3786"
             ],
             [
              0.5555555555555556,
              "#d8576b"
             ],
             [
              0.6666666666666666,
              "#ed7953"
             ],
             [
              0.7777777777777778,
              "#fb9f3a"
             ],
             [
              0.8888888888888888,
              "#fdca26"
             ],
             [
              1,
              "#f0f921"
             ]
            ],
            "type": "histogram2d"
           }
          ],
          "histogram2dcontour": [
           {
            "colorbar": {
             "outlinewidth": 0,
             "ticks": ""
            },
            "colorscale": [
             [
              0,
              "#0d0887"
             ],
             [
              0.1111111111111111,
              "#46039f"
             ],
             [
              0.2222222222222222,
              "#7201a8"
             ],
             [
              0.3333333333333333,
              "#9c179e"
             ],
             [
              0.4444444444444444,
              "#bd3786"
             ],
             [
              0.5555555555555556,
              "#d8576b"
             ],
             [
              0.6666666666666666,
              "#ed7953"
             ],
             [
              0.7777777777777778,
              "#fb9f3a"
             ],
             [
              0.8888888888888888,
              "#fdca26"
             ],
             [
              1,
              "#f0f921"
             ]
            ],
            "type": "histogram2dcontour"
           }
          ],
          "mesh3d": [
           {
            "colorbar": {
             "outlinewidth": 0,
             "ticks": ""
            },
            "type": "mesh3d"
           }
          ],
          "parcoords": [
           {
            "line": {
             "colorbar": {
              "outlinewidth": 0,
              "ticks": ""
             }
            },
            "type": "parcoords"
           }
          ],
          "pie": [
           {
            "automargin": true,
            "type": "pie"
           }
          ],
          "scatter": [
           {
            "fillpattern": {
             "fillmode": "overlay",
             "size": 10,
             "solidity": 0.2
            },
            "type": "scatter"
           }
          ],
          "scatter3d": [
           {
            "line": {
             "colorbar": {
              "outlinewidth": 0,
              "ticks": ""
             }
            },
            "marker": {
             "colorbar": {
              "outlinewidth": 0,
              "ticks": ""
             }
            },
            "type": "scatter3d"
           }
          ],
          "scattercarpet": [
           {
            "marker": {
             "colorbar": {
              "outlinewidth": 0,
              "ticks": ""
             }
            },
            "type": "scattercarpet"
           }
          ],
          "scattergeo": [
           {
            "marker": {
             "colorbar": {
              "outlinewidth": 0,
              "ticks": ""
             }
            },
            "type": "scattergeo"
           }
          ],
          "scattergl": [
           {
            "marker": {
             "colorbar": {
              "outlinewidth": 0,
              "ticks": ""
             }
            },
            "type": "scattergl"
           }
          ],
          "scattermapbox": [
           {
            "marker": {
             "colorbar": {
              "outlinewidth": 0,
              "ticks": ""
             }
            },
            "type": "scattermapbox"
           }
          ],
          "scatterpolar": [
           {
            "marker": {
             "colorbar": {
              "outlinewidth": 0,
              "ticks": ""
             }
            },
            "type": "scatterpolar"
           }
          ],
          "scatterpolargl": [
           {
            "marker": {
             "colorbar": {
              "outlinewidth": 0,
              "ticks": ""
             }
            },
            "type": "scatterpolargl"
           }
          ],
          "scatterternary": [
           {
            "marker": {
             "colorbar": {
              "outlinewidth": 0,
              "ticks": ""
             }
            },
            "type": "scatterternary"
           }
          ],
          "surface": [
           {
            "colorbar": {
             "outlinewidth": 0,
             "ticks": ""
            },
            "colorscale": [
             [
              0,
              "#0d0887"
             ],
             [
              0.1111111111111111,
              "#46039f"
             ],
             [
              0.2222222222222222,
              "#7201a8"
             ],
             [
              0.3333333333333333,
              "#9c179e"
             ],
             [
              0.4444444444444444,
              "#bd3786"
             ],
             [
              0.5555555555555556,
              "#d8576b"
             ],
             [
              0.6666666666666666,
              "#ed7953"
             ],
             [
              0.7777777777777778,
              "#fb9f3a"
             ],
             [
              0.8888888888888888,
              "#fdca26"
             ],
             [
              1,
              "#f0f921"
             ]
            ],
            "type": "surface"
           }
          ],
          "table": [
           {
            "cells": {
             "fill": {
              "color": "#EBF0F8"
             },
             "line": {
              "color": "white"
             }
            },
            "header": {
             "fill": {
              "color": "#C8D4E3"
             },
             "line": {
              "color": "white"
             }
            },
            "type": "table"
           }
          ]
         },
         "layout": {
          "annotationdefaults": {
           "arrowcolor": "#2a3f5f",
           "arrowhead": 0,
           "arrowwidth": 1
          },
          "autotypenumbers": "strict",
          "coloraxis": {
           "colorbar": {
            "outlinewidth": 0,
            "ticks": ""
           }
          },
          "colorscale": {
           "diverging": [
            [
             0,
             "#8e0152"
            ],
            [
             0.1,
             "#c51b7d"
            ],
            [
             0.2,
             "#de77ae"
            ],
            [
             0.3,
             "#f1b6da"
            ],
            [
             0.4,
             "#fde0ef"
            ],
            [
             0.5,
             "#f7f7f7"
            ],
            [
             0.6,
             "#e6f5d0"
            ],
            [
             0.7,
             "#b8e186"
            ],
            [
             0.8,
             "#7fbc41"
            ],
            [
             0.9,
             "#4d9221"
            ],
            [
             1,
             "#276419"
            ]
           ],
           "sequential": [
            [
             0,
             "#0d0887"
            ],
            [
             0.1111111111111111,
             "#46039f"
            ],
            [
             0.2222222222222222,
             "#7201a8"
            ],
            [
             0.3333333333333333,
             "#9c179e"
            ],
            [
             0.4444444444444444,
             "#bd3786"
            ],
            [
             0.5555555555555556,
             "#d8576b"
            ],
            [
             0.6666666666666666,
             "#ed7953"
            ],
            [
             0.7777777777777778,
             "#fb9f3a"
            ],
            [
             0.8888888888888888,
             "#fdca26"
            ],
            [
             1,
             "#f0f921"
            ]
           ],
           "sequentialminus": [
            [
             0,
             "#0d0887"
            ],
            [
             0.1111111111111111,
             "#46039f"
            ],
            [
             0.2222222222222222,
             "#7201a8"
            ],
            [
             0.3333333333333333,
             "#9c179e"
            ],
            [
             0.4444444444444444,
             "#bd3786"
            ],
            [
             0.5555555555555556,
             "#d8576b"
            ],
            [
             0.6666666666666666,
             "#ed7953"
            ],
            [
             0.7777777777777778,
             "#fb9f3a"
            ],
            [
             0.8888888888888888,
             "#fdca26"
            ],
            [
             1,
             "#f0f921"
            ]
           ]
          },
          "colorway": [
           "#636efa",
           "#EF553B",
           "#00cc96",
           "#ab63fa",
           "#FFA15A",
           "#19d3f3",
           "#FF6692",
           "#B6E880",
           "#FF97FF",
           "#FECB52"
          ],
          "font": {
           "color": "#2a3f5f"
          },
          "geo": {
           "bgcolor": "white",
           "lakecolor": "white",
           "landcolor": "#E5ECF6",
           "showlakes": true,
           "showland": true,
           "subunitcolor": "white"
          },
          "hoverlabel": {
           "align": "left"
          },
          "hovermode": "closest",
          "mapbox": {
           "style": "light"
          },
          "paper_bgcolor": "white",
          "plot_bgcolor": "#E5ECF6",
          "polar": {
           "angularaxis": {
            "gridcolor": "white",
            "linecolor": "white",
            "ticks": ""
           },
           "bgcolor": "#E5ECF6",
           "radialaxis": {
            "gridcolor": "white",
            "linecolor": "white",
            "ticks": ""
           }
          },
          "scene": {
           "xaxis": {
            "backgroundcolor": "#E5ECF6",
            "gridcolor": "white",
            "gridwidth": 2,
            "linecolor": "white",
            "showbackground": true,
            "ticks": "",
            "zerolinecolor": "white"
           },
           "yaxis": {
            "backgroundcolor": "#E5ECF6",
            "gridcolor": "white",
            "gridwidth": 2,
            "linecolor": "white",
            "showbackground": true,
            "ticks": "",
            "zerolinecolor": "white"
           },
           "zaxis": {
            "backgroundcolor": "#E5ECF6",
            "gridcolor": "white",
            "gridwidth": 2,
            "linecolor": "white",
            "showbackground": true,
            "ticks": "",
            "zerolinecolor": "white"
           }
          },
          "shapedefaults": {
           "line": {
            "color": "#2a3f5f"
           }
          },
          "ternary": {
           "aaxis": {
            "gridcolor": "white",
            "linecolor": "white",
            "ticks": ""
           },
           "baxis": {
            "gridcolor": "white",
            "linecolor": "white",
            "ticks": ""
           },
           "bgcolor": "#E5ECF6",
           "caxis": {
            "gridcolor": "white",
            "linecolor": "white",
            "ticks": ""
           }
          },
          "title": {
           "x": 0.05
          },
          "xaxis": {
           "automargin": true,
           "gridcolor": "white",
           "linecolor": "white",
           "ticks": "",
           "title": {
            "standoff": 15
           },
           "zerolinecolor": "white",
           "zerolinewidth": 2
          },
          "yaxis": {
           "automargin": true,
           "gridcolor": "white",
           "linecolor": "white",
           "ticks": "",
           "title": {
            "standoff": 15
           },
           "zerolinecolor": "white",
           "zerolinewidth": 2
          }
         }
        },
        "title": {
         "text": "t-SNE Visualization of Word OPENAI"
        },
        "xaxis": {
         "anchor": "y",
         "domain": [
          0,
          1
         ],
         "title": {
          "text": "x"
         }
        },
        "yaxis": {
         "anchor": "x",
         "domain": [
          0,
          1
         ],
         "title": {
          "text": "y"
         }
        }
       }
      }
     },
     "metadata": {},
     "output_type": "display_data"
    },
    {
     "data": {
      "application/vnd.plotly.v1+json": {
       "config": {
        "plotlyServerURL": "https://plot.ly"
       },
       "data": [
        {
         "customdata": [
          [
           "text line segmentation of historical documents: a survey"
          ],
          [
           "rough sets computations to impute missing data"
          ],
          [
           "the parameter-less self-organizing map algorithm"
          ],
          [
           "riemannian level-set methods for tensor-valued data"
          ],
          [
           "multiresolution approximation of polygonal curves in linear complexity"
          ],
          [
           "medical image segmentation and localization using deformable templates"
          ],
          [
           "enhancement of noisy planar nuclear medicine images using mean field\n  annealing"
          ],
          [
           "an independent evaluation of subspace face recognition algorithms"
          ],
          [
           "evolutionary optimisation methods for template based image registration"
          ],
          [
           "multi-dimensional recurrent neural networks"
          ],
          [
           "scanning and sequential decision making for multi-dimensional data -\n  part ii: the noisy case"
          ],
          [
           "mi image registration using prior knowledge"
          ],
          [
           "structural health monitoring using neural network based vibrational\n  system identification"
          ],
          [
           "morphing ensemble kalman filters"
          ],
          [
           "local area damage detection in composite structures using piezoelectric\n  transducers"
          ],
          [
           "automatic detection of pulmonary embolism using computational\n  intelligence"
          ],
          [
           "virtual sensor based fault detection and classification on a plasma etch\n  reactor"
          ],
          [
           "towards understanding and modelling office daily life"
          ],
          [
           "very fast watermarking by reversible contrast mapping"
          ],
          [
           "the cyborg astrobiologist: porting from a wearable computer to the\n  astrobiology phone-cam"
          ],
          [
           "modeling visual information processing in brain: a computer vision point\n  of view and approach"
          ],
          [
           "a structure from motion inequality"
          ],
          [
           "on ullman's theorem in computer vision"
          ],
          [
           "space and camera path reconstruction for omni-directional vision"
          ],
          [
           "the fuzzy vault for fingerprints is vulnerable to brute force attack"
          ],
          [
           "variational local structure estimation for image super-resolution"
          ],
          [
           "bandwidth selection for kernel estimation in mixed multi-dimensional\n  spaces"
          ],
          [
           "supervised learning on graphs of spatio-temporal similarity in satellite\n  image sequences"
          ],
          [
           "graph rigidity, cyclic belief propagation and point pattern matching"
          ],
          [
           "high-order nonparametric belief-propagation for fast image inpainting"
          ],
          [
           "the theory of unified relativity for a biovielectroluminescence\n  phenomenon via fly's visual and imaging system"
          ],
          [
           "colour image segmentation by the vector-valued allen-cahn phase-field\n  model: a multigrid solution"
          ],
          [
           "lossless representation of graphs using distributions"
          ],
          [
           "an affinity propagation based method for vector quantization codebook\n  design"
          ],
          [
           "comparison and combination of state-of-the-art techniques for\n  handwritten character recognition: topping the mnist benchmark"
          ],
          [
           "fuzzy modeling of electrical impedance tomography image of the lungs"
          ],
          [
           "the entropy of keys derived from laser speckle"
          ],
          [
           "code similarity on high level programs"
          ],
          [
           "addendum to research mmmcv; a man/microbio/megabio/computer vision"
          ],
          [
           "on the information rates of the plenoptic function"
          ],
          [
           "image classification using svms: one-against-one vs one-against-all"
          ],
          [
           "representation and measure of structural information"
          ],
          [
           "learning similarity for character recognition and 3d object recognition"
          ],
          [
           "learning view generalization functions"
          ],
          [
           "view based methods can achieve bayes-optimal 3d recognition"
          ],
          [
           "dimensionality reduction and reconstruction using mirroring neural\n  networks and object recognition based on reduced dimension characteristic\n  vector"
          ],
          [
           "hierarchy construction schemes within the scale set framework"
          ],
          [
           "the source coding game with a cheating switcher"
          ],
          [
           "a class of lulu operators on multi-dimensional arrays"
          ],
          [
           "pattern recognition system design with linear encoding for discrete\n  patterns"
          ],
          [
           "a fast hierarchical multilevel image segmentation method using unbiased\n  estimators"
          ],
          [
           "probabilistic visual secret sharing schemes for gray-scale images and\n  color images"
          ],
          [
           "a path following algorithm for the graph matching problem"
          ],
          [
           "automatic text area segmentation in natural images"
          ],
          [
           "bayesian nonlinear principal component analysis using random fields"
          ],
          [
           "extreme learning machine for land cover classification"
          ],
          [
           "support vector classifiers for land cover classification"
          ],
          [
           "multiclass approaches for support vector machine based land cover\n  classification"
          ],
          [
           "some aspects of testing process for transport streams in digital video\n  broadcasting"
          ],
          [
           "implementing a test strategy for an advanced video acquisition and\n  processing architecture"
          ],
          [
           "wavelet and curvelet moments for image classification: application to\n  aggregate mixture grading"
          ],
          [
           "polynomial time algorithms for bi-criteria, multi-objective and ratio\n  problems in clustering and imaging. part i: normalized cut and ratio regions"
          ],
          [
           "acquisition accuracy evaluation in visual inspection systems - a\n  practical approach"
          ],
          [
           "spatio-activity based object detection"
          ],
          [
           "lambda-connectedness determination for image segmentation"
          ],
          [
           "kohonants: a self-organizing ant algorithm for clustering and pattern\n  classification"
          ],
          [
           "using spatially varying pixels exposures and bayer-covered photosensors\n  for high dynamic range imaging"
          ],
          [
           "discrete schemes for gaussian curvature and their convergence"
          ],
          [
           "fast k nearest neighbor search using gpu"
          ],
          [
           "linear time recognition algorithms for topological invariants in 3d"
          ],
          [
           "theory and applications of two-dimensional, null-boundary,\n  nine-neighborhood, cellular automata linear rules"
          ],
          [
           "technical report - automatic contour extraction from 2d neuron images"
          ],
          [
           "a new approach to automated epileptic diagnosis using eeg and\n  probabilistic neural network"
          ],
          [
           "natural pseudo-distance and optimal matching between reduced size\n  functions"
          ],
          [
           "a new algorithm for interactive structural image segmentation"
          ],
          [
           "a multilateral filtering method applied to airplane runway image"
          ],
          [
           "increasing linear dynamic range of commercial digital photocamera used\n  in imaging systems with optical coding"
          ],
          [
           "statistical region-based active contours with exponential family\n  observations"
          ],
          [
           "region-based active contour with noise and shape priors"
          ],
          [
           "dimreduction - interactive graphic environment for dimensionality\n  reduction"
          ],
          [
           "directional cross diamond search algorithm for fast block motion\n  estimation"
          ],
          [
           "the euler-poincare theory of metamorphosis"
          ],
          [
           "a nonparametric approach to 3d shape analysis from digital camera images\n  - i. in memory of w.p. dayawansa"
          ],
          [
           "fast wavelet-based visual classification"
          ],
          [
           "evaluation for uncertain image classification and segmentation"
          ],
          [
           "human expert fusion for image classification"
          ],
          [
           "classification of curves in 2d and 3d via affine integral signatures"
          ],
          [
           "fusion de classifieurs pour la classification d'images sonar"
          ],
          [
           "experts fusion and multilayer perceptron based on belief learning for\n  sonar image classification"
          ],
          [
           "generalized proportional conflict redistribution rule applied to sonar\n  imagery and radar targets classification"
          ],
          [
           "learning graph matching"
          ],
          [
           "conceptualization of seeded region growing by pixels aggregation. part\n  1: the framework"
          ],
          [
           "conceptualization of seeded region growing by pixels aggregation. part\n  2: how to localize a final partition invariant about the seeded region\n  initialisation order"
          ],
          [
           "conceptualization of seeded region growing by pixels aggregation. part\n  3: a wide range of algorithms"
          ],
          [
           "conceptualization of seeded region growing by pixels aggregation. part\n  4: simple, generic and robust extraction of grains in granular materials\n  obtained by x-ray tomography"
          ],
          [
           "intrusion detection using cost-sensitive classification"
          ],
          [
           "the five points pose problem : a new and accurate solution adapted to\n  any geometric configuration"
          ],
          [
           "visual grouping by neural oscillators"
          ],
          [
           "an image-based sensor system for autonomous rendez-vous with\n  uncooperative satellites"
          ],
          [
           "an image processing analysis of skin textures"
          ],
          [
           "i'm sorry to say, but your understanding of image processing\n  fundamentals is absolutely wrong"
          ],
          [
           "a 8 bits pipeline analog to digital converter design for high speed\n  camera application"
          ],
          [
           "design and implementation a 8 bits pipeline analog to digital converter\n  in the technology 0.6 \\mu m cmos process"
          ],
          [
           "higher order moments generation by mellin transform for compound models\n  of clutter"
          ],
          [
           "automatic identification and data extraction from 2-dimensional plots in\n  digital documents"
          ],
          [
           "supervised dictionary learning"
          ],
          [
           "generalized prediction intervals for arbitrary distributed\n  high-dimensional data"
          ],
          [
           "robust near-isometric matching via structured learning of graphical\n  models"
          ],
          [
           "modeling and control with local linearizing nadaraya watson regression"
          ],
          [
           "audio classification from time-frequency texture"
          ],
          [
           "non-negative matrix factorization, convexity and isometry"
          ],
          [
           "faster and better: a machine learning approach to corner detection"
          ],
          [
           "detecting the most unusual part of a digital image"
          ],
          [
           "hierarchical bag of paths for kernel based shape classification"
          ],
          [
           "astronomical imaging: the theory of everything"
          ],
          [
           "efficient exact inference in planar ising models"
          ],
          [
           "camera distortion self-calibration using the plumb-line constraint and\n  minimal hough entropy"
          ],
          [
           "graph-based classification of multiple observation sets"
          ],
          [
           "3d face recognition with sparse spherical representations"
          ],
          [
           "a branch-and-bound feature selection algorithm for u-shaped cost\n  functions"
          ],
          [
           "necessary conditions for discontinuities of multidimensional size\n  functions"
          ],
          [
           "the expressive power of binary submodular functions"
          ],
          [
           "faster retrieval with a two-pass dynamic-time-warping lower bound"
          ],
          [
           "chi2tex semi-automatic translation from chiwriter to latex"
          ],
          [
           "automatic generation of the axial lines of urban environments to capture\n  what we perceive"
          ],
          [
           "mapping images with the coherence length diagrams"
          ],
          [
           "a matlab implementation of a flat norm motivated polygonal edge matching\n  method using a decomposition of boundary into four 1-dimensional currents"
          ],
          [
           "a novel clustering algorithm based on quantum games"
          ],
          [
           "stroke fragmentation based on geometry features and hmm"
          ],
          [
           "obtaining depth maps from color images by region based stereo matching\n  algorithms"
          ],
          [
           "classification of cell images using mpeg-7-influenced descriptors and\n  support vector machines in cell morphology"
          ],
          [
           "feature selection by kdda for svm-based multiview face recognition"
          ],
          [
           "face detection using adaboosted svm-based component classifier"
          ],
          [
           "sparse component analysis (sca) in random-valued and salt and pepper\n  noise removal"
          ],
          [
           "a new clustering algorithm based upon flocking on complex network"
          ],
          [
           "a novel clustering algorithm based upon games on evolving network"
          ],
          [
           "exact histogram specification optimized for structural similarity"
          ],
          [
           "a theoretical analysis of joint manifolds"
          ],
          [
           "an upper limit of ac huffman code length in jpeg compression"
          ],
          [
           "on the dual formulation of boosting algorithms"
          ],
          [
           "enhancing the capabilities of ligo time-frequency plane searches through\n  clustering"
          ],
          [
           "model-based event detection in wireless sensor networks"
          ],
          [
           "a keygraph classification framework for real-time object detection"
          ],
          [
           "over-enhancement reduction in local histogram equalization using its\n  degrees of freedom"
          ],
          [
           "a standalone markerless 3d tracker for handheld augmented reality"
          ],
          [
           "using slp neural network to persian handwritten digits recognition"
          ],
          [
           "dipole and quadrupole moments in image processing"
          ],
          [
           "are tensor decomposition solutions unique? on the global convergence of\n  hosvd and parafac algorithms"
          ],
          [
           "dipole vectors in images processing"
          ],
          [
           "recognition of regular shapes in satelite images"
          ],
          [
           "real-time texture error detection"
          ],
          [
           "the digital restoration of da vinci's sketches"
          ],
          [
           "free actions and grassmanian variety"
          ],
          [
           "tracking using explanation-based modeling"
          ],
          [
           "markov random field segmentation of brain mr images"
          ],
          [
           "combinatorial ricci curvature and laplacians for image processing"
          ],
          [
           "gradient-based adaptive interpolation in super-resolution image\n  restoration"
          ],
          [
           "building the information kernel and the problem of recognition"
          ],
          [
           "an exponential lower bound on the complexity of regularization paths"
          ],
          [
           "a combinatorial algorithm to compute regularization paths"
          ],
          [
           "digital restoration of ancient papyri"
          ],
          [
           "color dipole moments for edge detection"
          ],
          [
           "on the closed-form solution of the rotation matrix arising in computer\n  vision problems"
          ],
          [
           "boosting through optimization of margin distributions"
          ],
          [
           "automated epilepsy diagnosis using interictal scalp eeg"
          ],
          [
           "better global polynomial approximation for image rectification"
          ],
          [
           "facebots: steps towards enhanced long-term human-robot interaction by\n  utilizing and publishing online social information"
          ],
          [
           "the modular audio recognition framework (marf) and its applications:\n  scientific and software engineering notes"
          ],
          [
           "on design and implementation of the distributed modular audio\n  recognition framework: requirements and specification design document"
          ],
          [
           "generalized kernel-based visual tracking"
          ],
          [
           "point-set registration: coherent point drift"
          ],
          [
           "colorization of natural images via l1 optimization"
          ],
          [
           "a statistical learning approach to color demosaicing"
          ],
          [
           "information distance in multiples"
          ],
          [
           "a new solution to the relative orientation problem using only 3 points\n  and the vertical direction"
          ],
          [
           "managing distributed marf with snmp"
          ],
          [
           "total variation, adaptive total variation and nonconvex smoothly clipped\n  absolute deviation penalty for denoising blocky images"
          ],
          [
           "quality assessment of the mpeg-4 scalable video codec"
          ],
          [
           "segmentation of facial expressions using semi-definite programming and\n  generalized principal component analysis"
          ],
          [
           "the voise algorithm: a versatile tool for automatic segmentation of\n  astronomical images"
          ],
          [
           "maximal digital straight segments and convergence of discrete geometric\n  estimators"
          ],
          [
           "coding cells of digital spaces: a framework to write generic digital\n  topology algorithms"
          ],
          [
           "deformable model with a complexity independent from image resolution"
          ],
          [
           "adaptive regularization of ill-posed problems: application to non-rigid\n  image registration"
          ],
          [
           "finding significant subregions in large image databases"
          ],
          [
           "two-dimensional arma modeling for breast cancer detection and\n  classification"
          ],
          [
           "automatic defect detection and classification technique from image: a\n  special case using ceramic tiles"
          ],
          [
           "physical modeling techniques in active contours for image segmentation"
          ],
          [
           "on landmark selection and sampling in high-dimensional data analysis"
          ],
          [
           "efficient iris recognition through improvement of feature extraction and\n  subset selection"
          ],
          [
           "a new approach for digit recognition based on hand gesture analysis"
          ],
          [
           "comments on \"a new combination of evidence based on compromise\" by k.\n  yamada"
          ],
          [
           "multi-label mrf optimization via least squares s-t cuts"
          ],
          [
           "an iterative fingerprint enhancement algorithm based on accurate\n  determination of orientation flow"
          ],
          [
           "bounding the probability of error for high precision recognition"
          ],
          [
           "augmenting light field to model wave optics effects"
          ],
          [
           "multiresolution elastic medical image registration in standard intensity\n  scale"
          ],
          [
           "registration of standardized histological images in feature space"
          ],
          [
           "fully automatic 3d reconstruction of histological images"
          ],
          [
           "parallel adaboost algorithm for gabor wavelet selection in face\n  recognition"
          ],
          [
           "image sampling with quasicrystals"
          ],
          [
           "learning object location predictors with boosting and grammar-guided\n  feature extraction"
          ],
          [
           "automatic local gabor features extraction for face recognition"
          ],
          [
           "multiple pattern classification by sparse subspace decomposition"
          ],
          [
           "side-channel attack on labeling captchas"
          ],
          [
           "segmentation for radar images based on active contour"
          ],
          [
           "a dyadic solution of relative pose problems"
          ],
          [
           "semantic robot vision challenge: current state and future directions"
          ],
          [
           "non-quadratic convex regularized reconstruction of mr images from spiral\n  acquisitions"
          ],
          [
           "geometric analysis of the conformal camera for intermediate-level vision\n  and perisaccadic perception"
          ],
          [
           "construction of hilbert transform pairs of wavelet bases and gabor-like\n  transforms"
          ],
          [
           "on the shiftability of dual-tree complex wavelet transforms"
          ],
          [
           "gabor wavelet analysis and the fractional hilbert transform"
          ],
          [
           "fast adaptive elliptical filtering using box splines"
          ],
          [
           "co-occurrence matrix and fractal dimension for image segmentation"
          ],
          [
           "handwritten farsi character recognition using artificial neural network"
          ],
          [
           "scale-based gaussian coverings: combining intra and inter mixture models\n  in image segmentation"
          ],
          [
           "sparse image representation by discrete cosine/spline based dictionaries"
          ],
          [
           "kernel spectral curvature clustering (kscc)"
          ],
          [
           "motion segmentation by scc on the hopkins 155 database"
          ],
          [
           "sparsity and `something else': an approach to encrypted image folding"
          ],
          [
           "an efficient secure multimodal biometric fusion using palmprint and face\n  image"
          ],
          [
           "median k-flats for hybrid linear modeling with many outliers"
          ],
          [
           "a possible low-level explanation of \"temporal dynamics of brightness\n  induction and white's illusion\""
          ],
          [
           "extension of path probability method to approximate inference over time"
          ],
          [
           "a method for extraction and recognition of isolated license plate\n  characters"
          ],
          [
           "information tracking approach to segmentation of ultrasound imagery of\n  prostate"
          ],
          [
           "iterative shrinkage approach to restoration of optical imagery"
          ],
          [
           "improvements of the 3d images captured with time-of-flight cameras"
          ],
          [
           "adaboost with \"keypoint presence features\" for real-time vehicle visual\n  detection"
          ],
          [
           "introducing new adaboost features for real-time vehicle detection"
          ],
          [
           "visual object categorization with new keypoint-based adaboost features"
          ],
          [
           "modular traffic sign recognition applied to on-vehicle real-time visual\n  detection of american and european speed limit signs"
          ],
          [
           "local and global approaches of affinity propagation clustering for large\n  scale data"
          ],
          [
           "3d/2d registration of mapping catheter images for arrhythmia\n  interventional assistance"
          ],
          [
           "color image clustering using block truncation algorithm"
          ],
          [
           "distributed object medical imaging model"
          ],
          [
           "microstructure reconstruction using entropic descriptors"
          ],
          [
           "positive semidefinite metric learning with boosting"
          ],
          [
           "fractional differentiation based image processing"
          ],
          [
           "behavior subtraction"
          ],
          [
           "algorithms for image analysis and combination of pattern classifiers\n  with application to medical diagnosis"
          ],
          [
           "parallelization of the lbg vector quantization algorithm for shared\n  memory systems"
          ],
          [
           "a $p$-adic ransac algorithm for stereo vision using hensel lifting"
          ],
          [
           "an iterative shrinkage approach to total-variation image restoration"
          ],
          [
           "the cyborg astrobiologist: testing a novelty-detection algorithm on two\n  mobile exploration systems at rivas vaciamadrid in spain and at the mars\n  desert research station in utah"
          ],
          [
           "metric and kernel learning using a linear transformation"
          ],
          [
           "an optimal method for wake detection in sar images using radon\n  transformation combined with wavelet filters"
          ],
          [
           "breast cancer detection using multilevel thresholding"
          ],
          [
           "an innovative scheme for effectual fingerprint data compression using\n  bezier curve representations"
          ],
          [
           "generalized discriminant analysis algorithm for feature reduction in\n  cyber attack detection system"
          ],
          [
           "seeing science"
          ],
          [
           "bio-inspired speed detection and discrimination"
          ],
          [
           "designing fuzzy rule based classifier using self-organizing feature map\n  for analysis of multispectral satellite images"
          ],
          [
           "land cover classification using fuzzy rules and aggregation of\n  contextual information through evidence theory"
          ],
          [
           "canica: model-based extraction of reproducible group-level ica patterns\n  from fmri time series"
          ],
          [
           "non-photorealistic image processing: an impressionist rendering"
          ],
          [
           "maximin affinity learning of image segmentation"
          ],
          [
           "laser actuated presentation system"
          ],
          [
           "pigment melanin: pattern for iris recognition"
          ],
          [
           "mapping the spatiotemporal dynamics of calcium signaling in cellular\n  neural networks using optical flow"
          ],
          [
           "isometric multi-manifolds learning"
          ],
          [
           "sequential clustering based facial feature extraction method for\n  automatic creation of facial models from orthogonal views"
          ],
          [
           "reversible image authentication with tamper localization based on\n  integer wavelet transform"
          ],
          [
           "behavior and performance of the deep belief networks on image\n  classification"
          ],
          [
           "fingerprint verification based on gabor filter enhancement"
          ],
          [
           "robust multi biometric recognition using face and ear images"
          ],
          [
           "fish recognition based on the combination between robust feature\n  selection, image segmentation and geometrical parameter techniques using\n  artificial neural network and decision tree"
          ],
          [
           "performance analysis of non linear filtering algorithms for underwater\n  images"
          ],
          [
           "biogeography based satellite image classification"
          ],
          [
           "genetic programming framework for fingerprint matching"
          ],
          [
           "automatic creation of urban velocity fields from aerial video"
          ],
          [
           "gesture recognition with a focus on important actions by using a path\n  searching method in weighted graph"
          ],
          [
           "synthesis of supervised classification algorithm using intelligent and\n  statistical tools"
          ],
          [
           "heart rate variability analysis using threshold of wavelet package\n  coefficients"
          ],
          [
           "learning an interactive segmentation system"
          ],
          [
           "a model-based approach to predicting predator-prey & friend-foe\n  relationships in ant colonies"
          ],
          [
           "matching 2-d ellipses to 3-d circles with application to vehicle pose\n  estimation"
          ],
          [
           "a novel feature extraction for robust emg pattern recognition"
          ],
          [
           "fast alternating linearization methods for minimizing the sum of two\n  convex functions"
          ],
          [
           "genus computing for 3d digital objects: algorithm and implementation"
          ],
          [
           "writer identification using inexpensive signal processing techniques"
          ],
          [
           "comparing distributions and shapes using the kernel distance"
          ],
          [
           "accelerating competitive learning graph quantization"
          ],
          [
           "an empirical evaluation of four algorithms for multi-class\n  classification: mart, abc-mart, robust logitboost, and abc-logitboost"
          ],
          [
           "an unsupervised algorithm for learning lie group transformations"
          ],
          [
           "boosting k-nn for categorization of natural scenes"
          ],
          [
           "a new method to extract dorsal hand vein pattern using quadratic\n  inference function"
          ],
          [
           "a topological derivative based image segmentation for sign language\n  recognition system using isotropic filter"
          ],
          [
           "a new image steganography based on first component alteration technique"
          ],
          [
           "an improved image mining technique for brain tumour classification using\n  efficient classifier"
          ],
          [
           "an explicit nonlinear mapping for manifold learning"
          ],
          [
           "analytical shape determination of fiber-like objects with virtual image\n  correlation"
          ],
          [
           "features based text similarity detection"
          ],
          [
           "3d skull recognition using 3d matching technique"
          ],
          [
           "hybrid medical image classification using association rule mining with\n  decision tree algorithm"
          ],
          [
           "gradient based seeded region grow method for ct angiographic image\n  segmentation"
          ],
          [
           "svm-based multiview face recognition by generalization of discriminant\n  analysis"
          ],
          [
           "detection and demarcation of tumor using vector quantization in mri\n  images"
          ],
          [
           "multi-camera realtime 3d tracking of multiple flying animals"
          ],
          [
           "kannada character recognition system a review"
          ],
          [
           "threshold based indexing of commercial shoe print to create reference\n  and recovery images"
          ],
          [
           "face recognition by fusion of local and global matching scores using ds\n  theory: an evaluation with uni-classifier and multi-classifier paradigm"
          ],
          [
           "feature level clustering of large biometric database"
          ],
          [
           "face identification by sift-based complete graph topology"
          ],
          [
           "sift-based ear recognition by fusion of detected keypoints from color\n  similarity slice regions"
          ],
          [
           "feature level fusion of biometrics cues: human identification with\n  doddingtons caricature"
          ],
          [
           "fusion of multiple matchers using svm for offline signature\n  identification"
          ],
          [
           "a comparative study of removal noise from remote sensing image"
          ],
          [
           "the influence of intensity standardization on medical image registration"
          ],
          [
           "ball-scale based hierarchical multi-object recognition in 3d medical\n  images"
          ],
          [
           "an improved dc recovery method from ac coefficients of dct-transformed\n  images"
          ],
          [
           "intrinsic dimension estimation of data by principal component analysis"
          ],
          [
           "detection of microcalcification in mammograms using wavelet transform\n  and fuzzy shell clustering"
          ],
          [
           "the fast haar wavelet transform for signal & image processing"
          ],
          [
           "vision based game development using human computer interaction"
          ],
          [
           "automatic diagnosis of retinal diseases from color retinal images"
          ],
          [
           "medical image compression using wavelet decomposition for prediction\n  method"
          ],
          [
           "feature level fusion of face and fingerprint biometrics"
          ],
          [
           "assessment of the wind farm impact on the radar"
          ],
          [
           "multibiometrics belief fusion"
          ],
          [
           "geometric approach to sampling and communication"
          ],
          [
           "iterative exact global histogram specification and ssim gradient ascent:\n  a proof of convergence, step size and parameter selection"
          ],
          [
           "supervised learning of digital image restoration based on quantization\n  nearest neighbor algorithm"
          ],
          [
           "handwritten bangla basic and compound character recognition using mlp\n  and svm classifier"
          ],
          [
           "supervised classification performance of multispectral images"
          ],
          [
           "cld-shaped brushstrokes in non-photorealistic rendering"
          ],
          [
           "scalable large-margin mahalanobis distance metric learning"
          ],
          [
           "a unified algorithmic framework for multi-dimensional scaling"
          ],
          [
           "text region extraction from business card images for mobile devices"
          ],
          [
           "binarizing business card images for mobile devices"
          ],
          [
           "securing interactive sessions using mobile device through visual channel\n  and visual inspection"
          ],
          [
           "properties of the discrete pulse transform for multi-dimensional arrays"
          ],
          [
           "an offline technique for localization of license plates for indian\n  commercial vehicles"
          ],
          [
           "secured cryptographic key generation from multimodal biometrics: feature\n  level fusion of fingerprint and iris"
          ],
          [
           "clinical gait data analysis based on spatio-temporal features"
          ],
          [
           "nonlinear filter based image denoising using amf approach"
          ],
          [
           "facial gesture recognition using correlation and mahalanobis distance"
          ],
          [
           "a ga based window selection methodology to enhance window based multi\n  wavelet transformation and thresholding aided ct image denoising technique"
          ],
          [
           "investigation and assessment of disorder of ultrasound b-mode images"
          ],
          [
           "handwritten arabic numeral recognition using a multi layer perceptron"
          ],
          [
           "a comparative study of different feature sets for recognition of\n  handwritten arabic numerals using a multi layer perceptron"
          ],
          [
           "fast space-variant elliptical filtering using box splines"
          ],
          [
           "pattern recognition using inverse resonance filtration"
          ],
          [
           "sliding window approach based text binarisation from complex textual\n  images"
          ],
          [
           "on mmse and map denoising under sparse representation modeling over a\n  unitary dictionary"
          ],
          [
           "the projected gsure for automatic parameter tuning in iterative\n  shrinkage methods"
          ],
          [
           "system-theoretic approach to image interest point detection"
          ],
          [
           "a comprehensive review of image enhancement techniques"
          ],
          [
           "land-cover classification and mapping for eastern himalayan state sikkim"
          ],
          [
           "towards automated high-throughput screening of c. elegans on agar"
          ],
          [
           "large margin boltzmann machines and large margin sigmoid belief networks"
          ],
          [
           "active testing for face detection and localization"
          ],
          [
           "the video genome"
          ],
          [
           "image compression and watermarking scheme using scalar quantization"
          ],
          [
           "tuning cld maps"
          ],
          [
           "robust multi-camera view face recognition"
          ],
          [
           "offline signature identification by fusion of multiple classifiers using\n  statistical learning theory"
          ],
          [
           "development of a multi-user handwriting recognition system using\n  tesseract open source ocr engine"
          ],
          [
           "recognition of handwritten roman script using tesseract open source ocr\n  engine"
          ],
          [
           "recognition of handwritten textual annotations using tesseract open\n  source ocr engine for information just in time (ijit)"
          ],
          [
           "development of a multi-user recognition engine for handwritten bangla\n  basic characters and digits"
          ],
          [
           "recognition of handwritten roman numerals using tesseract open source\n  ocr engine"
          ],
          [
           "development of an automated red light violation detection system (rlvds)\n  for indian vehicles"
          ],
          [
           "a novel scheme for binarization of vehicle images using hierarchical\n  histogram equalization technique"
          ],
          [
           "a stochastic model of human visual attention with a dynamic bayesian\n  network"
          ],
          [
           "trends and techniques in visual gaze analysis"
          ],
          [
           "facial expression representation and recognition using 2dhlda, gabor\n  wavelets, and ensemble learning"
          ],
          [
           "object-image correspondence for curves under finite and affine cameras"
          ],
          [
           "analysis, interpretation, and recognition of facial action units and\n  expressions using neuro-fuzzy modeling"
          ],
          [
           "recognizing combinations of facial action units with different intensity\n  using a mixture of hidden markov models and neural network"
          ],
          [
           "multilinear biased discriminant analysis: a novel method for facial\n  action unit representation"
          ],
          [
           "extended two-dimensional pca for efficient face representation and\n  recognition"
          ],
          [
           "regularized richardson-lucy algorithm for sparse reconstruction of\n  poissonian images"
          ],
          [
           "signature recognition using multi scale fourier descriptor and wavelet\n  transform"
          ],
          [
           "a robust fuzzy clustering technique with spatial neighborhood\n  information for effective medical image segmentation"
          ],
          [
           "new clustering algorithm for vector quantization using rotation of error\n  vector"
          ],
          [
           "a new approach to lung image segmentation using fuzzy possibilistic\n  c-means algorithm"
          ],
          [
           "sar image segmentation using vector quantization technique on entropy\n  images"
          ],
          [
           "feature level fusion of face and palmprint biometrics by isomorphic\n  graph-based improved k-medoids partitioning"
          ],
          [
           "maximized posteriori attributes selection from facial salient landmarks\n  for face recognition"
          ],
          [
           "offline handwriting recognition using genetic algorithm"
          ],
          [
           "color image compression based on wavelet packet best tree"
          ],
          [
           "signature region of interest using auto cropping"
          ],
          [
           "simultaneous bayesian inference of motion velocity fields and\n  probabilistic models in successive video-frames described by spatio-temporal\n  mrfs"
          ],
          [
           "parcellation of fmri datasets with ica and pls-a data driven approach"
          ],
          [
           "hashing image patches for zooming"
          ],
          [
           "spatially-adaptive reconstruction in computed tomography based on\n  statistical learning"
          ],
          [
           "deblured gaussian blurred images"
          ],
          [
           "an efficient watermarking algorithm to improve payload and robustness\n  without affecting image perceptual quality"
          ],
          [
           "logical methods of object recognition on satellite images using spatial\n  constraints"
          ],
          [
           "many-to-many graph matching: a continuous relaxation approach"
          ],
          [
           "compressed sensing with off-axis frequency-shifting holography"
          ],
          [
           "isometric embeddings in imaging and vision: facts and fiction"
          ],
          [
           "graphic symbol recognition using graph based signature and bayesian\n  network classifier"
          ],
          [
           "employing fuzzy intervals and loop-based methodology for designing\n  structural signature: an application to symbol recognition"
          ],
          [
           "bayesian estimation of regularization and psf parameters for wiener-hunt\n  deconvolution"
          ],
          [
           "perturbation resilience and superiorization of iterative algorithms"
          ],
          [
           "detecting the most unusual part of two and three-dimensional digital\n  images"
          ],
          [
           "randomized hybrid linear modeling by local best-fit flats"
          ],
          [
           "multistage hybrid arabic/indian numeral ocr system"
          ],
          [
           "an efficient vein pattern-based recognition system"
          ],
          [
           "classification via incoherent subspaces"
          ],
          [
           "hierarchical clustering for finding symmetries and other patterns in\n  massive, high dimensional datasets"
          ],
          [
           "on the subspace of image gradient orientations"
          ],
          [
           "image segmentation by using threshold techniques"
          ],
          [
           "combining multiple feature extraction techniques for handwritten\n  devnagari character recognition"
          ],
          [
           "face synthesis (fasy) system for generation of a face image from human\n  description"
          ],
          [
           "classification of polar-thermal eigenfaces using multilayer perceptron\n  for human face recognition"
          ],
          [
           "reduction of feature vectors using rough set theory for human face\n  recognition"
          ],
          [
           "lacboost and fisherboost: optimally building cascade classifiers"
          ],
          [
           "incremental training of a detector using online sparse\n  eigen-decomposition"
          ],
          [
           "classification of lulc change detection using remotely sensed data for\n  coimbatore city, tamilnadu, india"
          ],
          [
           "application of fuzzy system in segmentation of mri brain tumor"
          ],
          [
           "compression rate method for empirical science and application to\n  computer vision"
          ],
          [
           "content based image retrieval using exact legendre moments and support\n  vector machine"
          ],
          [
           "detection of bleeding in wireless capsule endoscopy images using range\n  ratio color"
          ],
          [
           "biometric authentication using nonparametric methods"
          ],
          [
           "c-hilasso: a collaborative hierarchical sparse modeling framework"
          ],
          [
           "l2-optimal image interpolation and its applications to medical imaging"
          ],
          [
           "image segmentation using weak shape priors"
          ],
          [
           "penalized k-nearest-neighbor-graph based metrics for clustering"
          ],
          [
           "an effective fingerprint verification technique"
          ],
          [
           "solving inverse problems with piecewise linear estimators: from gaussian\n  mixture models to structured sparsity"
          ],
          [
           "normalized information distance is not semicomputable"
          ],
          [
           "image processing of a spectrogram produced by spectrometer airglow\n  temperature imager"
          ],
          [
           "algorithm for sector spectra calculation from images registered by the\n  spectral airglow temperature imager"
          ],
          [
           "action recognition in videos: from motion capture labs to the web"
          ],
          [
           "segmentation of natural images by texture and boundary compression"
          ],
          [
           "optimization of weighted curvature for image segmentation"
          ],
          [
           "large gaps imputation in remote sensed imagery of the environment"
          ],
          [
           "efficient region-based image querying"
          ],
          [
           "noise invalidation denoising"
          ],
          [
           "kalman filters and homography: utilizing the matrix $a$"
          ],
          [
           "polyharmonic daubechies type wavelets in image processing and astronomy,\n  ii"
          ],
          [
           "performance comparison of svm and ann for handwritten devnagari\n  character recognition"
          ],
          [
           "recognition of non-compound handwritten devnagari characters using a\n  combination of mlp and minimum edit distance"
          ],
          [
           "application of statistical features in handwritten devnagari character\n  recognition"
          ],
          [
           "multiple classifier combination for off-line handwritten devnagari\n  character recognition"
          ],
          [
           "a two stage classification approach for handwritten devanagari\n  characters"
          ],
          [
           "a novel approach for handwritten devnagari character recognition"
          ],
          [
           "classification of gradient change features using mlp for handwritten\n  character recognition"
          ],
          [
           "fpga based assembling of facial components for human face construction"
          ],
          [
           "fuzzy classification of facial component parameters"
          ],
          [
           "survey of nearest neighbor techniques"
          ],
          [
           "uncertainty of visual measurement and efficient allocation of sensory\n  resources"
          ],
          [
           "repairing people trajectories based on point clustering"
          ],
          [
           "a fast decision technique for hierarchical hough transform for line\n  detection"
          ],
          [
           "face synthesis (fasy) system for determining the characteristics of a\n  face image"
          ],
          [
           "quotient based multiresolution image fusion of thermal and visual images\n  using daubechies wavelet transform for human face recognition"
          ],
          [
           "fusion of daubechies wavelet coefficients for human face recognition"
          ],
          [
           "fusion of wavelet coefficients from visual and thermal face images for\n  human face recognition - a comparative study"
          ],
          [
           "a parallel framework for multilayer perceptron for human face\n  recognition"
          ],
          [
           "image pixel fusion for human face recognition"
          ],
          [
           "classification of fused images using radial basis function neural\n  network for human face recognition"
          ],
          [
           "classification of fused face images using multilayer perceptron neural\n  network"
          ],
          [
           "classification of log-polar-visual eigenfaces using multilayer\n  perceptron"
          ],
          [
           "human face recognition using line features"
          ],
          [
           "bilateral filters: what they can and cannot do"
          ],
          [
           "registration of brain images using fast walsh hadamard transform"
          ],
          [
           "multi-environment model estimation for motility analysis of\n  caenorhabditis elegans"
          ],
          [
           "improved ransac performance using simple, iterative minimal-set solvers"
          ],
          [
           "a study on the effectiveness of different patch size and shape for eyes\n  and mouth detection"
          ],
          [
           "neural network based reconstruction of a 3d object from a 2d wireframe"
          ],
          [
           "a machine learning approach to recovery of scene geometry from images"
          ],
          [
           "fast l1-minimization algorithms for robust face recognition"
          ],
          [
           "video event recognition for surveillance applications (versa)"
          ],
          [
           "orthogonal multifilters image processing of astronomical images from\n  scanned photographic plates"
          ],
          [
           "ear identification by fusion of segmented slice regions using invariant\n  features: an experimental manifold with dual fusion approach"
          ],
          [
           "competitive analysis of minimum-cut maximum flow algorithms in vision\n  problems"
          ],
          [
           "an efficient automatic mass classification method in digitized\n  mammograms using artificial neural network"
          ],
          [
           "fully automatic extraction of salient objects from videos in near\n  real-time"
          ],
          [
           "image sequence interpolation using optimal control"
          ],
          [
           "modeling the growth of fingerprints improves matching for adolescents"
          ],
          [
           "biometric authentication using nonparametric methods"
          ],
          [
           "homotopy perturbation method for image restoration and denoising"
          ],
          [
           "a miniature-based image retrieval system"
          ],
          [
           "optimally training a cascade classifier"
          ],
          [
           "proliferating cell nuclear antigen (pcna) allows the automatic\n  identification of follicles in microscopic images of human ovarian tissue"
          ],
          [
           "comparative study of statistical skin detection algorithms for\n  sub-continental human images"
          ],
          [
           "automated acanthamoeba polyphaga detection and computation of salmonella\n  typhimurium concentration in spatio-temporal images"
          ],
          [
           "on euclidean norm approximations"
          ],
          [
           "penalty decomposition methods for $l0$-norm minimization"
          ],
          [
           "variational iteration method for image restoration"
          ],
          [
           "weighted attribute fusion model for face recognition"
          ],
          [
           "fast color space transformations using minimax approximations"
          ],
          [
           "effective pedestrian detection using center-symmetric local\n  binary/trinary patterns"
          ],
          [
           "distance measures for reduced ordering based vector filters"
          ],
          [
           "real-time implementation of order-statistics based directional filters"
          ],
          [
           "cost-effective implementation of order-statistics based vector filters\n  using minimax approximations"
          ],
          [
           "a fast switching filter for impulsive noise removal from color images"
          ],
          [
           "nonlinear vector filtering for impulsive noise removal from color images"
          ],
          [
           "automatic detection of blue-white veil and related structures in\n  dermoscopy images"
          ],
          [
           "an improved objective evaluation measure for border detection in\n  dermoscopy images"
          ],
          [
           "approximate lesion localization in dermoscopy images"
          ],
          [
           "evolutionary computational method of facial expression analysis for\n  content-based video retrieval using 2-dimensional cellular automata"
          ],
          [
           "invariant spectral hashing of image saliency graph"
          ],
          [
           "asymmetric totally-corrective boosting for real-time object detection"
          ],
          [
           "deep self-taught learning for handwritten character recognition"
          ],
          [
           "robust low-rank subspace segmentation with semidefinite guarantees"
          ],
          [
           "a family of statistical symmetric divergences based on jensen's\n  inequality"
          ],
          [
           "3d-mesh denoising using an improved vertex based anisotropic diffusion"
          ],
          [
           "balancing clusters to reduce response time variability in large scale\n  image search"
          ],
          [
           "modeling instantaneous changes in natural scenes"
          ],
          [
           "image segmentation by discounted cumulative ranking on maximal cliques"
          ],
          [
           "rotation invariant face detection using wavelet, pca and radial basis\n  function networks"
          ],
          [
           "defining and generating axial lines from street center lines for better\n  understanding of urban morphologies"
          ],
          [
           "use of multiple singular value decompositions to analyze complex\n  intracellular calcium ion signals"
          ],
          [
           "face detection with effective feature extraction"
          ],
          [
           "how to extract the geometry and topology from very large 3d\n  segmentations"
          ],
          [
           "an embarrassingly simple speed-up of belief propagation with robust\n  potentials"
          ],
          [
           "a microwave imaging and enhancement technique from noisy synthetic data"
          ],
          [
           "visual-hint boundary to segment algorithm for image segmentation"
          ],
          [
           "convolutional matching pursuit and dictionary training"
          ],
          [
           "real-time robust principal components' pursuit"
          ],
          [
           "profile based sub-image search in image databases"
          ],
          [
           "combinatorial continuous maximal flows"
          ],
          [
           "robust recovery of subspace structures by low-rank representation"
          ],
          [
           "hybrid linear modeling via local best-fit flats"
          ],
          [
           "fast inference in sparse coding algorithms with applications to object\n  recognition"
          ],
          [
           "joint interpretation of on-board vision and static gps cartography for\n  determination of correct speed limit"
          ],
          [
           "3-d rigid models from partial views - global factorization"
          ],
          [
           "maximum likelihood mosaics"
          ],
          [
           "ansig - an analytic signature for arbitrary 2d shapes (or bags of\n  unlabeled points)"
          ],
          [
           "multiplierless modules for forward and backward integer wavelet\n  transform"
          ],
          [
           "revisiting complex moments for 2d shape representation and image\n  normalization"
          ],
          [
           "statistical compressive sensing of gaussian mixture models"
          ],
          [
           "collaborative sources identification in mixed signals via hierarchical\n  sparse modeling"
          ],
          [
           "local component analysis for nonparametric bayes classifier"
          ],
          [
           "selective image super-resolution"
          ],
          [
           "fast color quantization using weighted sort-means clustering"
          ],
          [
           "multiple view reconstruction of calibrated images using singular value\n  decomposition"
          ],
          [
           "lesion border detection in dermoscopy images"
          ],
          [
           "performance analysis of spectral clustering on compressed, incomplete\n  and inaccurate measurements"
          ],
          [
           "featureless 2d-3d pose estimation by minimising an\n  illumination-invariant loss"
          ],
          [
           "statistical mechanics of digital halftoning"
          ],
          [
           "single frame image super resolution using learned directionlets"
          ],
          [
           "image segmentation with multidimensional refinement indicators"
          ],
          [
           "bounded multivariate surfaces on monovariate internal functions"
          ],
          [
           "classification with scattering operators"
          ],
          [
           "tensor-sift based earth mover's distance for contour tracking"
          ],
          [
           "the data replication method for the classification with reject option"
          ],
          [
           "warping peirce quincuncial panoramas"
          ],
          [
           "modeling image structure with factorized phase-coupled boltzmann\n  machines"
          ],
          [
           "a fuzzy clustering model for fuzzy data with outliers"
          ],
          [
           "generalized tree-based wavelet transform"
          ],
          [
           "closed-form solutions to a category of nuclear norm minimization\n  problems"
          ],
          [
           "formulation of a n-degree polynomial for depth estimation using a single\n  image"
          ],
          [
           "edge preserving image denoising in reproducing kernel hilbert spaces"
          ],
          [
           "learning sparse representations of depth"
          ],
          [
           "survey on various gesture recognition techniques for interfacing\n  machines based on ambient intelligence"
          ],
          [
           "an effective method of image retrieval using image mining techniques"
          ],
          [
           "image deblurring and super-resolution by adaptive sparse domain\n  selection and adaptive regularization"
          ],
          [
           "automatic image segmentation by dynamic region merging"
          ],
          [
           "sparse motion segmentation using multiple six-point consistencies"
          ],
          [
           "affine invariant, model-based object recognition using robust metrics\n  and bayesian statistics"
          ],
          [
           "real-time visual tracking using sparse representation"
          ],
          [
           "tilt: transform invariant low-rank textures"
          ],
          [
           "adaptive cluster expansion (ace): a multilayer network for estimating\n  probability density functions"
          ],
          [
           "stochastic vector quantisers"
          ],
          [
           "the development of dominance stripes and orientation maps in a\n  self-organising visual cortex network (vicon)"
          ],
          [
           "detecting image forgeries using geometric cues"
          ],
          [
           "diffusion-geometric maximally stable component detection in deformable\n  shapes"
          ],
          [
           "lp-recovery of the most significant subspace among multiple subspaces\n  with outliers"
          ],
          [
           "self-organising stochastic encoders"
          ],
          [
           "a self-organising neural network for processing data from multiple\n  sensors"
          ],
          [
           "characterizing structure through shape matching and applications to self\n  assembly"
          ],
          [
           "harmonic order parameters for characterizing complex particle\n  morphologies"
          ],
          [
           "texture feature extraction in the spatial-frequency domain for\n  content-based image retrieval"
          ],
          [
           "affine-invariant diffusion geometry for the analysis of deformable 3d\n  shapes"
          ],
          [
           "affine-invariant geodesic geometry of deformable 3d shapes"
          ],
          [
           "a fast statistical method for multilevel thresholding in wavelet domain"
          ],
          [
           "a framework for real-time face and facial feature tracking using optical\n  flow pre-estimation and template tracking"
          ],
          [
           "binary and nonbinary description of hypointensity in human brain mr\n  images"
          ],
          [
           "combining neural networks for skin detection"
          ],
          [
           "segmentation of camera captured business card images for mobile devices"
          ],
          [
           "extending bron kerbosch for solving the maximum weight clique problem"
          ],
          [
           "application of freeman chain codes: an alternative recognition technique\n  for malaysian car plates"
          ],
          [
           "illustrating color evolution and color blindness by the decoding model\n  of color vision"
          ],
          [
           "group invariant scattering"
          ],
          [
           "automatic segmentation of hela cell images"
          ],
          [
           "content-based filtering for video sharing social networks"
          ],
          [
           "a review of research on devnagari character recognition"
          ],
          [
           "support vector machines/relevance vector machine for remote sensing\n  classification: a review"
          ],
          [
           "safevchat: detecting obscene content and misbehaving users in online\n  video chat services"
          ],
          [
           "introduction to the bag of features paradigm for image classification\n  and retrieval"
          ],
          [
           "efficient independence-based map approach for robust markov networks\n  structure discovery"
          ],
          [
           "automated image processing for the analysis of dna repair dynamics"
          ],
          [
           "transductive-inductive cluster approximation via multivariate chebyshev\n  inequality"
          ],
          [
           "diffusion framework for geometric and photometric data fusion in\n  non-rigid shape analysis"
          ],
          [
           "statistical multiresolution dantzig estimation in imaging: fundamental\n  concepts and algorithmic framework"
          ],
          [
           "online adaptive decision fusion framework based on entropic projections\n  onto convex sets with application to wildfire detection in video"
          ],
          [
           "using feature weights to improve performance of neural networks"
          ],
          [
           "a generalized method for integrating rule-based knowledge into inductive\n  methods through virtual sample creation"
          ],
          [
           "a panorama on multiscale geometric representations, intertwining\n  spatial, directional and frequency selectivity"
          ],
          [
           "a correspondence-less approach to matching of deformable shapes"
          ],
          [
           "geometric models with co-occurrence groups"
          ],
          [
           "statistical compressed sensing of gaussian mixture models"
          ],
          [
           "smart depth of field optimization applied to a robotised view camera"
          ],
          [
           "statistical methods for tissue array images - algorithmic scoring and\n  co-training"
          ],
          [
           "natural images from the birthplace of the human eye"
          ],
          [
           "evidence feed forward hidden markov model: a new type of hidden markov\n  model"
          ],
          [
           "total variation regularization for fmri-based prediction of behaviour"
          ],
          [
           "modeling dynamic swarms"
          ],
          [
           "a comparison of two human brain tumor segmentation methods for mri data"
          ],
          [
           "guaranteeing convergence of iterative skewed voting algorithms for image\n  segmentation"
          ],
          [
           "chernoff information of exponential families"
          ],
          [
           "a general framework for development of the cortex-like visual object\n  recognition system: waves of spikes, predictive coding and universal\n  dictionary of features"
          ],
          [
           "feature selection via simultaneous sparse approximation for person\n  specific face verification"
          ],
          [
           "feature selection via sparse approximation for face recognition"
          ],
          [
           "multi-task gloh feature selection for human age estimation"
          ],
          [
           "an efficient and integrated algorithm for video enhancement in\n  challenging lighting conditions"
          ],
          [
           "searching in one billion vectors: re-rank with source coding"
          ],
          [
           "a linear framework for region-based image segmentation and inpainting\n  involving curvature penalization"
          ],
          [
           "shrec 2011: robust feature detection and description benchmark"
          ],
          [
           "detection of objects in noisy images and site percolation on square\n  lattices"
          ],
          [
           "computationally efficient algorithms for statistical image processing.\n  implementation in r"
          ],
          [
           "weighted radial variation for node feature classification"
          ],
          [
           "continuous multiclass labeling approaches and algorithms"
          ],
          [
           "a novel super resolution reconstruction of low reoslution images\n  progressively using dct and zonal filter based denoising"
          ],
          [
           "automatic detection of ringworm using local binary pattern (lbp)"
          ],
          [
           "an algorithm for repairing low-quality video enhancement techniques\n  based on trained filter"
          ],
          [
           "a medial axis based thinning strategy for character images"
          ],
          [
           "submodular decomposition framework for inference in associative markov\n  networks with global constraints"
          ],
          [
           "evaluation of a novel approach for automatic volume determination of\n  glioblastomas based on several manual expert segmentations"
          ],
          [
           "a semi-automatic graph-based approach for determining the boundary of\n  eloquent fiber bundles in the human brain"
          ],
          [
           "all roads lead to rome"
          ],
          [
           "aorta segmentation for stent simulation"
          ],
          [
           "ray-based and graph-based methods for fiber bundle boundary estimation"
          ],
          [
           "adaptive mosaic image representation for image processing"
          ],
          [
           "so(3)-invariant asymptotic observers for dense depth field estimation\n  based on visual data and known camera motion"
          ],
          [
           "sparse transfer learning for interactive video search reranking"
          ],
          [
           "multi-parameter acoustic imaging of uniform objects in inhomogeneous\n  media"
          ],
          [
           "identification of arabic word from bilingual text using character\n  features"
          ],
          [
           "off-line handwritten signature identification using rotated complex\n  wavelet filters"
          ],
          [
           "4d wavelet-based regularization for parallel mri reconstruction: impact\n  on subject and group-levels statistical sensitivity in fmri"
          ],
          [
           "handwritten digit recognition with a committee of deep neural nets on\n  gpus"
          ],
          [
           "automatic extraction of open space area from high resolution urban\n  satellite imagery"
          ],
          [
           "a comparison of gap statistic definitions with and without logarithm\n  function"
          ],
          [
           "automatic open space area extraction and change detection from high\n  resolution urban satellite images"
          ],
          [
           "application of threshold techniques for readability improvement of jawi\n  historical manuscript images"
          ],
          [
           "improved edge awareness in discontinuity preserving smoothing"
          ],
          [
           "internal constraints of the trifocal tensor"
          ],
          [
           "image retrieval method using top-surf descriptor"
          ],
          [
           "visual concept detection and real time object detection"
          ],
          [
           "block-sparse recovery via convex optimization"
          ],
          [
           "a statistical nonparametric approach of face recognition: combination of\n  eigenface & modified k-means clustering"
          ],
          [
           "gaussian affine feature detector"
          ],
          [
           "fuzzy rules and evidence theory for satellite image analysis"
          ],
          [
           "a bio-inspired image coder with temporal scalability"
          ],
          [
           "benchmarking the quality of diffusion-weighted images"
          ],
          [
           "\"improved fcm algorithm for clustering on web usage mining\""
          ],
          [
           "off-line handwritten signature retrieval using curvelet transforms"
          ],
          [
           "template-based matching using weight maps"
          ],
          [
           "geomir2k9 - a similar scene finder"
          ],
          [
           "from a modified ambrosio-tortorelli to a randomized part hierarchy tree"
          ],
          [
           "extracting parts of 2d shapes using local and global interactions\n  simultaneously"
          ],
          [
           "elimination of specular reflection and identification of roi: the first\n  step in automated detection of cervical cancer using digital colposcopy"
          ],
          [
           "hypothesize and bound: a computational focus of attention mechanism for\n  simultaneous n-d segmentation, pose estimation and classification using shape\n  priors"
          ],
          [
           "an axis-based representation for recognition"
          ],
          [
           "disconnected skeleton: shape at its absolute scale"
          ],
          [
           "an effect of spatial filtering in visualization of coronary arteries\n  imaging"
          ],
          [
           "visualization techniques for data mining of latur district satellite\n  imagery"
          ],
          [
           "hue histograms to spatiotemporal local features for action recognition"
          ],
          [
           "a meshless method for variational nonrigid 2-d shape registration"
          ],
          [
           "improving digital signal interpolation: l2-optimal kernels with\n  kernel-invariant interpolation speed"
          ],
          [
           "curved gabor filters for fingerprint image enhancement"
          ],
          [
           "intent inference and syntactic tracking with gmti measurements"
          ],
          [
           "convex approaches to model wavelet sparsity patterns"
          ],
          [
           "positive semidefinite metric learning using boosting-like algorithms"
          ],
          [
           "bayesian approach for near-duplicate image detection"
          ],
          [
           "preprocessing: a step in automating early detection of cervical cancer"
          ],
          [
           "content-based spam filtering on video sharing social networks"
          ],
          [
           "a supervised clustering approach for fmri-based inference of brain\n  states"
          ],
          [
           "an automated size recognition technique for acetabular implant in total\n  hip replacement"
          ],
          [
           "methods of hierarchical clustering"
          ],
          [
           "considerations and results in multimedia and dvb application development\n  on philips nexperia platform"
          ],
          [
           "streaming multimedia information using the features of the dvb-s card"
          ],
          [
           "a modified cross correlation algorithm for reference-free image\n  alignment of non-circular projections in single-particle electron microscopy"
          ],
          [
           "a multiple component matching framework for person re-identification"
          ],
          [
           "$\\ell_0$ minimization for wavelet frame based image restoration"
          ],
          [
           "view subspaces for indexing and retrieval of 3d models"
          ],
          [
           "salient local 3d features for 3d shape retrieval"
          ],
          [
           "face recognition using 3d facial shape and color map information:\n  comparison and combination"
          ],
          [
           "retrieval and clustering from a 3d human database based on body and head\n  shape"
          ],
          [
           "planar pixelations and image recognition"
          ],
          [
           "optimal camera placement to measure distances conservativly regarding\n  static and dynamic obstacles"
          ],
          [
           "invariant representative cocycles of cohomology generators using\n  irregular graph pyramids"
          ],
          [
           "face shape and reflectance acquisition using a multispectral light stage"
          ],
          [
           "benchmarks, performance evaluation and contests for 3d shape retrieval"
          ],
          [
           "an algorithmic solution to the five-point pose problem based on the\n  cayley representation of rotations"
          ],
          [
           "hierarchical recursive running median"
          ],
          [
           "a multiple-choice test recognition system based on the gamera framework"
          ],
          [
           "human identity verification based on heart sounds: recent advances and\n  future directions"
          ],
          [
           "cubical cohomology ring of 3d photographs"
          ],
          [
           "fast o(1) bilateral filtering using trigonometric range kernels"
          ],
          [
           "preprocessing for automating early detection of cervical cancer"
          ],
          [
           "on the cohomology of 3d digital images"
          ],
          [
           "a tool for integer homology computation: lambda-at model"
          ],
          [
           "image splicing detection using inherent lens radial distortion"
          ],
          [
           "efficient learning of sparse invariant representations"
          ],
          [
           "scale-invariant local descriptor for event recognition in 1d sensor\n  signals"
          ],
          [
           "neural networks for emotion classification"
          ],
          [
           "alignment of microtubule imagery"
          ],
          [
           "rasid: a robust wlan device-free passive motion detection system"
          ],
          [
           "incremental top-k list comparison approach to robust multi-structure\n  model fitting"
          ],
          [
           "handwritten character recognition of south indian scripts: a review"
          ],
          [
           "learning hierarchical sparse representations using iterative dictionary\n  learning and dimension reduction"
          ],
          [
           "a novel image segmentation enhancement technique based on active contour\n  and topological alignments"
          ],
          [
           "recovering epipolar geometry from images of smooth surfaces"
          ],
          [
           "an efficient circle detection scheme in digital images using ant system\n  algorithm"
          ],
          [
           "nearest prime simplicial complex for object recognition"
          ],
          [
           "exact reconstruction of the rank order coding using frames theory"
          ],
          [
           "omni-tomography/multi-tomography -- integrating multiple modalities for\n  simultaneous imaging"
          ],
          [
           "clustering with multi-layer graphs: a spectral perspective"
          ],
          [
           "comparing haar-hilbert and log-gabor based iris encoders on bath iris\n  image database"
          ],
          [
           "robust mobile object tracking based on multiple feature similarity and\n  trajectory filtering"
          ],
          [
           "who clicks there!: anonymizing the photographer in a camera saturated\n  society"
          ],
          [
           "nested graph words for object recognition"
          ],
          [
           "polar fusion technique analysis for evaluating the performances of image\n  fusion of thermal and visual images for human face recognition"
          ],
          [
           "next level of data fusion for human face recognition"
          ],
          [
           "high performance human face recognition using independent high intensity\n  gabor wavelet responses: a statistical approach"
          ],
          [
           "dwt based fingerprint recognition using non minutiae features"
          ],
          [
           "exploratory simulation of an intelligent iris verifier distributed\n  system"
          ],
          [
           "inferring 3d articulated models for box packaging robot"
          ],
          [
           "face identification from manipulated facial images using sift"
          ],
          [
           "morphological reconstruction for word level script identification"
          ],
          [
           "learning shape and texture characteristics of ct tree-in-bud opacities\n  for cad systems"
          ],
          [
           "pose estimation from a single depth image for arbitrary kinematic\n  skeletons"
          ],
          [
           "automated segmentation of the pulmonary arteries in low-dose ct by\n  vessel tracking"
          ],
          [
           "augmented reality implementation methods in mainstream applications"
          ],
          [
           "mobile augmented reality applications"
          ],
          [
           "fingerprint: dwt, svd based enhancement and significant contrast for\n  ridges and valleys using fuzzy measures"
          ],
          [
           "a replica inference approach to unsupervised multi-scale image\n  segmentation"
          ],
          [
           "active classification: theory and application to underwater inspection"
          ],
          [
           "image denoising assessment using anisotropic stack filtering"
          ],
          [
           "visual secret sharing scheme using grayscale images"
          ],
          [
           "vision-based navigation iii: pose and motion from omnidirectional\n  optical flow and a digital terrain map"
          ],
          [
           "unstructured human activity detection from rgbd images"
          ],
          [
           "vision-based navigation i: a navigation filter for fusing\n  dtm/correspondence updates"
          ],
          [
           "3d terrestrial lidar data classification of complex natural scenes using\n  a multi-scale dimensionality criterion: applications in geomorphology"
          ],
          [
           "automatic road lighting system (arls) model based on image processing of\n  moving object"
          ],
          [
           "online vehicle detection for estimating traffic status"
          ],
          [
           "spatial features for multi-font/multi-size kannada numerals and vowels\n  recognition"
          ],
          [
           "integrating generic sensor fusion algorithms with sound state\n  representations through encapsulation of manifolds"
          ],
          [
           "evidence-based filters for signal detection: application to evoked brain\n  responses"
          ],
          [
           "vision-based navigation ii: error analysis for a navigation algorithm\n  based on optical-flow and a digital terrain map"
          ],
          [
           "analysis and improvement of low rank representation for subspace\n  segmentation"
          ],
          [
           "prostate biopsy tracking with deformation estimation"
          ],
          [
           "information-theoretic measures for objective evaluation of\n  classifications"
          ],
          [
           "median algorithm for sector spectra calculation from images registered\n  by the spectral airglow temperature imager"
          ],
          [
           "kunchenko's polynomials for template matching"
          ],
          [
           "a variation of the box-counting algorithm applied to colour images"
          ],
          [
           "bsvm: a banded suport vector machine"
          ],
          [
           "learning hypergraph labeling for feature matching"
          ],
          [
           "a fuzzy view on k-means based signal quantization with application in\n  iris segmentation"
          ],
          [
           "exploring new directions in iris recognition"
          ],
          [
           "topographic feature extraction for bengali and hindi character images"
          ],
          [
           "face recognition using curvelet transform"
          ],
          [
           "the chan-vese algorithm"
          ],
          [
           "modelling distributed shape priors by gibbs random fields of second\n  order"
          ],
          [
           "label-specific training set construction from web resource for image\n  annotation"
          ],
          [
           "a hilbert scheme in computer vision"
          ],
          [
           "fingerprint recognition using standardized fingerprint model"
          ],
          [
           "facial expression classification based on multi artificial neural\n  network and two dimensional principal component analysis"
          ],
          [
           "arithmetic and frequency filtering methods of pixel-based image fusion\n  techniques"
          ],
          [
           "applying advanced spaceborne thermal emission and reflection radiometer\n  (aster) spectral indices for geological mapping and mineral identification on\n  the tibetan plateau"
          ],
          [
           "3-phase recognition approach to pseudo 3d building generation from 2d\n  floor plan"
          ],
          [
           "weakly supervised learning of foreground-background segmentation using\n  masked rbms"
          ],
          [
           "the ihs transformations based image fusion"
          ],
          [
           "constant-time filtering using shiftable kernels"
          ],
          [
           "on the hilbert transform of wavelets"
          ],
          [
           "efficient variational inference in large-scale bayesian compressed\n  sensing"
          ],
          [
           "correlation estimation from compressed images"
          ],
          [
           "diffeomorphic metric mapping of high angular resolution diffusion\n  imaging based on riemannian structure of orientation distribution functions"
          ],
          [
           "efficient and accurate gaussian image filtering using running sums"
          ],
          [
           "variational gaussian process dynamical systems"
          ],
          [
           "an iterative feature selection method for grns inference by exploring\n  topological properties"
          ],
          [
           "fast multi-scale edge-detection in medical ultrasound signals"
          ],
          [
           "multi layer analysis"
          ],
          [
           "confidence-based dynamic classifier combination for mean-shift tracking"
          ],
          [
           "a invertible dimension reduction of curves on a manifold"
          ],
          [
           "an efficient real time method of fingertip detection"
          ],
          [
           "leveraging billions of faces to overcome performance barriers in\n  unconstrained face recognition"
          ],
          [
           "learning representations by maximizing compression"
          ],
          [
           "real time face recognition using adaboost improved fast pca algorithm"
          ],
          [
           "gender recognition based on sift features"
          ],
          [
           "a new embedding quality assessment method for manifold learning"
          ],
          [
           "undithering using linear filtering and non-linear diffusion techniques"
          ],
          [
           "compressive imaging using approximate message passing and a markov-tree\n  prior"
          ],
          [
           "the statistical methods of pixel-based image fusion techniques"
          ],
          [
           "advanced phase retrieval: maximum likelihood technique with sparse\n  regularization of phase and amplitude"
          ],
          [
           "a machine learning perspective on predictive coding with paq"
          ],
          [
           "hamiltonian streamline guided feature extraction with applications to\n  face detection"
          ],
          [
           "hierarchical object parsing from structured noisy point clouds"
          ],
          [
           "toward parts-based scene understanding with pixel-support parts-sparse\n  pictorial structures"
          ],
          [
           "multisensor images fusion based on feature-level"
          ],
          [
           "edge detection based on morphological amoebas"
          ],
          [
           "learning from complex systems: on the roles of entropy and fisher\n  information in pairwise isotropic gaussian markov random fields"
          ],
          [
           "solving principal component pursuit in linear time via $l_1$ filtering"
          ],
          [
           "noise covariance properties in dual-tree wavelet decompositions"
          ],
          [
           "conjugate variables as a resource in signal and image processing"
          ],
          [
           "biometric authorization system using gait biometry"
          ],
          [
           "anisotropic k-nearest neighbor search using covariance quadtree"
          ],
          [
           "an efficient codebook initialization approach for lbg algorithm"
          ],
          [
           "automatic application level set approach in detection calcifications in\n  mammographic image"
          ],
          [
           "vessel segmentation in medical imaging using a tight-frame based\n  algorithm"
          ],
          [
           "shareboost: efficient multiclass learning with feature sharing"
          ],
          [
           "moving object detection by detecting contiguous outliers in the low-rank\n  representation"
          ],
          [
           "toward designing intelligent pdes for computer vision: an optimal\n  control approach"
          ],
          [
           "automatic diagnosis of abnormal tumor region from brain computed\n  tomography images using wavelet based statistical texture features"
          ],
          [
           "an automatic clustering technique for optimal clusters"
          ],
          [
           "color texture classification approach based on combination of primitive\n  pattern units and statistical features"
          ],
          [
           "on partial opimality by auxiliary submodular problems"
          ],
          [
           "estimating 3d human shapes from measurements"
          ],
          [
           "devnagari document segmentation using histogram approach"
          ],
          [
           "curvature prior for mrf-based segmentation and shape inpainting"
          ],
          [
           "exact subspace segmentation and outlier detection by low-rank\n  representation"
          ],
          [
           "progressive versus random projections for compressive capture of images,\n  lightfields and higher dimensional visual signals"
          ],
          [
           "a radial version of the central limit theorem"
          ],
          [
           "efficient minimization of higher order submodular functions using\n  monotonic boolean functions"
          ],
          [
           "mis-boost: multiple instance selection boosting"
          ],
          [
           "a probabilistic framework for discriminative dictionary learning"
          ],
          [
           "multi-hypothesis crf-segmentation of neural tissue in anisotropic em\n  volumes"
          ],
          [
           "a non-iterative solution to the four-point three-views pose problem in\n  case of collinear cameras"
          ],
          [
           "design of an optical character recognition system for camera-based\n  handheld devices"
          ],
          [
           "connectivity-enforcing hough transform for the robust extraction of line\n  segments"
          ],
          [
           "generalised object detection and semantic analysis: casino example using\n  matlab"
          ],
          [
           "online robust subspace tracking from partial information"
          ],
          [
           "digital (co)homology modules and digital pontryagin algebras"
          ],
          [
           "detachable object detection: segmentation and depth ordering from\n  short-baseline video"
          ],
          [
           "probabilistic prototype models for attributed graphs"
          ],
          [
           "sparse online low-rank projection and outlier rejection (solo) for 3-d\n  rigid-body motion registration"
          ],
          [
           "beyond pixels and regions: a non local patch means (nlpm) method for\n  content-level restoration, enhancement, and reconstruction of degraded\n  document images"
          ],
          [
           "improvements on \"fast space-variant elliptical filtering using box\n  splines\""
          ],
          [
           "squiggle - a glyph recognizer for gesture input"
          ],
          [
           "higher-order markov tag-topic models for tagged documents and images"
          ],
          [
           "posterior mean super-resolution with a causal gaussian markov random\n  field prior"
          ],
          [
           "hypothesize and bound: a computational focus of attention mechanism for\n  simultaneous 3d shape reconstruction, pose estimation and classification from\n  a single 2d image"
          ],
          [
           "abhivyakti: a vision based intelligent system for elder and sick persons"
          ],
          [
           "the statistical inefficiency of sparse coding for images (or, one gabor\n  to rule them all)"
          ],
          [
           "a novel comprehensive method for real time video motion detection\n  surveillance"
          ],
          [
           "learning image transformations without training examples"
          ],
          [
           "learning to relate images: mapping units, complex cells and simultaneous\n  eigenspaces"
          ],
          [
           "robust artificial neural networks and outlier detection. technical\n  report"
          ],
          [
           "eclectic extraction of propositional rules from neural networks"
          ],
          [
           "face recognition using optimal representation ensemble"
          ],
          [
           "discriminately decreasing discriminability with learned image filters"
          ],
          [
           "identifying relationships between drugs and medical conditions: winning\n  experience in the challenge 2 of the omop 2010 cup"
          ],
          [
           "non-gaussian scale space filtering with 2 by 2 matrix of linear filters"
          ],
          [
           "linearized additive classifiers"
          ],
          [
           "dictionary learning for deblurring and digital zoom"
          ],
          [
           "rotation, scaling and translation analysis of biometric signature\n  templates"
          ],
          [
           "runtime guarantees for regression problems"
          ],
          [
           "a face recognition scheme using wavelet based dominant features"
          ],
          [
           "a comparative experiment of several shape methods in recognizing plants"
          ],
          [
           "foliage plant retrieval using polar fourier transform, color moments and\n  vein features"
          ],
          [
           "the proximal point method for a hybrid model in image restoration"
          ],
          [
           "steps towards a theory of visual information: active perception,\n  signal-to-symbol conversion and the interplay between sensing and control"
          ],
          [
           "closed-loop learning of visual control policies"
          ],
          [
           "ground metric learning"
          ],
          [
           "sparse image representation with epitomes"
          ],
          [
           "robust image analysis by l1-norm semi-supervised learning"
          ],
          [
           "controlled total variation regularization for inverse problems"
          ],
          [
           "algorithms to automatically quantify the geometric similarity of\n  anatomical surfaces"
          ],
          [
           "multi-criteria anomaly detection using pareto depth analysis"
          ],
          [
           "anti-sparse coding for approximate nearest neighbor search"
          ],
          [
           "aoso-logitboost: adaptive one-vs-one logitboost for multi-class problem"
          ],
          [
           "studying satellite image quality based on the fusion techniques"
          ],
          [
           "spectral descriptors for deformable shapes"
          ],
          [
           "absolute uniqueness of phase retrieval with random illumination"
          ],
          [
           "towards holistic scene understanding: feedback enabled cascaded\n  classification models"
          ],
          [
           "face recognition based on svm and 2dpca"
          ],
          [
           "hand tracking based on hierarchical clustering of range data"
          ],
          [
           "a new similarity measure for non-local means filtering of mri images"
          ],
          [
           "iris codes classification using discriminant and witness directions"
          ],
          [
           "topology on locally finite metric spaces"
          ],
          [
           "kernel diff-hash"
          ],
          [
           "distributed lossy source coding using real-number codes"
          ],
          [
           "graph regularized nonnegative matrix factorization for hyperspectral\n  data unmixing"
          ],
          [
           "sparsity and robustness in face recognition"
          ],
          [
           "a robust, low-cost approach to face detection and face recognition"
          ],
          [
           "securing biometric images using reversible watermarking"
          ],
          [
           "covariant fractional extension of the modified laplace-operator used in\n  3d-shape recovery"
          ],
          [
           "speculative parallel evaluation of classification trees on gpgpu compute\n  engines"
          ],
          [
           "face recognition using discrete cosine transform for global and local\n  features"
          ],
          [
           "multimodal diff-hash"
          ],
          [
           "iris recognition based on lbp and combined lvq classifier"
          ],
          [
           "efficient hierarchical markov random fields for object detection on a\n  mobile robot"
          ],
          [
           "new method for 3d shape retrieval"
          ],
          [
           "discriminative local sparse representations for robust face recognition"
          ],
          [
           "a novel approach to texture classification using statistical feature"
          ],
          [
           "digital manifolds and the theorem of jordan-brouwer"
          ],
          [
           "a prototype system for handwritten sub-word recognition: toward\n  arabic-manuscript transliteration"
          ],
          [
           "good pairs of adjacency relations in arbitrary dimensions"
          ],
          [
           "the object projection feature estimation problem in unsupervised\n  markerless 3d motion tracking"
          ],
          [
           "a facial expression classification system integrating canny, principal\n  component analysis and artificial neural network"
          ],
          [
           "a single euler number feature for multi-font multi-size kannada numeral\n  recognition"
          ],
          [
           "multi-font multi-size kannada numeral recognition based on structural\n  features"
          ],
          [
           "redundant wavelets on graphs and high dimensional data clouds"
          ],
          [
           "a self-portrait of young leonardo"
          ],
          [
           "facial asymmetry and emotional expression"
          ],
          [
           "enhancement of image resolution by binarization"
          ],
          [
           "distributed multi-view matching in networks with limited communications"
          ],
          [
           "a theory for optical flow-based transport on image manifolds"
          ],
          [
           "a new iris normalization process for recognition system with\n  cryptographic techniques"
          ],
          [
           "contextually guided semantic labeling and search for 3d point clouds"
          ],
          [
           "distributed representation of geometrically correlated images with\n  compressed linear measurements"
          ],
          [
           "suboptimality of nonlocal means for images with sharp edges"
          ],
          [
           "an image processing of a raphael's portrait of leonardo"
          ],
          [
           "compressed sensing of astronomical images:orthogonal wavelets domains"
          ],
          [
           "ward's hierarchical clustering method: clustering criterion and\n  agglomerative algorithm"
          ],
          [
           "3d model retrieval based on semantic and shape indexes"
          ],
          [
           "efficient adaptive compressive sensing using sparse hierarchical learned\n  dictionaries"
          ],
          [
           "determining a rotation of a tetrahedron from a projection"
          ],
          [
           "invariant texture analysis through local binary patterns"
          ],
          [
           "local naive bayes nearest neighbor for image classification"
          ],
          [
           "a biomimetic model of the outer plexiform layer by incorporating\n  memristive devices"
          ],
          [
           "optimality bounds for a variational relaxation of the image partitioning\n  problem"
          ],
          [
           "classification with invariant scattering representations"
          ],
          [
           "meaningful matches in stereovision"
          ],
          [
           "a multi-feature tracking algorithm enabling adaptation to context\n  variations"
          ],
          [
           "pocs based super-resolution image reconstruction using an adaptive\n  regularization parameter"
          ],
          [
           "re-initialization free level set evolution via reaction diffusion"
          ],
          [
           "real-time face swapping as a tool for understanding infant\n  self-recognition"
          ],
          [
           "improvement of bm3d algorithm and employment to satellite and cfa images\n  denoising"
          ],
          [
           "large scale correlation clustering optimization"
          ],
          [
           "supervised generative reconstruction: an efficient way to flexibly store\n  and recognize patterns"
          ],
          [
           "a new variational principle for the euclidean distance function: linear\n  approach to the non-linear eikonal problem"
          ],
          [
           "data processing for atomic resolution eels"
          ],
          [
           "gpu-based image analysis on mobile devices"
          ],
          [
           "higher-order momentum distributions and locally affine lddmm\n  registration"
          ],
          [
           "automatic post-picking improves particle image detection from cryo-em\n  micrographs"
          ],
          [
           "insights from classifying visual concepts with multiple kernel learning"
          ],
          [
           "developing autonomic properties for distributed pattern-recognition\n  systems with assl: a distributed marf case study"
          ],
          [
           "a real time vehicles detection algorithm for vision based sensors"
          ],
          [
           "vehicles recognition using fuzzy descriptors of image segments"
          ],
          [
           "a reduced reference image quality measure using bessel k forms model for\n  tetrolet coefficients"
          ],
          [
           "a geometric approach for fully automatic chromosome segmentation"
          ],
          [
           "oracle inequalities and minimax rates for non-local means and related\n  adaptive kernel-based methods"
          ],
          [
           "discretization of parametrizable signal manifolds"
          ],
          [
           "learning smooth pattern transformation manifolds"
          ],
          [
           "on b-spline framelets derived from the unitary extension principle"
          ],
          [
           "online adaptive statistical compressed sensing of gaussian mixture\n  models"
          ],
          [
           "multispectral palmprint recognition using a hybrid feature"
          ],
          [
           "automated polyu palmprint sample registration and coarse classification"
          ],
          [
           "descriptor learning for omnidirectional image matching"
          ],
          [
           "multi-q analysis of image patterns"
          ],
          [
           "spatio-temporal wavelet regularization for parallel mri reconstruction:\n  application to functional mri"
          ],
          [
           "learning joint intensity-depth sparse representations"
          ],
          [
           "on the convergence of gradient descent for finding the riemannian center\n  of mass"
          ],
          [
           "probabilistic motion estimation based on temporal coherence"
          ],
          [
           "information distance: new developments"
          ],
          [
           "picture collage with genetic algorithm and stereo vision"
          ],
          [
           "minutiae extraction from fingerprint images - a review"
          ],
          [
           "a united image force for deformable models and direct transforming\n  geometric active contorus to snakes by level sets"
          ],
          [
           "adaptive noise reduction scheme for salt and pepper"
          ],
          [
           "polynomial regression on riemannian manifolds"
          ],
          [
           "an efficient fpga implementation of mri image filtering and tumor\n  characterization using xilinx system generator"
          ],
          [
           "autonomous cleaning of corrupted scanned documents - a generative\n  modeling approach"
          ],
          [
           "nonparametric sparse representation"
          ],
          [
           "negcut: automatic image segmentation based on mrf-map"
          ],
          [
           "g-lets: signal processing using transformation groups"
          ],
          [
           "automatic system for counting cells with elliptical shape"
          ],
          [
           "enhancing volumetric bouligand-minkowski fractal descriptors by using\n  functional data analysis"
          ],
          [
           "shape analysis using fractal dimension: a curvature based approach"
          ],
          [
           "fractal descriptors in the fourier domain applied to color texture\n  analysis"
          ],
          [
           "fractal and multi-scale fractal dimension analysis: a comparative study\n  of bouligand-minkowski method"
          ],
          [
           "assessing the value of 3d reconstruction in building construction"
          ],
          [
           "variations of images to increase their visibility"
          ],
          [
           "a new color feature extraction method based on dynamic color\n  distribution entropy of neighborhoods"
          ],
          [
           "multiscale fractal descriptors applied to nanoscale images"
          ],
          [
           "spatiotemporal gabor filters: a new method for dynamic texture\n  recognition"
          ],
          [
           "on the lagrangian biduality of sparsity minimization problems"
          ],
          [
           "a multimodal biometric system using linear discriminant analysis for\n  improved performance"
          ],
          [
           "image labeling and segmentation using hierarchical conditional random\n  field model"
          ],
          [
           "a pca-based super-resolution algorithm for short image sequences"
          ],
          [
           "a novel approach to fast image filtering algorithm of infrared images\n  based on intro sort algorithm"
          ],
          [
           "image decomposition with anisotropic diffusion applied to leaf-texture\n  analysis"
          ],
          [
           "fractal descriptors based on fourier spectrum applied to texture\n  analysis"
          ],
          [
           "compressive acquisition of dynamic scenes"
          ],
          [
           "a new local adaptive thresholding technique in binarization"
          ],
          [
           "task-driven adaptive statistical compressive sensing of gaussian mixture\n  models"
          ],
          [
           "comparing methods for segmentation of microcalcification clusters in\n  digitized mammograms"
          ],
          [
           "cognitive memory network"
          ],
          [
           "feature selection using nearest attributes"
          ],
          [
           "examplers based image fusion features for face recognition"
          ],
          [
           "the watershed concept and its use in segmentation : a brief history"
          ],
          [
           "resolving implementation ambiguity and improving surf"
          ],
          [
           "comparing background subtraction algorithms and method of car counting"
          ],
          [
           "wavelet-based deconvolution of ultrasonic signals in nondestructive\n  evaluation"
          ],
          [
           "improving feature selection algorithms using normalised feature\n  histograms"
          ],
          [
           "fully automatic expression-invariant face correspondence"
          ],
          [
           "robust seed selection algorithm for k-means type algorithms"
          ],
          [
           "automatic clustering with single optimal solution"
          ],
          [
           "calculation of prompt diphoton production cross sections at tevatron and\n  lhc energies"
          ],
          [
           "sparsity-certifying graph decompositions"
          ],
          [
           "the evolution of the earth-moon system based on the dark matter field\n  fluid model"
          ],
          [
           "a determinant of stirling cycle numbers counts unlabeled acyclic\n  single-source automata"
          ],
          [
           "from dyadic $\\lambda_{\\alpha}$ to $\\lambda_{\\alpha}$"
          ],
          [
           "bosonic characters of atomic cooper pairs across resonance"
          ],
          [
           "polymer quantum mechanics and its continuum limit"
          ],
          [
           "numerical solution of shock and ramp compression for general material\n  properties"
          ],
          [
           "the spitzer c2d survey of large, nearby, insterstellar clouds. ix. the\n  serpens yso population as observed with irac and mips"
          ],
          [
           "partial cubes: structures, characterizations, and constructions"
          ],
          [
           "computing genus 2 hilbert-siegel modular forms over $\\q(\\sqrt{5})$ via\n  the jacquet-langlands correspondence"
          ],
          [
           "distribution of integral fourier coefficients of a modular form of half\n  integral weight modulo primes"
          ],
          [
           "$p$-adic limit of weakly holomorphic modular forms of half integral\n  weight"
          ],
          [
           "iterated integral and the loop product"
          ],
          [
           "fermionic superstring loop amplitudes in the pure spinor formalism"
          ],
          [
           "lifetime of doubly charmed baryons"
          ],
          [
           "spectroscopic observations of the intermediate polar ex hydrae in\n  quiescence"
          ],
          [
           "in quest of a generalized callias index theorem"
          ],
          [
           "approximation for extinction probability of the contact process based on\n  the gr\\\"obner basis"
          ],
          [
           "measurement of the hadronic form factor in d0 --> k- e+ nue decays"
          ],
          [
           "molecular synchronization waves in arrays of allosterically regulated\n  enzymes"
          ],
          [
           "stochastic lie group integrators"
          ],
          [
           "alma as the ideal probe of the solar chromosphere"
          ],
          [
           "formation of quasi-solitons in transverse confined ferromagnetic film\n  media"
          ],
          [
           "spectroscopic properties of polarons in strongly correlated systems by\n  exact diagrammatic monte carlo method"
          ],
          [
           "placeholder substructures ii: meta-fractals, made of box-kites, fill\n  infinite-dimensional skies"
          ],
          [
           "filling-factor-dependent magnetophonon resonance in graphene"
          ],
          [
           "pfaffians, hafnians and products of real linear functionals"
          ],
          [
           "understanding the flavor symmetry breaking and nucleon flavor-spin\n  structure within chiral quark model"
          ],
          [
           "tuning correlation effects with electron-phonon interactions"
          ],
          [
           "crystal channeling of lhc forward protons with preserved distribution in\n  phase space"
          ],
          [
           "probing non-standard neutrino interactions with supernova neutrinos"
          ],
          [
           "convergence of the discrete dipole approximation. i. theoretical\n  analysis"
          ],
          [
           "origin of adaptive mutants: a quantum measurement?"
          ],
          [
           "convergence of the discrete dipole approximation. ii. an extrapolation\n  technique to increase the accuracy"
          ],
          [
           "a remark on the number of steady states in a multiple futile cycle"
          ],
          [
           "the discrete dipole approximation for simulation of light scattering by\n  particles much larger than the wavelength"
          ],
          [
           "the discrete dipole approximation: an overview and recent developments"
          ],
          [
           "scalar radius of the pion and zeros in the form factor"
          ],
          [
           "multilinear function series in conditionally free probability with\n  amalgamation"
          ],
          [
           "quantum group of isometries in classical and noncommutative geometry"
          ],
          [
           "general system theory, like-quantum semantics and fuzzy sets"
          ],
          [
           "nonequilibrium entropy limiters in lattice boltzmann methods"
          ],
          [
           "astrophysical gyrokinetics: kinetic and fluid turbulent cascades in\n  magnetized weakly collisional plasmas"
          ],
          [
           "evolution of solitary waves and undular bores in shallow-water flows\n  over a gradual slope with bottom friction"
          ],
          [
           "a limit relation for entropy and channel capacity per unit cost"
          ],
          [
           "intelligent location of simultaneously active acoustic emission sources:\n  part i"
          ],
          [
           "inference on white dwarf binary systems using the first round mock lisa\n  data challenges data sets"
          ],
          [
           "an algorithm for the classification of smooth fano polytopes"
          ],
          [
           "intelligent location of simultaneously active acoustic emission sources:\n  part ii"
          ],
          [
           "visualizing teleportation"
          ],
          [
           "quantum field theory on curved backgrounds. ii. spacetime symmetries"
          ],
          [
           "a global approach to the theory of special finsler manifolds"
          ],
          [
           "the hardy-lorentz spaces $h^{p,q}(r^n)$"
          ],
          [
           "potassium intercalation in graphite: a van der waals density-functional\n  study"
          ],
          [
           "phase diagram of gaussian-core nematics"
          ],
          [
           "high-spin to low-spin and orbital polarization transitions in\n  multiorbital mott systems"
          ],
          [
           "intelligent life in cosmology"
          ],
          [
           "the mass and radius of the unseen m-dwarf companion in the single-lined\n  eclipsing binary hat-tr-205-013"
          ],
          [
           "coulomb excitation of unstable nuclei at intermediate energies"
          ],
          [
           "intersection bodies and generalized cosine transforms"
          ],
          [
           "on-line viterbi algorithm and its relationship to random walks"
          ],
          [
           "experimental efforts in search of 76ge neutrinoless double beta decay"
          ],
          [
           "nilpotent symmetry invariance in the superfield formulation: the\n  (non-)abelian 1-form gauge theories"
          ],
          [
           "littlewood-richardson polynomials"
          ],
          [
           "lagrangian quantum field theory in momentum picture. iv. commutation\n  relations for free fields"
          ],
          [
           "order of epitaxial self-assembled quantum dots: linear analysis"
          ],
          [
           "a note about the {ki(z)} functions"
          ],
          [
           "dynamical objects for cohomologically expanding maps"
          ],
          [
           "coincidence of the oscillations in the dipole transition and in the\n  persistent current of narrow quantum rings with two electrons"
          ],
          [
           "pairwise comparisons of typological profiles (of languages)"
          ],
          [
           "the decomposition method and maple procedure for finding first integrals\n  of nonlinear pdes of any order with any number of independent variables"
          ],
          [
           "a transcendental approach to koll\\'ar's injectivity theorem"
          ],
          [
           "injective morita contexts (revisited)"
          ],
          [
           "strong decays of charmed baryons"
          ],
          [
           "cp violation in beauty decays"
          ],
          [
           "linear perturbations of matched spacetimes: the gauge problem and\n  background symmetries"
          ],
          [
           "operator algebras associated with unitary commutation relations"
          ],
          [
           "shaping the globular cluster mass function by stellar-dynamical\n  evaporation"
          ],
          [
           "quantum deformations of relativistic symmetries"
          ],
          [
           "matter-wave bright solitons with a finite background in spinor\n  bose-einstein condensates"
          ],
          [
           "why there is something rather than nothing (out of everything)?"
          ],
          [
           "formation of density singularities in ideal hydrodynamics of freely\n  cooling inelastic gases: a family of exact solutions"
          ],
          [
           "a universality in pp-waves"
          ],
          [
           "clustering in a stochastic model of one-dimensional gas"
          ],
          [
           "approximate solutions to the dirichlet problem for harmonic maps between\n  hyperbolic spaces"
          ],
          [
           "some new experimental photonic flame effect features"
          ],
          [
           "a general approach to statistical modeling of physical laws:\n  nonparametric regression"
          ],
          [
           "real options for project schedules (rops)"
          ],
          [
           "groups with finitely many conjugacy classes and their automorphisms"
          ],
          [
           "timing and lensing of the colliding bullet clusters: barely enough time\n  and gravity to accelerate the bullet"
          ],
          [
           "geometry of locally compact groups of polynomial growth and shape of\n  large balls"
          ],
          [
           "much ado about 248"
          ],
          [
           "conformal field theory and operator algebras"
          ],
          [
           "sparsely-spread cdma - a statistical mechanics based analysis"
          ],
          [
           "on ando's inequalities for convex and concave functions"
          ],
          [
           "topology change of black holes"
          ],
          [
           "the birth of string theory"
          ],
          [
           "duality and tameness"
          ],
          [
           "generalized regularly discontinuous solutions of the einstein equations"
          ],
          [
           "a geometric realization of sl(6,c)"
          ],
          [
           "rigid subsets of symplectic manifolds"
          ],
          [
           "multiple parton scattering in nuclei: quark-quark scattering"
          ],
          [
           "experimental modeling of physical laws"
          ],
          [
           "reducing sat to 2-sat"
          ],
          [
           "half-metallic silicon nanowires"
          ],
          [
           "on equivariant embedding of hilbert c^* modules"
          ],
          [
           "invariance and the twisted chern character : a case study"
          ],
          [
           "placeholder substructures iii: a bit-string-driven ''recipe theory'' for\n  infinite-dimensional zero-divisor spaces"
          ],
          [
           "langmuir blodgett assembly of densely aligned single walled carbon\n  nanotubes from bulk materials"
          ],
          [
           "quantum phase transition in the four-spin exchange antiferromagnet"
          ],
          [
           "smooth maps with singularities of bounded k-codimensions"
          ],
          [
           "stringy jacobi fields in morse theory"
          ],
          [
           "lower ground state due to counter-rotating wave interaction in trapped\n  ion system"
          ],
          [
           "strained single-crystal al2o3 grown layer-by-layer on nb (110) thin\n  films"
          ],
          [
           "quasi-quartet crystal electric field ground state in a tetragonal\n  ceag$_2$ge$_2$ single crystal"
          ],
          [
           "strong phase and $d^0-d^0bar$ mixing at bes-iii"
          ],
          [
           "meta-stable brane configuration of product gauge groups"
          ],
          [
           "spinor dipolar bose-einstein condensates; classical spin approach"
          ],
          [
           "nonlinear dynamics of the phonon stimulated emission in microwave\n  solid-state resonator of the nonautonomous phaser generator"
          ],
          [
           "proper j-holomorphic discs in stein domains of dimension 2"
          ],
          [
           "anisotropic thermo-elasticity in 2d -- part i: a unified approach"
          ],
          [
           "i-v characteristics of the vortex state in mgb2 thin films"
          ],
          [
           "magnetic fingerprints of sub-100 nm fe nanodots"
          ],
          [
           "an online repository of swift/xrt light curves of grbs"
          ],
          [
           "on the total disconnectedness of the quotient aubry set"
          ],
          [
           "new simple modular lie superalgebras as generalized prolongs"
          ],
          [
           "vacuum structure and potential"
          ],
          [
           "counterflow of electrons in two isolated quantum point contacts"
          ],
          [
           "pah emission and star formation in the host of the z~2.56 cloverleaf qso"
          ],
          [
           "causal dissipative hydrodynamics for qgp fluid in 2+1 dimensions"
          ],
          [
           "a single trapped ion as a time-dependent harmonic oscillator"
          ],
          [
           "compounding fields and their quantum equations in the trigintaduonion\n  space"
          ],
          [
           "topological defects, geometric phases, and the angular momentum of light"
          ],
          [
           "circular and non-circular nearly horizon-skimming orbits in kerr\n  spacetimes"
          ],
          [
           "the blue straggler population of the globular cluster m5"
          ],
          [
           "entanglement entropy of two-dimensional anti-de sitter black holes"
          ],
          [
           "towards self-consistent definition of instanton liquid parameters"
          ],
          [
           "some aspects of the nonperturbative renormalization of the phi^4 model"
          ],
          [
           "instanton liquid at finite temperature and chemical potential of quarks"
          ],
          [
           "eternal inflation and localization on the landscape"
          ],
          [
           "singularity resolution in isotropic loop quantum cosmology: recent\n  developments"
          ],
          [
           "vortices in bose-einstein condensates: theory"
          ],
          [
           "a povm view of the ensemble approach to polarization optics"
          ],
          [
           "reexamination of spin decoherence in semiconductor quantum dots from\n  equation-of-motion approach"
          ],
          [
           "construction of initial data for 3+1 numerical relativity"
          ],
          [
           "magnetism and thermodynamics of spin-1/2 heisenberg diamond chains in a\n  magnetic field"
          ],
          [
           "extraction of physical laws from joint experimental data"
          ],
          [
           "kinetic equation for finite systems of fermions with pairing"
          ],
          [
           "hadrons in medium -- theory confronts experiment"
          ],
          [
           "a computer program for fast non-lte analysis of interstellar line\n  spectra"
          ],
          [
           "nonlinear force-free coronal magnetic field extrapolation scheme based\n  on the direct boundary integral formulation"
          ],
          [
           "alternative approaches to the equilibrium properties of hard-sphere\n  liquids"
          ],
          [
           "complexities of human promoter sequences"
          ],
          [
           "evidence for an excitonic insulator phase in 1t-tise$_{2}$"
          ],
          [
           "oxygen-rich droplets and the enrichment of the ism"
          ],
          [
           "soft modes and nte in zn(cn)2 from raman spectroscopy and first\n  principles calculations"
          ],
          [
           "estimation of experimental data redundancy and related statistics"
          ],
          [
           "effective potentials for quasicrystals from ab-initio data"
          ],
          [
           "on smooth foliations with morse singularities"
          ],
          [
           "frobenius-schur indicators for semisimple lie algebras"
          ],
          [
           "supersymmetry breaking metastable vacua in runaway quiver gauge theories"
          ],
          [
           "radiative losses and cut-offs of energetic particles at relativistic\n  shocks"
          ],
          [
           "very strong and slowly varying magnetic fields as source of axions"
          ],
          [
           "symmetry disquisition on the tiox phase diagram"
          ],
          [
           "thermal entanglement of qubit pairs on the shastry-sutherland lattice"
          ],
          [
           "bonding of h in o vacancies of zno"
          ],
          [
           "reparametrization invariance, the controversial extraction of $\\alpha$\n  from $b\\to\\pi\\pi$ and new physics"
          ],
          [
           "switching mechanism of photochromic diarylethene derivatives molecular\n  junctions"
          ],
          [
           "robust manipulation of electron spin coherence in an ensemble of singly\n  charged quantum dots"
          ],
          [
           "equation of state for dense hydrogen and plasma phase transition"
          ],
          [
           "experimental nonclassicality of single-photon-added thermal light states"
          ],
          [
           "neutron skin and giant resonances in nuclei"
          ],
          [
           "genetic optimization of photonic bandgap structures"
          ],
          [
           "huge magneto-crystalline anisotropy of x-ray linear dichroism observed\n  on co/femn bilayers"
          ],
          [
           "temperature dependence of the tensile properties of single walled carbon\n  nanotubes: o(n) tight binding md simulation"
          ],
          [
           "gamma-ray emitting agn and glast"
          ],
          [
           "potfit: effective potentials from ab-initio data"
          ],
          [
           "the transverse proximity effect in spectral hardness on the line of\n  sight towards he 2347-4342"
          ],
          [
           "biased random walks on combs"
          ],
          [
           "monoid generalizations of the richard thompson groups"
          ],
          [
           "the reliability on the direction of the incident neutrino for the fully\n  contained events and partially contained events due to qel in the\n  super-kamiokande"
          ],
          [
           "intricate knots in proteins: function and evolution"
          ],
          [
           "star formation in galaxies with large lower surface brightness disks"
          ],
          [
           "domain wall dynamics near a quantum critical point"
          ],
          [
           "quantum mechanical approach to decoherence and relaxation generated by\n  fluctuating environment"
          ],
          [
           "group-theoretical properties of nilpotent modular categories"
          ],
          [
           "remarks on n_c dependence of decays of exotic baryons"
          ],
          [
           "analysis of random boolean networks using the average sensitivity"
          ],
          [
           "theory of polariton mediated raman scattering in microcavities"
          ],
          [
           "decomposition numbers for finite coxeter groups and generalised\n  non-crossing partitions"
          ],
          [
           "electromagnetic polarizabilities and the excited states of the nucleon"
          ],
          [
           "hecke-clifford algebras and spin hecke algebras i: the classical affine\n  type"
          ],
          [
           "towards minimal resources of measurement-based quantum computation"
          ],
          [
           "a spitzer census of the ic 348 nebula"
          ],
          [
           "non-equilibrium josephson and andreev current through interacting\n  quantum dots"
          ],
          [
           "discovery of x-ray emission from the young radio pulsar psr j1357-6429"
          ],
          [
           "resonant activation in bistable semiconductor lasers"
          ],
          [
           "quark matter and the astrophysics of neutron stars"
          ],
          [
           "some non-braided fusion categories of rank 3"
          ],
          [
           "chandra observations of supernova 1987a"
          ],
          [
           "classification of superpotentials"
          ],
          [
           "linkedness and ordered cycles in digraphs"
          ],
          [
           "curvature and isocurvature perturbations in two-field inflation"
          ],
          [
           "geometric complexity theory v: on deciding nonvanishing of a generalized\n  littlewood-richardson coefficient"
          ],
          [
           "a schematic model of scattering in pt-symmetric quantum mechanics"
          ],
          [
           "the exact asymptotic of the collision time tail distribution for\n  independent brownian particles with different drifts"
          ],
          [
           "ab initio study of graphene on sic"
          ],
          [
           "capacity of a multiple-antenna fading channel with a quantized precoding\n  matrix"
          ],
          [
           "on almost periodicity criteria for morphic sequences in some particular\n  cases"
          ],
          [
           "the radio emission, x-ray emission, and hydrodynamics of g328.4+0.2: a\n  comprehensive analysis of a luminous pulsar wind nebula, its neutron star,\n  and the progenitor supernova explosion"
          ],
          [
           "three particle correlations from star"
          ],
          [
           "the return of a static universe and the end of cosmology"
          ],
          [
           "dark matter annihilation in draco: new considerations on the expected\n  gamma flux"
          ],
          [
           "magnetohydrodynamic rebound shocks of supernovae"
          ],
          [
           "are there mach cones in heavy ion collisions? three-particle\n  correlations from star"
          ],
          [
           "exploring first stars era with glast"
          ],
          [
           "correlated modulation between the redshifted fe k alpha line and the\n  continuum emission in ngc 3783"
          ],
          [
           "isotopic effects in nuclear reactions at relativistic energies"
          ],
          [
           "einstein vs maxwell: is gravitation a curvature of space, a field in\n  flat space, or both?"
          ],
          [
           "geometric complexity theory vi: the flip via saturated and positive\n  integer programming in representation theory and algebraic geometry"
          ],
          [
           "two new basaltic asteroids in the outer main belt?"
          ],
          [
           "interpolating and sampling sequences in finite riemann surfaces"
          ],
          [
           "new algebraic aspects of perturbative and non-perturbative quantum field\n  theory"
          ],
          [
           "many-body interband tunneling as a witness for complex dynamics in the\n  bose-hubbard model"
          ],
          [
           "comments on ``are swift gamma-ray bursts consistent with the ghirlanda\n  relation?\", by campana et al.(astro--ph/0703676)"
          ],
          [
           "the determination of the helicity of $w'$ boson couplings at the lhc"
          ],
          [
           "curvature flows in semi-riemannian manifolds"
          ],
          [
           "hydrodynamic and spectral simulations of hmxb winds"
          ],
          [
           "radio astrometric detection and characterization of extra-solar planets:\n  a white paper submitted to the nsf exoplanet task force"
          ],
          [
           "interface dynamics of microscopic cavities in water"
          ],
          [
           "viscosity, black holes, and quantum field theory"
          ],
          [
           "superconducting states of the quasi-2d holstein model: effects of vertex\n  and non-local corrections"
          ],
          [
           "masers and star formation"
          ],
          [
           "renormalized quasiparticles in antiferromagnetic states of the hubbard\n  model"
          ],
          [
           "comparison of exact-exchange calculations for solids in\n  current-spin-density- and spin-density-functional theory"
          ],
          [
           "one-loop mhv rules and pure yang-mills"
          ],
          [
           "fermi-liquid effects in the transresistivity in quantum hall double\n  layers near $\\nu= 1/2 $"
          ],
          [
           "geometry of four-dimensional killing spinors"
          ],
          [
           "a rigorous time-domain analysis of full--wave electromagnetic cloaking\n  (invisibility)"
          ],
          [
           "non-perturbative conserving approximations and luttinger's sum rule"
          ],
          [
           "2d-mit as self-doping of a wigner-mott insulator"
          ],
          [
           "entanglement of subspaces and error correcting codes"
          ],
          [
           "does the present data on b_s - bar b_s mixing rule out a large\n  enhancement in the branching ratio of b_s --> mu+ mu- ?"
          ],
          [
           "the spitzer c2d survey of large, nearby, interstellar clouds viii.\n  serpens observed with mips"
          ],
          [
           "unravelling the sbottom spin at the cern lhc"
          ],
          [
           "modeling the three-point correlation function"
          ],
          [
           "multi-spectral observations of lunar occultations: i. resolving the dust\n  shell around afgl 5440"
          ],
          [
           "orbifold cohomology of abelian symplectic reductions and the case of\n  weighted projective spaces"
          ],
          [
           "correlation functions in the non perturbative renormalization group and\n  field expansion"
          ],
          [
           "formation and collisional evolution of kuiper belt objects"
          ],
          [
           "on existence of boundary values of polyharmonic functions"
          ],
          [
           "constraints on the self-interaction cross-section of dark matter from\n  numerical simulations of the merging galaxy cluster 1e 0657-5"
          ],
          [
           "stringy instantons at orbifold singularities"
          ],
          [
           "turbulent diffusion of lines and circulations"
          ],
          [
           "gluon radiation of an expanding color skyrmion in the quark-gluon plasma"
          ],
          [
           "rem near-ir and optical multiband observations of pks2155-304 in 2005"
          ],
          [
           "supernova polarization and the type iin classification"
          ],
          [
           "near-infrared spectra of the black hole x-ray binary, a0620-00"
          ],
          [
           "automated generation of layout and control for quantum circuits"
          ],
          [
           "the harps search for southern extra-solar planets. x. a m sin i = 11\n  mearth planet around the nearby spotted m dwarf gj 674"
          ],
          [
           "an individual based model with global competition interaction:\n  fluctuations effects in pattern formation"
          ],
          [
           "a comparison between anomalous 6-cm h$_2$co absorption and co(1-0)\n  emission in the l1204/s140"
          ],
          [
           "dimers on surface graphs and spin structures. ii"
          ],
          [
           "new version announcement for taylur, an arbitrary-order diagonal\n  automatic differentiation package for fortran 95"
          ],
          [
           "mapping radii of metric spaces"
          ],
          [
           "a new model for the loop-i (the north polar spur) region"
          ],
          [
           "leray numbers of projections and a topological helly type theorem"
          ],
          [
           "q-deformed spin foam models of quantum gravity"
          ],
          [
           "hi velocity dispersion in ngc 1058"
          ],
          [
           "common envelope evolution redux"
          ],
          [
           "the source of turbulence in astrophysical disks: an ill-posed problem."
          ],
          [
           "on punctured pragmatic space-time codes in block fading channel"
          ],
          [
           "on the markov trace for temperley--lieb algebras of type $e_n$"
          ],
          [
           "second order perturbative calculation of quasinormal modes of\n  schwarzschild black holes"
          ],
          [
           "epitaxial graphene"
          ],
          [
           "mathematics of thermoacoustic tomography"
          ],
          [
           "specific heat and bimodality in canonical and grand canonical versions\n  of the thermodynamic model"
          ],
          [
           "vortex proliferation in the berezinskii-kosterlitz-thouless regime on a\n  two-dimensional lattice of bose-einstein condensates"
          ],
          [
           "the core binary fractions of star clusters from realistic simulations"
          ],
          [
           "approaching the heisenberg limit in an atom laser"
          ],
          [
           "a practical seedless infrared-safe cone jet algorithm"
          ],
          [
           "isospin breaking in the yield of heavy meson pairs in e+e- annihilation\n  near threshold"
          ],
          [
           "qed x qcd resummation and shower/me matching for lhc physics"
          ],
          [
           "on the number of topological types occurring in a parametrized family of\n  arrangements"
          ],
          [
           "generalized twistor transform and dualities, with a new description of\n  particles with spin, beyond free and massless"
          ],
          [
           "remnant evolution after a carbon-oxygen white dwarf merger"
          ],
          [
           "direct theorems in the theory of approximation of the banach space\n  vectors by entire vectors of exponential type"
          ],
          [
           "parametrized post-newtonian expansion of chern-simons gravity"
          ],
          [
           "scaling of resistance and electron mean free path of single-walled\n  carbon nanotubes"
          ],
          [
           "differential recursion and differentially algebraic functions"
          ],
          [
           "spline single-index prediction model"
          ],
          [
           "measurement of the aerosol phase function at the pierre auger\n  observatory"
          ],
          [
           "the world as evolving information"
          ],
          [
           "polymerization force driven buckling of microtubule bundles determines\n  the wavelength of patterns formed in tubulin solutions"
          ],
          [
           "neutron inelastic scattering processes as background for double-beta\n  decay experiments"
          ],
          [
           "periodic accretion from a circumbinary disk in the young binary uz tau e"
          ],
          [
           "effect of node deleting on network structure"
          ],
          [
           "the complexity of hcp in digraps with degree bound two"
          ],
          [
           "vlbi observations of nineteen ghz-peaked-spectrum radio sources at 1.6\n  ghz"
          ],
          [
           "moment switching in nanotube magnetic force probes"
          ],
          [
           "possibility of gapless spin liquid state by one-dimensionalization"
          ],
          [
           "extra dimensions and lorentz invariance violation"
          ],
          [
           "the small deviations of many-dimensional diffusion processes and\n  rarefaction by boundaries"
          ],
          [
           "the millennium galaxy catalogue: the local supermassive black hole mass\n  function in early- and late-type galaxies"
          ],
          [
           "complete shrinking ricci solitons have finite fundamental group"
          ],
          [
           "effects of dirac sea on pion propagation in asymmetric nuclear matter"
          ],
          [
           "spin-orbit coupling effect on the persistent currents in mesoscopic ring\n  with an anderson impurity"
          ],
          [
           "probability distributions generated by fractional diffusion equations"
          ],
          [
           "fabrication of half metallicity in a ferromagnetic metal"
          ],
          [
           "emergence of spatiotemporal chaos driven by far-field breakup of spiral\n  waves in the plankton ecological systems"
          ],
          [
           "general sequential quantum cloning"
          ],
          [
           "on the pseudospectrum of elliptic quadratic differential operators"
          ],
          [
           "fluctuation-dissipation relation on a melde string in a turbulent flow,\n  considerations on a \"dynamical temperature\""
          ],
          [
           "on generalized entropy measures and pathways"
          ],
          [
           "evolution of a band insulating phase from a correlated metallic phase"
          ],
          [
           "electroweak phase transitions in the mssm with an extra $u(1)'$"
          ],
          [
           "solutions of fractional reaction-diffusion equations in terms of the\n  h-function"
          ],
          [
           "random matrix theory at nonzero $\\mu$ and $t$"
          ],
          [
           "symmetries by base substitutions in the genetic code predict 2' or 3'\n  aminoacylation of trnas"
          ],
          [
           "optical properties of the holstein-t-j model from dynamical mean-field\n  theory"
          ],
          [
           "a multiphilic descriptor for chemical reactivity and selectivity"
          ],
          [
           "approximation of the distribution of a stationary markov process with\n  application to option pricing"
          ],
          [
           "bursting dynamics of the 3d euler equations in cylindrical domains"
          ],
          [
           "synergistic effects of modtc and zdtp on frictional behaviour of\n  tribofilms at the nanometer scale"
          ],
          [
           "lattice boltzmann inverse kinetic approach for the incompressible\n  navier-stokes equations"
          ],
          [
           "phonon-mediated decay of an atom in a surface-induced potential"
          ],
          [
           "infrared evolution equations: method and applications"
          ],
          [
           "cofibrations in the category of frolicher spaces. part i"
          ],
          [
           "experimental observation of structural crossover in binary mixtures of\n  colloidal hard spheres"
          ],
          [
           "the blazar spectral sequence and glast"
          ],
          [
           "a high robustness and low cost model for cascading failures"
          ],
          [
           "diffuse x-ray emission from the carina nebula observed with suzaku"
          ],
          [
           "resolvent estimates related with a class of dispersive equations"
          ],
          [
           "what can emission lines tell us?"
          ],
          [
           "the colin de verdi\\`ere number and graphs of polytopes"
          ],
          [
           "visible spectroscopic and photometric survey of jupiter trojans: final\n  results on dynamical families"
          ],
          [
           "first-based survey of compact steep spectrum sources, v.\n  milliarcsecond-scale morphology of css objects"
          ],
          [
           "investigation of relaxation phenomena in high-temperature\n  superconductors hoba2cu3o7-d at the action of pulsed magnetic fields"
          ],
          [
           "spin and pseudospin symmetries and the equivalent spectra of\n  relativistic spin-1/2 and spin-0 particles"
          ],
          [
           "general asymptotic solutions of the einstein equations and phase\n  transitions in quantum gravity"
          ],
          [
           "trigonometric parallaxes of high velocity halo white dwarf candidates"
          ],
          [
           "amr simulations of the low t/|w| bar-mode instability of neutron stars"
          ],
          [
           "evolutionary games on minimally structured populations"
          ],
          [
           "flavor physics in susy at large tan(beta)"
          ],
          [
           "some properties of the complex monge-ampere operator in cegrell's\n  classes and applications"
          ],
          [
           "torsional oscillations of longitudinally inhomogeneous coronal loops"
          ],
          [
           "pseudo-random puncturing: a technique to lower the error floor of turbo\n  codes"
          ],
          [
           "the arctic circle revisited"
          ],
          [
           "time and motion in physics: the reciprocity principle, relativistic\n  invariance of the lengths of rulers and time dilatation"
          ],
          [
           "b --> rho k* decays and other rare vector-vector modes"
          ],
          [
           "extending the theory of phonon-mediated superconductivity in quasi-2d"
          ],
          [
           "generalized nariai solutions for yang-type monopoles"
          ],
          [
           "instanton representation of plebanski gravity. consistency of the\n  initital value constraints under time evolution"
          ],
          [
           "metal-insulator transition in the low-dimensional organic conductor\n  (tmtsf)2fso3 probed by infrared microspectroscopy"
          ],
          [
           "the effect of topcolor assisted technicolor, and other models, on\n  neutrino oscillation"
          ],
          [
           "shaped angular dependence of the spin transfer torque and microwave\n  generation without magnetic field"
          ],
          [
           "levy-lieb constrained-search formulation as a minimization of the\n  correlation functional"
          ],
          [
           "reality of linear and angular momentum expectation values in bound\n  states"
          ],
          [
           "gravity-induced electric polarization of matter and planetary magnetic\n  fields"
          ],
          [
           "rich methane premixed laminar flames doped by light unsaturated\n  hydrocarbons - part i : allene and propyne"
          ],
          [
           "environmental noise reduction for holonomic quantum gates"
          ],
          [
           "the lifetime of unstable particles in electromagnetic fields"
          ],
          [
           "an equilibrium problem for the limiting eigenvalue distribution of\n  banded toeplitz matrices"
          ],
          [
           "capturing knots in polymers"
          ],
          [
           "exponential growth rates in a typed branching diffusion"
          ],
          [
           "the collision velocity of the bullet cluster in conventional and\n  modified dynamics"
          ],
          [
           "on some subgroup chains related to kneser's theorem"
          ],
          [
           "the exact boundary condition to solve the schrodinger equation of many\n  electron system"
          ],
          [
           "clustering features of $^9$be, $^{14}$n, $^7$be, and $^8$b nuclei in\n  relativistic fragmentation"
          ],
          [
           "super-shell structures and pairing in ultracold trapped fermi gases"
          ],
          [
           "quantum non-local effects with bose-einstein condensates"
          ],
          [
           "low mass visual binaries in the solar neighbourhood: the case of\n  hd141272"
          ],
          [
           "sterile neutrinos at the cngs"
          ],
          [
           "evolution of the carter constant for inspirals into a black hole: effect\n  of the black hole quadrupole"
          ],
          [
           "dual billiards, fagnano orbits and regular polygons"
          ],
          [
           "exactly solvable spin dynamics of an electron coupled to large number of\n  nuclei and the electron-nuclear spin echo in a quantum dot"
          ],
          [
           "simulation of robustness against lesions of cortical networks"
          ],
          [
           "a thermodynamic model for the melting of supported metal nanoparticles"
          ],
          [
           "average optimality for risk-sensitive control with general state space"
          ],
          [
           "a study of $b_{d}^0 \\to j/\\psi \\eta^{(\\prime)}$ decays in the pqcd\n  approach"
          ],
          [
           "finite-temperature phase transitions in a two-dimensional boson hubbard\n  model"
          ],
          [
           "conditional generation of path-entangled optical noon states"
          ],
          [
           "renewals for exponentially increasing lifetimes, with an application to\n  digital search trees"
          ],
          [
           "hawking radiation of linear dilaton black holes"
          ],
          [
           "the s-matrix of ads/cft and yangian symmetry"
          ],
          [
           "modelling the near-ir spectra of red supergiant-dominated populations"
          ],
          [
           "review: semiconductor quantum light sources"
          ],
          [
           "to the origin of the difference of fsi phases in $b\\to\\pi\\pi$ and\n  $b\\to\\rho\\rho$ decays"
          ],
          [
           "an invariance principle for semimartingale reflecting brownian motions\n  in domains with piecewise smooth boundaries"
          ],
          [
           "finite drude weight for 1d low temperature conductors"
          ],
          [
           "density dependent hadronic models and the relation between neutron stars\n  and neutron skin thickness"
          ],
          [
           "photoconductance of organic single-molecule contacts"
          ],
          [
           "on the over-barrier reflection in quantum mechanics with multiple\n  degrees of freedom"
          ],
          [
           "cyclotron resonance study of the electron and hole velocity in graphene\n  monolayers"
          ],
          [
           "molecular circuits based on graphene nano-ribbon junctions"
          ],
          [
           "unit groups of integral finite group rings with no noncyclic abelian\n  finite subgroups"
          ],
          [
           "exotic hadron in pole-dominated qcd sum rules"
          ],
          [
           "leaky modes of a left-handed slab"
          ],
          [
           "coulomb blockade of field emission from nanoscale conductors"
          ],
          [
           "origamis with non congruence veech groups"
          ],
          [
           "thermodynamic stability - a note on a footnote in ruelle's book"
          ],
          [
           "entanglement entropy at infinite randomness fixed points in higher\n  dimensions"
          ],
          [
           "ultrasound attenuation of superfluid $^{3}$he in aerogel"
          ],
          [
           "the hourglass - consequences of pure hamiltonian evolution of a\n  radiating system"
          ],
          [
           "the sigma-d relation for planetary nebulae: preliminary analysis"
          ],
          [
           "polarization conversion in a silica microsphere"
          ],
          [
           "limits on wimp-nucleon interactions with csi(tl) crystal detectors"
          ],
          [
           "qed for fields obeying a square root operator equation"
          ],
          [
           "feedback from first radiation sources: h- photodissociation"
          ],
          [
           "the 3d +-j ising model at the ferromagnetic transition line"
          ],
          [
           "star formation in the bok globule cb54"
          ],
          [
           "quantitative resolution to some \"absolute discrepancies\" in cancer\n  theories: a view from phage lambda genetic switch"
          ],
          [
           "reduced phase space and toric variety coordinatizations of delzant\n  spaces"
          ],
          [
           "fragmentation of general relativistic quasi-toroidal polytropes"
          ],
          [
           "a survey of huebschmann and stasheff's paper: formal solution of the\n  master equation via hpt and deformation theory"
          ],
          [
           "a variational formulation of electrodynamics with external sources"
          ],
          [
           "protein and ionic surfactants - promoters and inhibitors of contact line\n  pinning"
          ],
          [
           "type d einstein spacetimes in higher dimensions"
          ],
          [
           "eigen equation of the nonlinear spinor"
          ],
          [
           "measurement of b(d_s^+ --> ell^+ nu) and the decay constant f_d_{s^+}"
          ],
          [
           "broadening the higgs boson with right-handed neutrinos and a higher\n  dimension operator at the electroweak scale"
          ],
          [
           "coulomb blockade of anyons"
          ],
          [
           "dynamics of a quantum phase transition in a ferromagnetic bose-einstein\n  condensate"
          ],
          [
           "evidence for a planetary companion around a nearby young star"
          ],
          [
           "quantum electromagnetic x-waves"
          ],
          [
           "neutron-neutron scattering length from the reaction gamma d --> pi^+ nn\n  employing chiral perturbation theory"
          ],
          [
           "multiple unfoldings of orbifold singularities: engineering geometric\n  analogies to unification"
          ],
          [
           "geometrically engineering the standard model: locally unfolding three\n  families out of e8"
          ],
          [
           "the classification of surfaces with p_g=q=1 isogenous to a product of\n  curves"
          ],
          [
           "manipulating the rotational properties of a two-component bose gas"
          ],
          [
           "giant planet migration in viscous power-law discs"
          ],
          [
           "worldsheet instantons and torsion curves, part b: mirror symmetry"
          ],
          [
           "disorder screening near the mott-anderson transition"
          ],
          [
           "electromigrated nanoscale gaps for surface-enhanced raman spectroscopy"
          ],
          [
           "dramatic variability of x-ray absorption lines in the black hole\n  candidate cygnus x-1"
          ],
          [
           "antiferromagnetism-superconductivity competition in electron-doped\n  cuprates triggered by oxygen reduction"
          ],
          [
           "an extrasolar planet census with a space-based microlensing survey"
          ],
          [
           "usco1606-1935: an unusually wide low-mass triple system?"
          ],
          [
           "particle propagation in cosmological backgrounds"
          ],
          [
           "quantum analysis of a linear dc squid mechanical displacement detector"
          ],
          [
           "rotation measures of extragalactic sources behind the southern galactic\n  plane: new insights into the large-scale magnetic field of the inner milky\n  way"
          ],
          [
           "on iterated image size for point-symmetric relations"
          ],
          [
           "the kilodegree extremely little telescope (kelt): a small robotic\n  telescope for large-area synoptic surveys"
          ],
          [
           "entanglement increase from local interactions with\n  not-completely-positive maps"
          ],
          [
           "extended solar emission - an analysis of the egret data"
          ],
          [
           "mass and temperature of the twa 7 debris disk"
          ],
          [
           "annealed importance sampling of dileucine peptide"
          ],
          [
           "a general nonlinear fokker-planck equation and its associated entropy"
          ],
          [
           "conduction electron spin-lattice relaxation time in the mgb2\n  superconductor"
          ],
          [
           "modeling accretion disk x-ray continuum of black hole candidates"
          ],
          [
           "inapproximability of maximum weighted edge biclique and its applications"
          ],
          [
           "on line arrangements with applications to 3-nets"
          ],
          [
           "testing turbulence model at metric scales with mid-infrared visir images\n  at the vlt"
          ],
          [
           "competitive nucleation and the ostwald rule in a generalized potts model\n  with multiple metastable phases"
          ],
          [
           "contrasting two transformation-based methods for obtaining absolute\n  extrema"
          ],
          [
           "application of ewald summations to long-range dispersion forces"
          ],
          [
           "possible non-thermal nature of the soft-excess emission in the cluster\n  of galaxies sersic 159-03"
          ],
          [
           "geometric phase of an atom inside an adiabatic radio frequency potential"
          ],
          [
           "the transition from the first stars to the second stars in the early\n  universe"
          ],
          [
           "super star cluster velocity dispersions and virial masses in the m82\n  nuclear starburst"
          ],
          [
           "the affine part of the picard scheme"
          ],
          [
           "enhanced quantum zeno effect and bunching in the decay of interacting\n  bosons from an unstable state"
          ],
          [
           "the few scales of nuclei and nuclear matter"
          ],
          [
           "implementation of holonomic quantum computation through engineering and\n  manipulating environment"
          ],
          [
           "vortex state in a fulde-ferrell-larkin-ovchinnikov superconductor based\n  on the quasiclassical theory"
          ],
          [
           "search for chaotic behavior in a flapping flag"
          ],
          [
           "optimal shape design for stokes flow via minimax differentiability"
          ],
          [
           "kinematic decoupling of globular clusters with extended\n  horizontal-branch"
          ],
          [
           "scalar potential model progress"
          ],
          [
           "relativistic treatment in d-dimensions to a spin-zero particle with\n  noncentral equal scalar and vector ring-shaped kratzer potential"
          ],
          [
           "long distance signaling using axion-like particles"
          ],
          [
           "weighted percolation on directed networks"
          ],
          [
           "refuting the pseudo attack on the reesse1+ cryptosystem"
          ],
          [
           "phase structure of a surface model on dynamically triangulated spheres\n  with elastic skeletons"
          ],
          [
           "vortex dynamics at the initial stage of resistive transition in\n  superconductors with fractal cluster structure"
          ],
          [
           "the veldkamp space of two-qubits"
          ],
          [
           "fusion process studied with preequilibrium giant dipole resonance in\n  time dependent hartree-fock theory"
          ],
          [
           "penalization approach for mixed hyperbolic systems with constant\n  coefficients satisfying a uniform lopatinski condition"
          ],
          [
           "a unified analysis of the reactor neutrino program towards the\n  measurement of the theta_13 mixing angle"
          ],
          [
           "optimal routing for decode-and-forward based cooperation in wireless\n  networks"
          ],
          [
           "on the polynomial automorphisms of a group"
          ],
          [
           "on universality of critical behaviour in the focusing nonlinear\n  schr\\\"odinger equation, elliptic umbilic catastrophe and the {\\it\n  tritronqu\\'ee} solution to the painlev\\'e-i equation"
          ],
          [
           "generic representations of orthogonal groups: projective functors in the\n  category fquad"
          ],
          [
           "manifolds admitting a $\\tilde g_2$-structure"
          ],
          [
           "compatibility of exotic states with neutron star observation"
          ],
          [
           "exact solutions of einstein-yang-mills theory with higher-derivative\n  coupling"
          ],
          [
           "dimensional crossover of quantum critical behavior in cecoin$_5$"
          ],
          [
           "e_6 and the bipartite entanglement of three qutrits"
          ],
          [
           "invariance principle for additive functionals of markov chains"
          ],
          [
           "dissipative backward stochastic differential equations with locally\n  lipschitz nonlinearity"
          ],
          [
           "axino warm dark matter and $\\omega_b - \\omega_{dm}$ coincidence"
          ],
          [
           "a unified approach to sic-povms and mubs"
          ],
          [
           "stable oscillations of a predator-prey probabilistic cellular automaton:\n  a mean-field approach"
          ],
          [
           "sdss j233325.92+152222.1 and the evolution of intermediate polars"
          ],
          [
           "complexity considerations, csat lower bound"
          ],
          [
           "temperature dependence of coulomb drag between finite-length quantum\n  wires"
          ],
          [
           "effects of imperfect gate operations in shor's prime factorization\n  algorithm"
          ],
          [
           "using decomposed household food acquisitions as inputs of a kinetic\n  dietary exposure model"
          ],
          [
           "dust and gas emission in the prototypical hot core g29.96-0.02 at\n  sub-arcsecond resolution"
          ],
          [
           "hamilton-jacobi fractional sequential mechanics"
          ],
          [
           "a critical theory of quantum entanglement for the hydrogen molecule"
          ],
          [
           "fractionally charged excitations on frustrated lattices"
          ],
          [
           "measurement of decay amplitudes of b -->(c cbar) kstar with an angular\n  analysis, for (c cbar)=j/psi, psi(2s) and chi_c1"
          ],
          [
           "quantum superpositions and entanglement of thermal states at high\n  temperatures and their applications to quantum information processing"
          ],
          [
           "optimal control of stochastic differential equations with dynamical\n  boundary conditions"
          ],
          [
           "fractional wkb approximation"
          ],
          [
           "towards skyrmion stars: large baryon configurations in the\n  einstein-skyrme model"
          ],
          [
           "many-to-one throughput capacity of ieee 802.11 multi-hop wireless\n  networks"
          ],
          [
           "scanning tunneling spectroscopy in the superconducting state and vortex\n  cores of the beta-pyrochlore kos2o6"
          ],
          [
           "noncommutative solitons in a supersymmetric chiral model in 2+1\n  dimensions"
          ],
          [
           "gravitational duality transformations on (a)ds4"
          ],
          [
           "effect of transition-metal elements on the electronic properties of\n  quasicrystals and complex aluminides"
          ],
          [
           "non-resonant and resonant x-ray scattering studies on multiferroic\n  tbmn2o5"
          ],
          [
           "self-diffusion and interdiffusion in al80ni20 melts: simulation and\n  experiment"
          ],
          [
           "the formation of globular cluster systems in massive elliptical\n  galaxies: globular cluster multimodality from radial variation of stellar\n  populations"
          ],
          [
           "binaries, microquasars and glast"
          ],
          [
           "linearisation of finite abelian subgroups of the cremona group of the\n  plane"
          ],
          [
           "oriented growth of pentacene films on vacuum-deposited\n  polytetrafluoroethylene layers aligned by rubbing technique"
          ],
          [
           "integral representations for convolutions of non-central multivariate\n  gamma distributions"
          ],
          [
           "on the achievable rate regions for interference channels with degraded\n  message sets"
          ],
          [
           "on complete subsets of the cyclic group"
          ],
          [
           "hilbert functions of points on schubert varieties in orthogonal\n  grassmannians"
          ],
          [
           "swift/xrt observes the fifth outburst of the periodic supergiant fast\n  x-ray transient igr j11215-5952"
          ],
          [
           "crossover behavior in fluids with coulomb interactions"
          ],
          [
           "reply to comment of kenzelmann and harris"
          ],
          [
           "persistent currents in superconducting quantum interference devices"
          ],
          [
           "mid-infrared fine structure line ratios in active galactic nuclei\n  observed with spitzer irs: evidence for extinction by the torus"
          ],
          [
           "neutrinos and non-proliferation in europe"
          ],
          [
           "kinks and particles in non-integrable quantum field theories"
          ],
          [
           "the old open clusters berkeley 32 and king 11"
          ],
          [
           "the genetic programming collaboration network and its communities"
          ],
          [
           "the expanding photosphere method: progress and problems"
          ],
          [
           "spontaneous lorentz violation: non-abelian gauge fields as\n  pseudo-goldstone vector bosons"
          ],
          [
           "in-medium effects on particle production in heavy ion collisions"
          ],
          [
           "the graham conjecture implies the erdos-turan conjecture"
          ],
          [
           "mixed chemistry phenomenon during late stages of stellar evolution"
          ],
          [
           "m-regularity of the fano surface"
          ],
          [
           "signal for space-time noncommutativity: the z -> gamma gamma decay in\n  the renormalizable gauge sector of the theta-expanded ncsm"
          ],
          [
           "laser spectroscopy of hyperfine structure in highly-charged ions: a test\n  of qed at high fields"
          ],
          [
           "confinement into a state with persistent current by thermal quenching of\n  loop of josephson junctions"
          ],
          [
           "frequency modulation fourier transform spectroscopy"
          ],
          [
           "universe without singularities. a group approach to de sitter cosmology"
          ],
          [
           "spectral action on noncommutative torus"
          ],
          [
           "the lifshitz-slyozov-wagner equation for reaction-controlled kinetics"
          ],
          [
           "canonical singular hermitian metrics on relative canonical bundles"
          ],
          [
           "yield curve shapes and the asymptotic short rate distribution in affine\n  one-factor models"
          ],
          [
           "thermally stimulated luminescence and current in new heterocyclic\n  materials for organic field transistors and organic light emitting diodes"
          ],
          [
           "a microfluidic device based on droplet storage for screening solubility\n  diagrams"
          ],
          [
           "composite fermion wave functions as conformal field theory correlators"
          ],
          [
           "$\\bz\\to\\pip\\pim\\piz$ time dependent dalitz analysis at babar"
          ],
          [
           "new organic thermally stable materials for optoelectronics devices - a\n  linear spectroscopy study"
          ],
          [
           "elativistic treatment in}$d$ - dimensions to a spin-zero particle with\n  noncentral equal scalar and vector ring-shaped kratzer potential"
          ],
          [
           "on the potential of transit surveys in star clusters: impact of\n  correlated noise and radial velocity follow-up"
          ],
          [
           "a non-perturbative proof of bertrand's theorem"
          ],
          [
           "neutron-capture elements in the double-enhanced star he 1305-0007: a new\n  s- and r-process paradigm"
          ],
          [
           "membrane in m5-branes background"
          ],
          [
           "3d photospheric velocity field of a supergranular cell"
          ],
          [
           "substructures in wings clusters"
          ],
          [
           "ising-like dynamics and frozen states in systems of ultrafine magnetic\n  particles"
          ],
          [
           "counting characters in linear group actions"
          ],
          [
           "continuous interfaces with disorder: even strong pinning is too weak in\n  2 dimensions"
          ],
          [
           "on the kk-theory of strongly self-absorbing c*-algebras"
          ],
          [
           "effective interactions from q-deformed inspired transformations"
          ],
          [
           "magnetospectroscopy of epitaxial few-layer graphene"
          ],
          [
           "dust formation and survival in supernova ejecta"
          ],
          [
           "preferential interaction coefficient for nucleic acids and other\n  cylindrical poly-ions"
          ],
          [
           "a new approach to mutual information"
          ],
          [
           "analysis of the real estate market in las vegas: bubble, seasonal\n  patterns, and prediction of the csw indexes"
          ],
          [
           "a low complexity algorithm and architecture for systematic encoding of\n  hermitian codes"
          ],
          [
           "quantum criticality and disorder in the antiferromagnetic critical point\n  of nis$_{2}$ pyrite"
          ],
          [
           "spin coherence of holes in gaas/algaas quantum wells"
          ],
          [
           "local-field effects in radiatively broadened magneto-dielectric media:\n  negative refraction and absorption reduction"
          ],
          [
           "search for a fourth generation b'-quark at lep-ii at sqrt{s}=196-209 gev"
          ],
          [
           "about curvature, conformal metrics and warped products"
          ],
          [
           "the local structure of conformally symmetric manifolds"
          ],
          [
           "investigation of colour reconnection in ww events with the delphi\n  detector at lep-2"
          ],
          [
           "evolutionary neural gas (eng): a model of self organizing network from\n  input categorization"
          ],
          [
           "x-ray dichroism and the pseudogap phase of cuprates"
          ],
          [
           "solvability of linear equations within weak mixing sets"
          ],
          [
           "d-\\bar d mixing and rare d decays in the littlest higgs model with\n  non-unitarity matrix"
          ],
          [
           "alternative large nc schemes and chiral dynamics"
          ],
          [
           "the height dependence of temperature - velocity correlation in the solar\n  photosphere"
          ],
          [
           "magnetism in the high-tc analogue cs2agf4 studied with muon-spin\n  relaxation"
          ],
          [
           "reconciling the x(3872) with the near-threshold enhancement in the\n  d^0\\bar{d}^{*0} final state"
          ],
          [
           "three-dimensional effects in \"atom diodes\": atom-optical devices for\n  one-way motion"
          ],
          [
           "plasmon amplification through stimulated emission at terahertz\n  frequencies in graphene"
          ],
          [
           "on the homology of two-dimensional elimination"
          ],
          [
           "the effectiveness of quantum operations for eavesdropping on sealed\n  messages"
          ],
          [
           "shocks in nonlocal media"
          ],
          [
           "modeling the field of laser welding melt pool by rbfnn"
          ],
          [
           "anomalous c-axis transport in layered metals"
          ],
          [
           "proper holomorphic mappings of the spectral unit ball"
          ],
          [
           "parsimony via concensus"
          ],
          [
           "millimeter imaging of hd 163296: probing the disk structure and\n  kinematics"
          ],
          [
           "spectropolarimetric observations of the ca ii 8498 a and 8542 a lines in\n  the quiet sun"
          ],
          [
           "number of moduli of irreducible families of plane curves with nodes and\n  cusps"
          ],
          [
           "search for heavy neutral mssm higgs bosons with cms: reach and\n  higgs-mass precision"
          ],
          [
           "white dwarf masses derived from planetary nebulae modelling"
          ],
          [
           "uniqueness theorems for cauchy integrals"
          ],
          [
           "on the number of moduli of plane sextics with six cusps"
          ],
          [
           "algorithm for anisotropic diffusion in hydrogen-bonded networks"
          ],
          [
           "temporal evolution of step-edge fluctuations under electromigration\n  conditions"
          ],
          [
           "renormgroup origin and analysis of split higgsino scenario"
          ],
          [
           "electromagnetic structure and weak decay of meson k in a light-front\n  qcd-inspired"
          ],
          [
           "black hole puncture initial data with realistic gravitational wave\n  content"
          ],
          [
           "measurement of the decay constant $f_d{_s^+}$ using $d_s^+ --> ell^+ nu"
          ],
          [
           "the $e^+ e^-\\to k^+ k^- \\pi^+\\pi^-$, $k^+ k^- \\pi^0\\pi^0$ and $k^+ k^-\n  k^+ k^-$ cross sections measured with initial-state radiation"
          ],
          [
           "orthogonality criterion for banishing hydrino states from standard\n  quantum mechanics"
          ],
          [
           "detecting and characterizing planetary systems with transit timing"
          ],
          [
           "d-wave superconductivity from electron-phonon interactions"
          ],
          [
           "a finite element framework for computation of protein normal modes and\n  mechanical response"
          ],
          [
           "reply to 'comment on 'heavy element production in inhomogeneous big bang\n  nucleosynthesis''"
          ],
          [
           "sum-over-states vs quasiparticle pictures of coherent correlation\n  spectroscopy of excitons in semiconductors; femtosecond analogues of\n  multidimensional nmr"
          ],
          [
           "are constant loop widths an artifact of the background and the spatial\n  resolution?"
          ],
          [
           "polarizations of j/psi and psi(2s) mesons produced in ppbar collisions\n  at 1.96 tev"
          ],
          [
           "a measure of the non-gaussian character of a quantum state"
          ],
          [
           "skew-hadamard matrices of orders 188 and 388 exist"
          ],
          [
           "quantum engineering of photon states with entangled atomic ensembles"
          ],
          [
           "direct photons and dileptons via color dipoles"
          ],
          [
           "mapping the youngest galaxies to redshift one"
          ],
          [
           "on the homfly and tutte polynomials"
          ],
          [
           "discovery of extreme asymmetry in the debris disk surrounding hd 15115"
          ],
          [
           "the mathematical universe"
          ],
          [
           "testing string theory with cmb"
          ],
          [
           "behavioral response to strong aversive stimuli: a neurodynamical model"
          ],
          [
           "quivers with potentials and their representations i: mutations"
          ],
          [
           "coherent macroscopic quantum tunneling in boson-fermion mixtures"
          ],
          [
           "efficiency of thin film photocells"
          ],
          [
           "galactic wind signatures around high redshift galaxies"
          ],
          [
           "`st\\\"uckelberg interferometry' with ultracold molecules"
          ],
          [
           "an integral field spectroscopic survey for high redshift damped\n  lyman-alpha galaxies"
          ],
          [
           "exploring the variable sky with the sloan digital sky survey"
          ],
          [
           "necessary optimality conditions for the calculus of variations on time\n  scales"
          ],
          [
           "the boundary conditions of the heliosphere: photoionization models\n  constrained by interstellar and in situ data"
          ],
          [
           "collective excitations in a magnetically doped quantized hall\n  ferromagnet"
          ],
          [
           "long gamma-ray burst progenitors: boundary conditions and binary models"
          ],
          [
           "multiscale model of electronic behavior and localization in stretched\n  dry dna"
          ],
          [
           "ample subvarieties and rationally connected fibrations"
          ],
          [
           "bounds for multiplicities of unitary representations of cohomological\n  type in spaces of cusp forms"
          ],
          [
           "decoherence of quantum-enhanced timing accuracy"
          ],
          [
           "stock market return distributions: from past to present"
          ],
          [
           "string inspired explanation for the super-acceleration of our universe"
          ],
          [
           "topological free entropy dimension of in unital c^*-algebras"
          ],
          [
           "j/psi production in an equilibrating partonic system"
          ],
          [
           "reduced and extended weak coupling limit"
          ],
          [
           "complete set of polarization transfer observables for the $^{12}{\\rm\n  c}(p,n)$ reaction at 296 mev and 0$^{\\circ}$"
          ],
          [
           "learning from compressed observations"
          ],
          [
           "hamiltonian formalism in friedmann cosmology and its quantization"
          ],
          [
           "optimal stimulus and noise distributions for information transmission\n  via suprathreshold stochastic resonance"
          ],
          [
           "three different types of galaxy alignment within dark matter halos"
          ],
          [
           "proto-neutron star winds, magnetar birth, and gamma-ray bursts"
          ],
          [
           "a very massive runaway star from cygnus ob2"
          ],
          [
           "optical spectrum of the post-agb star hd56126 in the region 4010-8790 aa"
          ],
          [
           "generation of large number-path entanglement using linear optics and\n  feed-forward"
          ],
          [
           "finite branch solutions to painleve vi around a fixed singular point"
          ],
          [
           "monitoring spatially heterogeneous dynamics in a drying colloidal thin\n  film"
          ],
          [
           "mapping the circumstellar sio maser emission in r leo"
          ],
          [
           "partially disordered state near ferromagnetic transition in mnsi"
          ],
          [
           "fluctuations in glassy systems"
          ],
          [
           "a generalization of chebyshev polynomials and non rooted posets"
          ],
          [
           "statistical analysis of weighted networks"
          ],
          [
           "finite dimensionality of 2-d micropolar fluid flow with periodic\n  boundary conditions"
          ],
          [
           "strong spherical asymptotics for rotor-router aggregation and the\n  divisible sandpile"
          ],
          [
           "study on correlations between the twin kilohertz quasi-periodic\n  oscillations in low-mass x-ray binaries"
          ],
          [
           "fuzzballs with internal excitations"
          ],
          [
           "birth, survival and death of languages by monte carlo simulation"
          ],
          [
           "rigorous derivation of the mean field green functions of the two-band\n  hubbard model of superconductivity"
          ],
          [
           "geometry effects at atomic-size aluminium contacts"
          ],
          [
           "current - voltage characteristics of break junctions of high-$t_c$\n  superconductors"
          ],
          [
           "photon splitting in a laser field"
          ],
          [
           "phonon instability and structural phase transition in vanadium under\n  high pressure"
          ],
          [
           "cp violation due to multi froggatt-nielsen fields"
          ],
          [
           "rigorous results for the periodic oscillation of an adiabatic piston"
          ],
          [
           "thermal decomposition of norbornane (bicyclo[2.2.1]heptane) dissolved in\n  benzene. experimental study and mechanism investigation"
          ],
          [
           "detailed kinetic study of the ring opening of cycloalkanes by cbs-qb3\n  calculations"
          ],
          [
           "on thermal effects in solid state lasers: the case of ytterbium-doped\n  materials"
          ],
          [
           "dimensional crossover of thermal conductance in nanowires"
          ],
          [
           "transient behavior of surface plasmon polaritons scattered at a\n  subwavelength groove"
          ],
          [
           "entropic measure and wasserstein diffusion"
          ],
          [
           "second-order eikonal corrections for a(e,e'p)"
          ],
          [
           "akari detection of the infrared-bright supernova remnant b0104-72.3 in\n  the small magellanic cloud"
          ],
          [
           "flory-huggins theory for the solubility of heterogeneously-modified\n  polymers"
          ],
          [
           "on second order shape optimization methods for electrical impedance\n  tomography"
          ],
          [
           "braiding transformation, entanglement swapping and berry phase in\n  entanglement space"
          ],
          [
           "photoproduction of pi0 omega off protons for e(gamma) < 3 gev"
          ],
          [
           "two-pion exchange three-nucleon potential: o(q^4) chiral expansion"
          ],
          [
           "interference effects in above-threshold ionization from diatomic\n  molecules: determining the internuclear separation"
          ],
          [
           "neel order in the two-dimensional s=1/2 heisenberg model"
          ],
          [
           "maximum solutions of normalized ricci flows on 4-manifolds"
          ],
          [
           "phase separation and flux quantization in the doped quantum dimer model\n  on the square and triangular lattices"
          ],
          [
           "limit distributions and scaling functions"
          ],
          [
           "incommmensurability and unconventional superconductor to insulator\n  transition in the hubbard model with bond-charge interaction"
          ],
          [
           "gravitational wave signals from chaotic system: a point mass with a disk"
          ],
          [
           "$c^r$-lohner algorithm"
          ],
          [
           "timing evidence in determining the accretion state of the seyfert galaxy\n  ngc 3783"
          ],
          [
           "two- and three-point green's functions in two-dimensional landau-gauge\n  yang-mills theory"
          ],
          [
           "coupled electron and phonon transport in one-dimensional atomic\n  junctions"
          ],
          [
           "observation of spin-orbit berry's phase in magnetoresistance of a\n  two-dimensional hole anti-dot system"
          ],
          [
           "on the dragging of light by a rotating medium"
          ],
          [
           "long-range correlation and multifractality in bach's inventions pitches"
          ],
          [
           "circuit qed with a flux qubit strongly coupled to a coplanar\n  transmission line resonator"
          ],
          [
           "zero bias anomaly out of equilibrium"
          ],
          [
           "the first law for boosted kaluza-klein black holes"
          ],
          [
           "revisiting the issues on netflow sample and export performance"
          ],
          [
           "cosmological singularities and a conjectured gravity/coset\n  correspondence"
          ],
          [
           "acceleration and localization of matter in a ring trap"
          ],
          [
           "gro j1655-40: from asca and xmm-newton observations"
          ],
          [
           "the hellas2xmm survey. x. the bolometric output of luminous obscured\n  quasars: the spitzer perspective"
          ],
          [
           "$p$-adic haar multiresolution analysis"
          ],
          [
           "jumping through loops: on soft terms from large volume compactifications"
          ],
          [
           "driven activation versus thermal activation"
          ],
          [
           "computation of power loss in likelihood ratio tests for probability\n  densities extended by lehmann alternatives"
          ],
          [
           "vertical dynamics of disk galaxies in mond"
          ],
          [
           "al'tshuler-aronov correction to the conductivity of a large metallic\n  square network"
          ],
          [
           "magnetoconductance oscillations in metallic rings and decoherence due to\n  electron-electron interaction"
          ],
          [
           "diatomic molecule as a quantum entanglement switch"
          ],
          [
           "quantifying social group evolution"
          ],
          [
           "weak and strong taylor methods for numerical solutions of stochastic\n  differential equations"
          ],
          [
           "finite bias visibility of the electronic mach-zehnder interferometer"
          ],
          [
           "a note on higher-order differential operations"
          ],
          [
           "experimental challenges involved in searches for axion-like particles\n  and nonlinear quantum electrodynamic effects by sensitive optical techniques"
          ],
          [
           "binary systems as test-beds of gravity theories"
          ],
          [
           "some combinatorial aspects of differential operation compositions on\n  space $r^n$"
          ],
          [
           "hyperbolicity in unbounded convex domains"
          ],
          [
           "actions for the bosonic string with the curved worldsheet"
          ],
          [
           "bianchi type i massive string magnetized barotropic perfect fluid\n  cosmological model in general relativity"
          ],
          [
           "general relativity today"
          ],
          [
           "a procedure for finding the k-th power of a matrix"
          ],
          [
           "the dynamical casimir effect in braneworlds"
          ],
          [
           "bounds on negativity of superpositions"
          ],
          [
           "entangling independent photons by time measurement"
          ],
          [
           "search for heavy, long-lived particles that decay to photons at cdf ii"
          ],
          [
           "dependence of the critical adsorption point on surface and sequence\n  disorders for self-avoiding walks interacting with a planar surface"
          ],
          [
           "coherent control of atomic tunneling"
          ],
          [
           "correlation functions and excitation spectrum of the frustrated\n  ferromagnetic spin-1/2 chain in an external magnetic field"
          ],
          [
           "evidence of spatially inhomogeous pairing on the insulating side of a\n  disorder-tuned superconductor-insulator transition"
          ],
          [
           "local de broglie-bohm trajectories from entangled wavefunctions"
          ],
          [
           "ground-based microlensing surveys"
          ],
          [
           "the luminous infrared composite seyfert 2 galaxy ngc 7679 through the [o\n  iii] 5007 emission line"
          ],
          [
           "the fermionic density-functional at feshbach resonance"
          ],
          [
           "chemical evolution"
          ],
          [
           "suppression of 1/f noise in one-qubit systems"
          ],
          [
           "stability of a colocated finite volume scheme for the incompressible\n  navier-stokes equations"
          ],
          [
           "collective behavior of stock price movements in an emerging market"
          ],
          [
           "galaxy morphologies and environment in the abell 901/902 supercluster\n  from combo-17"
          ],
          [
           "k_0-theory of n-potents in rings and algebras"
          ],
          [
           "spin coupling in zigzag wigner crystals"
          ],
          [
           "decoupling supergravity from the superstring"
          ],
          [
           "frobenius splitting and geometry of $g$-schubert varieties"
          ],
          [
           "fusion of radioactive $^{132}$sn with $^{64}$ni"
          ],
          [
           "tri-layer superlattices: a route to magnetoelectric multiferroics?"
          ],
          [
           "testing outer boundary treatments for the einstein equations"
          ],
          [
           "stability of a finite volume scheme for the incompressible fluids"
          ],
          [
           "d-brane instantons on the t^6/z_3 orientifold"
          ],
          [
           "viscoplastic properties and tribological behavior of diamond-like carbon\n  films using nanoindentation and nanoscratch tests"
          ],
          [
           "implication of the d^0 width difference on cp-violation in d^0-\\bar d^0\n  mixing"
          ],
          [
           "convergence of a finite volume scheme for the incompressible fluids"
          ],
          [
           "optimal synthesis of multiple algorithms"
          ],
          [
           "new close binary systems from the sdss-i (data release five) and the\n  search for magnetic white dwarfs in cataclysmic variable progenitor systems"
          ],
          [
           "dynamical casimir effect for gravitons in bouncing braneworlds"
          ],
          [
           "spectral analysis of swift long grbs with known redshift"
          ],
          [
           "the relationship between molecular gas tracers and kennicutt-schmidt\n  laws"
          ],
          [
           "friedmann equations and thermodynamics of apparent horizons"
          ],
          [
           "constraints on the interactions between dark matter and baryons from the\n  x-ray quantum calorimetry experiment"
          ],
          [
           "heavy-light semileptonic decays in staggered chiral perturbation theory"
          ],
          [
           "a density tensor hierarchy for open system dynamics: retrieving the\n  noise"
          ],
          [
           "scalar self-force on eccentric geodesics in schwarzschild spacetime: a\n  time-domain computation"
          ],
          [
           "nonimmersions of rp^n implied by tmf, revisited"
          ],
          [
           "spin evolution of accreting neutron stars: nonlinear development of the\n  r-mode instability"
          ],
          [
           "quantum auctions"
          ],
          [
           "fundamental solutions for a class of non-elliptic homogeneous\n  differential operators"
          ],
          [
           "hybrid-arq in multihop networks with opportunistic relay selection"
          ],
          [
           "geometric phase and superconducting flux quantization"
          ],
          [
           "equation-free implementation of statistical moment closures"
          ],
          [
           "opportunistic relay selection with limited feedback"
          ],
          [
           "the sloan digital sky survey quasar catalog iv. fifth data release"
          ],
          [
           "nuclear forces from chiral effective field theory"
          ],
          [
           "on a conjecture of em stein on the hilbert transform on vector fields"
          ],
          [
           "wide field surveys and astronomical discovery space"
          ],
          [
           "the cosmic foreground explorer (cofe): a balloon-borne microwave\n  polarimeter to characterize polarized foregrounds"
          ],
          [
           "jet interactions in massive x-ray binaries"
          ],
          [
           "the na i d resonance lines in main sequence late-type stars"
          ],
          [
           "dynamics of bose-einstein condensates"
          ],
          [
           "photons as quasi-charged particles"
          ],
          [
           "exchange of quantum states between coupled oscillators"
          ],
          [
           "3-d simulations of ergospheric disk driven poynting jets"
          ],
          [
           "an s_3-symmetric littlewood-richardson rule"
          ],
          [
           "two-scale structure of the electron dissipation region during\n  collisionless magnetic reconnection"
          ],
          [
           "position-velocity diagrams for the maser emission coming from a\n  keplerian ring"
          ],
          [
           "coupling of whispering-gallery modes in size-mismatched microdisk\n  photonic molecules"
          ],
          [
           "spin solid phases of spin 1 and spin 3/2 antiferromagnets on a cubic\n  lattice"
          ],
          [
           "braided quantum field theories and their symmetries"
          ],
          [
           "chromospheric flares"
          ],
          [
           "on the (3,n) maurer-cartan equation"
          ],
          [
           "9.7 micrometer silicate absorption in a damped lyman-alpha absorber at\n  z=0.52"
          ],
          [
           "photometry of the globular cluster ngc 5466: red giants and blue\n  stragglers"
          ],
          [
           "vortex molecular crystal and vortex plastic crystal states in honeycomb\n  and kagome pinning arrays"
          ],
          [
           "quark-antiquark and diquark condensates in vacuum in a 3d two-flavor\n  gross-neveu model"
          ],
          [
           "spin accumulation from the non-abelian aharonov-bohm effect"
          ],
          [
           "on packet lengths and overhead for random linear coding over the erasure\n  channel"
          ],
          [
           "terrestrial and habitable planet formation in binary and multi-star\n  systems"
          ],
          [
           "local well-posedness of nonlinear dispersive equations on modulation\n  spaces"
          ],
          [
           "p-adic arithmetic coding"
          ],
          [
           "compton x-ray and gamma-ray emission from extended radio galaxies"
          ],
          [
           "a matroid-friendly basis for the quasisymmetric functions"
          ],
          [
           "bremsstrahlung radiation at a vacuum bubble wall"
          ],
          [
           "universal source coding for monotonic and fast decaying monotonic\n  distributions"
          ],
          [
           "moduli spaces of rational tropical curves"
          ],
          [
           "associated production of the charged higgs boson and single top quark at\n  the lhc"
          ],
          [
           "difermion condensates in vacuum in 2-4d four-fermion interaction models"
          ],
          [
           "oscillation bands of condensates on a ring: beyond the mean field theory"
          ],
          [
           "kadowaki-woods ratio of strongly coupled fermi liquids"
          ],
          [
           "structure of strange dwarfs with color superconducting core"
          ],
          [
           "information entropic superconducting microcooler"
          ],
          [
           "pi degree parity in q-skew polynomial rings"
          ],
          [
           "semi-spheroidal quantum harmonic oscillator"
          ],
          [
           "growing perfect decagonal quasicrystals by local rules"
          ],
          [
           "lrs bianchi type-v viscous fluid universe with a time dependent\n  cosmological term $\\lambda$"
          ],
          [
           "density matrix elements and entanglement entropy for the spin-1/2 xxz\n  chain at $\\delta$=1/2"
          ],
          [
           "counting on rectangular areas"
          ],
          [
           "bose-einstein correlations of direct photons in au+au collisions at\n  $\\sqrt{s_{nn}} = 200$ gev"
          ],
          [
           "normalized ricci flow on nonparabolic surfaces"
          ],
          [
           "polarization properties of subwavelength hole arrays consisting of\n  rectangular holes"
          ],
          [
           "three dimensional cooling and trapping with a narrow line"
          ],
          [
           "approximate selection rule for orbital angular momentum in atomic\n  radiative transitions"
          ],
          [
           "extrasolar scale change in newton's law from 5d `plain' r^2-gravity"
          ],
          [
           "lessons learned from the deployment of a high-interaction honeypot"
          ],
          [
           "availability assessment of sunos/solaris unix systems based on syslogd\n  and wtmpx logfiles : a case study"
          ],
          [
           "empirical analysis and statistical modeling of attack processes based on\n  honeypots"
          ],
          [
           "the low co content of the extremely metal poor galaxy i zw 18"
          ],
          [
           "a binary model for the uv-upturn of elliptical galaxies (mnras version)"
          ],
          [
           "redshifts of the long gamma-ray bursts"
          ],
          [
           "an architecture-based dependability modeling framework using aadl"
          ],
          [
           "a priori estimates for weak solutions of complex monge-amp\\`ere\n  equations"
          ],
          [
           "density oscillation in highly flattened quantum elliptic rings and\n  tunable strong dipole radiation"
          ],
          [
           "effect of electron-electron interaction on the phonon-mediated spin\n  relaxation in quantum dots"
          ],
          [
           "connected operators for the totally asymmetric exclusion process"
          ],
          [
           "proposal for an enhanced optical cooling system test in an electron\n  storage ring"
          ],
          [
           "the idv source j1128+5925, a new candidate for annual modulation?"
          ],
          [
           "spectral perturbation bounds for selfadjoint operators"
          ],
          [
           "predicting the frequencies of diverse exo-planetary systems"
          ],
          [
           "higher ramification and varieties of secant divisors on the generic\n  curve"
          ],
          [
           "the concrete theory of numbers: initial numbers and wonderful properties\n  of numbers repunit"
          ],
          [
           "non-monotone convergence in the quadratic wasserstein distance"
          ],
          [
           "the bimodality of type ia supernovae"
          ],
          [
           "structural relaxation around substitutional cr3+ in mgal2o4"
          ],
          [
           "a hierarchical approach for dependability analysis of a commercial\n  cache-based raid storage architecture"
          ],
          [
           "stochastic action principle and maximum entropy"
          ],
          [
           "gauge-higgs unification and lhc/ilc"
          ],
          [
           "extension theorems of sakai type for separately holomorphic and\n  meromorphic functions"
          ],
          [
           "uniform measures and countably additive measures"
          ],
          [
           "lower bounds for the conductivities of correlated quantum systems"
          ],
          [
           "non-extensive thermodynamics of 1d systems with long-range interaction"
          ],
          [
           "nmr evidence for a strong modulation of the bose-einstein condensate in\n  bacusi$_2$o$_6$"
          ],
          [
           "bibliometric statistical properties of the 100 largest european\n  universities: prevalent scaling rules in the science system"
          ],
          [
           "on the origin of asymmetries in bilateral supernova remnants"
          ],
          [
           "reactor monitoring with neutrinos"
          ],
          [
           "nonstationary pattern in unsynchronizable complex networks"
          ],
          [
           "topological phase for spin-orbit transformations on a laser beam"
          ],
          [
           "the solar neighborhood. xix. discovery and characterization of 33 new\n  nearby white dwarf systems"
          ],
          [
           "gorenstein locus of minuscule schubert varieties"
          ],
          [
           "model c critical dynamics of random anisotropy magnets"
          ],
          [
           "a unified approach to the theory of separately holomorphic mappings"
          ],
          [
           "higher spin algebras as higher symmetries"
          ],
          [
           "calfuse v3: a data-reduction pipeline for the far ultraviolet\n  spectroscopic explorer"
          ],
          [
           "voltage-current curves for small josephson junction arrays"
          ],
          [
           "the density of critical percolation clusters touching the boundaries of\n  strips and squares"
          ],
          [
           "effective band-structure in the insulating phase versus strong dynamical\n  correlations in metallic vo2"
          ],
          [
           "new possible properties of atomic nuclei investigated by non linear\n  methods: fractal and recurrence quantification analysis"
          ],
          [
           "the use of weighting in periodicity searches in all-sky monitor data:\n  applications to the glast lat"
          ],
          [
           "dielectronic recombination of fe xv forming fe xiv: laboratory\n  measurements and theoretical calculations"
          ],
          [
           "experimental test of the high-frequency quantum shot noise theory in a\n  quantum point contact"
          ],
          [
           "extragalactic radio sources and the wmap cold spot"
          ],
          [
           "l^2 rho form for normal coverings of fibre bundles"
          ],
          [
           "on the nonexistence of nontrivial involutive n-homomorphisms of\n  c*-algebras"
          ],
          [
           "smooth and starburst tidal tails in the gems and goods fields"
          ],
          [
           "nuclear spin effects in optical lattice clocks"
          ],
          [
           "electromagnetic wormholes via handlebody constructions"
          ],
          [
           "millimeter-thick single-walled carbon nanotube forests: hidden role of\n  catalyst support"
          ],
          [
           "test of nuclear level density inputs for hauser-feshbach model\n  calculations"
          ],
          [
           "the harps search for southern extra-solar planets. ix. exoplanets\n  orbiting hd 100777, hd 190647, and hd 221287"
          ],
          [
           "algebraic geometry of gaussian bayesian networks"
          ],
          [
           "interactions, superconducting $t_c$, and fluctuation magnetization for\n  two coupled dots in the crossover between the gaussian orthogonal and unitary\n  ensembles"
          ],
          [
           "two-proton radioactivity and three-body decay. iii. integral formulae\n  for decay widths in a simplified semianalytical approach"
          ],
          [
           "z^0 \\to 2\\gamma and the twisted coproduct of the poincar\\'{e} group"
          ],
          [
           "a variation of gronwall's lemma"
          ],
          [
           "when the cramer-rao inequality provides no information"
          ],
          [
           "lower order terms in the 1-level density for families of holomorphic\n  cuspidal newforms"
          ],
          [
           "spinor dynamics in an antiferromagnetic spin-1 condensate"
          ],
          [
           "a contraction theory approach to stochastic incremental stability"
          ],
          [
           "a symplectic test of the l-functions ratios conjecture"
          ],
          [
           "cosmology from string theory"
          ],
          [
           "noncommutative electromagnetism as a large n gauge theory"
          ],
          [
           "marginal solutions for the superstring"
          ],
          [
           "the isophotal structure of early-type galaxies in the sdss: dependence\n  on agn activity and environment"
          ],
          [
           "on the origin of the dichotomy of early-type galaxies: the role of dry\n  mergers and agn feedback"
          ],
          [
           "quantum and classical spins on the spatially distorted kagome lattice:\n  applications to volborthite"
          ],
          [
           "two-proton radioactivity and three-body decay. iv. connection to\n  quasiclassical formulation"
          ],
          [
           "percolation modeling of conductance of self-healing composites"
          ],
          [
           "analytic solutions for marginal deformations in open superstring field\n  theory"
          ],
          [
           "invariants of triangular lie algebras"
          ],
          [
           "approaching equilibrium and the distribution of clusters"
          ],
          [
           "does the blazar gamma-ray spectrum harden with increasing flux? analysis\n  of 9 years of egret data"
          ],
          [
           "glueball masses in (2+1)-dimensional anisotropic weakly-coupled\n  yang-mills theory"
          ],
          [
           "recovering galaxy star formation and metallicity histories from spectra\n  using vespa"
          ],
          [
           "axiom a polynomial skew products of c^2 and their postcritical sets"
          ],
          [
           "search for gravitational-wave bursts in ligo data from the fourth\n  science run"
          ],
          [
           "glast and dark matter substructure in the milky way"
          ],
          [
           "gibbs fragmentation trees"
          ],
          [
           "efficient simulations of early structure formation and reionization"
          ],
          [
           "jet-disturbed molecular gas near the seyfert 2 nucleus in m51"
          ],
          [
           "spectroscopy of nine cataclysmic variable stars"
          ],
          [
           "conservation laws for invariant functionals containing compositions"
          ],
          [
           "displacement of the sun from the galactic plane"
          ],
          [
           "correlation amplitude and entanglement entropy in random spin chains"
          ],
          [
           "sim planetquest: the most promising near-term technique to detect, find\n  masses, and determine three-dimensional orbits of nearby habitable planets"
          ],
          [
           "ir observations of ms 1054-03: star formation and its evolution in rich\n  galaxy clusters"
          ],
          [
           "sensor networks with random links: topology design for distributed\n  consensus"
          ],
          [
           "charges from attractors"
          ],
          [
           "nodeless d-wave superconducting pairing due to residual\n  antiferromagnetism in underdoped pr$_{2-x}$ce$_x$cuo$_{4-\\delta}$"
          ],
          [
           "one-dimensional brownian particle systems with rank dependent drifts"
          ],
          [
           "simultaneous swift and rem monitoring of the blazar pks0537-441 in 2005"
          ],
          [
           "theoretical status of pentaquarks"
          ],
          [
           "generating squeezed states of nanomechanical resonator"
          ],
          [
           "on the orbital period of the magnetic cataclysmic variable hs 0922+1333"
          ],
          [
           "the einstein-varicak correspondence on relativistic rigid rotation"
          ],
          [
           "nova geminorum 1912 and the origin of the idea of gravitational lensing"
          ],
          [
           "upper bounds on entangling rates of bipartite hamiltonians"
          ],
          [
           "separability criterion for multipartite pure states"
          ],
          [
           "cluster properties from two-particle angular correlations in p+p\n  collisions at $\\sqrt{s}$ = 200 and 410 gev"
          ],
          [
           "cross-layer optimization of mimo-based mesh networks with gaussian\n  vector broadcast channels"
          ],
          [
           "criteria in the selection of target events for planetary microlensing\n  follow-up observation"
          ],
          [
           "the necessary and sufficient conditions of separability for bipartite\n  pure states in infinite dimensional hilbert spaces"
          ],
          [
           "magnetic fields in protoplanetary disks"
          ],
          [
           "d0-anti-d0 mixing and cp violation in d0 vs anti-d0 to k*(+-) k(-+)\n  decays"
          ],
          [
           "the dissolution of the vacancy gas and grain boundary diffusion in\n  crystalline solids"
          ],
          [
           "x-ray timing observations of psr j1930+1852 in the crab-like snr\n  g54.1+0.3"
          ],
          [
           "vortex-induced topological transition of the bilinear-biquadratic\n  heisenberg antiferromagnet on the triangular lattice"
          ],
          [
           "recurrence analysis of the portevin-le chatelier effect"
          ],
          [
           "a topological glass"
          ],
          [
           "anomalous pressure behavior of tangential modes in single-wall carbon\n  nanotubes"
          ],
          [
           "distribution of the molecular absorption in front of the quasar\n  b0218+357"
          ],
          [
           "cosmogenic neutrinos as a probe of the transition from galactic to\n  extragalactic cosmic rays"
          ],
          [
           "spin state mixing in inas double quantum dots"
          ],
          [
           "construction of complete embedded self-similar surfaces under mean\n  curvature flow. part ii"
          ],
          [
           "daemons and dama: their celestial-mechanics interrelations"
          ],
          [
           "form factors of the exotic baryons with isospin i=5/2"
          ],
          [
           "transfer of a polaritonic qubit through a coupled cavity array"
          ],
          [
           "architecture for pseudo acausal evolvable embedded systems"
          ],
          [
           "evidence for a massive protocluster in s255n"
          ],
          [
           "enumerating limit groups"
          ],
          [
           "dynamics of size-selected gold nanoparticles studied by ultrafast\n  electron nanocrystallography"
          ],
          [
           "a direct method for solving optimal switching problems of\n  one-dimensional diffusions"
          ],
          [
           "compatibility of radial, lorenz and harmonic gauges"
          ],
          [
           "late-time tails of a yang-mills field on minkowski and schwarzschild\n  backgrounds"
          ],
          [
           "mediatic graphs"
          ],
          [
           "composite structure and causality"
          ],
          [
           "brane world black rings"
          ],
          [
           "stable algebras of entire functions"
          ],
          [
           "test vectors for trilinear forms, when two representations are\n  unramified and one is special"
          ],
          [
           "generic character sheaves on disconnected groups and character values"
          ],
          [
           "measurement of d0-d0bar mixing in d0->ks pi+ pi- decays"
          ]
         ],
         "hovertemplate": "highlight=False<br>x=%{x}<br>y=%{y}<br>title=%{customdata[0]}<extra></extra>",
         "legendgroup": "False",
         "marker": {
          "color": "#636efa",
          "symbol": "circle"
         },
         "mode": "markers",
         "name": "False",
         "showlegend": true,
         "type": "scattergl",
         "x": [
          -37.446358,
          -5.802882,
          -1.4364483,
          -14.426028,
          -19.117777,
          -31.071974,
          7.927369,
          -26.311249,
          -9.719405,
          -30.768915,
          34.63577,
          -34.412193,
          -18.611885,
          -22.51089,
          8.296321,
          -14.443017,
          -16.934145,
          -11.53506,
          -21.46257,
          39.22871,
          11.086157,
          -36.889057,
          -4.6869984,
          4.1992817,
          17.75537,
          -30.965448,
          -0.27408814,
          10.810007,
          -3.043344,
          -32.721886,
          23.470778,
          30.966248,
          -16.382854,
          -1.7340595,
          28.438915,
          42.42353,
          -24.63672,
          -32.42041,
          6.088179,
          47.978073,
          -12.64617,
          -13.001589,
          -8.531212,
          -34.1974,
          -22.209398,
          -3.2678895,
          46.91816,
          -24.90728,
          -14.354382,
          -2.2163339,
          -6.9226584,
          9.248127,
          51.9574,
          -11.226328,
          -36.96019,
          -13.592102,
          -13.486775,
          1.9239024,
          -4.281995,
          -1.9933759,
          -14.636592,
          28.701038,
          -2.002463,
          -31.848679,
          -29.441145,
          5.042108,
          14.252857,
          -24.081772,
          -32.92426,
          -19.331944,
          30.66761,
          -9.135444,
          9.315649,
          -3.5979261,
          -8.491192,
          -3.9745986,
          8.565906,
          -1.2394336,
          -21.770088,
          -36.272057,
          12.569014,
          -35.917206,
          27.998878,
          -32.75416,
          -29.341734,
          -31.106167,
          6.116103,
          11.855197,
          18.55977,
          7.9263697,
          -38.748116,
          38.112587,
          20.675064,
          16.04997,
          29.351555,
          -33.89533,
          20.804026,
          -19.392632,
          16.76461,
          -34.355587,
          17.639557,
          19.396547,
          29.47539,
          -0.4769548,
          -6.963364,
          -38.204346,
          -16.433575,
          -5.8446403,
          -9.496846,
          -26.925688,
          0.78816205,
          -2.580164,
          49.884773,
          -17.131044,
          54.129684,
          -14.509825,
          37.387833,
          -23.032722,
          -26.275766,
          19.243345,
          -3.0770385,
          -2.04319,
          5.8203883,
          -33.555027,
          44.763203,
          53.869312,
          26.99339,
          -8.728185,
          -34.828136,
          0.56310505,
          21.224174,
          -12.947964,
          -30.37993,
          5.7006783,
          -7.9908996,
          -8.10585,
          -12.036229,
          -27.68527,
          -16.107687,
          49.51114,
          39.31369,
          -14.415772,
          -27.235037,
          -9.303046,
          -16.506464,
          -25.170618,
          -10.106352,
          35.467052,
          -14.476826,
          -40.562263,
          -36.67507,
          0.68818897,
          -15.254025,
          -32.342365,
          -20.930304,
          4.2348695,
          -18.816622,
          49.507973,
          44.400997,
          -6.569566,
          -30.37342,
          -27.486227,
          44.681713,
          -18.94888,
          -17.829496,
          -34.378765,
          17.657343,
          19.805763,
          46.443985,
          -19.432487,
          -27.800468,
          -18.769028,
          -20.571379,
          -33.529823,
          45.421158,
          -24.891157,
          14.802516,
          50.9886,
          0.8347304,
          16.965988,
          0.12792602,
          14.168085,
          -29.80333,
          19.485708,
          -20.960613,
          3.9475765,
          -6.0104117,
          -28.524773,
          -15.610739,
          2.405793,
          -8.476351,
          15.175908,
          -33.4366,
          -12.776218,
          44.47942,
          -5.73326,
          -3.837261,
          -25.507095,
          -19.345331,
          8.094407,
          -19.077116,
          -0.73859495,
          -7.246633,
          -33.391582,
          -16.127687,
          -28.609276,
          -18.116104,
          3.300055,
          12.767208,
          45.2069,
          8.690409,
          37.991035,
          52.75424,
          -25.151476,
          -24.30596,
          -26.929472,
          12.928571,
          -29.259691,
          -19.748537,
          46.03489,
          -15.758899,
          7.087342,
          -1.9379754,
          17.485716,
          -19.346144,
          16.7348,
          -12.763206,
          -8.85187,
          45.40757,
          17.693737,
          -6.6843743,
          -22.98724,
          27.780682,
          -9.564624,
          21.527699,
          -22.184563,
          -32.48942,
          -27.7475,
          -27.866888,
          -15.211785,
          -37.162933,
          15.844117,
          40.493153,
          16.103224,
          -11.342376,
          19.290037,
          -26.431602,
          -37.64907,
          -20.352823,
          9.021225,
          -5.599192,
          -38.719105,
          -12.963971,
          23.518593,
          -1.9867241,
          21.959787,
          -31.84798,
          -28.898027,
          -29.449247,
          -4.903906,
          36.847034,
          -16.410044,
          20.621473,
          -3.9861453,
          38.235687,
          -22.077635,
          -14.172012,
          20.86707,
          -1.9861318,
          -22.729116,
          -11.680471,
          -9.386717,
          18.563992,
          3.582469,
          -16.076162,
          -24.678873,
          23.413836,
          21.39523,
          -27.719782,
          45.535572,
          2.8907244,
          -33.308006,
          48.865433,
          -26.791958,
          29.14914,
          -20.788279,
          -4.3798304,
          6.088102,
          12.861052,
          -39.35963,
          9.951921,
          -9.209434,
          0.11861233,
          -37.6116,
          -24.451166,
          13.064646,
          4.8701887,
          3.887499,
          10.234923,
          3.9239583,
          -21.954073,
          4.7580214,
          23.155098,
          -23.867397,
          -35.188732,
          9.701837,
          14.720781,
          16.125916,
          -27.757917,
          -1.9199414,
          -18.76968,
          0.88504046,
          -37.389484,
          8.560958,
          7.3760204,
          -9.602288,
          -21.742367,
          -2.3465865,
          -13.792801,
          36.160995,
          -31.589666,
          -13.301073,
          20.122305,
          10.879267,
          1.7462878,
          -18.638166,
          -29.350594,
          -27.113249,
          -27.751888,
          -3.5735888,
          -3.6031895,
          -9.448797,
          50.196087,
          16.749529,
          22.621069,
          -23.058083,
          -30.163286,
          -15.259948,
          21.347017,
          -35.452637,
          -23.376526,
          22.32119,
          -32.115925,
          -27.49567,
          0.10038337,
          14.499004,
          -3.1198354,
          -2.3486514,
          -33.140865,
          14.08609,
          5.233274,
          -21.99825,
          -12.606215,
          -36.19371,
          -22.19005,
          -33.047783,
          -20.79415,
          -9.090454,
          12.1166725,
          7.3440485,
          21.144594,
          15.277249,
          7.350345,
          21.709934,
          18.707296,
          9.116904,
          -28.64231,
          11.830429,
          -3.2196898,
          18.24352,
          17.33209,
          18.149,
          -0.25789243,
          8.656015,
          -14.987002,
          -5.4316416,
          -5.1324935,
          13.072867,
          -2.1063833,
          13.263638,
          14.512138,
          -33.451157,
          -23.556273,
          -14.827078,
          26.047129,
          10.317189,
          -12.415773,
          7.245518,
          -27.633398,
          4.3431754,
          -10.874599,
          -10.054631,
          -29.724447,
          2.266398,
          1.1291598,
          13.8953705,
          8.086315,
          -4.3672476,
          49.854717,
          -28.25032,
          -10.240872,
          -21.863565,
          -34.521965,
          14.086427,
          54.78399,
          -34.31785,
          14.421543,
          17.697414,
          16.763977,
          15.751894,
          -19.303448,
          9.4681225,
          27.913618,
          -14.132595,
          14.802749,
          -3.7250733,
          -6.8466105,
          -36.88104,
          -27.954319,
          5.055074,
          -11.3361845,
          -8.051924,
          -37.1077,
          10.034544,
          -34.762035,
          18.741415,
          27.237837,
          42.607002,
          -14.816962,
          -6.9782596,
          42.496395,
          -22.679981,
          -16.222013,
          44.724483,
          9.188405,
          2.4541287,
          12.025263,
          0.46779242,
          2.7088602,
          -0.2938612,
          -8.371661,
          16.744743,
          -17.58064,
          -28.025723,
          -24.93154,
          2.0229561,
          -8.910225,
          -1.6181992,
          47.33377,
          24.787596,
          -5.399332,
          18.838228,
          14.872373,
          -26.295122,
          -1.5479394,
          6.7424564,
          21.089214,
          -33.841637,
          -21.110685,
          -37.720814,
          15.13432,
          15.007824,
          45.107674,
          3.2902067,
          -25.623163,
          -21.643402,
          -3.1597679,
          14.002262,
          12.532615,
          2.1236784,
          -5.1783733,
          10.676123,
          -32.480404,
          50.295002,
          -36.88104,
          3.1723611,
          -26.100815,
          -30.819561,
          29.365211,
          4.17642,
          26.89231,
          -20.209778,
          -30.956024,
          -33.403305,
          -14.903694,
          -28.508726,
          -14.658074,
          -12.049892,
          -22.857708,
          2.313335,
          -5.3918133,
          -5.3110213,
          -6.1300235,
          -37.57349,
          -33.935013,
          19.028738,
          -34.57409,
          -29.812372,
          -29.734158,
          -24.752645,
          -3.878875,
          -22.01476,
          -3.487822,
          -28.197495,
          -16.363947,
          0.066509515,
          14.27351,
          9.247226,
          -33.832413,
          41.072285,
          -3.4264367,
          -24.52404,
          -9.5533905,
          -14.459661,
          -28.016552,
          -27.153715,
          -29.666378,
          -11.146346,
          -28.173063,
          13.110539,
          21.079264,
          -37.92066,
          -38.719593,
          19.016565,
          -24.535212,
          -4.7446065,
          -33.13045,
          -5.782383,
          -32.87553,
          -29.098139,
          -29.569763,
          -36.171333,
          -33.673607,
          -1.4549696,
          -32.929604,
          -26.799551,
          -26.39427,
          -33.30243,
          -36.805202,
          -34.531746,
          -13.584074,
          50.27791,
          -20.109493,
          6.5653243,
          -5.311777,
          -21.649548,
          2.095837,
          1.239076,
          -35.97902,
          -33.75749,
          8.772667,
          -27.847528,
          0.1586906,
          -34.36323,
          -30.057308,
          3.001284,
          -32.208183,
          -31.199135,
          7.4436626,
          -31.88899,
          21.492235,
          -11.766898,
          -39.49898,
          43.64179,
          -22.964745,
          5.5008283,
          0.3028943,
          -2.5137203,
          31.411102,
          41.98295,
          -11.377049,
          -12.491379,
          23.03705,
          7.1782045,
          -34.176403,
          -6.73846,
          43.4262,
          13.124612,
          47.796223,
          -37.380047,
          -13.898873,
          -32.75833,
          -8.289393,
          17.65369,
          -7.0709014,
          50.229057,
          1.7755574,
          48.68182,
          -26.018934,
          11.2306795,
          8.474904,
          17.07986,
          -5.294217,
          -2.9078276,
          12.945388,
          -28.893972,
          -37.63331,
          -32.981728,
          0.3194516,
          6.0432158,
          46.69514,
          12.299913,
          -35.72189,
          -35.697968,
          -22.448957,
          12.472233,
          -15.734183,
          26.368624,
          -1.6830039,
          -21.882809,
          -20.377266,
          -8.175771,
          -33.374138,
          19.277653,
          -38.623863,
          10.343491,
          15.258094,
          -15.28724,
          -17.27575,
          21.140535,
          -36.718582,
          -7.997325,
          -29.655497,
          1.0946469,
          20.067642,
          23.989548,
          -15.084825,
          -17.400806,
          -1.9592801,
          -10.351293,
          20.961582,
          -17.422602,
          1.3475825,
          -0.100927584,
          -3.8045783,
          21.898647,
          5.2779164,
          4.3732276,
          13.601593,
          4.031292,
          1.0308882,
          -34.50807,
          51.83688,
          -23.511349,
          -22.258621,
          -8.009036,
          18.408508,
          -29.706274,
          -1.8203504,
          -25.986986,
          50.182877,
          10.428035,
          -25.87754,
          -31.72534,
          -17.64725,
          12.663311,
          -5.133822,
          25.772038,
          30.36818,
          -18.893005,
          -35.19689,
          14.484707,
          13.571414,
          -22.53673,
          -31.903822,
          17.880432,
          -15.114269,
          -12.955039,
          -5.0476484,
          -32.116264,
          -23.558117,
          -9.301582,
          -32.79336,
          15.314114,
          6.8773074,
          -17.658155,
          10.613247,
          45.47578,
          22.153542,
          -38.62859,
          2.9149525,
          5.914672,
          -16.797508,
          16.979193,
          14.736507,
          -14.162743,
          4.9794335,
          4.129135,
          -16.589155,
          6.384716,
          32.804832,
          -20.598309,
          43.88842,
          -4.2919397,
          2.648962,
          -10.127506,
          5.7545004,
          54.928886,
          4.5044956,
          -34.28838,
          -33.06695,
          13.376306,
          -33.659645,
          -14.47736,
          -30.853382,
          7.658504,
          -37.200146,
          -13.07112,
          12.802016,
          -26.676859,
          -8.591188,
          -25.808117,
          51.93339,
          16.803495,
          -17.180195,
          25.293966,
          -1.9150201,
          46.07399,
          -31.882708,
          35.107002,
          -12.26086,
          9.089198,
          -37.08711,
          -15.831512,
          -12.797672,
          -10.458208,
          -32.121277,
          16.389566,
          -1.0107489,
          33.963108,
          -27.100016,
          -37.97063,
          20.06354,
          7.1197023,
          -6.638136,
          -16.04763,
          -26.389263,
          22.975594,
          -23.814917,
          16.269142,
          21.281216,
          13.084061,
          -12.447789,
          15.532648,
          8.134222,
          11.072313,
          19.443283,
          -4.9868517,
          -27.620426,
          -9.655674,
          27.062809,
          -11.72382,
          35.66045,
          -10.362901,
          -27.196184,
          13.435284,
          -14.006124,
          -7.5577784,
          -33.639584,
          -25.109257,
          -0.14018866,
          16.204397,
          -25.74512,
          -26.041967,
          -4.337209,
          -3.7135775,
          21.95868,
          13.185359,
          -5.9928446,
          -32.899532,
          -14.576554,
          54.47658,
          -6.7771378,
          -26.451204,
          12.549937,
          -10.927157,
          -35.997112,
          0.08930352,
          -29.12205,
          -37.642937,
          -31.728006,
          -38.283222,
          -26.006086,
          7.1921735,
          -32.252907,
          -24.542366,
          -21.381561,
          -8.305536,
          -31.794622,
          -0.58960885,
          -23.691181,
          6.7546177,
          -11.765472,
          13.699525,
          -21.014082,
          4.652878,
          -31.956799,
          -32.53741,
          26.904013,
          -26.672903,
          -29.219555,
          1.1132278,
          -23.778824,
          -12.183168,
          -9.840186,
          -5.798859,
          5.2183185,
          -32.545345,
          31.095257,
          14.756028,
          9.619159,
          -5.9526057,
          -2.0878942,
          -15.053615,
          -24.405983,
          -22.583809,
          -33.413757,
          -5.35206,
          10.031737,
          54.97639,
          6.9263487,
          -29.061287,
          -5.298306,
          10.247652,
          32.16545,
          16.557753,
          40.55609,
          -7.697637,
          -33.242065,
          -10.369511,
          -6.3037777,
          -22.78237,
          23.88018,
          29.121134,
          16.111855,
          -19.829338,
          -1.9087114,
          2.0750751,
          30.405176,
          2.6693234,
          23.96144,
          -7.5578823,
          -34.952126,
          12.942446,
          -2.4476604,
          -10.462188,
          -34.101807,
          -24.171051,
          28.236717,
          -3.350907,
          -34.557304,
          -17.585623,
          2.2264416,
          -32.952984,
          -28.690603,
          -20.415663,
          12.139047,
          -0.26091614,
          26.532852,
          -16.29615,
          -37.706238,
          -30.072117,
          -30.446213,
          -14.029523,
          50.94715,
          -32.471767,
          -11.620836,
          16.237879,
          44.342083,
          -31.095531,
          -29.300665,
          9.284327,
          -18.505966,
          -8.7407875,
          -11.594532,
          -15.088482,
          -30.477362,
          -35.290314,
          -33.416607,
          6.288397,
          -16.722866,
          4.5068016,
          -20.925724,
          29.971313,
          -2.6198618,
          -36.34079,
          -20.314264,
          -22.51445,
          -10.907874,
          -23.944214,
          -32.90571,
          -10.350101,
          56.41596,
          17.847277,
          -10.378215,
          20.807198,
          -4.6115556,
          20.15105,
          8.023836,
          -18.913246,
          0.13752341,
          -28.551487,
          -13.953948,
          -10.645779,
          -17.128368,
          -4.715587,
          -2.8585515,
          -2.0568452,
          -5.4249563,
          5.3811164,
          -12.373093,
          -3.93649,
          -13.862385,
          -16.588047,
          -7.6437025,
          -32.360355,
          -12.016707,
          51.171402,
          38.220665,
          -33.15685,
          -29.192854,
          14.576942,
          13.662375,
          -29.776682,
          -1.9736686,
          4.8172646,
          -34.496155,
          14.299389,
          32.26675,
          -11.780828,
          -15.484827,
          4.762376,
          10.904661,
          -25.969368,
          18.66391,
          -28.258398,
          -9.662656,
          -0.7659893,
          -9.825551,
          4.2984133,
          -25.23338,
          -35.956158,
          46.56573,
          -16.703205,
          -15.479356,
          -17.953514,
          -24.37433,
          -28.926695,
          20.023855,
          -28.087334,
          48.095245,
          -21.079405,
          -36.071106,
          -4.331441,
          -21.89978,
          -1.3440001,
          -8.13684,
          -15.4087925,
          20.74145,
          3.4850512,
          -36.296234,
          -39.606575,
          -32.559017,
          -6.2117043,
          18.501808,
          -30.220451,
          45.921745,
          24.75621,
          47.68152,
          -6.1630306,
          -2.732102,
          9.149616,
          12.168052,
          45.173107,
          8.032335,
          -12.595899,
          -17.269472,
          5.8552814,
          7.465734,
          9.245002,
          -30.297213,
          -13.33672,
          -6.4507627,
          8.286177,
          -34.529602,
          -36.689335,
          -9.567254,
          19.467844,
          -22.679487,
          1.2000352,
          6.8536477,
          -4.940446,
          -20.32979,
          -3.846942,
          -18.213907,
          9.12864,
          -27.884485,
          35.947063,
          21.484299,
          -30.271252,
          -25.848066,
          -14.21423,
          -0.16315128,
          30.52071,
          3.2243185,
          36.89997,
          10.5378,
          2.1475227,
          54.159843,
          43.38039,
          -17.599619,
          41.88971,
          -4.3880167,
          38.278652,
          40.58592,
          14.451708,
          -30.358511,
          37.517593,
          12.593648,
          16.846972,
          25.084362,
          -28.48678,
          7.3166065,
          34.744553,
          -25.196468,
          -24.831268,
          -23.62302,
          43.714073,
          -36.214,
          40.269978,
          45.736618,
          48.975155,
          19.3447,
          55.719254,
          -24.515327,
          -8.882755,
          -8.060714,
          -10.41052,
          25.661964,
          14.483886,
          0.20438868,
          -0.5811231,
          42.616287,
          38.00852,
          -0.5893566,
          -38.587044,
          -10.017623,
          53.391354,
          22.239468,
          8.596507,
          -26.8942,
          22.413986,
          -28.382078,
          25.445667,
          -13.959092,
          -21.688385,
          11.280957,
          -24.357689,
          28.316582,
          -18.892168,
          -3.7721653,
          -17.43047,
          51.71417,
          -24.516354,
          26.566006,
          -12.436153,
          22.980589,
          -10.70929,
          -12.817664,
          -14.263967,
          -28.588589,
          37.507404,
          -9.899811,
          38.571777,
          -32.46185,
          13.069508,
          -3.352211,
          17.813272,
          -29.28162,
          -8.761983,
          49.604507,
          -34.083874,
          -5.592146,
          -3.386122,
          -4.5021296,
          23.858894,
          12.1722145,
          -37.33774,
          -8.269914,
          -28.151995,
          16.600992,
          -23.021002,
          -32.698647,
          -30.431105,
          48.20193,
          -37.306263,
          -17.124182,
          3.8357234,
          -34.433613,
          -15.790849,
          -20.65001,
          -12.271014,
          52.95887,
          18.257645,
          17.171555,
          37.923653,
          -29.866838,
          -9.000752,
          6.107019,
          24.395958,
          27.539423,
          -27.875595,
          -36.836933,
          -9.263404,
          26.498493,
          -16.09152,
          7.1806173,
          39.528023,
          -38.545593,
          -5.0030475,
          54.4006,
          -22.458445,
          -13.222151,
          -20.883492,
          29.8156,
          -29.122894,
          -26.896248,
          49.260563,
          54.054417,
          6.798811,
          53.74379,
          -28.63434,
          -5.946613,
          40.70262,
          -7.3440633,
          48.58679,
          -2.6710181,
          -8.417812,
          46.39703,
          11.435211,
          -33.986916,
          14.177427,
          -26.074694,
          -2.0371017,
          -30.359537,
          15.033283,
          23.815325,
          43.776806,
          -23.429337,
          -24.272581,
          53.84208,
          23.859936,
          -14.390038,
          1.622082,
          -15.060327,
          -6.433843,
          -27.135353,
          11.492581,
          -9.14321,
          55.93923,
          35.305153,
          -37.02405,
          25.24158,
          21.880621,
          13.520931,
          -24.50932,
          -31.544363,
          -19.154743,
          -25.642302,
          20.908836,
          31.627583,
          3.1310332,
          -32.857094,
          28.143934,
          -23.733507,
          38.576385,
          20.383293,
          -10.516069,
          -25.038963,
          -23.930504,
          1.1374754,
          -9.944162,
          8.807664,
          47.97529,
          10.11522,
          -1.7474092,
          27.428707,
          30.525486,
          -32.860077,
          54.741653,
          7.206532,
          39.5175,
          -4.7897425,
          46.433346,
          -34.781784,
          -18.906221,
          -30.228098,
          -29.119062,
          2.801489,
          15.848158,
          -28.47232,
          32.010162,
          -12.831378,
          13.371785,
          -13.586209,
          18.786123,
          -34.278477,
          53.825985,
          40.19037,
          -33.48004,
          12.61814,
          -21.305727,
          37.157974,
          -15.571358,
          17.707396,
          45.27267,
          46.430218,
          -22.972315,
          11.738895,
          31.921381,
          21.087658,
          42.89027,
          -10.486593,
          -19.8807,
          21.8519,
          -13.942634,
          -8.408478,
          30.707071,
          -30.001738,
          38.07596,
          23.134825,
          8.594496,
          31.374744,
          -12.842982,
          7.24908,
          2.6078305,
          -6.182579,
          -2.0944088,
          20.717005,
          24.25508,
          56.074368,
          52.088467,
          33.098186,
          30.740746,
          44.079605,
          -19.771841,
          -24.00032,
          22.178709,
          -20.519323,
          -11.238562,
          39.392406,
          -12.327962,
          53.653465,
          41.071316,
          5.5358624,
          38.866623,
          -9.498693,
          25.092505,
          -19.15095,
          24.184637,
          -25.56839,
          35.735653,
          -15.5538845,
          -35.874172,
          -14.209886,
          -35.58131,
          24.25235,
          -22.63208,
          38.24654,
          -0.016873825,
          -29.966764,
          -18.889513,
          45.39396,
          22.138748,
          -27.116783,
          54.1463,
          -23.125658,
          38.0228,
          10.923696,
          46.57734,
          -1.0818805,
          -38.15677,
          48.08354,
          -10.224565,
          8.906454,
          -13.9432335,
          -21.2218,
          38.468517,
          -28.888563,
          36.67444,
          5.7268662,
          27.396149,
          -19.72452,
          19.795189,
          21.894432,
          -23.514427,
          -21.022278,
          -35.519245,
          0.7119699,
          49.064045,
          -24.079268,
          -3.9020474,
          25.627932,
          -35.051815,
          -17.428509,
          23.430136,
          -36.458027,
          46.448563,
          24.532999,
          -17.648254,
          -20.454243,
          42.6007,
          37.948364,
          -29.478865,
          31.999163,
          42.895603,
          0.12141909,
          35.465935,
          44.155796,
          32.630867,
          28.58127,
          -16.761646,
          -29.574385,
          40.19517,
          0.13011679,
          -24.925081,
          -7.2204056,
          39.84435,
          -5.7057357,
          -24.026709,
          17.68906,
          12.201423,
          24.708027,
          22.141119,
          24.870903,
          48.476665,
          -27.109085,
          50.908222,
          -18.410347,
          -32.226883,
          35.69918,
          -31.99572,
          39.026825,
          -31.99558,
          26.093529,
          8.382975,
          42.692574,
          6.6592126,
          28.969072,
          20.672106,
          22.613617,
          49.368225,
          35.05833,
          11.348516,
          0.25731936,
          12.387719,
          -34.42844,
          -1.5936321,
          41.972454,
          -18.821953,
          -29.20314,
          38.91698,
          12.478233,
          50.17624,
          30.262205,
          3.8178642,
          -10.171654,
          48.924168,
          50.81974,
          28.95088,
          7.7889132,
          24.549887,
          5.871356,
          50.877617,
          -16.396996,
          36.55511,
          8.775817,
          -35.40818,
          18.503338,
          -32.027843,
          9.698723,
          51.84936,
          -28.369768,
          20.469414,
          7.03369,
          -24.362383,
          45.316082,
          -29.962593,
          47.50729,
          43.33692,
          -22.34544,
          -1.9124564,
          -19.838251,
          -22.281017,
          5.324324,
          -31.227049,
          2.9437096,
          -9.411034,
          -27.01549,
          21.885494,
          14.533068,
          -22.308414,
          -14.756348,
          -23.94133,
          -29.922312,
          39.164757,
          52.00818,
          16.464134,
          7.7169123,
          -10.569552,
          30.512844,
          -30.316288,
          7.3424277,
          -35.1248,
          53.588333,
          36.469875,
          33.905827,
          -21.269133,
          13.956784,
          -25.014355,
          -29.01187,
          22.481386,
          11.180316,
          43.647182,
          21.25567,
          46.74334,
          -30.396164,
          -9.790383,
          49.471275,
          -10.318464,
          24.24467,
          17.741915,
          -14.714447,
          -12.088136,
          -21.993013,
          -36.962746,
          23.918356,
          -25.670616,
          24.180735,
          -9.059377,
          44.02756,
          50.93862,
          -22.679396,
          -17.09882,
          27.07485,
          -26.904245,
          -20.442781,
          -1.5675061,
          44.0427,
          44.83191,
          -3.8034892,
          -5.088842,
          22.48719,
          -16.38543,
          37.307964,
          42.57427,
          52.002785,
          23.905413,
          -0.89192915,
          -36.37425,
          21.878807,
          -8.311824,
          -24.963621,
          5.654621,
          -28.885485,
          27.859339,
          -20.821789,
          -7.867627,
          47.019352,
          5.0983944,
          43.554283,
          -0.6276303,
          15.092896,
          16.32132,
          33.456154,
          2.5174878,
          56.126328,
          19.636185,
          41.74769,
          -33.54645,
          -13.6061125,
          12.395337,
          -25.01564,
          39.75309,
          -3.964716,
          10.023578,
          -9.729651,
          8.059091,
          13.848412,
          40.544712,
          -23.062948,
          4.4365005,
          0.86493593,
          -6.8571715,
          31.96545,
          -32.828026,
          47.66165,
          -13.696228,
          28.31553,
          21.223877,
          5.441696,
          -30.59772,
          33.704964,
          12.485724,
          22.935625,
          9.61964,
          -11.414364,
          33.46848,
          23.856602,
          7.9949617,
          26.24767,
          3.124142,
          47.923622,
          24.347109,
          -0.948956,
          46.601624,
          54.162003,
          21.43379,
          30.488123,
          -32.57579,
          7.928187,
          -26.011227,
          29.463892,
          4.914121,
          -15.610008,
          -0.46902707,
          -0.80495566,
          0.77701956,
          8.758202,
          -25.185574,
          55.96495,
          -27.594442,
          48.399853,
          20.21072,
          15.333842,
          22.420715,
          -34.860252,
          1.3875057,
          -12.208547,
          24.73466,
          -29.105888,
          43.7429,
          26.603806,
          13.236426,
          -22.277603,
          24.963057,
          10.437751,
          27.943558,
          31.831013,
          -4.1444507,
          21.974192,
          -34.015743,
          5.5116487,
          -18.103355,
          0.18228678,
          -19.317736,
          -12.019301,
          41.811058,
          -13.064707,
          -28.18419,
          -14.711331,
          10.117538,
          -14.64928,
          28.965027,
          2.0697336,
          27.64321,
          -6.6006117,
          19.650448,
          24.464817,
          -12.603521,
          -34.996365,
          27.211437,
          7.5913587,
          53.51526,
          -14.876725,
          33.161957,
          -17.937805,
          40.880344,
          39.57114,
          19.824009,
          18.176605,
          12.478381,
          49.832817,
          17.760777,
          -15.396274,
          42.27627,
          -23.913677,
          48.302868,
          -26.395872,
          50.428886,
          45.98803,
          14.829454,
          14.216021,
          -26.902075,
          38.55236,
          37.84788,
          -22.21889,
          0.36278152,
          -18.486698,
          14.506138,
          -2.7389393,
          25.564264,
          27.557896,
          8.498339,
          -6.8774962,
          -29.41434,
          -37.170624,
          14.332519,
          29.26999,
          42.495544,
          25.271801,
          50.532383,
          6.5623236,
          -24.850824,
          -13.2536125,
          36.009403,
          49.208214,
          38.034092,
          -35.441437,
          -34.204727,
          3.74856,
          3.4814353,
          -31.92092,
          -28.190813,
          -25.451828,
          -9.640075,
          11.864111,
          41.101307,
          49.66959,
          43.628704,
          6.410315,
          -6.125155,
          5.6626215,
          -24.897812,
          16.636108,
          -35.459778,
          -12.549866,
          47.46845,
          -25.17494,
          -12.827776,
          -16.175627,
          36.17478,
          -37.25209,
          -12.269053,
          10.918685,
          -38.611156,
          9.794031,
          -33.183952,
          31.256496,
          6.7109528,
          -20.416641,
          -23.492672,
          51.423645,
          -11.32571,
          -7.642572,
          3.112947,
          -17.710459,
          1.0533955,
          49.51885,
          33.345325,
          -26.688147,
          2.0922945,
          24.766294,
          -25.793556,
          11.646278,
          -17.98004,
          5.976367,
          -30.42114,
          44.061417,
          30.105396,
          30.793106,
          39.53209,
          -14.774656,
          10.380632,
          -19.115713,
          17.692589,
          23.622128,
          34.09579,
          0.016630696,
          1.3409338,
          -24.710585,
          15.189836,
          33.762302,
          46.463047,
          -10.527952,
          23.499212,
          -31.014784,
          27.565428,
          -7.1407084,
          -17.860954,
          36.42356,
          24.231485,
          12.20813,
          14.442208,
          42.276253,
          -7.9412813,
          11.790426,
          -26.94553,
          9.101613,
          43.512463,
          9.004913,
          -16.809158,
          -28.066496,
          34.366375,
          -20.587502,
          -37.387383,
          -33.05624,
          16.60467,
          -35.241802,
          36.85103,
          10.848456,
          -25.152813,
          -36.369377,
          14.992392,
          40.1458,
          -17.252335,
          19.93879,
          -34.664402,
          2.636376,
          -15.745771,
          37.570667,
          12.714812,
          -36.265976,
          49.171677,
          -39.79533,
          -15.838843,
          -16.537659,
          -3.2676938,
          25.927301,
          -18.664623,
          23.948076,
          23.507523,
          -27.842257,
          -16.963558,
          36.26528,
          -1.7203805,
          -38.11878,
          -12.817501,
          34.52624,
          -10.173914,
          32.18322,
          10.421015,
          -32.028767,
          48.279037,
          6.939536,
          -29.666958,
          -6.891961,
          52.3435,
          46.477367,
          46.707012,
          26.488012,
          36.82613,
          46.24986,
          -24.69677,
          20.75267,
          -29.159615,
          -17.540596,
          19.1095,
          -36.08242,
          28.390665,
          -8.720085,
          42.019566,
          25.319878,
          -28.800629,
          37.385807,
          -38.36093,
          15.11633,
          -11.144945,
          -36.06053,
          -12.286776,
          -22.702103,
          0.3888729,
          -25.07743,
          54.69936,
          -13.154265,
          23.007883,
          -17.287647,
          19.413723,
          -8.9351635,
          -21.141727,
          -21.33965,
          3.7074778,
          -21.045368,
          41.680534,
          43.264355,
          5.655336,
          21.907606,
          -24.063618,
          -37.098263,
          52.599712,
          24.172636,
          43.81067,
          15.520936,
          27.569017,
          37.872124,
          37.22447,
          12.862849,
          -16.469116,
          -35.23322,
          1.9315636,
          43.37355,
          -18.069529,
          6.336412,
          -34.034447,
          28.616726,
          16.994972,
          43.05379,
          -11.9339285,
          -35.398106,
          -27.205313,
          -26.994894,
          -21.600128,
          -19.2626,
          -26.746496,
          21.961582,
          -32.050926,
          23.854483,
          -14.757379,
          -4.412574,
          -15.868044,
          1.5148417,
          5.902406,
          42.572216,
          23.064156,
          14.518573,
          40.503597,
          43.673023,
          50.64184,
          -35.8346,
          17.43193,
          -21.107317,
          35.592453,
          49.329426,
          17.348625,
          21.58852,
          -36.320114,
          51.09541,
          35.77295,
          -1.1148584,
          39.081684,
          -8.750956,
          -25.720268,
          -2.0986536,
          -20.29341,
          9.127774,
          49.67006,
          -19.00174,
          50.027637,
          -36.072384,
          21.527369,
          28.517515,
          45.866802,
          -18.73858,
          -26.12798,
          -35.739433,
          24.23113,
          -9.292874,
          -34.112526,
          50.34993,
          -22.26057,
          33.39538,
          -14.790752,
          48.462025,
          30.163631,
          16.652216,
          30.62112,
          5.8855076,
          46.357273,
          55.224415,
          -1.2644956,
          31.477627,
          37.47458,
          -22.613722,
          -31.572739,
          11.930731,
          14.499658,
          30.007395,
          -13.392288,
          20.086617,
          25.675999,
          31.310677,
          -13.36552,
          50.919334,
          41.970284,
          -11.114537,
          -23.922382,
          51.931934,
          -34.421913,
          -20.537647,
          53.147514,
          31.307125,
          32.28401,
          29.594547,
          23.57093,
          -29.112286,
          -6.951755,
          -12.881149,
          53.362255,
          36.22333,
          24.752024,
          10.260367,
          -12.530591,
          36.841213,
          40.147118,
          -31.408821,
          -13.591543,
          39.826054,
          -23.384819,
          -11.964953,
          46.6365,
          -19.176325,
          34.28889,
          16.46761,
          14.38515,
          -35.181282,
          28.071114,
          -37.24365,
          37.68806,
          -16.145882,
          -23.69506,
          38.623753,
          8.7727165,
          37.60017,
          -23.413534,
          -15.247703,
          23.956583,
          15.023341,
          47.425083,
          14.013766,
          -22.184196,
          25.985317,
          40.974926,
          30.957422,
          22.15096,
          49.153805,
          -34.506798,
          9.974688,
          41.00914,
          33.42693,
          -35.709927,
          -22.053177,
          -13.192216,
          40.93441,
          -19.031553,
          -17.318138,
          -40.59323,
          -33.79069,
          -2.9194288,
          14.941544,
          -19.478502,
          22.364183,
          -38.340473,
          -28.240059,
          -32.470078,
          -5.158673,
          8.742371,
          -7.8011985,
          5.9282274
         ],
         "xaxis": "x",
         "y": [
          -14.257557,
          14.524585,
          7.951191,
          -9.659646,
          -11.718984,
          -5.4321656,
          -21.070635,
          0.83117354,
          5.213277,
          26.58389,
          16.298615,
          24.359085,
          -25.120117,
          19.482796,
          -16.775707,
          -24.736202,
          -20.17035,
          1.9753859,
          12.356289,
          32.61224,
          -17.047647,
          28.250292,
          10.864566,
          2.6341631,
          -0.43521208,
          -6.1600447,
          -11.876002,
          -16.444368,
          1.2391802,
          -18.985817,
          -16.744148,
          34.10938,
          16.277094,
          -20.704906,
          33.013855,
          19.441177,
          10.198292,
          16.463068,
          -6.256918,
          17.322733,
          -28.212446,
          20.270794,
          2.9805949,
          29.581701,
          -5.4832497,
          -27.056505,
          18.23814,
          10.79266,
          -7.2547812,
          -13.686349,
          -21.529171,
          -23.896774,
          16.184473,
          15.602341,
          -5.10249,
          17.207745,
          17.010418,
          -19.7657,
          -11.6859255,
          -26.629257,
          -27.150768,
          -18.398817,
          -10.585534,
          19.988354,
          2.9670272,
          -26.504763,
          -15.166569,
          -15.650613,
          21.72779,
          -11.0416565,
          -17.227158,
          7.7472525,
          -20.990849,
          -16.764658,
          14.077177,
          13.945348,
          -24.946362,
          -17.277676,
          -7.218253,
          -17.094837,
          -3.9083765,
          -12.067148,
          -16.308014,
          15.928903,
          3.9441786,
          16.460754,
          -1.0023819,
          -9.11101,
          -20.874716,
          -9.237221,
          32.538177,
          25.48378,
          35.169792,
          -17.513489,
          -18.334078,
          -4.687533,
          -5.4027762,
          15.77338,
          -19.776249,
          20.07882,
          -2.7811837,
          -12.373065,
          28.350298,
          -16.25554,
          -27.239792,
          32.613865,
          -2.7169425,
          -17.449923,
          -12.13809,
          16.355854,
          -2.4955258,
          -9.4196,
          14.438765,
          -1.4682431,
          12.334339,
          11.146882,
          30.366703,
          15.62101,
          16.490982,
          -11.769671,
          -17.273579,
          10.4345665,
          -29.61808,
          1.7196908,
          27.85296,
          15.306181,
          -18.31691,
          11.006122,
          4.762945,
          -19.792145,
          -23.424404,
          -14.02732,
          -12.753296,
          -27.368862,
          9.132438,
          9.317331,
          6.1123986,
          18.382277,
          -16.048923,
          10.174218,
          18.13531,
          18.019499,
          -3.6828964,
          -29.654783,
          2.6027277,
          2.0271056,
          0.3353615,
          29.460297,
          18.154633,
          -15.688641,
          27.809385,
          6.9060307,
          23.643957,
          16.396494,
          -6.9465356,
          -8.245073,
          -19.777866,
          16.892921,
          16.340803,
          8.44882,
          14.1048,
          16.214176,
          27.566076,
          14.857295,
          1.000092,
          -1.9563599,
          -19.071901,
          -13.243958,
          29.232557,
          16.092964,
          20.332565,
          10.717298,
          15.390434,
          27.9351,
          32.31451,
          19.45943,
          -33.84029,
          9.63066,
          -27.559546,
          -1.8032936,
          -14.769033,
          -8.902524,
          -0.49306032,
          -13.953029,
          17.896753,
          -12.693616,
          -26.091625,
          -4.8891897,
          -8.731914,
          -11.584634,
          4.4991283,
          -21.691187,
          -14.979864,
          -26.144867,
          15.779018,
          4.8077493,
          -10.707729,
          -10.515532,
          11.578702,
          -12.405286,
          24.051594,
          -10.002868,
          14.688664,
          -4.4512863,
          11.660048,
          -5.0018287,
          13.402168,
          3.3504717,
          -9.821528,
          26.324223,
          -33.15656,
          15.6475525,
          18.359056,
          14.169835,
          -16.433971,
          -1.356852,
          -16.37181,
          -17.410662,
          12.911113,
          19.766682,
          -4.916754,
          -10.628314,
          -4.655312,
          -24.322277,
          -3.173194,
          -1.761296,
          -25.25315,
          6.1011167,
          25.959583,
          -13.902034,
          6.4139514,
          -4.598598,
          -17.667952,
          -23.449003,
          -14.9411545,
          18.766687,
          23.446344,
          3.1439967,
          15.216815,
          16.883339,
          31.636513,
          -13.677471,
          30.38969,
          -9.2096405,
          -21.674309,
          31.195522,
          4.003543,
          -19.081831,
          8.127179,
          -18.403189,
          -27.578024,
          33.075817,
          14.723585,
          -18.80328,
          -25.137455,
          -19.901258,
          -6.526262,
          2.9165056,
          24.41487,
          -2.7665694,
          32.157066,
          11.678106,
          -21.622934,
          -21.065023,
          16.06131,
          20.533184,
          0.49326897,
          35.44187,
          -13.385918,
          16.451984,
          17.420088,
          12.315619,
          -20.12829,
          -13.109546,
          1.2440287,
          22.547203,
          -11.890931,
          -14.519631,
          -3.6085854,
          23.011719,
          2.9505832,
          17.444387,
          10.942655,
          15.439729,
          -17.596237,
          -3.060875,
          -2.481472,
          -23.132189,
          -34.216927,
          -11.560518,
          -15.474703,
          13.864553,
          -14.836052,
          29.6238,
          17.864391,
          -13.056909,
          -18.57886,
          -22.203176,
          -18.010622,
          2.6648564,
          15.169756,
          -18.571753,
          -18.789032,
          15.24627,
          -13.855417,
          -16.478336,
          -11.790805,
          -9.300308,
          -2.4240713,
          10.65194,
          -19.72087,
          -13.159603,
          -16.688166,
          -30.88929,
          1.8781612,
          17.78627,
          -4.5905557,
          -13.96273,
          10.191157,
          14.520303,
          24.805141,
          21.869232,
          -19.13601,
          -15.3302965,
          -21.941713,
          0.98236656,
          -13.784635,
          -13.705415,
          -7.5941534,
          16.328676,
          16.336372,
          -18.66837,
          11.446921,
          -1.9038237,
          -17.618813,
          -8.1674595,
          -3.3920176,
          0.44735745,
          -21.565239,
          -11.3443365,
          -9.176521,
          -20.281908,
          -9.58077,
          16.817923,
          -17.736542,
          -21.677042,
          -22.188555,
          1.4425853,
          17.629793,
          -0.39207146,
          -4.325068,
          -10.083532,
          17.596315,
          32.80687,
          -13.603291,
          29.743395,
          20.217346,
          -26.820135,
          -18.484549,
          -15.077539,
          -25.148348,
          -9.576995,
          -15.214375,
          -15.430876,
          -13.910315,
          -24.51061,
          5.090316,
          -16.083456,
          -2.2431195,
          -14.858937,
          -30.169468,
          -14.442986,
          -22.641039,
          -13.778333,
          -0.58118165,
          -22.877083,
          -19.210606,
          -16.502277,
          -20.78403,
          -30.63241,
          -10.166712,
          23.090855,
          -0.6119202,
          13.613566,
          -22.460873,
          -30.926416,
          17.140236,
          -17.914906,
          22.46213,
          -25.330807,
          -19.025574,
          -21.420345,
          -15.442872,
          4.057147,
          -19.707132,
          -19.18471,
          -22.666819,
          -6.549404,
          23.10863,
          -7.53905,
          -8.921075,
          15.276544,
          13.604321,
          -23.66461,
          15.310694,
          13.16278,
          -18.57088,
          -9.668208,
          -29.477476,
          -11.266432,
          -9.247956,
          -14.973454,
          -17.63925,
          -6.7078633,
          -4.7319865,
          -20.787233,
          -22.608744,
          19.268553,
          -8.568003,
          -16.290455,
          15.135068,
          -9.096562,
          30.25789,
          -22.192785,
          16.703527,
          -7.2930565,
          30.793694,
          13.819385,
          -4.800096,
          4.8428993,
          13.455977,
          15.925296,
          21.191181,
          17.308643,
          -11.675352,
          -22.081766,
          -30.564974,
          -17.73134,
          -21.234196,
          -21.597578,
          2.765165,
          -12.463101,
          -1.6420604,
          10.240319,
          22.063026,
          -12.60199,
          10.894699,
          -19.199661,
          25.446041,
          -18.70935,
          3.3312726,
          -20.724142,
          -9.080669,
          17.0444,
          -20.509848,
          -9.572824,
          -10.606053,
          24.141449,
          -5.24354,
          -4.06249,
          -18.258043,
          -15.835263,
          29.92013,
          -19.120375,
          -2.5881767,
          -11.29006,
          12.37521,
          -7.9885674,
          -34.289005,
          -8.603153,
          -26.720812,
          -14.09109,
          21.442253,
          14.835601,
          19.268553,
          -16.949585,
          17.618212,
          21.480257,
          36.42645,
          -20.427265,
          -19.993685,
          25.657871,
          -14.638311,
          17.79693,
          16.369331,
          2.824424,
          -24.370653,
          18.650223,
          -5.6351366,
          -19.55344,
          6.4883933,
          6.5175138,
          -23.55988,
          -18.78332,
          0.40349627,
          -17.099901,
          -1.6256171,
          -14.745778,
          -2.4661677,
          -16.400066,
          -35.435474,
          -18.937607,
          -19.13476,
          16.53084,
          -6.126161,
          -25.821411,
          -32.711384,
          -20.874645,
          24.559856,
          29.904928,
          -22.820301,
          1.1654115,
          1.4148754,
          23.158688,
          10.225907,
          5.0546002,
          23.84743,
          -9.798304,
          -7.588351,
          -5.033481,
          -9.814945,
          -10.744048,
          29.590136,
          -10.185724,
          -22.421215,
          -22.120497,
          6.60418,
          -16.422707,
          -19.051222,
          25.698536,
          2.1647978,
          -15.951093,
          4.463434,
          -11.114839,
          -16.386063,
          18.332308,
          13.79863,
          4.26312,
          -7.9594097,
          29.016556,
          -13.61286,
          15.406249,
          -8.647403,
          -7.6903787,
          0.006294989,
          19.327288,
          -10.736428,
          -26.433264,
          -2.1795542,
          27.933054,
          -16.46196,
          7.6745157,
          -25.43995,
          12.820869,
          1.5980136,
          -28.139912,
          15.192949,
          -9.612687,
          -22.328217,
          23.88537,
          -22.824648,
          7.1781087,
          -11.716201,
          31.066132,
          4.0198693,
          -14.79238,
          -16.591166,
          -16.842375,
          28.729748,
          30.272377,
          -11.325995,
          -21.650545,
          -17.015844,
          -9.478738,
          20.439493,
          5.2425003,
          18.632538,
          -14.483217,
          22.984848,
          31.584393,
          23.300318,
          10.476883,
          2.7336802,
          -13.638662,
          -30.30763,
          24.384142,
          -15.204075,
          17.426767,
          -18.111109,
          -21.540274,
          -26.994005,
          -20.675692,
          16.286175,
          -26.925028,
          -24.18051,
          -9.946369,
          2.2020338,
          6.609021,
          -7.0419064,
          -18.798948,
          12.420658,
          -15.177103,
          -11.126035,
          30.147968,
          -2.9659898,
          -17.18172,
          20.958267,
          35.22109,
          -13.314529,
          13.502311,
          -3.1417704,
          -28.646124,
          -12.9124155,
          -23.157887,
          -14.835329,
          -17.849735,
          -6.165366,
          16.11347,
          8.238944,
          -21.799196,
          -14.252014,
          -28.563614,
          -3.2979026,
          -28.519533,
          -24.497017,
          32.34505,
          20.63624,
          10.58295,
          -4.5220714,
          14.330774,
          -25.220295,
          -4.913944,
          -8.722128,
          -18.031021,
          -14.665147,
          -21.310291,
          -13.965109,
          -14.7541,
          -5.589751,
          -14.869072,
          -13.253636,
          -1.603589,
          13.495938,
          16.002079,
          10.849743,
          15.3322315,
          -17.344936,
          25.06398,
          -1.8121326,
          -5.1141305,
          11.428229,
          -9.475575,
          -0.46086988,
          15.864819,
          3.7106438,
          0.5891022,
          -21.661467,
          34.466408,
          -17.398626,
          16.33106,
          -6.297964,
          -3.1763518,
          -11.798739,
          -12.839742,
          -16.842812,
          -21.57454,
          15.618607,
          3.9697213,
          4.2823353,
          -10.450765,
          -0.65827596,
          -26.570194,
          10.431138,
          -12.312217,
          -17.071194,
          17.138676,
          -23.29229,
          15.389349,
          -22.250715,
          -11.4226885,
          -16.630219,
          -0.3570269,
          -0.35075238,
          -14.377987,
          -21.092821,
          22.633286,
          -23.813374,
          -11.160589,
          -12.48958,
          0.27213776,
          31.600357,
          21.072485,
          15.106629,
          -22.949728,
          2.0224814,
          7.4582705,
          4.8505073,
          13.437557,
          0.2814064,
          22.018972,
          18.566877,
          -10.525176,
          24.186049,
          22.604105,
          -12.39845,
          -13.639942,
          -14.155757,
          -26.23362,
          -23.007784,
          -10.64085,
          -26.67573,
          7.49517,
          16.496529,
          -11.866099,
          -7.8333316,
          -18.463737,
          -17.939821,
          16.294296,
          19.925165,
          34.595383,
          8.952395,
          -19.42783,
          -4.053011,
          -18.047602,
          1.2793633,
          14.554005,
          18.221691,
          -29.593674,
          -12.934875,
          32.068283,
          6.935454,
          30.234655,
          -31.142178,
          -14.473219,
          12.110634,
          0.45438945,
          13.758756,
          -15.90181,
          0.06287714,
          -17.81641,
          -19.957565,
          -10.837829,
          17.527166,
          -25.625214,
          -16.136427,
          -15.101114,
          -16.577772,
          -24.473436,
          19.048927,
          -27.244192,
          31.248137,
          4.8905764,
          15.661815,
          9.217802,
          17.332447,
          -34.529503,
          13.803906,
          1.7306535,
          25.266233,
          11.155212,
          -16.382566,
          -10.192927,
          18.632227,
          20.158108,
          -27.33706,
          -13.805415,
          35.455505,
          -10.690157,
          -21.155682,
          19.808704,
          17.890533,
          13.556192,
          -12.717094,
          22.462933,
          -32.94074,
          8.046209,
          20.52882,
          -23.857122,
          -11.479858,
          32.279804,
          -11.322779,
          -16.878311,
          0.7603638,
          -19.99249,
          27.518896,
          -5.422403,
          14.436073,
          13.699815,
          -9.93076,
          -15.758799,
          8.050947,
          -22.114567,
          2.0622914,
          -12.910932,
          0.1287254,
          -26.627237,
          -7.1418767,
          -8.204056,
          31.91079,
          -19.73518,
          -11.169529,
          -17.722544,
          17.774654,
          -5.1519814,
          9.045845,
          -28.146091,
          -16.371735,
          -4.1392984,
          28.618263,
          -13.362359,
          -19.803629,
          16.607603,
          -25.56591,
          -4.946188,
          20.565666,
          -0.986447,
          -14.999381,
          -24.37892,
          -24.974697,
          14.599321,
          -25.337713,
          17.82774,
          -0.67429674,
          -30.193632,
          34.36263,
          -12.084662,
          23.702497,
          -24.947815,
          15.166913,
          -13.950173,
          -24.992207,
          17.489344,
          -13.671923,
          -17.897068,
          -15.560875,
          5.5660334,
          -1.988213,
          -25.616474,
          -17.415737,
          -18.345058,
          -9.54229,
          -26.24291,
          25.317167,
          -7.935668,
          -10.240348,
          6.667549,
          25.153187,
          2.4847863,
          27.30687,
          -18.767097,
          29.120434,
          -4.753544,
          -11.805335,
          27.054426,
          -2.0075529,
          -3.5329404,
          -11.874309,
          -21.51254,
          35.942314,
          14.609627,
          31.202044,
          13.91382,
          -8.122008,
          16.02197,
          23.246523,
          -6.2363553,
          0.7861227,
          -26.024578,
          15.179057,
          12.888188,
          16.606098,
          -13.347318,
          10.044243,
          10.350278,
          -21.772741,
          10.357149,
          17.207144,
          31.315645,
          -7.610786,
          -18.981998,
          22.781725,
          -12.514159,
          6.2949734,
          35.759937,
          -11.268461,
          -17.919046,
          24.125578,
          -8.720337,
          -19.051996,
          17.721048,
          -11.663863,
          13.214631,
          17.166836,
          -12.159733,
          3.2530758,
          -5.404258,
          -26.390667,
          -20.026344,
          -17.422424,
          -5.7477818,
          4.462752,
          18.286875,
          -4.074325,
          1.2883012,
          -6.605374,
          -29.501263,
          1.2121209,
          -16.092567,
          -0.39450842,
          -3.5097911,
          3.6930432,
          -23.817036,
          1.5166175,
          -23.514748,
          -14.6382675,
          15.131993,
          6.18711,
          25.785637,
          25.88449,
          18.458206,
          22.869345,
          -3.0766096,
          -18.047903,
          -0.434841,
          -23.522278,
          -10.971536,
          18.619774,
          -16.44437,
          35.947063,
          17.398249,
          18.5215,
          -8.958963,
          -15.264879,
          -5.1155734,
          -21.068502,
          -2.0528162,
          5.9316063,
          -20.207321,
          12.688729,
          -25.616726,
          -12.806669,
          27.290714,
          19.438818,
          -23.58061,
          0.10939066,
          0.99639636,
          -3.2984312,
          19.589441,
          -19.050892,
          16.326826,
          26.181133,
          -2.936555,
          27.906788,
          11.533528,
          -5.2411833,
          -28.775408,
          14.824666,
          4.99895,
          -10.16235,
          -11.9805565,
          29.210274,
          -13.770982,
          13.463197,
          9.947494,
          -22.36171,
          -3.5120032,
          25.399092,
          -15.466193,
          17.907747,
          15.251719,
          -25.494965,
          -6.9198604,
          -15.229409,
          18.598112,
          -19.04671,
          0.5640259,
          -7.7566533,
          -11.978123,
          -13.678944,
          -8.70754,
          18.502575,
          -21.11977,
          -12.727927,
          -18.612474,
          32.153957,
          30.693438,
          5.2882485,
          -0.17727442,
          14.251883,
          4.339975,
          -34.43943,
          -15.641145,
          18.722734,
          4.377234,
          16.068289,
          -22.474752,
          20.662682,
          17.033714,
          -12.518062,
          -19.515081,
          4.0525007,
          12.030907,
          -27.290966,
          25.216753,
          -0.25313497,
          37.80048,
          -25.759441,
          -26.520567,
          15.103252,
          18.361162,
          4.7942977,
          28.627596,
          11.292577,
          26.689411,
          27.930578,
          -7.8725023,
          22.616795,
          15.365337,
          -7.0248976,
          -27.489868,
          -17.24299,
          -14.06208,
          -4.224929,
          29.056534,
          -8.705313,
          -22.595818,
          -18.199995,
          24.13168,
          17.041477,
          23.645628,
          14.593893,
          22.217075,
          -0.30373386,
          20.70669,
          -19.683084,
          -13.17045,
          -1.5097299,
          -0.99121594,
          -20.182642,
          -33.10843,
          -1.208449,
          -10.44544,
          17.320179,
          15.695032,
          -10.464235,
          32.429634,
          -2.2991605,
          19.289907,
          -7.6610193,
          -30.6903,
          19.478733,
          -12.944001,
          23.342985,
          35.049015,
          4.4171166,
          20.029295,
          -1.7102765,
          -18.27753,
          34.729507,
          3.437587,
          -25.219215,
          -9.481234,
          15.504457,
          -0.6611356,
          34.651485,
          -2.7953014,
          -20.953362,
          -6.7483196,
          -3.497038,
          23.743189,
          23.684397,
          31.510561,
          3.111291,
          28.35297,
          -1.7287339,
          -28.825771,
          -6.3952975,
          -28.171774,
          18.665964,
          -11.652941,
          26.134327,
          21.145111,
          -19.188787,
          12.15891,
          -8.851554,
          30.901081,
          -21.528244,
          33.703037,
          -0.9884478,
          -17.208347,
          -8.330193,
          22.731136,
          30.534225,
          29.201923,
          15.318418,
          -13.041092,
          7.888079,
          -3.3475597,
          17.510864,
          23.568987,
          24.032185,
          -2.2183623,
          17.664452,
          -25.582489,
          -16.399565,
          19.396778,
          -12.428758,
          -1.2828376,
          -17.214544,
          -26.906744,
          -21.12162,
          -19.841442,
          -6.420561,
          -6.9849176,
          29.332314,
          -16.310812,
          -13.180677,
          21.059443,
          -3.6324441,
          2.7437274,
          21.289537,
          -16.77917,
          23.252422,
          0.23867346,
          26.506632,
          -20.503267,
          -7.636319,
          22.850254,
          20.354702,
          -30.127794,
          19.274164,
          -12.708449,
          -5.74287,
          31.637497,
          -2.0966249,
          11.383593,
          -31.931587,
          -6.85163,
          14.60573,
          -28.06207,
          -8.361375,
          -28.87731,
          7.0550284,
          -2.2045114,
          9.336758,
          -6.1454973,
          33.00354,
          28.918692,
          22.538137,
          -20.147638,
          20.839764,
          -13.720892,
          8.508698,
          -5.7167573,
          11.78161,
          -9.446166,
          -15.539594,
          -10.475774,
          -20.87531,
          19.463552,
          27.39851,
          -12.525453,
          36.288963,
          -3.2091527,
          -31.957407,
          -6.979286,
          -14.567133,
          -7.4522533,
          4.185712,
          -28.603954,
          35.541325,
          6.766583,
          -6.570979,
          29.803902,
          23.825653,
          14.898404,
          31.900623,
          1.4837978,
          -1.9168754,
          16.192497,
          -31.90745,
          -9.186063,
          -4.240919,
          10.764468,
          -0.5254969,
          -23.474754,
          27.685936,
          26.130705,
          -10.8555355,
          16.305883,
          -7.1532373,
          22.632364,
          13.529395,
          11.492927,
          -8.3717,
          23.987541,
          19.024494,
          5.074795,
          -31.862408,
          -18.891178,
          -9.894808,
          29.994572,
          11.539478,
          -9.286748,
          -18.132883,
          31.613882,
          29.91053,
          20.233263,
          15.851193,
          -5.7914777,
          -5.4970202,
          14.199009,
          28.309008,
          -2.9875734,
          -24.166683,
          29.333704,
          15.72598,
          -14.491724,
          -24.33459,
          31.823614,
          31.197254,
          23.728537,
          -8.707752,
          -1.0472237,
          34.675587,
          13.75847,
          -1.4071426,
          36.248734,
          29.453934,
          28.919655,
          -23.137072,
          -2.0604706,
          35.20019,
          14.811093,
          -28.87749,
          -31.723413,
          -7.274425,
          4.076663,
          31.86319,
          -8.120986,
          19.847027,
          17.218618,
          32.404503,
          36.59318,
          31.325724,
          -2.4112446,
          -7.239307,
          34.10465,
          2.185842,
          11.477549,
          22.690397,
          -15.181657,
          16.396002,
          25.965418,
          0.41817293,
          23.475096,
          -23.346165,
          36.637463,
          -5.0739694,
          -19.797995,
          22.324535,
          16.22774,
          -16.147043,
          -7.892238,
          24.892023,
          30.551332,
          -8.911893,
          -15.240413,
          22.720476,
          -33.5527,
          28.475218,
          3.2430496,
          29.12905,
          32.642574,
          -1.7939209,
          18.234821,
          4.6256065,
          32.924507,
          -6.803485,
          27.476648,
          -29.126968,
          -7.840744,
          27.127558,
          -13.8584795,
          -28.147234,
          3.5249605,
          20.688066,
          29.946821,
          29.887503,
          32.364967,
          -20.79056,
          28.359507,
          13.623761,
          -0.24437058,
          -7.814558,
          -11.774059,
          -16.359442,
          3.3023078,
          -32.80898,
          24.019537,
          -13.481019,
          -35.453693,
          29.53106,
          -8.066714,
          -13.84109,
          32.443653,
          31.594658,
          24.028616,
          -25.101368,
          17.341972,
          -13.684843,
          22.92527,
          30.843285,
          -19.160414,
          35.211266,
          28.545841,
          -1.3662134,
          31.222784,
          25.255333,
          35.22719,
          34.955902,
          -16.930159,
          19.646446,
          20.829437,
          -33.43092,
          10.715682,
          -19.02145,
          26.81555,
          -5.5002604,
          22.998964,
          -5.7534776,
          -20.225122,
          -14.989395,
          35.20901,
          35.338078,
          24.814745,
          -12.205203,
          25.630623,
          13.47987,
          2.1193945,
          29.288742,
          -0.80756295,
          32.297462,
          23.603474,
          34.42893,
          -4.776288,
          28.518963,
          1.9236343,
          27.60951,
          34.3796,
          -13.756631,
          25.216661,
          30.642418,
          -4.5669518,
          -9.544428,
          -29.617886,
          15.923009,
          11.374502,
          26.943005,
          20.848053,
          15.348625,
          17.029255,
          -0.1723513,
          21.7968,
          -19.212349,
          -7.2778378,
          -7.157309,
          23.163256,
          13.366628,
          28.981855,
          0.5571204,
          33.817196,
          5.016806,
          19.084986,
          -2.7627132,
          37.73292,
          -32.88179,
          -7.295112,
          -9.744854,
          3.8176293,
          -0.88628626,
          20.491074,
          25.439432,
          30.754244,
          -34.509937,
          -14.021032,
          31.409243,
          -9.923598,
          24.885227,
          24.934494,
          3.9196033,
          -28.078707,
          -8.302583,
          22.362822,
          2.5271363,
          -1.9789689,
          -23.410776,
          -16.293615,
          -21.535902,
          -3.8557425,
          -0.7468156,
          -11.716702,
          -12.107372,
          -2.1926208,
          -7.954622,
          20.75932,
          15.577015,
          -24.318281,
          -23.653513,
          -7.766254,
          27.161585,
          -5.7050476,
          -10.488923,
          1.0358121,
          13.418573,
          37.290623,
          29.833654,
          24.2485,
          -29.68889,
          -1.9119686,
          25.748701,
          31.55049,
          -13.45073,
          27.095001,
          -9.449005,
          24.00427,
          -9.785136,
          -1.7635465,
          11.525895,
          -6.6673493,
          31.31436,
          -28.234724,
          -7.846074,
          -15.461678,
          21.306952,
          -2.514004,
          34.09268,
          -14.730848,
          -11.645988,
          -29.186638,
          15.613384,
          9.655849,
          0.2922405,
          -9.873847,
          29.118256,
          -11.040166,
          -21.789707,
          11.998518,
          19.859282,
          32.018684,
          -22.71225,
          2.9538028,
          34.048756,
          -16.25356,
          16.372505,
          26.544125,
          12.244894,
          33.025326,
          9.829107,
          -10.162504,
          31.844757,
          13.253203,
          -5.39455,
          -24.154219,
          20.858398,
          -20.554272,
          16.770344,
          16.91879,
          20.162064,
          -23.178503,
          30.739544,
          7.291875,
          -29.586506,
          -30.32521,
          31.186071,
          -19.421757,
          16.697338,
          31.67792,
          27.574152,
          -13.504874,
          9.277092,
          -27.080013,
          -19.112133,
          28.453213,
          -2.350775,
          -26.931532,
          -5.4622545,
          -2.5797248,
          -30.827343,
          22.204268,
          18.637548,
          -7.559678,
          -10.211078,
          -25.096727,
          32.8795,
          6.102287,
          14.612364,
          7.2760878,
          22.606848,
          -18.643814,
          -23.810322,
          24.281527,
          28.998783,
          -8.299297,
          34.25931,
          -29.16322,
          -3.4176264,
          33.82427,
          -25.080322,
          -31.613777,
          -22.466774,
          6.750741,
          26.863873,
          -26.03009,
          -8.622841,
          17.683662,
          17.209974,
          -11.093895,
          31.344442,
          0.5562152,
          -1.5458945,
          2.0841007,
          30.438622,
          -2.3069062,
          -8.7749195,
          9.116499,
          10.218624,
          6.8684134,
          -29.70728,
          -8.768581,
          16.206692,
          -6.2220182,
          12.665717,
          33.89084,
          -30.974226,
          -24.641987,
          22.05476,
          -16.48508,
          10.786187,
          -10.800526,
          -3.8825152,
          31.421059,
          -18.888924,
          -21.224422,
          -14.291687,
          -27.67019,
          -20.45927,
          -20.55156,
          29.65215,
          -6.4632044,
          33.891945,
          -9.358513,
          -3.268652,
          20.83272,
          -8.952122,
          13.9951725,
          -26.381645,
          25.129456,
          7.6123767,
          -13.813265,
          12.465211,
          -10.9901705,
          19.830711,
          26.844193,
          -13.189931,
          35.061085,
          -7.030438,
          -23.165735,
          -27.663813,
          2.406988,
          7.474998,
          29.793028,
          -22.357729,
          21.21649,
          2.7143037,
          27.29374,
          6.115012,
          17.71881,
          29.832573,
          33.848927,
          -25.212696,
          -5.76212,
          11.136509,
          -0.49143803,
          20.758387,
          14.975936,
          2.9133334,
          14.264416,
          21.686691,
          24.872473,
          21.407175,
          -32.463165,
          -28.09927,
          -0.38655564,
          14.57484,
          18.049349,
          -18.780775,
          -9.724875,
          -1.5934068,
          -24.485094,
          -17.484926,
          37.10852,
          22.786726,
          -11.49479,
          7.7108984,
          -8.135116,
          -16.977037,
          -22.264074,
          -19.06351,
          18.144384,
          -26.133095,
          20.454103,
          -3.1557286,
          -0.11563503,
          0.09047826,
          14.440448,
          13.363581,
          29.709795,
          32.839024,
          25.763649,
          -5.426799,
          -0.102356955,
          -14.902645,
          24.772532,
          15.187747,
          -4.6961827,
          -21.468386,
          12.631925,
          21.309303,
          30.210896,
          -25.438772,
          -17.654875,
          -20.616482,
          -11.554356,
          -29.237368,
          -7.4529476,
          13.224639,
          14.4824295,
          -19.976795,
          -8.997387,
          13.232463,
          37.7285,
          32.19997,
          -7.222254,
          -19.17734,
          -7.907197,
          -2.981329,
          -8.580858,
          31.123295,
          -23.842222,
          -14.190385,
          -22.14126,
          12.78439,
          -5.8837667,
          17.085308,
          -30.851349,
          21.022223,
          -27.208797,
          25.766556,
          35.04575,
          21.262207,
          4.16062,
          31.76356,
          13.787489,
          -24.084131,
          23.216808,
          -21.698769,
          -8.617731,
          28.010372,
          -17.888123,
          35.148518,
          22.80394,
          4.946906,
          -28.632277,
          24.68201,
          -9.000801,
          31.466265,
          28.217018,
          -14.428328,
          -31.710247,
          -18.626036,
          -25.273048,
          34.040592,
          21.160805,
          -9.217965,
          32.850025,
          27.205244,
          29.122427,
          -18.362919,
          3.970119,
          28.613556,
          -22.652273,
          -7.4003425,
          -31.253195,
          13.012147,
          -12.400346,
          -31.384851,
          24.00844,
          -0.85961944,
          14.803656,
          -8.596261,
          -12.695191,
          -19.91275,
          26.075523,
          -8.176355,
          -15.376275,
          26.846743,
          -22.37483,
          4.8352165,
          30.518198,
          -28.950968,
          -13.3111105,
          30.474224,
          -10.003315,
          19.336266,
          14.985405,
          -26.310755,
          -4.9668417,
          -22.398912,
          6.403371,
          15.012014,
          -32.12865,
          31.815767,
          19.173853,
          -13.600054,
          21.285334,
          19.507616,
          -4.50727,
          35.15006,
          16.265478,
          35.041985,
          32.2214,
          -10.0005865,
          18.759867,
          28.335115,
          7.883277,
          32.271645,
          -4.050885,
          30.213251,
          -25.279377,
          32.843906,
          -0.36655924,
          4.8402696,
          12.706938,
          -6.052414,
          -19.576548,
          -10.631102,
          13.761072,
          18.257545,
          21.32269,
          -19.26545,
          36.564213,
          18.315916,
          22.251436,
          32.302074,
          -21.516193,
          -3.1718032,
          -5.3813305,
          -8.897717,
          31.24284,
          -11.353389,
          16.354008,
          -20.930487,
          -21.417921,
          30.757847,
          33.087852,
          -8.644304,
          -11.128019,
          -1.5618593,
          9.017511,
          17.999418,
          9.452837,
          16.505285,
          20.389215,
          21.580757,
          -5.121377,
          14.940648,
          0.24202903,
          -6.8963413,
          22.902342,
          17.294283,
          -5.3698454,
          -9.723695,
          30.104471,
          24.272093,
          -7.8940034,
          -26.040064,
          -13.27432,
          32.359394,
          10.120268,
          -25.103004,
          25.974714,
          -27.72267,
          -21.314413,
          19.4893,
          24.881657,
          -5.5434847,
          -23.032719,
          31.688602,
          1.6293296,
          18.24762,
          -14.685453,
          -9.522158,
          19.225603,
          30.150953,
          -32.2219,
          19.18071,
          -5.27564,
          -3.2079096,
          2.688596,
          -14.886862,
          4.019544,
          -8.11536,
          -21.663706,
          33.307228,
          27.66252,
          -29.11283,
          6.549378,
          -14.121907,
          9.09126,
          -24.41312,
          -31.047915,
          15.881413,
          -22.107735,
          -5.898086,
          18.542955,
          28.248795,
          17.331564,
          -15.240672,
          -6.457044,
          -22.279144,
          31.243263,
          15.89273,
          -10.960626,
          -7.1684356,
          -0.5526719,
          20.266348,
          27.199827,
          -24.650576,
          20.78952,
          -4.26961,
          -17.5866,
          -26.22894,
          25.510313,
          -2.514088,
          26.302301,
          18.26764,
          15.638375,
          -10.4056425,
          33.668316,
          27.476568,
          17.483196,
          24.568127,
          2.2579288,
          -10.537055,
          -8.703621,
          -4.4908834,
          -9.454656,
          18.857641,
          -16.644077,
          28.889383,
          -10.118608,
          24.055378,
          34.724968,
          -24.312836,
          32.35998,
          -34.240578,
          26.265934,
          18.501816,
          -3.022572,
          36.040916,
          14.275764,
          20.643988,
          7.113905,
          -27.0042,
          -11.07568,
          24.219765,
          3.8074133,
          32.21431,
          -22.624298,
          25.969536,
          -2.7879684,
          16.312536,
          30.105776,
          -7.534043,
          5.4999638,
          16.823385,
          31.033705,
          -15.790303,
          14.982104,
          34.770683,
          30.817307,
          34.8768,
          -12.860585,
          -11.000584,
          -23.256594,
          11.166667,
          15.343687,
          29.817978,
          -23.212463,
          -23.033264,
          -14.6529665,
          16.967844,
          15.535309,
          29.487623,
          12.212007,
          27.022146,
          -7.5833635,
          6.030647,
          12.710098,
          -12.022821,
          35.910522,
          -13.282452,
          -13.000446,
          30.806957,
          22.703386,
          -5.3016915,
          28.608242,
          24.68711,
          -11.676501,
          27.885658,
          -1.5292158,
          17.350185,
          -12.502184,
          15.286707,
          -28.730629,
          -10.965554,
          25.818018,
          -26.365955,
          21.452942,
          -24.296007,
          17.836998,
          25.389095,
          32.540607,
          17.76893,
          30.043974,
          -27.22774,
          29.078695,
          30.9179,
          3.8954034,
          -22.911076,
          -11.419714,
          21.906294,
          -14.736865,
          -0.4158579,
          -15.698007,
          29.336466,
          -32.09802,
          -18.204855,
          -4.014115,
          -10.985103,
          33.809666,
          19.146072,
          28.984165,
          13.764918,
          -33.694405,
          1.9872988,
          -31.029205
         ],
         "yaxis": "y"
        },
        {
         "customdata": [
          [
           "combinatorial pyramids and discrete geometry for energy-minimizing\n  segmentation"
          ],
          [
           "automatic spatially-adaptive balancing of energy terms for image\n  segmentation"
          ],
          [
           "a parametric level set approach to simultaneous object identification\n  and background reconstruction for dual energy computed tomography"
          ],
          [
           "generalized fast approximate energy minimization via graph cuts:\n  alpha-expansion beta-shrink moves"
          ],
          [
           "zero-temperature limit of a convergent algorithm to minimize the bethe\n  free energy"
          ],
          [
           "universal forces and the dark energy problem"
          ],
          [
           "energy density for chiral lattice fermions with chemical potential"
          ],
          [
           "aspects of electron-phonon self-energy revealed from angle-resolved\n  photoemission spectroscopy"
          ],
          [
           "reciprocal symmetry and classical discrete oscillator incorporating\n  half-integral energy levels"
          ],
          [
           "low energy aspects of heavy meson decays"
          ],
          [
           "discovery of a point-like very-high-energy gamma-ray source in monoceros"
          ],
          [
           "solar system constraints on gauss-bonnet mediated dark energy"
          ],
          [
           "dark energy and neutrino model in susy -- remarks on active and sterile\n  neutrinos mixing --"
          ],
          [
           "modeling the spectral energy distribution and variability of 3c 66a\n  during the webt campaign of 2003 -- 2004"
          ],
          [
           "search for very high energy emission from gamma-ray bursts using milagro"
          ],
          [
           "power spectra to 1% accuracy between dynamical dark energy cosmologies"
          ],
          [
           "the effect of a fifth large-scale space-time dimension on the\n  conservation of energy in a four dimensional universe"
          ],
          [
           "influence of phonon dimensionality on electron energy relaxation"
          ],
          [
           "dark energy interacting with neutrinos and dark matter: a\n  phenomenological theory"
          ],
          [
           "locating the peaks of least-energy solutions to a quasilinear elliptic\n  neumann problem"
          ],
          [
           "stopping effects in u+u collisions with a beam energy of 520 mev/nucleon"
          ],
          [
           "density dependence of the symmetry energy and the nuclear equation of\n  state: a dynamical and statistical model perspective"
          ],
          [
           "teleparallel version of the stationary axisymmetric solutions and their\n  energy contents"
          ],
          [
           "on the energy-momentum problem in static einstein universe"
          ],
          [
           "effective conservation of energy and momentum algorithm using switching\n  potentials suitable for molecular dynamics simulation of thermodynamical\n  systems"
          ],
          [
           "solving the high energy evolution equation including running coupling\n  corrections"
          ],
          [
           "probing dark energy with steerable wavelets through correlation of wmap\n  and nvss local morphological measures"
          ],
          [
           "global well-posedness and scattering for the energy-critical, defocusing\n  hartree equation for radial data"
          ],
          [
           "an inverse $f(r)$ gravitation for cosmic speed up, and dark energy\n  equivalent"
          ],
          [
           "flavor composition and energy spectrum of astrophysical neutrinos"
          ],
          [
           "the tensor part of the skyrme energy density functional. i. spherical\n  nuclei"
          ],
          [
           "energy conservation and onsager's conjecture for the euler equations"
          ],
          [
           "failure of the work-hamiltonian connection for free energy calculations"
          ],
          [
           "high energy variability of synchrotron-self compton emitting sources:\n  why one zone models do not work and how we can fix it"
          ],
          [
           "electronic structure of kinetic energy driven superconductors in the\n  presence of bilayer splitting"
          ],
          [
           "transfinite diameter, chebyshev constant and energy on locally compact\n  spaces"
          ],
          [
           "constraining the dark energy equation of state with cosmic voids"
          ],
          [
           "a dark energy model combining dgp gravity and chaplygin gas"
          ],
          [
           "metropolis algorithm and equienergy sampling for two mean field spin\n  systems"
          ],
          [
           "domain wall switching: optimizing the energy landscape"
          ],
          [
           "on reference frames in spacetime and gravitational energy in freely\n  falling frames"
          ],
          [
           "a kind of prediction from string phenomenology: extra matter at low\n  energy"
          ]
         ],
         "hovertemplate": "highlight=True<br>x=%{x}<br>y=%{y}<br>title=%{customdata[0]}<extra></extra>",
         "legendgroup": "True",
         "marker": {
          "color": "#EF553B",
          "symbol": "circle"
         },
         "mode": "markers",
         "name": "True",
         "showlegend": true,
         "type": "scattergl",
         "x": [
          8.800622,
          -4.6545773,
          3.0587378,
          -4.4489884,
          38.6829,
          52.461437,
          -20.87897,
          18.217894,
          -21.078135,
          -14.0274725,
          5.4865446,
          -14.200327,
          12.510335,
          33.00546,
          1.7673998,
          -20.133917,
          32.722744,
          -25.209946,
          -0.5445326,
          31.678944,
          19.715801,
          35.11625,
          35.047684,
          37.308144,
          19.609818,
          43.825867,
          13.901086,
          30.8202,
          14.0893,
          -14.971698,
          43.080433,
          42.791935,
          37.878273,
          23.993895,
          27.721502,
          11.190066,
          47.378468,
          -21.70046,
          13.9884205,
          48.458084,
          -13.257146,
          11.019281
         ],
         "xaxis": "x",
         "y": [
          -10.623345,
          -22.489412,
          -28.336962,
          -29.84238,
          31.312033,
          13.671308,
          -13.471903,
          -28.15085,
          -22.33465,
          12.211632,
          -29.816463,
          -9.410939,
          -28.667137,
          28.135027,
          1.463936,
          -15.859987,
          36.71388,
          -9.683425,
          -31.174425,
          33.744102,
          -7.758377,
          32.03856,
          30.77756,
          15.531593,
          -16.570658,
          16.580467,
          -32.925682,
          33.421566,
          -26.294203,
          -1.2270056,
          26.05867,
          15.846979,
          19.34805,
          -22.324348,
          30.086346,
          -7.8615274,
          14.206477,
          -7.192222,
          -6.4011564,
          11.854048,
          -18.159548,
          -13.06952
         ],
         "yaxis": "y"
        }
       ],
       "layout": {
        "legend": {
         "title": {
          "text": "highlight"
         },
         "tracegroupgap": 0
        },
        "template": {
         "data": {
          "bar": [
           {
            "error_x": {
             "color": "#2a3f5f"
            },
            "error_y": {
             "color": "#2a3f5f"
            },
            "marker": {
             "line": {
              "color": "#E5ECF6",
              "width": 0.5
             },
             "pattern": {
              "fillmode": "overlay",
              "size": 10,
              "solidity": 0.2
             }
            },
            "type": "bar"
           }
          ],
          "barpolar": [
           {
            "marker": {
             "line": {
              "color": "#E5ECF6",
              "width": 0.5
             },
             "pattern": {
              "fillmode": "overlay",
              "size": 10,
              "solidity": 0.2
             }
            },
            "type": "barpolar"
           }
          ],
          "carpet": [
           {
            "aaxis": {
             "endlinecolor": "#2a3f5f",
             "gridcolor": "white",
             "linecolor": "white",
             "minorgridcolor": "white",
             "startlinecolor": "#2a3f5f"
            },
            "baxis": {
             "endlinecolor": "#2a3f5f",
             "gridcolor": "white",
             "linecolor": "white",
             "minorgridcolor": "white",
             "startlinecolor": "#2a3f5f"
            },
            "type": "carpet"
           }
          ],
          "choropleth": [
           {
            "colorbar": {
             "outlinewidth": 0,
             "ticks": ""
            },
            "type": "choropleth"
           }
          ],
          "contour": [
           {
            "colorbar": {
             "outlinewidth": 0,
             "ticks": ""
            },
            "colorscale": [
             [
              0,
              "#0d0887"
             ],
             [
              0.1111111111111111,
              "#46039f"
             ],
             [
              0.2222222222222222,
              "#7201a8"
             ],
             [
              0.3333333333333333,
              "#9c179e"
             ],
             [
              0.4444444444444444,
              "#bd3786"
             ],
             [
              0.5555555555555556,
              "#d8576b"
             ],
             [
              0.6666666666666666,
              "#ed7953"
             ],
             [
              0.7777777777777778,
              "#fb9f3a"
             ],
             [
              0.8888888888888888,
              "#fdca26"
             ],
             [
              1,
              "#f0f921"
             ]
            ],
            "type": "contour"
           }
          ],
          "contourcarpet": [
           {
            "colorbar": {
             "outlinewidth": 0,
             "ticks": ""
            },
            "type": "contourcarpet"
           }
          ],
          "heatmap": [
           {
            "colorbar": {
             "outlinewidth": 0,
             "ticks": ""
            },
            "colorscale": [
             [
              0,
              "#0d0887"
             ],
             [
              0.1111111111111111,
              "#46039f"
             ],
             [
              0.2222222222222222,
              "#7201a8"
             ],
             [
              0.3333333333333333,
              "#9c179e"
             ],
             [
              0.4444444444444444,
              "#bd3786"
             ],
             [
              0.5555555555555556,
              "#d8576b"
             ],
             [
              0.6666666666666666,
              "#ed7953"
             ],
             [
              0.7777777777777778,
              "#fb9f3a"
             ],
             [
              0.8888888888888888,
              "#fdca26"
             ],
             [
              1,
              "#f0f921"
             ]
            ],
            "type": "heatmap"
           }
          ],
          "heatmapgl": [
           {
            "colorbar": {
             "outlinewidth": 0,
             "ticks": ""
            },
            "colorscale": [
             [
              0,
              "#0d0887"
             ],
             [
              0.1111111111111111,
              "#46039f"
             ],
             [
              0.2222222222222222,
              "#7201a8"
             ],
             [
              0.3333333333333333,
              "#9c179e"
             ],
             [
              0.4444444444444444,
              "#bd3786"
             ],
             [
              0.5555555555555556,
              "#d8576b"
             ],
             [
              0.6666666666666666,
              "#ed7953"
             ],
             [
              0.7777777777777778,
              "#fb9f3a"
             ],
             [
              0.8888888888888888,
              "#fdca26"
             ],
             [
              1,
              "#f0f921"
             ]
            ],
            "type": "heatmapgl"
           }
          ],
          "histogram": [
           {
            "marker": {
             "pattern": {
              "fillmode": "overlay",
              "size": 10,
              "solidity": 0.2
             }
            },
            "type": "histogram"
           }
          ],
          "histogram2d": [
           {
            "colorbar": {
             "outlinewidth": 0,
             "ticks": ""
            },
            "colorscale": [
             [
              0,
              "#0d0887"
             ],
             [
              0.1111111111111111,
              "#46039f"
             ],
             [
              0.2222222222222222,
              "#7201a8"
             ],
             [
              0.3333333333333333,
              "#9c179e"
             ],
             [
              0.4444444444444444,
              "#bd3786"
             ],
             [
              0.5555555555555556,
              "#d8576b"
             ],
             [
              0.6666666666666666,
              "#ed7953"
             ],
             [
              0.7777777777777778,
              "#fb9f3a"
             ],
             [
              0.8888888888888888,
              "#fdca26"
             ],
             [
              1,
              "#f0f921"
             ]
            ],
            "type": "histogram2d"
           }
          ],
          "histogram2dcontour": [
           {
            "colorbar": {
             "outlinewidth": 0,
             "ticks": ""
            },
            "colorscale": [
             [
              0,
              "#0d0887"
             ],
             [
              0.1111111111111111,
              "#46039f"
             ],
             [
              0.2222222222222222,
              "#7201a8"
             ],
             [
              0.3333333333333333,
              "#9c179e"
             ],
             [
              0.4444444444444444,
              "#bd3786"
             ],
             [
              0.5555555555555556,
              "#d8576b"
             ],
             [
              0.6666666666666666,
              "#ed7953"
             ],
             [
              0.7777777777777778,
              "#fb9f3a"
             ],
             [
              0.8888888888888888,
              "#fdca26"
             ],
             [
              1,
              "#f0f921"
             ]
            ],
            "type": "histogram2dcontour"
           }
          ],
          "mesh3d": [
           {
            "colorbar": {
             "outlinewidth": 0,
             "ticks": ""
            },
            "type": "mesh3d"
           }
          ],
          "parcoords": [
           {
            "line": {
             "colorbar": {
              "outlinewidth": 0,
              "ticks": ""
             }
            },
            "type": "parcoords"
           }
          ],
          "pie": [
           {
            "automargin": true,
            "type": "pie"
           }
          ],
          "scatter": [
           {
            "fillpattern": {
             "fillmode": "overlay",
             "size": 10,
             "solidity": 0.2
            },
            "type": "scatter"
           }
          ],
          "scatter3d": [
           {
            "line": {
             "colorbar": {
              "outlinewidth": 0,
              "ticks": ""
             }
            },
            "marker": {
             "colorbar": {
              "outlinewidth": 0,
              "ticks": ""
             }
            },
            "type": "scatter3d"
           }
          ],
          "scattercarpet": [
           {
            "marker": {
             "colorbar": {
              "outlinewidth": 0,
              "ticks": ""
             }
            },
            "type": "scattercarpet"
           }
          ],
          "scattergeo": [
           {
            "marker": {
             "colorbar": {
              "outlinewidth": 0,
              "ticks": ""
             }
            },
            "type": "scattergeo"
           }
          ],
          "scattergl": [
           {
            "marker": {
             "colorbar": {
              "outlinewidth": 0,
              "ticks": ""
             }
            },
            "type": "scattergl"
           }
          ],
          "scattermapbox": [
           {
            "marker": {
             "colorbar": {
              "outlinewidth": 0,
              "ticks": ""
             }
            },
            "type": "scattermapbox"
           }
          ],
          "scatterpolar": [
           {
            "marker": {
             "colorbar": {
              "outlinewidth": 0,
              "ticks": ""
             }
            },
            "type": "scatterpolar"
           }
          ],
          "scatterpolargl": [
           {
            "marker": {
             "colorbar": {
              "outlinewidth": 0,
              "ticks": ""
             }
            },
            "type": "scatterpolargl"
           }
          ],
          "scatterternary": [
           {
            "marker": {
             "colorbar": {
              "outlinewidth": 0,
              "ticks": ""
             }
            },
            "type": "scatterternary"
           }
          ],
          "surface": [
           {
            "colorbar": {
             "outlinewidth": 0,
             "ticks": ""
            },
            "colorscale": [
             [
              0,
              "#0d0887"
             ],
             [
              0.1111111111111111,
              "#46039f"
             ],
             [
              0.2222222222222222,
              "#7201a8"
             ],
             [
              0.3333333333333333,
              "#9c179e"
             ],
             [
              0.4444444444444444,
              "#bd3786"
             ],
             [
              0.5555555555555556,
              "#d8576b"
             ],
             [
              0.6666666666666666,
              "#ed7953"
             ],
             [
              0.7777777777777778,
              "#fb9f3a"
             ],
             [
              0.8888888888888888,
              "#fdca26"
             ],
             [
              1,
              "#f0f921"
             ]
            ],
            "type": "surface"
           }
          ],
          "table": [
           {
            "cells": {
             "fill": {
              "color": "#EBF0F8"
             },
             "line": {
              "color": "white"
             }
            },
            "header": {
             "fill": {
              "color": "#C8D4E3"
             },
             "line": {
              "color": "white"
             }
            },
            "type": "table"
           }
          ]
         },
         "layout": {
          "annotationdefaults": {
           "arrowcolor": "#2a3f5f",
           "arrowhead": 0,
           "arrowwidth": 1
          },
          "autotypenumbers": "strict",
          "coloraxis": {
           "colorbar": {
            "outlinewidth": 0,
            "ticks": ""
           }
          },
          "colorscale": {
           "diverging": [
            [
             0,
             "#8e0152"
            ],
            [
             0.1,
             "#c51b7d"
            ],
            [
             0.2,
             "#de77ae"
            ],
            [
             0.3,
             "#f1b6da"
            ],
            [
             0.4,
             "#fde0ef"
            ],
            [
             0.5,
             "#f7f7f7"
            ],
            [
             0.6,
             "#e6f5d0"
            ],
            [
             0.7,
             "#b8e186"
            ],
            [
             0.8,
             "#7fbc41"
            ],
            [
             0.9,
             "#4d9221"
            ],
            [
             1,
             "#276419"
            ]
           ],
           "sequential": [
            [
             0,
             "#0d0887"
            ],
            [
             0.1111111111111111,
             "#46039f"
            ],
            [
             0.2222222222222222,
             "#7201a8"
            ],
            [
             0.3333333333333333,
             "#9c179e"
            ],
            [
             0.4444444444444444,
             "#bd3786"
            ],
            [
             0.5555555555555556,
             "#d8576b"
            ],
            [
             0.6666666666666666,
             "#ed7953"
            ],
            [
             0.7777777777777778,
             "#fb9f3a"
            ],
            [
             0.8888888888888888,
             "#fdca26"
            ],
            [
             1,
             "#f0f921"
            ]
           ],
           "sequentialminus": [
            [
             0,
             "#0d0887"
            ],
            [
             0.1111111111111111,
             "#46039f"
            ],
            [
             0.2222222222222222,
             "#7201a8"
            ],
            [
             0.3333333333333333,
             "#9c179e"
            ],
            [
             0.4444444444444444,
             "#bd3786"
            ],
            [
             0.5555555555555556,
             "#d8576b"
            ],
            [
             0.6666666666666666,
             "#ed7953"
            ],
            [
             0.7777777777777778,
             "#fb9f3a"
            ],
            [
             0.8888888888888888,
             "#fdca26"
            ],
            [
             1,
             "#f0f921"
            ]
           ]
          },
          "colorway": [
           "#636efa",
           "#EF553B",
           "#00cc96",
           "#ab63fa",
           "#FFA15A",
           "#19d3f3",
           "#FF6692",
           "#B6E880",
           "#FF97FF",
           "#FECB52"
          ],
          "font": {
           "color": "#2a3f5f"
          },
          "geo": {
           "bgcolor": "white",
           "lakecolor": "white",
           "landcolor": "#E5ECF6",
           "showlakes": true,
           "showland": true,
           "subunitcolor": "white"
          },
          "hoverlabel": {
           "align": "left"
          },
          "hovermode": "closest",
          "mapbox": {
           "style": "light"
          },
          "paper_bgcolor": "white",
          "plot_bgcolor": "#E5ECF6",
          "polar": {
           "angularaxis": {
            "gridcolor": "white",
            "linecolor": "white",
            "ticks": ""
           },
           "bgcolor": "#E5ECF6",
           "radialaxis": {
            "gridcolor": "white",
            "linecolor": "white",
            "ticks": ""
           }
          },
          "scene": {
           "xaxis": {
            "backgroundcolor": "#E5ECF6",
            "gridcolor": "white",
            "gridwidth": 2,
            "linecolor": "white",
            "showbackground": true,
            "ticks": "",
            "zerolinecolor": "white"
           },
           "yaxis": {
            "backgroundcolor": "#E5ECF6",
            "gridcolor": "white",
            "gridwidth": 2,
            "linecolor": "white",
            "showbackground": true,
            "ticks": "",
            "zerolinecolor": "white"
           },
           "zaxis": {
            "backgroundcolor": "#E5ECF6",
            "gridcolor": "white",
            "gridwidth": 2,
            "linecolor": "white",
            "showbackground": true,
            "ticks": "",
            "zerolinecolor": "white"
           }
          },
          "shapedefaults": {
           "line": {
            "color": "#2a3f5f"
           }
          },
          "ternary": {
           "aaxis": {
            "gridcolor": "white",
            "linecolor": "white",
            "ticks": ""
           },
           "baxis": {
            "gridcolor": "white",
            "linecolor": "white",
            "ticks": ""
           },
           "bgcolor": "#E5ECF6",
           "caxis": {
            "gridcolor": "white",
            "linecolor": "white",
            "ticks": ""
           }
          },
          "title": {
           "x": 0.05
          },
          "xaxis": {
           "automargin": true,
           "gridcolor": "white",
           "linecolor": "white",
           "ticks": "",
           "title": {
            "standoff": 15
           },
           "zerolinecolor": "white",
           "zerolinewidth": 2
          },
          "yaxis": {
           "automargin": true,
           "gridcolor": "white",
           "linecolor": "white",
           "ticks": "",
           "title": {
            "standoff": 15
           },
           "zerolinecolor": "white",
           "zerolinewidth": 2
          }
         }
        },
        "title": {
         "text": "t-SNE Visualization of roBERTa"
        },
        "xaxis": {
         "anchor": "y",
         "domain": [
          0,
          1
         ],
         "title": {
          "text": "x"
         }
        },
        "yaxis": {
         "anchor": "x",
         "domain": [
          0,
          1
         ],
         "title": {
          "text": "y"
         }
        }
       }
      }
     },
     "metadata": {},
     "output_type": "display_data"
    }
   ],
   "source": [
    "import numpy as np\n",
    "import pandas as pd\n",
    "import plotly.express as px\n",
    "import plotly.subplots as sp\n",
    "from sklearn.manifold import TSNE\n",
    "from sklearn.decomposition import PCA\n",
    "\n",
    "# Load embeddings and titles\n",
    "embeddings1 = np.load('embeddings.npy')\n",
    "embeddings2 = np.load('embeddings_cv-10_000.npy')[:1000]\n",
    "embeddings = np.concatenate([embeddings1, embeddings2])\n",
    "\n",
    "\n",
    "# Function to generate t-SNE plots\n",
    "def generate_tsne_plot(embeddings, titles, specific_string, subplot_title):\n",
    "    tsne = TSNE(n_components=2, random_state=0)\n",
    "    embeddings_2d = tsne.fit_transform(embeddings)\n",
    "    tsne_df = pd.DataFrame(embeddings_2d, columns=['x', 'y'])\n",
    "    tsne_df['title'] = titles\n",
    "    tsne_df['highlight'] = tsne_df['title'].apply(lambda x: specific_string in x)\n",
    "\n",
    "    fig = px.scatter(tsne_df, x='x', y='y', color='highlight', hover_data=['title'], title=subplot_title)\n",
    "    fig.update_layout(xaxis_title='x', yaxis_title='y')\n",
    "    return fig\n",
    "\n",
    "# Create subplots\n",
    "string = \"energy\"\n",
    "fig1 = generate_tsne_plot(embeddings, titles, string, \"t-SNE Visualization of Word OPENAI\")\n",
    "fig2 = generate_tsne_plot(embeddings_roberta.cpu(), titles, string, \"t-SNE Visualization of roBERTa\")\n",
    "\n",
    "fig1.show()\n",
    "fig2.show()\n",
    "# # Arrange subplots\n",
    "# fig = sp.make_subplots(rows=1, cols=2, subplot_titles=[\"OPENAI\", \"roBERTa\"])\n",
    "# fig.add_trace(fig1.data[0], row=1, col=1)\n",
    "# fig.add_trace(fig2.data[0], row=1, col=2)\n",
    "# fig.update_layout(title_text=\"t-SNE Visualization of Word Embeddings\")\n",
    "# fig.show()"
   ]
  }
 ],
 "metadata": {
  "kernelspec": {
   "display_name": "Python 3",
   "language": "python",
   "name": "python3"
  },
  "language_info": {
   "codemirror_mode": {
    "name": "ipython",
    "version": 3
   },
   "file_extension": ".py",
   "mimetype": "text/x-python",
   "name": "python",
   "nbconvert_exporter": "python",
   "pygments_lexer": "ipython3",
   "version": "3.11.6"
  }
 },
 "nbformat": 4,
 "nbformat_minor": 2
}
