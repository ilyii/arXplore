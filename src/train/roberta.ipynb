{
 "cells": [
  {
   "cell_type": "code",
   "execution_count": 1,
   "metadata": {},
   "outputs": [],
   "source": [
    "import os\n",
    "\n",
    "import transformers\n",
    "import torch\n",
    "import torch.nn as nn"
   ]
  },
  {
   "cell_type": "code",
   "execution_count": 2,
   "metadata": {},
   "outputs": [],
   "source": [
    "cache_dir = 'cache/'\n",
    "if not os.path.exists(cache_dir):\n",
    "    os.makedirs(cache_dir)"
   ]
  },
  {
   "cell_type": "code",
   "execution_count": 3,
   "metadata": {},
   "outputs": [
    {
     "data": {
      "text/plain": [
       "{'return_dict': True,\n",
       " 'output_hidden_states': False,\n",
       " 'output_attentions': False,\n",
       " 'torchscript': False,\n",
       " 'torch_dtype': None,\n",
       " 'use_bfloat16': False,\n",
       " 'tf_legacy_loss': False,\n",
       " 'pruned_heads': {},\n",
       " 'tie_word_embeddings': True,\n",
       " 'chunk_size_feed_forward': 0,\n",
       " 'is_encoder_decoder': False,\n",
       " 'is_decoder': False,\n",
       " 'cross_attention_hidden_size': None,\n",
       " 'add_cross_attention': False,\n",
       " 'tie_encoder_decoder': False,\n",
       " 'max_length': 20,\n",
       " 'min_length': 0,\n",
       " 'do_sample': False,\n",
       " 'early_stopping': False,\n",
       " 'num_beams': 1,\n",
       " 'num_beam_groups': 1,\n",
       " 'diversity_penalty': 0.0,\n",
       " 'temperature': 1.0,\n",
       " 'top_k': 50,\n",
       " 'top_p': 1.0,\n",
       " 'typical_p': 1.0,\n",
       " 'repetition_penalty': 1.0,\n",
       " 'length_penalty': 1.0,\n",
       " 'no_repeat_ngram_size': 0,\n",
       " 'encoder_no_repeat_ngram_size': 0,\n",
       " 'bad_words_ids': None,\n",
       " 'num_return_sequences': 1,\n",
       " 'output_scores': False,\n",
       " 'return_dict_in_generate': False,\n",
       " 'forced_bos_token_id': None,\n",
       " 'forced_eos_token_id': None,\n",
       " 'remove_invalid_values': False,\n",
       " 'exponential_decay_length_penalty': None,\n",
       " 'suppress_tokens': None,\n",
       " 'begin_suppress_tokens': None,\n",
       " 'architectures': ['RobertaForMaskedLM'],\n",
       " 'finetuning_task': None,\n",
       " 'id2label': {0: 'LABEL_0', 1: 'LABEL_1'},\n",
       " 'label2id': {'LABEL_0': 0, 'LABEL_1': 1},\n",
       " 'tokenizer_class': None,\n",
       " 'prefix': None,\n",
       " 'bos_token_id': 0,\n",
       " 'pad_token_id': 1,\n",
       " 'eos_token_id': 2,\n",
       " 'sep_token_id': None,\n",
       " 'decoder_start_token_id': None,\n",
       " 'task_specific_params': None,\n",
       " 'problem_type': None,\n",
       " '_name_or_path': '',\n",
       " '_commit_hash': 'e2da8e2f811d1448a5b465c236feacd80ffbac7b',\n",
       " '_attn_implementation_internal': None,\n",
       " 'transformers_version': None,\n",
       " 'model_type': 'roberta',\n",
       " 'vocab_size': 50265,\n",
       " 'hidden_size': 768,\n",
       " 'num_hidden_layers': 12,\n",
       " 'num_attention_heads': 12,\n",
       " 'hidden_act': 'gelu',\n",
       " 'intermediate_size': 3072,\n",
       " 'hidden_dropout_prob': 0.1,\n",
       " 'attention_probs_dropout_prob': 0.1,\n",
       " 'max_position_embeddings': 514,\n",
       " 'type_vocab_size': 1,\n",
       " 'initializer_range': 0.02,\n",
       " 'layer_norm_eps': 1e-05,\n",
       " 'position_embedding_type': 'absolute',\n",
       " 'use_cache': True,\n",
       " 'classifier_dropout': None}"
      ]
     },
     "execution_count": 3,
     "metadata": {},
     "output_type": "execute_result"
    }
   ],
   "source": [
    "cfg_roberta = transformers.RobertaConfig.from_pretrained(\"FacebookAI/roberta-base\", cache_dir=cache_dir)\n",
    "cfg_roberta.__dict__"
   ]
  },
  {
   "cell_type": "code",
   "execution_count": 4,
   "metadata": {},
   "outputs": [
    {
     "data": {
      "text/plain": [
       "RobertaForMaskedLM(\n",
       "  (roberta): RobertaModel(\n",
       "    (embeddings): RobertaEmbeddings(\n",
       "      (word_embeddings): Embedding(50265, 768, padding_idx=1)\n",
       "      (position_embeddings): Embedding(514, 768, padding_idx=1)\n",
       "      (token_type_embeddings): Embedding(1, 768)\n",
       "      (LayerNorm): LayerNorm((768,), eps=1e-05, elementwise_affine=True)\n",
       "      (dropout): Dropout(p=0.1, inplace=False)\n",
       "    )\n",
       "    (encoder): RobertaEncoder(\n",
       "      (layer): ModuleList(\n",
       "        (0-11): 12 x RobertaLayer(\n",
       "          (attention): RobertaAttention(\n",
       "            (self): RobertaSelfAttention(\n",
       "              (query): Linear(in_features=768, out_features=768, bias=True)\n",
       "              (key): Linear(in_features=768, out_features=768, bias=True)\n",
       "              (value): Linear(in_features=768, out_features=768, bias=True)\n",
       "              (dropout): Dropout(p=0.1, inplace=False)\n",
       "            )\n",
       "            (output): RobertaSelfOutput(\n",
       "              (dense): Linear(in_features=768, out_features=768, bias=True)\n",
       "              (LayerNorm): LayerNorm((768,), eps=1e-05, elementwise_affine=True)\n",
       "              (dropout): Dropout(p=0.1, inplace=False)\n",
       "            )\n",
       "          )\n",
       "          (intermediate): RobertaIntermediate(\n",
       "            (dense): Linear(in_features=768, out_features=3072, bias=True)\n",
       "            (intermediate_act_fn): GELUActivation()\n",
       "          )\n",
       "          (output): RobertaOutput(\n",
       "            (dense): Linear(in_features=3072, out_features=768, bias=True)\n",
       "            (LayerNorm): LayerNorm((768,), eps=1e-05, elementwise_affine=True)\n",
       "            (dropout): Dropout(p=0.1, inplace=False)\n",
       "          )\n",
       "        )\n",
       "      )\n",
       "    )\n",
       "  )\n",
       "  (lm_head): RobertaLMHead(\n",
       "    (dense): Linear(in_features=768, out_features=768, bias=True)\n",
       "    (layer_norm): LayerNorm((768,), eps=1e-05, elementwise_affine=True)\n",
       "    (decoder): Linear(in_features=768, out_features=50265, bias=True)\n",
       "  )\n",
       ")"
      ]
     },
     "execution_count": 4,
     "metadata": {},
     "output_type": "execute_result"
    }
   ],
   "source": [
    "model = transformers.RobertaForMaskedLM.from_pretrained(\"FacebookAI/roberta-base\",config=cfg_roberta, cache_dir=cache_dir)\n",
    "model"
   ]
  },
  {
   "cell_type": "code",
   "execution_count": 5,
   "metadata": {},
   "outputs": [],
   "source": [
    "tokenizer = transformers.RobertaTokenizer.from_pretrained(\"FacebookAI/roberta-base\", cache_dir=cache_dir)"
   ]
  },
  {
   "cell_type": "markdown",
   "metadata": {},
   "source": [
    "## Data"
   ]
  },
  {
   "cell_type": "code",
   "execution_count": 6,
   "metadata": {},
   "outputs": [],
   "source": [
    "import pandas as pd\n",
    "\n",
    "PARQUET_PATH = \"../data/arxiv_metadata.parquet.gzip\"\n",
    "df = pd.read_parquet(PARQUET_PATH)\n",
    "titles = df.title.str.lower().tolist()[:1000]"
   ]
  },
  {
   "cell_type": "code",
   "execution_count": 7,
   "metadata": {},
   "outputs": [],
   "source": [
    "def collate_fn(batch):\n",
    "    return tokenizer(batch, padding=True, truncation=True, return_tensors=\"pt\")\n",
    "\n",
    "dataloader = torch.utils.data.DataLoader(titles, batch_size=4, shuffle=False, collate_fn=collate_fn)"
   ]
  },
  {
   "cell_type": "code",
   "execution_count": 9,
   "metadata": {},
   "outputs": [],
   "source": [
    "def num_params(model):\n",
    "    return sum(p.numel() for p in model.parameters())"
   ]
  },
  {
   "cell_type": "code",
   "execution_count": 10,
   "metadata": {},
   "outputs": [
    {
     "name": "stdout",
     "output_type": "stream",
     "text": [
      "124.70M\n"
     ]
    }
   ],
   "source": [
    "print(f'{num_params(model)/1e6:.2f}M')"
   ]
  },
  {
   "cell_type": "code",
   "execution_count": 45,
   "metadata": {},
   "outputs": [],
   "source": [
    "device = \"cuda\"\n",
    "epochs = 500\n",
    "mask_token_id = tokenizer.mask_token_id\n",
    "pad_token_id = tokenizer.pad_token_id\n",
    "mask_prob = 0.15\n",
    "replace_prob = 0.90\n",
    "mask_ignore_token_ids = []\n",
    "num_tokens = tokenizer.vocab_size\n",
    "random_token_prob = 0"
   ]
  },
  {
   "cell_type": "code",
   "execution_count": 12,
   "metadata": {},
   "outputs": [],
   "source": [
    "criterion = nn.CrossEntropyLoss(padding_idx=tokenizer.pad_token_id)\n",
    "optim = torch.optim.AdamW(model.parameters(), lr=0.0001)\n",
    "ntokens = tokenizer.vocab_size"
   ]
  },
  {
   "cell_type": "code",
   "execution_count": 40,
   "metadata": {},
   "outputs": [],
   "source": [
    "from functools import reduce\n",
    "import math\n",
    "from tqdm.notebook import tqdm\n",
    "\n",
    "def prob_mask_like(t, prob):\n",
    "    \"\"\"\n",
    "    Return binary mask with `prob` threshold.\n",
    "    \"\"\"\n",
    "    return torch.zeros_like(t).float().uniform_(0, 1) < prob\n",
    "\n",
    "def mask_with_tokens(t, token_ids):\n",
    "    \"\"\"\n",
    "    Return binary mask with `token_ids` replaced with `True`.\n",
    "    \"\"\"\n",
    "    init_no_mask = torch.full_like(t, False, dtype=torch.bool)\n",
    "    mask = reduce(lambda acc, el: acc | (t == el), token_ids, init_no_mask)\n",
    "    return mask\n",
    "\n",
    "def get_mask_subset_with_prob(mask, prob):\n",
    "    batch, seq_len, device = *mask.shape, mask.device\n",
    "    max_masked = math.ceil(prob * seq_len)\n",
    "\n",
    "    num_tokens = mask.sum(dim=-1, keepdim=True)\n",
    "    mask_excess = (mask.cumsum(dim=-1) > (num_tokens * prob).ceil())\n",
    "    mask_excess = mask_excess[:, :max_masked]\n",
    "\n",
    "    rand = torch.rand((batch, seq_len), device=device).masked_fill(~mask, -1e9)\n",
    "    _, sampled_indices = rand.topk(max_masked, dim=-1)\n",
    "    sampled_indices = (sampled_indices + 1).masked_fill_(mask_excess, 0)\n",
    "\n",
    "    new_mask = torch.zeros((batch, seq_len + 1), device=device)\n",
    "    new_mask.scatter_(-1, sampled_indices, 1)\n",
    "    return new_mask[:, 1:].bool()\n"
   ]
  },
  {
   "cell_type": "code",
   "execution_count": null,
   "metadata": {},
   "outputs": [],
   "source": [
    "model.train().to(device)\n",
    "for epoch in range(epochs):\n",
    "    with tqdm(dataloader, total=len(dataloader), desc=f\"Epoch {epoch+1}\") as t:\n",
    "        total_loss = 0\n",
    "        for batch in dataloader:\n",
    "            inputs, mask = batch.input_ids, batch.attention_mask\n",
    "            no_mask = mask_with_tokens(inputs, [])\n",
    "            mask = get_mask_subset_with_prob(~no_mask, mask_prob)\n",
    "            masked_seq = inputs.clone().detach()\n",
    "            labels = inputs.masked_fill(~mask, pad_token_id)\n",
    "\n",
    "            if random_token_prob > 0:\n",
    "                assert num_tokens is not None, 'num_tokens keyword must be supplied when instantiating MLM if using random token replacement'\n",
    "                random_token_prob = prob_mask_like(inputs, random_token_prob).to(device)\n",
    "                random_tokens = torch.randint(0, num_tokens, inputs.shape, device=device)\n",
    "                random_no_mask = mask_with_tokens(random_tokens,mask_ignore_token_ids)\n",
    "                random_token_prob &= ~random_no_mask\n",
    "                masked_seq = torch.where(random_token_prob, random_tokens, masked_seq).to(device)\n",
    "\n",
    "                # remove tokens that were substituted by random to be [mask]ed later\n",
    "                mask = (mask & ~random_token_prob)\n",
    "\n",
    "            # [mask] input\n",
    "\n",
    "            replace_prob_mask = prob_mask_like(inputs, replace_prob)\n",
    "            masked_seq = masked_seq.masked_fill(mask * replace_prob_mask, mask_token_id)\n",
    "\n",
    "            output = model(masked_seq.to(device),mask.to(device)).logits\n",
    "            loss = criterion(output.transpose(1, 2), labels.to(device))\n",
    "            total_loss += loss\n",
    "            loss.backward()\n",
    "            optim.step()\n",
    "            t.update()\n",
    "\n",
    "        total_loss /= len(dataloader)\n",
    "        t.set_postfix(loss=total_loss.item())"
   ]
  },
  {
   "cell_type": "code",
   "execution_count": 53,
   "metadata": {},
   "outputs": [],
   "source": [
    "torch.save(model.state_dict(), 'roberta_arxiv.pt')"
   ]
  },
  {
   "cell_type": "code",
   "execution_count": 62,
   "metadata": {},
   "outputs": [
    {
     "data": {
      "text/plain": [
       "RobertaForMaskedLM(\n",
       "  (roberta): RobertaModel(\n",
       "    (embeddings): RobertaEmbeddings(\n",
       "      (word_embeddings): Embedding(50265, 768, padding_idx=1)\n",
       "      (position_embeddings): Embedding(514, 768, padding_idx=1)\n",
       "      (token_type_embeddings): Embedding(1, 768)\n",
       "      (LayerNorm): LayerNorm((768,), eps=1e-05, elementwise_affine=True)\n",
       "      (dropout): Dropout(p=0.1, inplace=False)\n",
       "    )\n",
       "    (encoder): RobertaEncoder(\n",
       "      (layer): ModuleList(\n",
       "        (0-11): 12 x RobertaLayer(\n",
       "          (attention): RobertaAttention(\n",
       "            (self): RobertaSelfAttention(\n",
       "              (query): Linear(in_features=768, out_features=768, bias=True)\n",
       "              (key): Linear(in_features=768, out_features=768, bias=True)\n",
       "              (value): Linear(in_features=768, out_features=768, bias=True)\n",
       "              (dropout): Dropout(p=0.1, inplace=False)\n",
       "            )\n",
       "            (output): RobertaSelfOutput(\n",
       "              (dense): Linear(in_features=768, out_features=768, bias=True)\n",
       "              (LayerNorm): LayerNorm((768,), eps=1e-05, elementwise_affine=True)\n",
       "              (dropout): Dropout(p=0.1, inplace=False)\n",
       "            )\n",
       "          )\n",
       "          (intermediate): RobertaIntermediate(\n",
       "            (dense): Linear(in_features=768, out_features=3072, bias=True)\n",
       "            (intermediate_act_fn): GELUActivation()\n",
       "          )\n",
       "          (output): RobertaOutput(\n",
       "            (dense): Linear(in_features=3072, out_features=768, bias=True)\n",
       "            (LayerNorm): LayerNorm((768,), eps=1e-05, elementwise_affine=True)\n",
       "            (dropout): Dropout(p=0.1, inplace=False)\n",
       "          )\n",
       "        )\n",
       "      )\n",
       "    )\n",
       "  )\n",
       "  (lm_head): RobertaLMHead(\n",
       "    (dense): Linear(in_features=768, out_features=768, bias=True)\n",
       "    (layer_norm): LayerNorm((768,), eps=1e-05, elementwise_affine=True)\n",
       "    (decoder): Linear(in_features=768, out_features=50265, bias=True)\n",
       "  )\n",
       ")"
      ]
     },
     "execution_count": 62,
     "metadata": {},
     "output_type": "execute_result"
    }
   ],
   "source": [
    "model"
   ]
  },
  {
   "cell_type": "code",
   "execution_count": 73,
   "metadata": {},
   "outputs": [
    {
     "name": "stdout",
     "output_type": "stream",
     "text": [
      "torch.Size([1000, 67])\n"
     ]
    }
   ],
   "source": [
    "# Create title embeddings\n",
    "model.eval()\n",
    "embeddings = []\n",
    "with torch.no_grad():\n",
    "    inputs = tokenizer(titles, padding=True, truncation=True, return_tensors=\"pt\").to(device)\n",
    "    embeddings = model.roberta.embeddings(inputs.input_ids)\n",
    "    representations = model.roberta.encoder(embeddings)\n"
   ]
  },
  {
   "cell_type": "code",
   "execution_count": 79,
   "metadata": {},
   "outputs": [
    {
     "data": {
      "text/plain": [
       "torch.Size([1000, 768])"
      ]
     },
     "execution_count": 79,
     "metadata": {},
     "output_type": "execute_result"
    }
   ],
   "source": [
    "# Make embedding vectors out of torch.Size([1000, 67, 768])\n",
    "# Average over the sequence dimension\n",
    "# torch.Size([1000, 768])\n",
    "\n",
    "title_embeddings = representations.last_hidden_state.mean(dim=1)\n",
    "title_embeddings.shape"
   ]
  },
  {
   "cell_type": "code",
   "execution_count": 87,
   "metadata": {},
   "outputs": [
    {
     "data": {
      "application/vnd.plotly.v1+json": {
       "config": {
        "plotlyServerURL": "https://plot.ly"
       },
       "data": [
        {
         "customdata": [
          [
           "calculation of prompt diphoton production cross sections at tevatron and\n  lhc energies"
          ],
          [
           "sparsity-certifying graph decompositions"
          ],
          [
           "the evolution of the earth-moon system based on the dark matter field\n  fluid model"
          ],
          [
           "a determinant of stirling cycle numbers counts unlabeled acyclic\n  single-source automata"
          ],
          [
           "from dyadic $\\lambda_{\\alpha}$ to $\\lambda_{\\alpha}$"
          ],
          [
           "bosonic characters of atomic cooper pairs across resonance"
          ],
          [
           "polymer quantum mechanics and its continuum limit"
          ],
          [
           "numerical solution of shock and ramp compression for general material\n  properties"
          ],
          [
           "the spitzer c2d survey of large, nearby, insterstellar clouds. ix. the\n  serpens yso population as observed with irac and mips"
          ],
          [
           "partial cubes: structures, characterizations, and constructions"
          ],
          [
           "computing genus 2 hilbert-siegel modular forms over $\\q(\\sqrt{5})$ via\n  the jacquet-langlands correspondence"
          ],
          [
           "distribution of integral fourier coefficients of a modular form of half\n  integral weight modulo primes"
          ],
          [
           "$p$-adic limit of weakly holomorphic modular forms of half integral\n  weight"
          ],
          [
           "iterated integral and the loop product"
          ],
          [
           "fermionic superstring loop amplitudes in the pure spinor formalism"
          ],
          [
           "lifetime of doubly charmed baryons"
          ],
          [
           "spectroscopic observations of the intermediate polar ex hydrae in\n  quiescence"
          ],
          [
           "in quest of a generalized callias index theorem"
          ],
          [
           "approximation for extinction probability of the contact process based on\n  the gr\\\"obner basis"
          ],
          [
           "measurement of the hadronic form factor in d0 --> k- e+ nue decays"
          ],
          [
           "molecular synchronization waves in arrays of allosterically regulated\n  enzymes"
          ],
          [
           "stochastic lie group integrators"
          ],
          [
           "alma as the ideal probe of the solar chromosphere"
          ],
          [
           "formation of quasi-solitons in transverse confined ferromagnetic film\n  media"
          ],
          [
           "spectroscopic properties of polarons in strongly correlated systems by\n  exact diagrammatic monte carlo method"
          ],
          [
           "placeholder substructures ii: meta-fractals, made of box-kites, fill\n  infinite-dimensional skies"
          ],
          [
           "filling-factor-dependent magnetophonon resonance in graphene"
          ],
          [
           "pfaffians, hafnians and products of real linear functionals"
          ],
          [
           "understanding the flavor symmetry breaking and nucleon flavor-spin\n  structure within chiral quark model"
          ],
          [
           "tuning correlation effects with electron-phonon interactions"
          ],
          [
           "crystal channeling of lhc forward protons with preserved distribution in\n  phase space"
          ],
          [
           "probing non-standard neutrino interactions with supernova neutrinos"
          ],
          [
           "convergence of the discrete dipole approximation. i. theoretical\n  analysis"
          ],
          [
           "origin of adaptive mutants: a quantum measurement?"
          ],
          [
           "convergence of the discrete dipole approximation. ii. an extrapolation\n  technique to increase the accuracy"
          ],
          [
           "a remark on the number of steady states in a multiple futile cycle"
          ],
          [
           "the discrete dipole approximation for simulation of light scattering by\n  particles much larger than the wavelength"
          ],
          [
           "the discrete dipole approximation: an overview and recent developments"
          ],
          [
           "scalar radius of the pion and zeros in the form factor"
          ],
          [
           "multilinear function series in conditionally free probability with\n  amalgamation"
          ],
          [
           "quantum group of isometries in classical and noncommutative geometry"
          ],
          [
           "general system theory, like-quantum semantics and fuzzy sets"
          ],
          [
           "nonequilibrium entropy limiters in lattice boltzmann methods"
          ],
          [
           "astrophysical gyrokinetics: kinetic and fluid turbulent cascades in\n  magnetized weakly collisional plasmas"
          ],
          [
           "evolution of solitary waves and undular bores in shallow-water flows\n  over a gradual slope with bottom friction"
          ],
          [
           "a limit relation for entropy and channel capacity per unit cost"
          ],
          [
           "intelligent location of simultaneously active acoustic emission sources:\n  part i"
          ],
          [
           "inference on white dwarf binary systems using the first round mock lisa\n  data challenges data sets"
          ],
          [
           "an algorithm for the classification of smooth fano polytopes"
          ],
          [
           "intelligent location of simultaneously active acoustic emission sources:\n  part ii"
          ],
          [
           "visualizing teleportation"
          ],
          [
           "quantum field theory on curved backgrounds. ii. spacetime symmetries"
          ],
          [
           "a global approach to the theory of special finsler manifolds"
          ],
          [
           "the hardy-lorentz spaces $h^{p,q}(r^n)$"
          ],
          [
           "potassium intercalation in graphite: a van der waals density-functional\n  study"
          ],
          [
           "phase diagram of gaussian-core nematics"
          ],
          [
           "high-spin to low-spin and orbital polarization transitions in\n  multiorbital mott systems"
          ],
          [
           "intelligent life in cosmology"
          ],
          [
           "the mass and radius of the unseen m-dwarf companion in the single-lined\n  eclipsing binary hat-tr-205-013"
          ],
          [
           "coulomb excitation of unstable nuclei at intermediate energies"
          ],
          [
           "intersection bodies and generalized cosine transforms"
          ],
          [
           "on-line viterbi algorithm and its relationship to random walks"
          ],
          [
           "experimental efforts in search of 76ge neutrinoless double beta decay"
          ],
          [
           "nilpotent symmetry invariance in the superfield formulation: the\n  (non-)abelian 1-form gauge theories"
          ],
          [
           "littlewood-richardson polynomials"
          ],
          [
           "lagrangian quantum field theory in momentum picture. iv. commutation\n  relations for free fields"
          ],
          [
           "order of epitaxial self-assembled quantum dots: linear analysis"
          ],
          [
           "a note about the {ki(z)} functions"
          ],
          [
           "dynamical objects for cohomologically expanding maps"
          ],
          [
           "coincidence of the oscillations in the dipole transition and in the\n  persistent current of narrow quantum rings with two electrons"
          ],
          [
           "pairwise comparisons of typological profiles (of languages)"
          ],
          [
           "the decomposition method and maple procedure for finding first integrals\n  of nonlinear pdes of any order with any number of independent variables"
          ],
          [
           "a transcendental approach to koll\\'ar's injectivity theorem"
          ],
          [
           "injective morita contexts (revisited)"
          ],
          [
           "strong decays of charmed baryons"
          ],
          [
           "cp violation in beauty decays"
          ],
          [
           "universal forces and the dark energy problem"
          ],
          [
           "linear perturbations of matched spacetimes: the gauge problem and\n  background symmetries"
          ],
          [
           "operator algebras associated with unitary commutation relations"
          ],
          [
           "shaping the globular cluster mass function by stellar-dynamical\n  evaporation"
          ],
          [
           "quantum deformations of relativistic symmetries"
          ],
          [
           "matter-wave bright solitons with a finite background in spinor\n  bose-einstein condensates"
          ],
          [
           "why there is something rather than nothing (out of everything)?"
          ],
          [
           "formation of density singularities in ideal hydrodynamics of freely\n  cooling inelastic gases: a family of exact solutions"
          ],
          [
           "a universality in pp-waves"
          ],
          [
           "clustering in a stochastic model of one-dimensional gas"
          ],
          [
           "approximate solutions to the dirichlet problem for harmonic maps between\n  hyperbolic spaces"
          ],
          [
           "some new experimental photonic flame effect features"
          ],
          [
           "a general approach to statistical modeling of physical laws:\n  nonparametric regression"
          ],
          [
           "real options for project schedules (rops)"
          ],
          [
           "groups with finitely many conjugacy classes and their automorphisms"
          ],
          [
           "energy density for chiral lattice fermions with chemical potential"
          ],
          [
           "aspects of electron-phonon self-energy revealed from angle-resolved\n  photoemission spectroscopy"
          ],
          [
           "timing and lensing of the colliding bullet clusters: barely enough time\n  and gravity to accelerate the bullet"
          ],
          [
           "geometry of locally compact groups of polynomial growth and shape of\n  large balls"
          ],
          [
           "much ado about 248"
          ],
          [
           "conformal field theory and operator algebras"
          ],
          [
           "sparsely-spread cdma - a statistical mechanics based analysis"
          ],
          [
           "on ando's inequalities for convex and concave functions"
          ],
          [
           "topology change of black holes"
          ],
          [
           "the birth of string theory"
          ],
          [
           "duality and tameness"
          ],
          [
           "generalized regularly discontinuous solutions of the einstein equations"
          ],
          [
           "a geometric realization of sl(6,c)"
          ],
          [
           "rigid subsets of symplectic manifolds"
          ],
          [
           "multiple parton scattering in nuclei: quark-quark scattering"
          ],
          [
           "experimental modeling of physical laws"
          ],
          [
           "reducing sat to 2-sat"
          ],
          [
           "half-metallic silicon nanowires"
          ],
          [
           "on equivariant embedding of hilbert c^* modules"
          ],
          [
           "invariance and the twisted chern character : a case study"
          ],
          [
           "placeholder substructures iii: a bit-string-driven ''recipe theory'' for\n  infinite-dimensional zero-divisor spaces"
          ],
          [
           "langmuir blodgett assembly of densely aligned single walled carbon\n  nanotubes from bulk materials"
          ],
          [
           "quantum phase transition in the four-spin exchange antiferromagnet"
          ],
          [
           "smooth maps with singularities of bounded k-codimensions"
          ],
          [
           "stringy jacobi fields in morse theory"
          ],
          [
           "lower ground state due to counter-rotating wave interaction in trapped\n  ion system"
          ],
          [
           "strained single-crystal al2o3 grown layer-by-layer on nb (110) thin\n  films"
          ],
          [
           "quasi-quartet crystal electric field ground state in a tetragonal\n  ceag$_2$ge$_2$ single crystal"
          ],
          [
           "strong phase and $d^0-d^0bar$ mixing at bes-iii"
          ],
          [
           "meta-stable brane configuration of product gauge groups"
          ],
          [
           "spinor dipolar bose-einstein condensates; classical spin approach"
          ],
          [
           "nonlinear dynamics of the phonon stimulated emission in microwave\n  solid-state resonator of the nonautonomous phaser generator"
          ],
          [
           "proper j-holomorphic discs in stein domains of dimension 2"
          ],
          [
           "anisotropic thermo-elasticity in 2d -- part i: a unified approach"
          ],
          [
           "i-v characteristics of the vortex state in mgb2 thin films"
          ],
          [
           "magnetic fingerprints of sub-100 nm fe nanodots"
          ],
          [
           "an online repository of swift/xrt light curves of grbs"
          ],
          [
           "on the total disconnectedness of the quotient aubry set"
          ],
          [
           "new simple modular lie superalgebras as generalized prolongs"
          ],
          [
           "vacuum structure and potential"
          ],
          [
           "counterflow of electrons in two isolated quantum point contacts"
          ],
          [
           "pah emission and star formation in the host of the z~2.56 cloverleaf qso"
          ],
          [
           "causal dissipative hydrodynamics for qgp fluid in 2+1 dimensions"
          ],
          [
           "a single trapped ion as a time-dependent harmonic oscillator"
          ],
          [
           "compounding fields and their quantum equations in the trigintaduonion\n  space"
          ],
          [
           "topological defects, geometric phases, and the angular momentum of light"
          ],
          [
           "circular and non-circular nearly horizon-skimming orbits in kerr\n  spacetimes"
          ],
          [
           "the blue straggler population of the globular cluster m5"
          ],
          [
           "entanglement entropy of two-dimensional anti-de sitter black holes"
          ],
          [
           "towards self-consistent definition of instanton liquid parameters"
          ],
          [
           "some aspects of the nonperturbative renormalization of the phi^4 model"
          ],
          [
           "instanton liquid at finite temperature and chemical potential of quarks"
          ],
          [
           "eternal inflation and localization on the landscape"
          ],
          [
           "singularity resolution in isotropic loop quantum cosmology: recent\n  developments"
          ],
          [
           "vortices in bose-einstein condensates: theory"
          ],
          [
           "a povm view of the ensemble approach to polarization optics"
          ],
          [
           "reexamination of spin decoherence in semiconductor quantum dots from\n  equation-of-motion approach"
          ],
          [
           "construction of initial data for 3+1 numerical relativity"
          ],
          [
           "magnetism and thermodynamics of spin-1/2 heisenberg diamond chains in a\n  magnetic field"
          ],
          [
           "extraction of physical laws from joint experimental data"
          ],
          [
           "kinetic equation for finite systems of fermions with pairing"
          ],
          [
           "reciprocal symmetry and classical discrete oscillator incorporating\n  half-integral energy levels"
          ],
          [
           "hadrons in medium -- theory confronts experiment"
          ],
          [
           "a computer program for fast non-lte analysis of interstellar line\n  spectra"
          ],
          [
           "nonlinear force-free coronal magnetic field extrapolation scheme based\n  on the direct boundary integral formulation"
          ],
          [
           "alternative approaches to the equilibrium properties of hard-sphere\n  liquids"
          ],
          [
           "complexities of human promoter sequences"
          ],
          [
           "evidence for an excitonic insulator phase in 1t-tise$_{2}$"
          ],
          [
           "oxygen-rich droplets and the enrichment of the ism"
          ],
          [
           "soft modes and nte in zn(cn)2 from raman spectroscopy and first\n  principles calculations"
          ],
          [
           "estimation of experimental data redundancy and related statistics"
          ],
          [
           "effective potentials for quasicrystals from ab-initio data"
          ],
          [
           "on smooth foliations with morse singularities"
          ],
          [
           "frobenius-schur indicators for semisimple lie algebras"
          ],
          [
           "supersymmetry breaking metastable vacua in runaway quiver gauge theories"
          ],
          [
           "low energy aspects of heavy meson decays"
          ],
          [
           "radiative losses and cut-offs of energetic particles at relativistic\n  shocks"
          ],
          [
           "very strong and slowly varying magnetic fields as source of axions"
          ],
          [
           "symmetry disquisition on the tiox phase diagram"
          ],
          [
           "discovery of a point-like very-high-energy gamma-ray source in monoceros"
          ],
          [
           "thermal entanglement of qubit pairs on the shastry-sutherland lattice"
          ],
          [
           "bonding of h in o vacancies of zno"
          ],
          [
           "reparametrization invariance, the controversial extraction of $\\alpha$\n  from $b\\to\\pi\\pi$ and new physics"
          ],
          [
           "solar system constraints on gauss-bonnet mediated dark energy"
          ],
          [
           "switching mechanism of photochromic diarylethene derivatives molecular\n  junctions"
          ],
          [
           "robust manipulation of electron spin coherence in an ensemble of singly\n  charged quantum dots"
          ],
          [
           "equation of state for dense hydrogen and plasma phase transition"
          ],
          [
           "experimental nonclassicality of single-photon-added thermal light states"
          ],
          [
           "neutron skin and giant resonances in nuclei"
          ],
          [
           "genetic optimization of photonic bandgap structures"
          ],
          [
           "temperature dependence of the tensile properties of single walled carbon\n  nanotubes: o(n) tight binding md simulation"
          ],
          [
           "gamma-ray emitting agn and glast"
          ],
          [
           "potfit: effective potentials from ab-initio data"
          ],
          [
           "dark energy and neutrino model in susy -- remarks on active and sterile\n  neutrinos mixing --"
          ],
          [
           "the transverse proximity effect in spectral hardness on the line of\n  sight towards he 2347-4342"
          ],
          [
           "biased random walks on combs"
          ],
          [
           "monoid generalizations of the richard thompson groups"
          ],
          [
           "the reliability on the direction of the incident neutrino for the fully\n  contained events and partially contained events due to qel in the\n  super-kamiokande"
          ],
          [
           "intricate knots in proteins: function and evolution"
          ],
          [
           "star formation in galaxies with large lower surface brightness disks"
          ],
          [
           "domain wall dynamics near a quantum critical point"
          ],
          [
           "quantum mechanical approach to decoherence and relaxation generated by\n  fluctuating environment"
          ],
          [
           "group-theoretical properties of nilpotent modular categories"
          ],
          [
           "remarks on n_c dependence of decays of exotic baryons"
          ],
          [
           "analysis of random boolean networks using the average sensitivity"
          ],
          [
           "theory of polariton mediated raman scattering in microcavities"
          ],
          [
           "decomposition numbers for finite coxeter groups and generalised\n  non-crossing partitions"
          ],
          [
           "electromagnetic polarizabilities and the excited states of the nucleon"
          ],
          [
           "hecke-clifford algebras and spin hecke algebras i: the classical affine\n  type"
          ],
          [
           "towards minimal resources of measurement-based quantum computation"
          ],
          [
           "a spitzer census of the ic 348 nebula"
          ],
          [
           "non-equilibrium josephson and andreev current through interacting\n  quantum dots"
          ],
          [
           "resonant activation in bistable semiconductor lasers"
          ],
          [
           "quark matter and the astrophysics of neutron stars"
          ],
          [
           "some non-braided fusion categories of rank 3"
          ],
          [
           "chandra observations of supernova 1987a"
          ],
          [
           "classification of superpotentials"
          ],
          [
           "linkedness and ordered cycles in digraphs"
          ],
          [
           "curvature and isocurvature perturbations in two-field inflation"
          ],
          [
           "geometric complexity theory v: on deciding nonvanishing of a generalized\n  littlewood-richardson coefficient"
          ],
          [
           "a schematic model of scattering in pt-symmetric quantum mechanics"
          ],
          [
           "the exact asymptotic of the collision time tail distribution for\n  independent brownian particles with different drifts"
          ],
          [
           "ab initio study of graphene on sic"
          ],
          [
           "capacity of a multiple-antenna fading channel with a quantized precoding\n  matrix"
          ],
          [
           "on almost periodicity criteria for morphic sequences in some particular\n  cases"
          ],
          [
           "three particle correlations from star"
          ],
          [
           "the return of a static universe and the end of cosmology"
          ],
          [
           "dark matter annihilation in draco: new considerations on the expected\n  gamma flux"
          ],
          [
           "magnetohydrodynamic rebound shocks of supernovae"
          ],
          [
           "are there mach cones in heavy ion collisions? three-particle\n  correlations from star"
          ],
          [
           "exploring first stars era with glast"
          ],
          [
           "correlated modulation between the redshifted fe k alpha line and the\n  continuum emission in ngc 3783"
          ],
          [
           "isotopic effects in nuclear reactions at relativistic energies"
          ],
          [
           "einstein vs maxwell: is gravitation a curvature of space, a field in\n  flat space, or both?"
          ],
          [
           "geometric complexity theory vi: the flip via saturated and positive\n  integer programming in representation theory and algebraic geometry"
          ],
          [
           "two new basaltic asteroids in the outer main belt?"
          ],
          [
           "interpolating and sampling sequences in finite riemann surfaces"
          ],
          [
           "new algebraic aspects of perturbative and non-perturbative quantum field\n  theory"
          ],
          [
           "many-body interband tunneling as a witness for complex dynamics in the\n  bose-hubbard model"
          ],
          [
           "comments on ``are swift gamma-ray bursts consistent with the ghirlanda\n  relation?\", by campana et al.(astro--ph/0703676)"
          ],
          [
           "the determination of the helicity of $w'$ boson couplings at the lhc"
          ],
          [
           "curvature flows in semi-riemannian manifolds"
          ],
          [
           "hydrodynamic and spectral simulations of hmxb winds"
          ],
          [
           "radio astrometric detection and characterization of extra-solar planets:\n  a white paper submitted to the nsf exoplanet task force"
          ],
          [
           "interface dynamics of microscopic cavities in water"
          ],
          [
           "viscosity, black holes, and quantum field theory"
          ],
          [
           "superconducting states of the quasi-2d holstein model: effects of vertex\n  and non-local corrections"
          ],
          [
           "masers and star formation"
          ],
          [
           "renormalized quasiparticles in antiferromagnetic states of the hubbard\n  model"
          ],
          [
           "comparison of exact-exchange calculations for solids in\n  current-spin-density- and spin-density-functional theory"
          ],
          [
           "one-loop mhv rules and pure yang-mills"
          ],
          [
           "fermi-liquid effects in the transresistivity in quantum hall double\n  layers near $\\nu= 1/2 $"
          ],
          [
           "geometry of four-dimensional killing spinors"
          ],
          [
           "a rigorous time-domain analysis of full--wave electromagnetic cloaking\n  (invisibility)"
          ],
          [
           "non-perturbative conserving approximations and luttinger's sum rule"
          ],
          [
           "2d-mit as self-doping of a wigner-mott insulator"
          ],
          [
           "entanglement of subspaces and error correcting codes"
          ],
          [
           "does the present data on b_s - bar b_s mixing rule out a large\n  enhancement in the branching ratio of b_s --> mu+ mu- ?"
          ],
          [
           "the spitzer c2d survey of large, nearby, interstellar clouds viii.\n  serpens observed with mips"
          ],
          [
           "unravelling the sbottom spin at the cern lhc"
          ],
          [
           "modeling the three-point correlation function"
          ],
          [
           "multi-spectral observations of lunar occultations: i. resolving the dust\n  shell around afgl 5440"
          ],
          [
           "orbifold cohomology of abelian symplectic reductions and the case of\n  weighted projective spaces"
          ],
          [
           "correlation functions in the non perturbative renormalization group and\n  field expansion"
          ],
          [
           "formation and collisional evolution of kuiper belt objects"
          ],
          [
           "on existence of boundary values of polyharmonic functions"
          ],
          [
           "constraints on the self-interaction cross-section of dark matter from\n  numerical simulations of the merging galaxy cluster 1e 0657-5"
          ],
          [
           "stringy instantons at orbifold singularities"
          ],
          [
           "turbulent diffusion of lines and circulations"
          ],
          [
           "gluon radiation of an expanding color skyrmion in the quark-gluon plasma"
          ],
          [
           "rem near-ir and optical multiband observations of pks2155-304 in 2005"
          ],
          [
           "supernova polarization and the type iin classification"
          ],
          [
           "automated generation of layout and control for quantum circuits"
          ],
          [
           "modeling the spectral energy distribution and variability of 3c 66a\n  during the webt campaign of 2003 -- 2004"
          ],
          [
           "the harps search for southern extra-solar planets. x. a m sin i = 11\n  mearth planet around the nearby spotted m dwarf gj 674"
          ],
          [
           "an individual based model with global competition interaction:\n  fluctuations effects in pattern formation"
          ],
          [
           "a comparison between anomalous 6-cm h$_2$co absorption and co(1-0)\n  emission in the l1204/s140"
          ],
          [
           "dimers on surface graphs and spin structures. ii"
          ],
          [
           "new version announcement for taylur, an arbitrary-order diagonal\n  automatic differentiation package for fortran 95"
          ],
          [
           "mapping radii of metric spaces"
          ],
          [
           "a new model for the loop-i (the north polar spur) region"
          ],
          [
           "leray numbers of projections and a topological helly type theorem"
          ],
          [
           "q-deformed spin foam models of quantum gravity"
          ],
          [
           "hi velocity dispersion in ngc 1058"
          ],
          [
           "common envelope evolution redux"
          ],
          [
           "the source of turbulence in astrophysical disks: an ill-posed problem."
          ],
          [
           "on punctured pragmatic space-time codes in block fading channel"
          ],
          [
           "on the markov trace for temperley--lieb algebras of type $e_n$"
          ],
          [
           "second order perturbative calculation of quasinormal modes of\n  schwarzschild black holes"
          ],
          [
           "epitaxial graphene"
          ],
          [
           "mathematics of thermoacoustic tomography"
          ],
          [
           "search for very high energy emission from gamma-ray bursts using milagro"
          ],
          [
           "specific heat and bimodality in canonical and grand canonical versions\n  of the thermodynamic model"
          ],
          [
           "vortex proliferation in the berezinskii-kosterlitz-thouless regime on a\n  two-dimensional lattice of bose-einstein condensates"
          ],
          [
           "the core binary fractions of star clusters from realistic simulations"
          ],
          [
           "approaching the heisenberg limit in an atom laser"
          ],
          [
           "a practical seedless infrared-safe cone jet algorithm"
          ],
          [
           "isospin breaking in the yield of heavy meson pairs in e+e- annihilation\n  near threshold"
          ],
          [
           "qed x qcd resummation and shower/me matching for lhc physics"
          ],
          [
           "on the number of topological types occurring in a parametrized family of\n  arrangements"
          ],
          [
           "generalized twistor transform and dualities, with a new description of\n  particles with spin, beyond free and massless"
          ],
          [
           "remnant evolution after a carbon-oxygen white dwarf merger"
          ],
          [
           "direct theorems in the theory of approximation of the banach space\n  vectors by entire vectors of exponential type"
          ],
          [
           "parametrized post-newtonian expansion of chern-simons gravity"
          ],
          [
           "scaling of resistance and electron mean free path of single-walled\n  carbon nanotubes"
          ],
          [
           "differential recursion and differentially algebraic functions"
          ],
          [
           "spline single-index prediction model"
          ],
          [
           "measurement of the aerosol phase function at the pierre auger\n  observatory"
          ],
          [
           "the world as evolving information"
          ],
          [
           "polymerization force driven buckling of microtubule bundles determines\n  the wavelength of patterns formed in tubulin solutions"
          ],
          [
           "neutron inelastic scattering processes as background for double-beta\n  decay experiments"
          ],
          [
           "periodic accretion from a circumbinary disk in the young binary uz tau e"
          ],
          [
           "effect of node deleting on network structure"
          ],
          [
           "the complexity of hcp in digraps with degree bound two"
          ],
          [
           "vlbi observations of nineteen ghz-peaked-spectrum radio sources at 1.6\n  ghz"
          ],
          [
           "moment switching in nanotube magnetic force probes"
          ],
          [
           "power spectra to 1% accuracy between dynamical dark energy cosmologies"
          ],
          [
           "possibility of gapless spin liquid state by one-dimensionalization"
          ],
          [
           "extra dimensions and lorentz invariance violation"
          ],
          [
           "the small deviations of many-dimensional diffusion processes and\n  rarefaction by boundaries"
          ],
          [
           "the millennium galaxy catalogue: the local supermassive black hole mass\n  function in early- and late-type galaxies"
          ],
          [
           "complete shrinking ricci solitons have finite fundamental group"
          ],
          [
           "effects of dirac sea on pion propagation in asymmetric nuclear matter"
          ],
          [
           "spin-orbit coupling effect on the persistent currents in mesoscopic ring\n  with an anderson impurity"
          ],
          [
           "probability distributions generated by fractional diffusion equations"
          ],
          [
           "fabrication of half metallicity in a ferromagnetic metal"
          ],
          [
           "emergence of spatiotemporal chaos driven by far-field breakup of spiral\n  waves in the plankton ecological systems"
          ],
          [
           "general sequential quantum cloning"
          ],
          [
           "on the pseudospectrum of elliptic quadratic differential operators"
          ],
          [
           "fluctuation-dissipation relation on a melde string in a turbulent flow,\n  considerations on a \"dynamical temperature\""
          ],
          [
           "on generalized entropy measures and pathways"
          ],
          [
           "evolution of a band insulating phase from a correlated metallic phase"
          ],
          [
           "electroweak phase transitions in the mssm with an extra $u(1)'$"
          ],
          [
           "solutions of fractional reaction-diffusion equations in terms of the\n  h-function"
          ],
          [
           "random matrix theory at nonzero $\\mu$ and $t$"
          ],
          [
           "symmetries by base substitutions in the genetic code predict 2' or 3'\n  aminoacylation of trnas"
          ],
          [
           "the effect of a fifth large-scale space-time dimension on the\n  conservation of energy in a four dimensional universe"
          ],
          [
           "optical properties of the holstein-t-j model from dynamical mean-field\n  theory"
          ],
          [
           "a multiphilic descriptor for chemical reactivity and selectivity"
          ],
          [
           "approximation of the distribution of a stationary markov process with\n  application to option pricing"
          ],
          [
           "influence of phonon dimensionality on electron energy relaxation"
          ],
          [
           "bursting dynamics of the 3d euler equations in cylindrical domains"
          ],
          [
           "synergistic effects of modtc and zdtp on frictional behaviour of\n  tribofilms at the nanometer scale"
          ],
          [
           "lattice boltzmann inverse kinetic approach for the incompressible\n  navier-stokes equations"
          ],
          [
           "phonon-mediated decay of an atom in a surface-induced potential"
          ],
          [
           "infrared evolution equations: method and applications"
          ],
          [
           "cofibrations in the category of frolicher spaces. part i"
          ],
          [
           "experimental observation of structural crossover in binary mixtures of\n  colloidal hard spheres"
          ],
          [
           "the blazar spectral sequence and glast"
          ],
          [
           "a high robustness and low cost model for cascading failures"
          ],
          [
           "resolvent estimates related with a class of dispersive equations"
          ],
          [
           "what can emission lines tell us?"
          ],
          [
           "the colin de verdi\\`ere number and graphs of polytopes"
          ],
          [
           "visible spectroscopic and photometric survey of jupiter trojans: final\n  results on dynamical families"
          ],
          [
           "first-based survey of compact steep spectrum sources, v.\n  milliarcsecond-scale morphology of css objects"
          ],
          [
           "investigation of relaxation phenomena in high-temperature\n  superconductors hoba2cu3o7-d at the action of pulsed magnetic fields"
          ],
          [
           "spin and pseudospin symmetries and the equivalent spectra of\n  relativistic spin-1/2 and spin-0 particles"
          ],
          [
           "general asymptotic solutions of the einstein equations and phase\n  transitions in quantum gravity"
          ],
          [
           "trigonometric parallaxes of high velocity halo white dwarf candidates"
          ],
          [
           "amr simulations of the low t/|w| bar-mode instability of neutron stars"
          ],
          [
           "evolutionary games on minimally structured populations"
          ],
          [
           "flavor physics in susy at large tan(beta)"
          ],
          [
           "some properties of the complex monge-ampere operator in cegrell's\n  classes and applications"
          ],
          [
           "torsional oscillations of longitudinally inhomogeneous coronal loops"
          ],
          [
           "pseudo-random puncturing: a technique to lower the error floor of turbo\n  codes"
          ],
          [
           "the arctic circle revisited"
          ],
          [
           "time and motion in physics: the reciprocity principle, relativistic\n  invariance of the lengths of rulers and time dilatation"
          ],
          [
           "b --> rho k* decays and other rare vector-vector modes"
          ],
          [
           "extending the theory of phonon-mediated superconductivity in quasi-2d"
          ],
          [
           "generalized nariai solutions for yang-type monopoles"
          ],
          [
           "instanton representation of plebanski gravity. consistency of the\n  initital value constraints under time evolution"
          ],
          [
           "metal-insulator transition in the low-dimensional organic conductor\n  (tmtsf)2fso3 probed by infrared microspectroscopy"
          ],
          [
           "the effect of topcolor assisted technicolor, and other models, on\n  neutrino oscillation"
          ],
          [
           "shaped angular dependence of the spin transfer torque and microwave\n  generation without magnetic field"
          ],
          [
           "dark energy interacting with neutrinos and dark matter: a\n  phenomenological theory"
          ],
          [
           "levy-lieb constrained-search formulation as a minimization of the\n  correlation functional"
          ],
          [
           "reality of linear and angular momentum expectation values in bound\n  states"
          ],
          [
           "gravity-induced electric polarization of matter and planetary magnetic\n  fields"
          ],
          [
           "rich methane premixed laminar flames doped by light unsaturated\n  hydrocarbons - part i : allene and propyne"
          ],
          [
           "environmental noise reduction for holonomic quantum gates"
          ],
          [
           "the lifetime of unstable particles in electromagnetic fields"
          ],
          [
           "an equilibrium problem for the limiting eigenvalue distribution of\n  banded toeplitz matrices"
          ],
          [
           "capturing knots in polymers"
          ],
          [
           "exponential growth rates in a typed branching diffusion"
          ],
          [
           "the collision velocity of the bullet cluster in conventional and\n  modified dynamics"
          ],
          [
           "on some subgroup chains related to kneser's theorem"
          ],
          [
           "the exact boundary condition to solve the schrodinger equation of many\n  electron system"
          ],
          [
           "clustering features of $^9$be, $^{14}$n, $^7$be, and $^8$b nuclei in\n  relativistic fragmentation"
          ],
          [
           "super-shell structures and pairing in ultracold trapped fermi gases"
          ],
          [
           "quantum non-local effects with bose-einstein condensates"
          ],
          [
           "low mass visual binaries in the solar neighbourhood: the case of\n  hd141272"
          ],
          [
           "sterile neutrinos at the cngs"
          ],
          [
           "evolution of the carter constant for inspirals into a black hole: effect\n  of the black hole quadrupole"
          ],
          [
           "dual billiards, fagnano orbits and regular polygons"
          ],
          [
           "exactly solvable spin dynamics of an electron coupled to large number of\n  nuclei and the electron-nuclear spin echo in a quantum dot"
          ],
          [
           "simulation of robustness against lesions of cortical networks"
          ],
          [
           "a thermodynamic model for the melting of supported metal nanoparticles"
          ],
          [
           "average optimality for risk-sensitive control with general state space"
          ],
          [
           "a study of $b_{d}^0 \\to j/\\psi \\eta^{(\\prime)}$ decays in the pqcd\n  approach"
          ],
          [
           "finite-temperature phase transitions in a two-dimensional boson hubbard\n  model"
          ],
          [
           "conditional generation of path-entangled optical noon states"
          ],
          [
           "renewals for exponentially increasing lifetimes, with an application to\n  digital search trees"
          ],
          [
           "hawking radiation of linear dilaton black holes"
          ],
          [
           "the s-matrix of ads/cft and yangian symmetry"
          ],
          [
           "modelling the near-ir spectra of red supergiant-dominated populations"
          ],
          [
           "locating the peaks of least-energy solutions to a quasilinear elliptic\n  neumann problem"
          ],
          [
           "review: semiconductor quantum light sources"
          ],
          [
           "to the origin of the difference of fsi phases in $b\\to\\pi\\pi$ and\n  $b\\to\\rho\\rho$ decays"
          ],
          [
           "an invariance principle for semimartingale reflecting brownian motions\n  in domains with piecewise smooth boundaries"
          ],
          [
           "finite drude weight for 1d low temperature conductors"
          ],
          [
           "density dependent hadronic models and the relation between neutron stars\n  and neutron skin thickness"
          ],
          [
           "photoconductance of organic single-molecule contacts"
          ],
          [
           "on the over-barrier reflection in quantum mechanics with multiple\n  degrees of freedom"
          ],
          [
           "cyclotron resonance study of the electron and hole velocity in graphene\n  monolayers"
          ],
          [
           "molecular circuits based on graphene nano-ribbon junctions"
          ],
          [
           "unit groups of integral finite group rings with no noncyclic abelian\n  finite subgroups"
          ],
          [
           "exotic hadron in pole-dominated qcd sum rules"
          ],
          [
           "leaky modes of a left-handed slab"
          ],
          [
           "coulomb blockade of field emission from nanoscale conductors"
          ],
          [
           "origamis with non congruence veech groups"
          ],
          [
           "thermodynamic stability - a note on a footnote in ruelle's book"
          ],
          [
           "entanglement entropy at infinite randomness fixed points in higher\n  dimensions"
          ],
          [
           "ultrasound attenuation of superfluid $^{3}$he in aerogel"
          ],
          [
           "the hourglass - consequences of pure hamiltonian evolution of a\n  radiating system"
          ],
          [
           "the sigma-d relation for planetary nebulae: preliminary analysis"
          ],
          [
           "polarization conversion in a silica microsphere"
          ],
          [
           "limits on wimp-nucleon interactions with csi(tl) crystal detectors"
          ],
          [
           "stopping effects in u+u collisions with a beam energy of 520 mev/nucleon"
          ],
          [
           "qed for fields obeying a square root operator equation"
          ],
          [
           "feedback from first radiation sources: h- photodissociation"
          ],
          [
           "the 3d +-j ising model at the ferromagnetic transition line"
          ],
          [
           "star formation in the bok globule cb54"
          ],
          [
           "quantitative resolution to some \"absolute discrepancies\" in cancer\n  theories: a view from phage lambda genetic switch"
          ],
          [
           "reduced phase space and toric variety coordinatizations of delzant\n  spaces"
          ],
          [
           "fragmentation of general relativistic quasi-toroidal polytropes"
          ],
          [
           "a survey of huebschmann and stasheff's paper: formal solution of the\n  master equation via hpt and deformation theory"
          ],
          [
           "a variational formulation of electrodynamics with external sources"
          ],
          [
           "protein and ionic surfactants - promoters and inhibitors of contact line\n  pinning"
          ],
          [
           "type d einstein spacetimes in higher dimensions"
          ],
          [
           "eigen equation of the nonlinear spinor"
          ],
          [
           "measurement of b(d_s^+ --> ell^+ nu) and the decay constant f_d_{s^+}"
          ],
          [
           "broadening the higgs boson with right-handed neutrinos and a higher\n  dimension operator at the electroweak scale"
          ],
          [
           "coulomb blockade of anyons"
          ],
          [
           "dynamics of a quantum phase transition in a ferromagnetic bose-einstein\n  condensate"
          ],
          [
           "evidence for a planetary companion around a nearby young star"
          ],
          [
           "quantum electromagnetic x-waves"
          ],
          [
           "neutron-neutron scattering length from the reaction gamma d --> pi^+ nn\n  employing chiral perturbation theory"
          ],
          [
           "multiple unfoldings of orbifold singularities: engineering geometric\n  analogies to unification"
          ],
          [
           "geometrically engineering the standard model: locally unfolding three\n  families out of e8"
          ],
          [
           "the classification of surfaces with p_g=q=1 isogenous to a product of\n  curves"
          ],
          [
           "manipulating the rotational properties of a two-component bose gas"
          ],
          [
           "giant planet migration in viscous power-law discs"
          ],
          [
           "worldsheet instantons and torsion curves, part b: mirror symmetry"
          ],
          [
           "disorder screening near the mott-anderson transition"
          ],
          [
           "electromigrated nanoscale gaps for surface-enhanced raman spectroscopy"
          ],
          [
           "antiferromagnetism-superconductivity competition in electron-doped\n  cuprates triggered by oxygen reduction"
          ],
          [
           "an extrasolar planet census with a space-based microlensing survey"
          ],
          [
           "usco1606-1935: an unusually wide low-mass triple system?"
          ],
          [
           "particle propagation in cosmological backgrounds"
          ],
          [
           "quantum analysis of a linear dc squid mechanical displacement detector"
          ],
          [
           "rotation measures of extragalactic sources behind the southern galactic\n  plane: new insights into the large-scale magnetic field of the inner milky\n  way"
          ],
          [
           "on iterated image size for point-symmetric relations"
          ],
          [
           "the kilodegree extremely little telescope (kelt): a small robotic\n  telescope for large-area synoptic surveys"
          ],
          [
           "entanglement increase from local interactions with\n  not-completely-positive maps"
          ],
          [
           "extended solar emission - an analysis of the egret data"
          ],
          [
           "mass and temperature of the twa 7 debris disk"
          ],
          [
           "annealed importance sampling of dileucine peptide"
          ],
          [
           "a general nonlinear fokker-planck equation and its associated entropy"
          ],
          [
           "conduction electron spin-lattice relaxation time in the mgb2\n  superconductor"
          ],
          [
           "inapproximability of maximum weighted edge biclique and its applications"
          ],
          [
           "on line arrangements with applications to 3-nets"
          ],
          [
           "testing turbulence model at metric scales with mid-infrared visir images\n  at the vlt"
          ],
          [
           "density dependence of the symmetry energy and the nuclear equation of\n  state: a dynamical and statistical model perspective"
          ],
          [
           "competitive nucleation and the ostwald rule in a generalized potts model\n  with multiple metastable phases"
          ],
          [
           "contrasting two transformation-based methods for obtaining absolute\n  extrema"
          ],
          [
           "application of ewald summations to long-range dispersion forces"
          ],
          [
           "possible non-thermal nature of the soft-excess emission in the cluster\n  of galaxies sersic 159-03"
          ],
          [
           "geometric phase of an atom inside an adiabatic radio frequency potential"
          ],
          [
           "the transition from the first stars to the second stars in the early\n  universe"
          ],
          [
           "super star cluster velocity dispersions and virial masses in the m82\n  nuclear starburst"
          ],
          [
           "the affine part of the picard scheme"
          ],
          [
           "enhanced quantum zeno effect and bunching in the decay of interacting\n  bosons from an unstable state"
          ],
          [
           "the few scales of nuclei and nuclear matter"
          ],
          [
           "implementation of holonomic quantum computation through engineering and\n  manipulating environment"
          ],
          [
           "vortex state in a fulde-ferrell-larkin-ovchinnikov superconductor based\n  on the quasiclassical theory"
          ],
          [
           "search for chaotic behavior in a flapping flag"
          ],
          [
           "optimal shape design for stokes flow via minimax differentiability"
          ],
          [
           "kinematic decoupling of globular clusters with extended\n  horizontal-branch"
          ],
          [
           "scalar potential model progress"
          ],
          [
           "teleparallel version of the stationary axisymmetric solutions and their\n  energy contents"
          ],
          [
           "relativistic treatment in d-dimensions to a spin-zero particle with\n  noncentral equal scalar and vector ring-shaped kratzer potential"
          ],
          [
           "long distance signaling using axion-like particles"
          ],
          [
           "weighted percolation on directed networks"
          ],
          [
           "refuting the pseudo attack on the reesse1+ cryptosystem"
          ],
          [
           "phase structure of a surface model on dynamically triangulated spheres\n  with elastic skeletons"
          ],
          [
           "vortex dynamics at the initial stage of resistive transition in\n  superconductors with fractal cluster structure"
          ],
          [
           "the veldkamp space of two-qubits"
          ],
          [
           "fusion process studied with preequilibrium giant dipole resonance in\n  time dependent hartree-fock theory"
          ],
          [
           "penalization approach for mixed hyperbolic systems with constant\n  coefficients satisfying a uniform lopatinski condition"
          ],
          [
           "a unified analysis of the reactor neutrino program towards the\n  measurement of the theta_13 mixing angle"
          ],
          [
           "optimal routing for decode-and-forward based cooperation in wireless\n  networks"
          ],
          [
           "on the polynomial automorphisms of a group"
          ],
          [
           "on universality of critical behaviour in the focusing nonlinear\n  schr\\\"odinger equation, elliptic umbilic catastrophe and the {\\it\n  tritronqu\\'ee} solution to the painlev\\'e-i equation"
          ],
          [
           "generic representations of orthogonal groups: projective functors in the\n  category fquad"
          ],
          [
           "manifolds admitting a $\\tilde g_2$-structure"
          ],
          [
           "compatibility of exotic states with neutron star observation"
          ],
          [
           "exact solutions of einstein-yang-mills theory with higher-derivative\n  coupling"
          ],
          [
           "dimensional crossover of quantum critical behavior in cecoin$_5$"
          ],
          [
           "e_6 and the bipartite entanglement of three qutrits"
          ],
          [
           "invariance principle for additive functionals of markov chains"
          ],
          [
           "dissipative backward stochastic differential equations with locally\n  lipschitz nonlinearity"
          ],
          [
           "axino warm dark matter and $\\omega_b - \\omega_{dm}$ coincidence"
          ],
          [
           "a unified approach to sic-povms and mubs"
          ],
          [
           "stable oscillations of a predator-prey probabilistic cellular automaton:\n  a mean-field approach"
          ],
          [
           "sdss j233325.92+152222.1 and the evolution of intermediate polars"
          ],
          [
           "complexity considerations, csat lower bound"
          ],
          [
           "temperature dependence of coulomb drag between finite-length quantum\n  wires"
          ],
          [
           "effects of imperfect gate operations in shor's prime factorization\n  algorithm"
          ],
          [
           "using decomposed household food acquisitions as inputs of a kinetic\n  dietary exposure model"
          ],
          [
           "dust and gas emission in the prototypical hot core g29.96-0.02 at\n  sub-arcsecond resolution"
          ],
          [
           "hamilton-jacobi fractional sequential mechanics"
          ],
          [
           "a critical theory of quantum entanglement for the hydrogen molecule"
          ],
          [
           "fractionally charged excitations on frustrated lattices"
          ],
          [
           "measurement of decay amplitudes of b -->(c cbar) kstar with an angular\n  analysis, for (c cbar)=j/psi, psi(2s) and chi_c1"
          ],
          [
           "quantum superpositions and entanglement of thermal states at high\n  temperatures and their applications to quantum information processing"
          ],
          [
           "optimal control of stochastic differential equations with dynamical\n  boundary conditions"
          ],
          [
           "on the energy-momentum problem in static einstein universe"
          ],
          [
           "fractional wkb approximation"
          ],
          [
           "towards skyrmion stars: large baryon configurations in the\n  einstein-skyrme model"
          ],
          [
           "many-to-one throughput capacity of ieee 802.11 multi-hop wireless\n  networks"
          ],
          [
           "scanning tunneling spectroscopy in the superconducting state and vortex\n  cores of the beta-pyrochlore kos2o6"
          ],
          [
           "noncommutative solitons in a supersymmetric chiral model in 2+1\n  dimensions"
          ],
          [
           "gravitational duality transformations on (a)ds4"
          ],
          [
           "effect of transition-metal elements on the electronic properties of\n  quasicrystals and complex aluminides"
          ],
          [
           "self-diffusion and interdiffusion in al80ni20 melts: simulation and\n  experiment"
          ],
          [
           "the formation of globular cluster systems in massive elliptical\n  galaxies: globular cluster multimodality from radial variation of stellar\n  populations"
          ],
          [
           "binaries, microquasars and glast"
          ],
          [
           "linearisation of finite abelian subgroups of the cremona group of the\n  plane"
          ],
          [
           "oriented growth of pentacene films on vacuum-deposited\n  polytetrafluoroethylene layers aligned by rubbing technique"
          ],
          [
           "integral representations for convolutions of non-central multivariate\n  gamma distributions"
          ],
          [
           "on the achievable rate regions for interference channels with degraded\n  message sets"
          ],
          [
           "on complete subsets of the cyclic group"
          ],
          [
           "hilbert functions of points on schubert varieties in orthogonal\n  grassmannians"
          ],
          [
           "crossover behavior in fluids with coulomb interactions"
          ],
          [
           "reply to comment of kenzelmann and harris"
          ],
          [
           "persistent currents in superconducting quantum interference devices"
          ],
          [
           "mid-infrared fine structure line ratios in active galactic nuclei\n  observed with spitzer irs: evidence for extinction by the torus"
          ],
          [
           "neutrinos and non-proliferation in europe"
          ],
          [
           "kinks and particles in non-integrable quantum field theories"
          ],
          [
           "the old open clusters berkeley 32 and king 11"
          ],
          [
           "the genetic programming collaboration network and its communities"
          ],
          [
           "the expanding photosphere method: progress and problems"
          ],
          [
           "spontaneous lorentz violation: non-abelian gauge fields as\n  pseudo-goldstone vector bosons"
          ],
          [
           "in-medium effects on particle production in heavy ion collisions"
          ],
          [
           "the graham conjecture implies the erdos-turan conjecture"
          ],
          [
           "effective conservation of energy and momentum algorithm using switching\n  potentials suitable for molecular dynamics simulation of thermodynamical\n  systems"
          ],
          [
           "mixed chemistry phenomenon during late stages of stellar evolution"
          ],
          [
           "m-regularity of the fano surface"
          ],
          [
           "signal for space-time noncommutativity: the z -> gamma gamma decay in\n  the renormalizable gauge sector of the theta-expanded ncsm"
          ],
          [
           "laser spectroscopy of hyperfine structure in highly-charged ions: a test\n  of qed at high fields"
          ],
          [
           "confinement into a state with persistent current by thermal quenching of\n  loop of josephson junctions"
          ],
          [
           "frequency modulation fourier transform spectroscopy"
          ],
          [
           "universe without singularities. a group approach to de sitter cosmology"
          ],
          [
           "spectral action on noncommutative torus"
          ],
          [
           "the lifshitz-slyozov-wagner equation for reaction-controlled kinetics"
          ],
          [
           "canonical singular hermitian metrics on relative canonical bundles"
          ],
          [
           "yield curve shapes and the asymptotic short rate distribution in affine\n  one-factor models"
          ],
          [
           "thermally stimulated luminescence and current in new heterocyclic\n  materials for organic field transistors and organic light emitting diodes"
          ],
          [
           "a microfluidic device based on droplet storage for screening solubility\n  diagrams"
          ],
          [
           "composite fermion wave functions as conformal field theory correlators"
          ],
          [
           "$\\bz\\to\\pip\\pim\\piz$ time dependent dalitz analysis at babar"
          ],
          [
           "new organic thermally stable materials for optoelectronics devices - a\n  linear spectroscopy study"
          ],
          [
           "elativistic treatment in}$d$ - dimensions to a spin-zero particle with\n  noncentral equal scalar and vector ring-shaped kratzer potential"
          ],
          [
           "on the potential of transit surveys in star clusters: impact of\n  correlated noise and radial velocity follow-up"
          ],
          [
           "a non-perturbative proof of bertrand's theorem"
          ],
          [
           "neutron-capture elements in the double-enhanced star he 1305-0007: a new\n  s- and r-process paradigm"
          ],
          [
           "membrane in m5-branes background"
          ],
          [
           "3d photospheric velocity field of a supergranular cell"
          ],
          [
           "substructures in wings clusters"
          ],
          [
           "ising-like dynamics and frozen states in systems of ultrafine magnetic\n  particles"
          ],
          [
           "counting characters in linear group actions"
          ],
          [
           "continuous interfaces with disorder: even strong pinning is too weak in\n  2 dimensions"
          ],
          [
           "on the kk-theory of strongly self-absorbing c*-algebras"
          ],
          [
           "effective interactions from q-deformed inspired transformations"
          ],
          [
           "magnetospectroscopy of epitaxial few-layer graphene"
          ],
          [
           "dust formation and survival in supernova ejecta"
          ],
          [
           "preferential interaction coefficient for nucleic acids and other\n  cylindrical poly-ions"
          ],
          [
           "a new approach to mutual information"
          ],
          [
           "analysis of the real estate market in las vegas: bubble, seasonal\n  patterns, and prediction of the csw indexes"
          ],
          [
           "a low complexity algorithm and architecture for systematic encoding of\n  hermitian codes"
          ],
          [
           "quantum criticality and disorder in the antiferromagnetic critical point\n  of nis$_{2}$ pyrite"
          ],
          [
           "spin coherence of holes in gaas/algaas quantum wells"
          ],
          [
           "local-field effects in radiatively broadened magneto-dielectric media:\n  negative refraction and absorption reduction"
          ],
          [
           "search for a fourth generation b'-quark at lep-ii at sqrt{s}=196-209 gev"
          ],
          [
           "about curvature, conformal metrics and warped products"
          ],
          [
           "the local structure of conformally symmetric manifolds"
          ],
          [
           "investigation of colour reconnection in ww events with the delphi\n  detector at lep-2"
          ],
          [
           "evolutionary neural gas (eng): a model of self organizing network from\n  input categorization"
          ],
          [
           "solvability of linear equations within weak mixing sets"
          ],
          [
           "d-\\bar d mixing and rare d decays in the littlest higgs model with\n  non-unitarity matrix"
          ],
          [
           "alternative large nc schemes and chiral dynamics"
          ],
          [
           "the height dependence of temperature - velocity correlation in the solar\n  photosphere"
          ],
          [
           "magnetism in the high-tc analogue cs2agf4 studied with muon-spin\n  relaxation"
          ],
          [
           "reconciling the x(3872) with the near-threshold enhancement in the\n  d^0\\bar{d}^{*0} final state"
          ],
          [
           "three-dimensional effects in \"atom diodes\": atom-optical devices for\n  one-way motion"
          ],
          [
           "plasmon amplification through stimulated emission at terahertz\n  frequencies in graphene"
          ],
          [
           "on the homology of two-dimensional elimination"
          ],
          [
           "the effectiveness of quantum operations for eavesdropping on sealed\n  messages"
          ],
          [
           "shocks in nonlocal media"
          ],
          [
           "modeling the field of laser welding melt pool by rbfnn"
          ],
          [
           "solving the high energy evolution equation including running coupling\n  corrections"
          ],
          [
           "anomalous c-axis transport in layered metals"
          ],
          [
           "proper holomorphic mappings of the spectral unit ball"
          ],
          [
           "parsimony via concensus"
          ],
          [
           "millimeter imaging of hd 163296: probing the disk structure and\n  kinematics"
          ],
          [
           "spectropolarimetric observations of the ca ii 8498 a and 8542 a lines in\n  the quiet sun"
          ],
          [
           "number of moduli of irreducible families of plane curves with nodes and\n  cusps"
          ],
          [
           "search for heavy neutral mssm higgs bosons with cms: reach and\n  higgs-mass precision"
          ],
          [
           "white dwarf masses derived from planetary nebulae modelling"
          ],
          [
           "uniqueness theorems for cauchy integrals"
          ],
          [
           "on the number of moduli of plane sextics with six cusps"
          ],
          [
           "algorithm for anisotropic diffusion in hydrogen-bonded networks"
          ],
          [
           "temporal evolution of step-edge fluctuations under electromigration\n  conditions"
          ],
          [
           "renormgroup origin and analysis of split higgsino scenario"
          ],
          [
           "probing dark energy with steerable wavelets through correlation of wmap\n  and nvss local morphological measures"
          ],
          [
           "electromagnetic structure and weak decay of meson k in a light-front\n  qcd-inspired"
          ],
          [
           "black hole puncture initial data with realistic gravitational wave\n  content"
          ],
          [
           "measurement of the decay constant $f_d{_s^+}$ using $d_s^+ --> ell^+ nu"
          ],
          [
           "the $e^+ e^-\\to k^+ k^- \\pi^+\\pi^-$, $k^+ k^- \\pi^0\\pi^0$ and $k^+ k^-\n  k^+ k^-$ cross sections measured with initial-state radiation"
          ],
          [
           "orthogonality criterion for banishing hydrino states from standard\n  quantum mechanics"
          ],
          [
           "detecting and characterizing planetary systems with transit timing"
          ],
          [
           "d-wave superconductivity from electron-phonon interactions"
          ],
          [
           "a finite element framework for computation of protein normal modes and\n  mechanical response"
          ],
          [
           "reply to 'comment on 'heavy element production in inhomogeneous big bang\n  nucleosynthesis''"
          ],
          [
           "sum-over-states vs quasiparticle pictures of coherent correlation\n  spectroscopy of excitons in semiconductors; femtosecond analogues of\n  multidimensional nmr"
          ],
          [
           "are constant loop widths an artifact of the background and the spatial\n  resolution?"
          ],
          [
           "polarizations of j/psi and psi(2s) mesons produced in ppbar collisions\n  at 1.96 tev"
          ],
          [
           "a measure of the non-gaussian character of a quantum state"
          ],
          [
           "skew-hadamard matrices of orders 188 and 388 exist"
          ],
          [
           "quantum engineering of photon states with entangled atomic ensembles"
          ],
          [
           "direct photons and dileptons via color dipoles"
          ],
          [
           "mapping the youngest galaxies to redshift one"
          ],
          [
           "on the homfly and tutte polynomials"
          ],
          [
           "discovery of extreme asymmetry in the debris disk surrounding hd 15115"
          ],
          [
           "the mathematical universe"
          ],
          [
           "testing string theory with cmb"
          ],
          [
           "behavioral response to strong aversive stimuli: a neurodynamical model"
          ],
          [
           "quivers with potentials and their representations i: mutations"
          ],
          [
           "coherent macroscopic quantum tunneling in boson-fermion mixtures"
          ],
          [
           "efficiency of thin film photocells"
          ],
          [
           "galactic wind signatures around high redshift galaxies"
          ],
          [
           "`st\\\"uckelberg interferometry' with ultracold molecules"
          ],
          [
           "an integral field spectroscopic survey for high redshift damped\n  lyman-alpha galaxies"
          ],
          [
           "exploring the variable sky with the sloan digital sky survey"
          ],
          [
           "necessary optimality conditions for the calculus of variations on time\n  scales"
          ],
          [
           "the boundary conditions of the heliosphere: photoionization models\n  constrained by interstellar and in situ data"
          ],
          [
           "collective excitations in a magnetically doped quantized hall\n  ferromagnet"
          ],
          [
           "long gamma-ray burst progenitors: boundary conditions and binary models"
          ],
          [
           "multiscale model of electronic behavior and localization in stretched\n  dry dna"
          ],
          [
           "ample subvarieties and rationally connected fibrations"
          ],
          [
           "bounds for multiplicities of unitary representations of cohomological\n  type in spaces of cusp forms"
          ],
          [
           "decoherence of quantum-enhanced timing accuracy"
          ],
          [
           "stock market return distributions: from past to present"
          ],
          [
           "global well-posedness and scattering for the energy-critical, defocusing\n  hartree equation for radial data"
          ],
          [
           "string inspired explanation for the super-acceleration of our universe"
          ],
          [
           "topological free entropy dimension of in unital c^*-algebras"
          ],
          [
           "j/psi production in an equilibrating partonic system"
          ],
          [
           "reduced and extended weak coupling limit"
          ],
          [
           "complete set of polarization transfer observables for the $^{12}{\\rm\n  c}(p,n)$ reaction at 296 mev and 0$^{\\circ}$"
          ],
          [
           "learning from compressed observations"
          ],
          [
           "hamiltonian formalism in friedmann cosmology and its quantization"
          ],
          [
           "optimal stimulus and noise distributions for information transmission\n  via suprathreshold stochastic resonance"
          ],
          [
           "three different types of galaxy alignment within dark matter halos"
          ],
          [
           "proto-neutron star winds, magnetar birth, and gamma-ray bursts"
          ],
          [
           "a very massive runaway star from cygnus ob2"
          ],
          [
           "optical spectrum of the post-agb star hd56126 in the region 4010-8790 aa"
          ],
          [
           "generation of large number-path entanglement using linear optics and\n  feed-forward"
          ],
          [
           "finite branch solutions to painleve vi around a fixed singular point"
          ],
          [
           "an inverse $f(r)$ gravitation for cosmic speed up, and dark energy\n  equivalent"
          ],
          [
           "monitoring spatially heterogeneous dynamics in a drying colloidal thin\n  film"
          ],
          [
           "mapping the circumstellar sio maser emission in r leo"
          ],
          [
           "partially disordered state near ferromagnetic transition in mnsi"
          ],
          [
           "fluctuations in glassy systems"
          ],
          [
           "a generalization of chebyshev polynomials and non rooted posets"
          ],
          [
           "statistical analysis of weighted networks"
          ],
          [
           "finite dimensionality of 2-d micropolar fluid flow with periodic\n  boundary conditions"
          ],
          [
           "strong spherical asymptotics for rotor-router aggregation and the\n  divisible sandpile"
          ],
          [
           "fuzzballs with internal excitations"
          ],
          [
           "birth, survival and death of languages by monte carlo simulation"
          ],
          [
           "rigorous derivation of the mean field green functions of the two-band\n  hubbard model of superconductivity"
          ],
          [
           "geometry effects at atomic-size aluminium contacts"
          ],
          [
           "current - voltage characteristics of break junctions of high-$t_c$\n  superconductors"
          ],
          [
           "photon splitting in a laser field"
          ],
          [
           "phonon instability and structural phase transition in vanadium under\n  high pressure"
          ],
          [
           "cp violation due to multi froggatt-nielsen fields"
          ],
          [
           "rigorous results for the periodic oscillation of an adiabatic piston"
          ],
          [
           "thermal decomposition of norbornane (bicyclo[2.2.1]heptane) dissolved in\n  benzene. experimental study and mechanism investigation"
          ],
          [
           "detailed kinetic study of the ring opening of cycloalkanes by cbs-qb3\n  calculations"
          ],
          [
           "on thermal effects in solid state lasers: the case of ytterbium-doped\n  materials"
          ],
          [
           "dimensional crossover of thermal conductance in nanowires"
          ],
          [
           "transient behavior of surface plasmon polaritons scattered at a\n  subwavelength groove"
          ],
          [
           "entropic measure and wasserstein diffusion"
          ],
          [
           "second-order eikonal corrections for a(e,e'p)"
          ],
          [
           "akari detection of the infrared-bright supernova remnant b0104-72.3 in\n  the small magellanic cloud"
          ],
          [
           "flory-huggins theory for the solubility of heterogeneously-modified\n  polymers"
          ],
          [
           "on second order shape optimization methods for electrical impedance\n  tomography"
          ],
          [
           "braiding transformation, entanglement swapping and berry phase in\n  entanglement space"
          ],
          [
           "photoproduction of pi0 omega off protons for e(gamma) < 3 gev"
          ],
          [
           "two-pion exchange three-nucleon potential: o(q^4) chiral expansion"
          ],
          [
           "interference effects in above-threshold ionization from diatomic\n  molecules: determining the internuclear separation"
          ],
          [
           "neel order in the two-dimensional s=1/2 heisenberg model"
          ],
          [
           "maximum solutions of normalized ricci flows on 4-manifolds"
          ],
          [
           "phase separation and flux quantization in the doped quantum dimer model\n  on the square and triangular lattices"
          ],
          [
           "limit distributions and scaling functions"
          ],
          [
           "incommmensurability and unconventional superconductor to insulator\n  transition in the hubbard model with bond-charge interaction"
          ],
          [
           "flavor composition and energy spectrum of astrophysical neutrinos"
          ],
          [
           "gravitational wave signals from chaotic system: a point mass with a disk"
          ],
          [
           "$c^r$-lohner algorithm"
          ],
          [
           "timing evidence in determining the accretion state of the seyfert galaxy\n  ngc 3783"
          ],
          [
           "two- and three-point green's functions in two-dimensional landau-gauge\n  yang-mills theory"
          ],
          [
           "coupled electron and phonon transport in one-dimensional atomic\n  junctions"
          ],
          [
           "observation of spin-orbit berry's phase in magnetoresistance of a\n  two-dimensional hole anti-dot system"
          ],
          [
           "on the dragging of light by a rotating medium"
          ],
          [
           "long-range correlation and multifractality in bach's inventions pitches"
          ],
          [
           "circuit qed with a flux qubit strongly coupled to a coplanar\n  transmission line resonator"
          ],
          [
           "zero bias anomaly out of equilibrium"
          ],
          [
           "the first law for boosted kaluza-klein black holes"
          ],
          [
           "revisiting the issues on netflow sample and export performance"
          ],
          [
           "the tensor part of the skyrme energy density functional. i. spherical\n  nuclei"
          ],
          [
           "cosmological singularities and a conjectured gravity/coset\n  correspondence"
          ],
          [
           "acceleration and localization of matter in a ring trap"
          ],
          [
           "gro j1655-40: from asca and xmm-newton observations"
          ],
          [
           "the hellas2xmm survey. x. the bolometric output of luminous obscured\n  quasars: the spitzer perspective"
          ],
          [
           "$p$-adic haar multiresolution analysis"
          ],
          [
           "jumping through loops: on soft terms from large volume compactifications"
          ],
          [
           "driven activation versus thermal activation"
          ],
          [
           "computation of power loss in likelihood ratio tests for probability\n  densities extended by lehmann alternatives"
          ],
          [
           "vertical dynamics of disk galaxies in mond"
          ],
          [
           "al'tshuler-aronov correction to the conductivity of a large metallic\n  square network"
          ],
          [
           "magnetoconductance oscillations in metallic rings and decoherence due to\n  electron-electron interaction"
          ],
          [
           "diatomic molecule as a quantum entanglement switch"
          ],
          [
           "quantifying social group evolution"
          ],
          [
           "weak and strong taylor methods for numerical solutions of stochastic\n  differential equations"
          ],
          [
           "finite bias visibility of the electronic mach-zehnder interferometer"
          ],
          [
           "a note on higher-order differential operations"
          ],
          [
           "experimental challenges involved in searches for axion-like particles\n  and nonlinear quantum electrodynamic effects by sensitive optical techniques"
          ],
          [
           "binary systems as test-beds of gravity theories"
          ],
          [
           "some combinatorial aspects of differential operation compositions on\n  space $r^n$"
          ],
          [
           "hyperbolicity in unbounded convex domains"
          ],
          [
           "actions for the bosonic string with the curved worldsheet"
          ],
          [
           "bianchi type i massive string magnetized barotropic perfect fluid\n  cosmological model in general relativity"
          ],
          [
           "general relativity today"
          ],
          [
           "a procedure for finding the k-th power of a matrix"
          ],
          [
           "the dynamical casimir effect in braneworlds"
          ],
          [
           "bounds on negativity of superpositions"
          ],
          [
           "entangling independent photons by time measurement"
          ],
          [
           "energy conservation and onsager's conjecture for the euler equations"
          ],
          [
           "search for heavy, long-lived particles that decay to photons at cdf ii"
          ],
          [
           "failure of the work-hamiltonian connection for free energy calculations"
          ],
          [
           "dependence of the critical adsorption point on surface and sequence\n  disorders for self-avoiding walks interacting with a planar surface"
          ],
          [
           "coherent control of atomic tunneling"
          ],
          [
           "correlation functions and excitation spectrum of the frustrated\n  ferromagnetic spin-1/2 chain in an external magnetic field"
          ],
          [
           "evidence of spatially inhomogeous pairing on the insulating side of a\n  disorder-tuned superconductor-insulator transition"
          ],
          [
           "local de broglie-bohm trajectories from entangled wavefunctions"
          ],
          [
           "ground-based microlensing surveys"
          ],
          [
           "the luminous infrared composite seyfert 2 galaxy ngc 7679 through the [o\n  iii] 5007 emission line"
          ],
          [
           "the fermionic density-functional at feshbach resonance"
          ],
          [
           "chemical evolution"
          ],
          [
           "suppression of 1/f noise in one-qubit systems"
          ],
          [
           "stability of a colocated finite volume scheme for the incompressible\n  navier-stokes equations"
          ],
          [
           "collective behavior of stock price movements in an emerging market"
          ],
          [
           "galaxy morphologies and environment in the abell 901/902 supercluster\n  from combo-17"
          ],
          [
           "k_0-theory of n-potents in rings and algebras"
          ],
          [
           "spin coupling in zigzag wigner crystals"
          ],
          [
           "decoupling supergravity from the superstring"
          ],
          [
           "frobenius splitting and geometry of $g$-schubert varieties"
          ],
          [
           "high energy variability of synchrotron-self compton emitting sources:\n  why one zone models do not work and how we can fix it"
          ],
          [
           "fusion of radioactive $^{132}$sn with $^{64}$ni"
          ],
          [
           "tri-layer superlattices: a route to magnetoelectric multiferroics?"
          ],
          [
           "testing outer boundary treatments for the einstein equations"
          ],
          [
           "stability of a finite volume scheme for the incompressible fluids"
          ],
          [
           "d-brane instantons on the t^6/z_3 orientifold"
          ],
          [
           "viscoplastic properties and tribological behavior of diamond-like carbon\n  films using nanoindentation and nanoscratch tests"
          ],
          [
           "implication of the d^0 width difference on cp-violation in d^0-\\bar d^0\n  mixing"
          ],
          [
           "convergence of a finite volume scheme for the incompressible fluids"
          ],
          [
           "optimal synthesis of multiple algorithms"
          ],
          [
           "new close binary systems from the sdss-i (data release five) and the\n  search for magnetic white dwarfs in cataclysmic variable progenitor systems"
          ],
          [
           "dynamical casimir effect for gravitons in bouncing braneworlds"
          ],
          [
           "spectral analysis of swift long grbs with known redshift"
          ],
          [
           "the relationship between molecular gas tracers and kennicutt-schmidt\n  laws"
          ],
          [
           "friedmann equations and thermodynamics of apparent horizons"
          ],
          [
           "heavy-light semileptonic decays in staggered chiral perturbation theory"
          ],
          [
           "a density tensor hierarchy for open system dynamics: retrieving the\n  noise"
          ],
          [
           "scalar self-force on eccentric geodesics in schwarzschild spacetime: a\n  time-domain computation"
          ],
          [
           "nonimmersions of rp^n implied by tmf, revisited"
          ],
          [
           "spin evolution of accreting neutron stars: nonlinear development of the\n  r-mode instability"
          ],
          [
           "quantum auctions"
          ],
          [
           "fundamental solutions for a class of non-elliptic homogeneous\n  differential operators"
          ],
          [
           "hybrid-arq in multihop networks with opportunistic relay selection"
          ],
          [
           "geometric phase and superconducting flux quantization"
          ],
          [
           "equation-free implementation of statistical moment closures"
          ],
          [
           "opportunistic relay selection with limited feedback"
          ],
          [
           "the sloan digital sky survey quasar catalog iv. fifth data release"
          ],
          [
           "nuclear forces from chiral effective field theory"
          ],
          [
           "on a conjecture of em stein on the hilbert transform on vector fields"
          ],
          [
           "wide field surveys and astronomical discovery space"
          ],
          [
           "the cosmic foreground explorer (cofe): a balloon-borne microwave\n  polarimeter to characterize polarized foregrounds"
          ],
          [
           "the na i d resonance lines in main sequence late-type stars"
          ],
          [
           "dynamics of bose-einstein condensates"
          ],
          [
           "photons as quasi-charged particles"
          ],
          [
           "exchange of quantum states between coupled oscillators"
          ],
          [
           "3-d simulations of ergospheric disk driven poynting jets"
          ],
          [
           "an s_3-symmetric littlewood-richardson rule"
          ],
          [
           "two-scale structure of the electron dissipation region during\n  collisionless magnetic reconnection"
          ],
          [
           "position-velocity diagrams for the maser emission coming from a\n  keplerian ring"
          ],
          [
           "coupling of whispering-gallery modes in size-mismatched microdisk\n  photonic molecules"
          ],
          [
           "spin solid phases of spin 1 and spin 3/2 antiferromagnets on a cubic\n  lattice"
          ],
          [
           "braided quantum field theories and their symmetries"
          ],
          [
           "chromospheric flares"
          ],
          [
           "on the (3,n) maurer-cartan equation"
          ],
          [
           "electronic structure of kinetic energy driven superconductors in the\n  presence of bilayer splitting"
          ],
          [
           "9.7 micrometer silicate absorption in a damped lyman-alpha absorber at\n  z=0.52"
          ],
          [
           "photometry of the globular cluster ngc 5466: red giants and blue\n  stragglers"
          ],
          [
           "vortex molecular crystal and vortex plastic crystal states in honeycomb\n  and kagome pinning arrays"
          ],
          [
           "quark-antiquark and diquark condensates in vacuum in a 3d two-flavor\n  gross-neveu model"
          ],
          [
           "spin accumulation from the non-abelian aharonov-bohm effect"
          ],
          [
           "on packet lengths and overhead for random linear coding over the erasure\n  channel"
          ],
          [
           "terrestrial and habitable planet formation in binary and multi-star\n  systems"
          ],
          [
           "local well-posedness of nonlinear dispersive equations on modulation\n  spaces"
          ],
          [
           "p-adic arithmetic coding"
          ],
          [
           "a matroid-friendly basis for the quasisymmetric functions"
          ],
          [
           "bremsstrahlung radiation at a vacuum bubble wall"
          ],
          [
           "universal source coding for monotonic and fast decaying monotonic\n  distributions"
          ],
          [
           "moduli spaces of rational tropical curves"
          ],
          [
           "associated production of the charged higgs boson and single top quark at\n  the lhc"
          ],
          [
           "difermion condensates in vacuum in 2-4d four-fermion interaction models"
          ],
          [
           "oscillation bands of condensates on a ring: beyond the mean field theory"
          ],
          [
           "kadowaki-woods ratio of strongly coupled fermi liquids"
          ],
          [
           "structure of strange dwarfs with color superconducting core"
          ],
          [
           "information entropic superconducting microcooler"
          ],
          [
           "pi degree parity in q-skew polynomial rings"
          ],
          [
           "semi-spheroidal quantum harmonic oscillator"
          ],
          [
           "growing perfect decagonal quasicrystals by local rules"
          ],
          [
           "lrs bianchi type-v viscous fluid universe with a time dependent\n  cosmological term $\\lambda$"
          ],
          [
           "density matrix elements and entanglement entropy for the spin-1/2 xxz\n  chain at $\\delta$=1/2"
          ],
          [
           "counting on rectangular areas"
          ],
          [
           "bose-einstein correlations of direct photons in au+au collisions at\n  $\\sqrt{s_{nn}} = 200$ gev"
          ],
          [
           "normalized ricci flow on nonparabolic surfaces"
          ],
          [
           "polarization properties of subwavelength hole arrays consisting of\n  rectangular holes"
          ],
          [
           "three dimensional cooling and trapping with a narrow line"
          ],
          [
           "approximate selection rule for orbital angular momentum in atomic\n  radiative transitions"
          ],
          [
           "extrasolar scale change in newton's law from 5d `plain' r^2-gravity"
          ],
          [
           "lessons learned from the deployment of a high-interaction honeypot"
          ],
          [
           "transfinite diameter, chebyshev constant and energy on locally compact\n  spaces"
          ],
          [
           "availability assessment of sunos/solaris unix systems based on syslogd\n  and wtmpx logfiles : a case study"
          ],
          [
           "empirical analysis and statistical modeling of attack processes based on\n  honeypots"
          ],
          [
           "the low co content of the extremely metal poor galaxy i zw 18"
          ],
          [
           "a binary model for the uv-upturn of elliptical galaxies (mnras version)"
          ],
          [
           "redshifts of the long gamma-ray bursts"
          ],
          [
           "an architecture-based dependability modeling framework using aadl"
          ],
          [
           "a priori estimates for weak solutions of complex monge-amp\\`ere\n  equations"
          ],
          [
           "density oscillation in highly flattened quantum elliptic rings and\n  tunable strong dipole radiation"
          ],
          [
           "effect of electron-electron interaction on the phonon-mediated spin\n  relaxation in quantum dots"
          ],
          [
           "connected operators for the totally asymmetric exclusion process"
          ],
          [
           "proposal for an enhanced optical cooling system test in an electron\n  storage ring"
          ],
          [
           "the idv source j1128+5925, a new candidate for annual modulation?"
          ],
          [
           "spectral perturbation bounds for selfadjoint operators"
          ],
          [
           "predicting the frequencies of diverse exo-planetary systems"
          ],
          [
           "higher ramification and varieties of secant divisors on the generic\n  curve"
          ],
          [
           "the concrete theory of numbers: initial numbers and wonderful properties\n  of numbers repunit"
          ],
          [
           "non-monotone convergence in the quadratic wasserstein distance"
          ],
          [
           "the bimodality of type ia supernovae"
          ],
          [
           "structural relaxation around substitutional cr3+ in mgal2o4"
          ],
          [
           "a hierarchical approach for dependability analysis of a commercial\n  cache-based raid storage architecture"
          ],
          [
           "stochastic action principle and maximum entropy"
          ],
          [
           "constraining the dark energy equation of state with cosmic voids"
          ],
          [
           "a dark energy model combining dgp gravity and chaplygin gas"
          ],
          [
           "gauge-higgs unification and lhc/ilc"
          ],
          [
           "extension theorems of sakai type for separately holomorphic and\n  meromorphic functions"
          ],
          [
           "uniform measures and countably additive measures"
          ],
          [
           "lower bounds for the conductivities of correlated quantum systems"
          ],
          [
           "non-extensive thermodynamics of 1d systems with long-range interaction"
          ],
          [
           "nmr evidence for a strong modulation of the bose-einstein condensate in\n  bacusi$_2$o$_6$"
          ],
          [
           "bibliometric statistical properties of the 100 largest european\n  universities: prevalent scaling rules in the science system"
          ],
          [
           "on the origin of asymmetries in bilateral supernova remnants"
          ],
          [
           "reactor monitoring with neutrinos"
          ],
          [
           "nonstationary pattern in unsynchronizable complex networks"
          ],
          [
           "topological phase for spin-orbit transformations on a laser beam"
          ],
          [
           "the solar neighborhood. xix. discovery and characterization of 33 new\n  nearby white dwarf systems"
          ],
          [
           "gorenstein locus of minuscule schubert varieties"
          ],
          [
           "model c critical dynamics of random anisotropy magnets"
          ],
          [
           "a unified approach to the theory of separately holomorphic mappings"
          ],
          [
           "higher spin algebras as higher symmetries"
          ],
          [
           "calfuse v3: a data-reduction pipeline for the far ultraviolet\n  spectroscopic explorer"
          ],
          [
           "voltage-current curves for small josephson junction arrays"
          ],
          [
           "the density of critical percolation clusters touching the boundaries of\n  strips and squares"
          ],
          [
           "effective band-structure in the insulating phase versus strong dynamical\n  correlations in metallic vo2"
          ],
          [
           "new possible properties of atomic nuclei investigated by non linear\n  methods: fractal and recurrence quantification analysis"
          ],
          [
           "the use of weighting in periodicity searches in all-sky monitor data:\n  applications to the glast lat"
          ],
          [
           "dielectronic recombination of fe xv forming fe xiv: laboratory\n  measurements and theoretical calculations"
          ],
          [
           "metropolis algorithm and equienergy sampling for two mean field spin\n  systems"
          ],
          [
           "experimental test of the high-frequency quantum shot noise theory in a\n  quantum point contact"
          ],
          [
           "extragalactic radio sources and the wmap cold spot"
          ],
          [
           "l^2 rho form for normal coverings of fibre bundles"
          ],
          [
           "on the nonexistence of nontrivial involutive n-homomorphisms of\n  c*-algebras"
          ],
          [
           "smooth and starburst tidal tails in the gems and goods fields"
          ],
          [
           "nuclear spin effects in optical lattice clocks"
          ],
          [
           "domain wall switching: optimizing the energy landscape"
          ],
          [
           "electromagnetic wormholes via handlebody constructions"
          ],
          [
           "millimeter-thick single-walled carbon nanotube forests: hidden role of\n  catalyst support"
          ],
          [
           "test of nuclear level density inputs for hauser-feshbach model\n  calculations"
          ],
          [
           "the harps search for southern extra-solar planets. ix. exoplanets\n  orbiting hd 100777, hd 190647, and hd 221287"
          ],
          [
           "algebraic geometry of gaussian bayesian networks"
          ],
          [
           "interactions, superconducting $t_c$, and fluctuation magnetization for\n  two coupled dots in the crossover between the gaussian orthogonal and unitary\n  ensembles"
          ],
          [
           "two-proton radioactivity and three-body decay. iii. integral formulae\n  for decay widths in a simplified semianalytical approach"
          ],
          [
           "z^0 \\to 2\\gamma and the twisted coproduct of the poincar\\'{e} group"
          ],
          [
           "a variation of gronwall's lemma"
          ],
          [
           "when the cramer-rao inequality provides no information"
          ],
          [
           "lower order terms in the 1-level density for families of holomorphic\n  cuspidal newforms"
          ],
          [
           "spinor dynamics in an antiferromagnetic spin-1 condensate"
          ],
          [
           "a contraction theory approach to stochastic incremental stability"
          ],
          [
           "a symplectic test of the l-functions ratios conjecture"
          ],
          [
           "cosmology from string theory"
          ],
          [
           "noncommutative electromagnetism as a large n gauge theory"
          ],
          [
           "marginal solutions for the superstring"
          ],
          [
           "the isophotal structure of early-type galaxies in the sdss: dependence\n  on agn activity and environment"
          ],
          [
           "on the origin of the dichotomy of early-type galaxies: the role of dry\n  mergers and agn feedback"
          ],
          [
           "quantum and classical spins on the spatially distorted kagome lattice:\n  applications to volborthite"
          ],
          [
           "two-proton radioactivity and three-body decay. iv. connection to\n  quasiclassical formulation"
          ],
          [
           "percolation modeling of conductance of self-healing composites"
          ],
          [
           "analytic solutions for marginal deformations in open superstring field\n  theory"
          ],
          [
           "invariants of triangular lie algebras"
          ],
          [
           "approaching equilibrium and the distribution of clusters"
          ],
          [
           "does the blazar gamma-ray spectrum harden with increasing flux? analysis\n  of 9 years of egret data"
          ],
          [
           "glueball masses in (2+1)-dimensional anisotropic weakly-coupled\n  yang-mills theory"
          ],
          [
           "recovering galaxy star formation and metallicity histories from spectra\n  using vespa"
          ],
          [
           "axiom a polynomial skew products of c^2 and their postcritical sets"
          ],
          [
           "search for gravitational-wave bursts in ligo data from the fourth\n  science run"
          ],
          [
           "glast and dark matter substructure in the milky way"
          ],
          [
           "gibbs fragmentation trees"
          ],
          [
           "efficient simulations of early structure formation and reionization"
          ],
          [
           "jet-disturbed molecular gas near the seyfert 2 nucleus in m51"
          ],
          [
           "spectroscopy of nine cataclysmic variable stars"
          ],
          [
           "conservation laws for invariant functionals containing compositions"
          ],
          [
           "displacement of the sun from the galactic plane"
          ],
          [
           "correlation amplitude and entanglement entropy in random spin chains"
          ],
          [
           "sim planetquest: the most promising near-term technique to detect, find\n  masses, and determine three-dimensional orbits of nearby habitable planets"
          ],
          [
           "ir observations of ms 1054-03: star formation and its evolution in rich\n  galaxy clusters"
          ],
          [
           "sensor networks with random links: topology design for distributed\n  consensus"
          ],
          [
           "charges from attractors"
          ],
          [
           "nodeless d-wave superconducting pairing due to residual\n  antiferromagnetism in underdoped pr$_{2-x}$ce$_x$cuo$_{4-\\delta}$"
          ],
          [
           "one-dimensional brownian particle systems with rank dependent drifts"
          ],
          [
           "simultaneous swift and rem monitoring of the blazar pks0537-441 in 2005"
          ],
          [
           "theoretical status of pentaquarks"
          ],
          [
           "generating squeezed states of nanomechanical resonator"
          ],
          [
           "on the orbital period of the magnetic cataclysmic variable hs 0922+1333"
          ],
          [
           "the einstein-varicak correspondence on relativistic rigid rotation"
          ],
          [
           "nova geminorum 1912 and the origin of the idea of gravitational lensing"
          ],
          [
           "upper bounds on entangling rates of bipartite hamiltonians"
          ],
          [
           "separability criterion for multipartite pure states"
          ],
          [
           "cluster properties from two-particle angular correlations in p+p\n  collisions at $\\sqrt{s}$ = 200 and 410 gev"
          ],
          [
           "cross-layer optimization of mimo-based mesh networks with gaussian\n  vector broadcast channels"
          ],
          [
           "criteria in the selection of target events for planetary microlensing\n  follow-up observation"
          ],
          [
           "the necessary and sufficient conditions of separability for bipartite\n  pure states in infinite dimensional hilbert spaces"
          ],
          [
           "magnetic fields in protoplanetary disks"
          ],
          [
           "d0-anti-d0 mixing and cp violation in d0 vs anti-d0 to k*(+-) k(-+)\n  decays"
          ],
          [
           "the dissolution of the vacancy gas and grain boundary diffusion in\n  crystalline solids"
          ],
          [
           "vortex-induced topological transition of the bilinear-biquadratic\n  heisenberg antiferromagnet on the triangular lattice"
          ],
          [
           "recurrence analysis of the portevin-le chatelier effect"
          ],
          [
           "a topological glass"
          ],
          [
           "anomalous pressure behavior of tangential modes in single-wall carbon\n  nanotubes"
          ],
          [
           "distribution of the molecular absorption in front of the quasar\n  b0218+357"
          ],
          [
           "cosmogenic neutrinos as a probe of the transition from galactic to\n  extragalactic cosmic rays"
          ],
          [
           "spin state mixing in inas double quantum dots"
          ],
          [
           "construction of complete embedded self-similar surfaces under mean\n  curvature flow. part ii"
          ],
          [
           "daemons and dama: their celestial-mechanics interrelations"
          ],
          [
           "form factors of the exotic baryons with isospin i=5/2"
          ],
          [
           "transfer of a polaritonic qubit through a coupled cavity array"
          ],
          [
           "architecture for pseudo acausal evolvable embedded systems"
          ],
          [
           "on reference frames in spacetime and gravitational energy in freely\n  falling frames"
          ],
          [
           "a kind of prediction from string phenomenology: extra matter at low\n  energy"
          ],
          [
           "evidence for a massive protocluster in s255n"
          ],
          [
           "enumerating limit groups"
          ],
          [
           "dynamics of size-selected gold nanoparticles studied by ultrafast\n  electron nanocrystallography"
          ],
          [
           "a direct method for solving optimal switching problems of\n  one-dimensional diffusions"
          ],
          [
           "compatibility of radial, lorenz and harmonic gauges"
          ],
          [
           "late-time tails of a yang-mills field on minkowski and schwarzschild\n  backgrounds"
          ],
          [
           "mediatic graphs"
          ],
          [
           "composite structure and causality"
          ],
          [
           "brane world black rings"
          ],
          [
           "stable algebras of entire functions"
          ],
          [
           "test vectors for trilinear forms, when two representations are\n  unramified and one is special"
          ],
          [
           "generic character sheaves on disconnected groups and character values"
          ],
          [
           "measurement of d0-d0bar mixing in d0->ks pi+ pi- decays"
          ]
         ],
         "hovertemplate": "highlight=False<br>x=%{x}<br>y=%{y}<br>title=%{customdata[0]}<extra></extra>",
         "legendgroup": "False",
         "marker": {
          "color": "#636efa",
          "symbol": "circle"
         },
         "mode": "markers",
         "name": "False",
         "orientation": "v",
         "showlegend": true,
         "type": "scatter",
         "x": [
          12.0768175,
          -0.86739516,
          -0.8306329,
          0.76300675,
          -11.89297,
          -13.217837,
          -8.575556,
          12.78396,
          5.060327,
          0.15187912,
          -0.28950015,
          11.846964,
          -2.1465738,
          14.089845,
          -12.476275,
          10.375695,
          -21.87636,
          14.129193,
          -23.631939,
          10.848529,
          -11.520101,
          6.176109,
          -19.194176,
          -12.297248,
          -10.967379,
          -1.4765328,
          11.817915,
          19.42336,
          -8.756527,
          -20.962648,
          2.3850405,
          -0.12677038,
          -18.567173,
          -7.639131,
          3.838933,
          -6.3624644,
          -0.55943865,
          -6.052881,
          16.584135,
          -7.6732383,
          -15.9131365,
          14.167668,
          4.7961464,
          4.646863,
          8.737884,
          -9.741775,
          6.2725105,
          0.9518178,
          -7.3559523,
          4.240191,
          0.71978396,
          6.7548428,
          -21.83406,
          -2.7977738,
          0.77162343,
          18.05638,
          -0.1184856,
          11.913125,
          -3.3417509,
          14.803836,
          12.322806,
          -7.1422973,
          4.6986823,
          -18.018599,
          7.918358,
          -4.6310887,
          18.611322,
          -19.79478,
          -1.9877836,
          10.357172,
          14.066368,
          -2.1184084,
          -3.9464424,
          13.696861,
          -3.4603403,
          -22.388634,
          12.417387,
          -7.7334976,
          -19.897537,
          -6.661416,
          -7.807893,
          12.721048,
          5.422674,
          12.687051,
          15.334692,
          18.464266,
          2.1617448,
          -9.665205,
          4.3471203,
          -2.242872,
          13.4318495,
          9.039984,
          8.178199,
          5.5201516,
          -1.1208704,
          -5.8296647,
          0.13317166,
          15.829426,
          18.882853,
          -6.770698,
          -1.1984575,
          -4.4310055,
          12.77058,
          -23.100647,
          -10.551233,
          15.393515,
          9.122809,
          -21.727419,
          0.7787308,
          -1.7863983,
          0.8046292,
          11.848078,
          12.438927,
          6.793615,
          10.365221,
          12.8466,
          -12.367774,
          -12.113467,
          -0.13756485,
          -4.620284,
          -18.206993,
          11.170609,
          -5.374539,
          3.4576383,
          -6.8714175,
          7.214752,
          9.690597,
          17.150078,
          2.4902425,
          11.450274,
          -2.3239472,
          -18.108059,
          -1.6774296,
          12.507432,
          -3.9623134,
          -11.538211,
          14.905482,
          -14.433864,
          4.794166,
          -5.439494,
          -1.549285,
          -0.962227,
          -15.553403,
          -0.111353494,
          2.8685749,
          -6.734965,
          -7.6062593,
          5.2144575,
          17.038296,
          10.66322,
          13.608532,
          11.265345,
          13.427977,
          3.2380753,
          15.624791,
          9.961017,
          6.456064,
          16.420956,
          6.039866,
          -9.284842,
          5.4310293,
          5.95874,
          5.9376073,
          13.335224,
          -5.700663,
          -18.50759,
          -7.696684,
          -5.417252,
          -4.5041447,
          11.240174,
          13.686949,
          13.336172,
          11.938241,
          -6.108242,
          5.1141853,
          1.3673351,
          2.4255004,
          9.813142,
          15.440301,
          15.409679,
          -18.38158,
          -2.1566846,
          14.190059,
          3.8354313,
          0.8768866,
          -17.670496,
          11.62472,
          -12.352991,
          8.471305,
          -4.6742167,
          -1.1474493,
          -2.733109,
          -11.581294,
          15.48432,
          -23.024204,
          8.503455,
          0.5863156,
          -7.5794373,
          6.9481983,
          5.4904866,
          -12.483842,
          12.101107,
          5.9935327,
          8.056303,
          8.075622,
          -17.225185,
          3.963273,
          2.1779666,
          -4.0611854,
          -2.3799915,
          8.318357,
          -5.646028,
          1.6617694,
          10.78441,
          -18.079735,
          2.0345023,
          9.939161,
          11.890723,
          -20.619226,
          -8.457699,
          -19.073887,
          11.183969,
          -5.4057846,
          -11.008843,
          -15.435118,
          0.5639423,
          -0.11350177,
          5.9183207,
          -8.049198,
          3.615619,
          5.1454864,
          -9.701113,
          13.06955,
          15.724422,
          10.192815,
          -1.3569834,
          8.680583,
          9.687177,
          -2.257298,
          -21.974503,
          -14.861024,
          13.948994,
          -8.38922,
          17.20061,
          -5.466187,
          10.080081,
          -0.7313963,
          -12.464595,
          -3.630625,
          -20.67725,
          9.569994,
          -1.6423252,
          -2.0352983,
          -17.128792,
          14.500812,
          1.619842,
          -1.5140516,
          -9.604305,
          -5.332328,
          -22.949623,
          7.1635847,
          15.594703,
          -22.698498,
          -4.4371514,
          0.18727303,
          11.121542,
          -15.660243,
          -3.7826686,
          4.394654,
          10.549365,
          6.983575,
          11.450835,
          1.0289092,
          3.7789404,
          -0.61816293,
          11.162961,
          -3.5667608,
          -10.175241,
          -20.90299,
          -5.355261,
          8.109122,
          10.040881,
          -15.072846,
          2.2220218,
          -5.8151674,
          -22.200357,
          7.4174414,
          10.991793,
          10.814773,
          7.7517505,
          -8.699194,
          5.796779,
          3.0619385,
          17.26207,
          -0.3256222,
          17.825893,
          -2.0762467,
          -16.650745,
          17.264006,
          -16.371511,
          8.470501,
          -7.522662,
          11.061224,
          17.835491,
          4.1307993,
          -9.729339,
          14.645209,
          3.5257816,
          11.582103,
          -2.8886535,
          17.709122,
          -5.537539,
          -6.6151476,
          -17.98231,
          15.112331,
          9.345092,
          -15.863259,
          9.368551,
          0.61217177,
          -21.253305,
          -2.222134,
          13.8865595,
          5.669919,
          7.081941,
          -1.2812419,
          0.3940751,
          -9.006543,
          -3.236881,
          -20.770573,
          -4.262272,
          12.851464,
          -10.382834,
          4.7019734,
          5.090873,
          3.4795148,
          -6.216995,
          -5.2595353,
          17.58112,
          -19.71234,
          -0.5409774,
          -1.1269339,
          -22.47963,
          9.93881,
          -3.6056113,
          -1.4472018,
          8.5967655,
          1.2025031,
          -0.054322075,
          -4.6486278,
          5.2607636,
          -6.5903745,
          12.022403,
          17.990387,
          8.945042,
          4.911719,
          16.707533,
          -21.593657,
          -5.0437374,
          9.05054,
          -16.020947,
          6.0057425,
          4.060647,
          -17.733788,
          -18.292294,
          13.177775,
          -21.202415,
          -19.384888,
          1.966512,
          -6.1419773,
          -0.9505147,
          -0.93648326,
          -20.927334,
          13.116903,
          13.279526,
          -0.68389964,
          -4.665046,
          16.543928,
          16.327017,
          12.579495,
          11.502027,
          -3.8242192,
          -19.496588,
          0.9125672,
          -19.100525,
          -17.438725,
          -3.4178362,
          -12.916599,
          2.9848967,
          12.262285,
          -15.790539,
          8.888747,
          -18.35398,
          -13.458887,
          14.93247,
          18.08988,
          -18.74071,
          0.29686102,
          10.411202,
          -17.329098,
          14.716356,
          13.423118,
          7.701764,
          -20.971165,
          -0.75542665,
          13.88961,
          8.724024,
          -20.076675,
          -8.82406,
          10.012285,
          -11.939798,
          10.406337,
          -12.103586,
          10.090364,
          13.0286,
          -20.092445,
          9.763616,
          -11.396289,
          6.3894157,
          4.9564867,
          7.5416493,
          -10.499221,
          -6.834017,
          -16.07756,
          6.6014595,
          6.9563823,
          1.7245431,
          12.340337,
          14.875721,
          -7.2975316,
          17.145939,
          3.793898,
          7.7889533,
          -16.429518,
          -8.430281,
          -1.7335118,
          15.521728,
          1.4692377,
          12.32635,
          6.9632664,
          8.115214,
          1.050662,
          10.923765,
          2.1631224,
          -3.3409736,
          0.98080236,
          -2.8898377,
          -0.6437597,
          8.822798,
          0.4698061,
          14.952715,
          -9.363944,
          -5.1059647,
          8.983223,
          6.302927,
          8.513182,
          -3.871432,
          15.108883,
          -7.335969,
          10.489294,
          0.08941709,
          -9.188722,
          -12.448796,
          -1.6372354,
          9.865582,
          -17.874878,
          -2.5999253,
          14.832029,
          -18.96543,
          -3.7792344,
          13.905027,
          -9.431596,
          -20.972656,
          -14.223961,
          -16.689116,
          -19.39714,
          13.798477,
          -17.436575,
          13.733512,
          -12.454603,
          2.1689749,
          16.48057,
          3.9206798,
          1.0035871,
          2.023139,
          14.188949,
          9.468014,
          3.4587185,
          -10.617515,
          9.270193,
          5.8484654,
          12.388104,
          14.865446,
          -16.954012,
          7.6474576,
          -21.890543,
          -13.265124,
          10.002759,
          -8.452585,
          -0.2842097,
          12.741182,
          3.8869615,
          -10.006585,
          -9.705002,
          -12.547416,
          6.787935,
          4.874112,
          1.8304553,
          -3.0264227,
          -9.868035,
          8.561191,
          13.171365,
          1.2523553,
          9.143864,
          0.9409348,
          -15.506532,
          -20.815744,
          11.84549,
          -18.40548,
          -12.745538,
          -4.3807764,
          14.628525,
          4.8084364,
          5.233392,
          -1.2131394,
          -19.19895,
          10.613304,
          -3.773484,
          5.033026,
          16.293634,
          -19.476038,
          -7.7609057,
          3.0488389,
          0.69183993,
          13.481816,
          0.25599325,
          1.8369833,
          0.14906244,
          12.090491,
          -19.223713,
          2.0754347,
          -8.288471,
          -16.374113,
          -5.0219083,
          4.786013,
          3.3919597,
          -4.334026,
          0.5160397,
          17.440056,
          -1.1418964,
          -7.5516,
          8.101285,
          6.754467,
          -6.9509463,
          -5.787322,
          -4.295852,
          -16.651474,
          15.09349,
          5.796323,
          12.920906,
          -14.514511,
          -3.302213,
          13.92884,
          10.351882,
          -17.429634,
          6.2132373,
          -9.229527,
          1.6476598,
          -1.653191,
          -0.34205598,
          18.901928,
          -5.9189615,
          8.153036,
          8.120139,
          -0.66797066,
          -21.849932,
          -23.290619,
          -3.827681,
          -5.4531746,
          3.256797,
          -2.5585604,
          12.288975,
          -1.3198054,
          -9.490235,
          9.955944,
          -5.785895,
          -17.602392,
          3.2975283,
          9.369932,
          -2.2471716,
          -11.743404,
          11.836559,
          11.064631,
          -22.567818,
          -4.591104,
          12.448084,
          -0.9818914,
          -11.080258,
          9.075964,
          17.478598,
          -2.4516754,
          -4.37694,
          6.959475,
          -20.787434,
          5.6585608,
          -20.030205,
          3.8835962,
          -21.706785,
          -18.458748,
          -3.786994,
          4.3024774,
          10.06526,
          4.480327,
          5.6537585,
          14.954449,
          5.652071,
          1.7548549,
          13.785517,
          4.69833,
          17.929852,
          7.590715,
          -18.485205,
          -0.23922917,
          13.361206,
          17.965134,
          -21.787504,
          9.48459,
          11.134506,
          -8.958238,
          -1.0300319,
          7.1254654,
          4.2923717,
          -5.4242525,
          0.8184045,
          -0.51715076,
          -6.68438,
          0.07943352,
          -22.45217,
          -3.2004082,
          11.902637,
          6.1012306,
          11.373207,
          -7.0097513,
          5.1675615,
          -20.569468,
          13.10033,
          -7.8914695,
          -6.266582,
          -22.767021,
          -15.315517,
          11.649235,
          -3.3911374,
          -5.761235,
          7.0798254,
          1.8841791,
          14.837454,
          -13.409405,
          -19.218138,
          14.659681,
          -0.7639162,
          -18.44529,
          0.5214522,
          11.270733,
          1.0070095,
          7.6424813,
          4.013401,
          5.791639,
          -7.577239,
          2.4795787,
          14.109556,
          -1.1798142,
          5.688989,
          -12.100885,
          -17.677086,
          -4.7417064,
          -9.618668,
          14.516033,
          3.7451227,
          11.565814,
          -7.8394337,
          -14.264097,
          -23.105982,
          6.872259,
          2.344322,
          -7.7116456,
          6.163475,
          18.458324,
          1.1417729,
          -4.116473,
          9.391917,
          12.105533,
          -17.204498,
          -18.65517,
          0.2380487,
          -21.381586,
          9.035865,
          9.294431,
          -9.647115,
          7.4230556,
          -19.495493,
          -16.864464,
          8.582424,
          -21.92528,
          7.451077,
          3.7969089,
          -16.038284,
          -0.9998116,
          18.222607,
          -19.640448,
          -1.9663721,
          9.974108,
          -6.1011314,
          4.6353564,
          -2.7050307,
          -4.9513264,
          17.488571,
          -22.55987,
          -19.825644,
          -12.018198,
          -3.2004256,
          12.772183,
          11.557608,
          -19.829807,
          5.0831823,
          3.904288,
          0.46173555,
          12.486271,
          -0.99579704,
          -3.9692981,
          -0.5973809,
          14.69867,
          -19.055786,
          -1.7328926,
          -5.354081,
          5.934881,
          8.30902,
          10.437154,
          3.6615553,
          -3.409805,
          -14.731821,
          0.65858334,
          2.0873518,
          11.503565,
          1.714129,
          -5.599343,
          10.954764,
          -6.03678,
          6.9671745,
          5.2084,
          -17.97094,
          14.538796,
          -17.527794,
          -3.5660164,
          -3.6641748,
          -8.882166,
          -4.9178677,
          -17.251572,
          -18.313818,
          -20.616522,
          14.3058195,
          13.762435,
          -10.725536,
          14.489861,
          -5.4278684,
          -0.8256778,
          16.458406,
          16.593874,
          -3.1054661,
          12.78476,
          -2.4645143,
          -11.938134,
          -10.703311,
          -20.091093,
          11.778301,
          -14.38498,
          -20.249763,
          5.4453225,
          2.7702553,
          -17.332996,
          9.815276,
          9.914448,
          3.4059174,
          0.1828736,
          -16.318382,
          9.908835,
          12.310172,
          2.9270713,
          -12.086665,
          -2.2423792,
          9.615246,
          8.702719,
          4.296707,
          2.6825736,
          -19.167698,
          -0.7022963,
          -2.25792,
          -2.6087162,
          14.371789,
          -17.742287,
          -13.456187,
          3.8053625,
          -12.255181,
          -21.613527,
          12.610685,
          -19.374962,
          -15.996241,
          9.430498,
          -11.575272,
          -1.0699009,
          -7.848957,
          0.82158834,
          -20.735344,
          -9.476362,
          6.5239844,
          -18.212927,
          -2.2365682,
          9.26508,
          14.469805,
          -21.429907,
          15.256257,
          17.341076,
          1.7389704,
          3.130025,
          3.930688,
          2.3364465,
          -20.565445,
          -23.080034,
          10.721718,
          -5.388923,
          -20.71735,
          4.9734216,
          15.150723,
          -5.6893573,
          6.2974167,
          5.234679,
          -7.198106,
          2.9389565,
          -19.804909,
          -16.547297,
          5.5167537,
          12.37131,
          14.566703,
          11.237221,
          -23.24576,
          5.6169734,
          4.7710133,
          -0.45577848,
          -18.713955,
          15.925063,
          -16.98057,
          -8.695182,
          -7.9462037,
          -1.2613935,
          7.4127836,
          12.7901535,
          -16.350195,
          15.910243,
          2.2692416,
          17.168213,
          -5.0852494,
          0.5002509,
          14.825194,
          -9.166869,
          -6.8279777,
          5.899318,
          8.738154,
          7.840878,
          -18.890388,
          10.589029,
          7.92951,
          -3.0832584,
          9.768005,
          19.398077,
          10.25962,
          8.618535,
          10.2356,
          -2.6178758,
          12.806292,
          6.038113,
          -17.754272,
          -8.104963,
          -24.128374,
          -8.661312,
          -11.905585,
          4.171813,
          7.9915514,
          12.777927,
          -1.406397,
          -1.2085576,
          -1.0789163,
          16.626135,
          5.6755257,
          1.457272,
          9.377637,
          6.469304,
          -9.844557,
          -17.281038,
          11.339095,
          -12.893763,
          1.3928938,
          15.602435,
          7.912966,
          -0.8351677,
          -9.276854,
          18.016941,
          9.03992,
          -2.8008547,
          1.6586193,
          6.925759,
          -20.563513,
          -0.76047176,
          7.5787835,
          -6.4278593,
          7.4691424,
          7.748049,
          2.4715898,
          4.381278,
          -8.328559,
          -1.6372757,
          0.0690402,
          -2.3075354,
          7.3693824,
          -20.401743,
          12.902396,
          7.71892,
          -0.181754,
          -3.6423638,
          4.8342156,
          16.265,
          13.207841,
          -12.538509,
          -2.7384863,
          -21.909077,
          19.231152,
          10.801016,
          12.465748,
          4.1375775,
          -6.393934,
          -4.0731764,
          5.7934046,
          18.323278,
          -3.7338886,
          0.8739398,
          2.4273229,
          15.952505,
          16.258276,
          16.420246,
          -3.0311174,
          3.3052473,
          4.1368804,
          3.7421224,
          -13.717512,
          -13.056791,
          -21.480982,
          16.072409,
          -1.7393051,
          -22.954227,
          9.646866,
          -6.346494,
          -4.261149,
          -0.449708,
          4.7959757,
          14.204944,
          -6.8317995,
          -10.281167,
          0.25819486,
          5.616542,
          4.296539,
          -1.0669124,
          -17.953379,
          -2.364376,
          -18.94668,
          6.476566,
          9.810915,
          -4.874109,
          17.77028,
          -2.551404,
          13.862404,
          5.3115816,
          0.47835964,
          -21.801914,
          -6.865412,
          11.920329,
          1.7380232,
          11.204688,
          7.0780077
         ],
         "xaxis": "x",
         "y": [
          -7.9621825,
          -10.867136,
          9.415751,
          12.201201,
          -4.1370153,
          8.267551,
          9.517737,
          -3.594994,
          -10.794124,
          9.829572,
          7.6083484,
          -3.4130158,
          4.251481,
          -7.023333,
          -5.0293736,
          2.2260563,
          -0.17780384,
          -8.357573,
          -3.6949792,
          0.42515388,
          2.1353438,
          -10.149184,
          -2.9892716,
          -5.022943,
          8.96807,
          10.307074,
          3.1507478,
          -4.7404933,
          3.2971265,
          -2.0024474,
          4.3724833,
          6.00455,
          -4.979794,
          10.081632,
          3.7852657,
          3.6699471,
          -12.532419,
          5.2951326,
          -0.2938108,
          4.4953146,
          -1.8655386,
          0.9517943,
          -12.336992,
          -12.791812,
          1.4575013,
          3.3428657,
          -14.22846,
          4.1057167,
          13.603251,
          0.06253832,
          -13.749731,
          -12.861876,
          -0.19453095,
          3.364202,
          2.7292352,
          -2.6384358,
          4.6116357,
          1.9226679,
          4.6591887,
          3.9294064,
          0.3542359,
          -2.0782757,
          11.670885,
          -3.4689748,
          0.63296884,
          8.495429,
          -6.2336245,
          1.0229914,
          -12.355722,
          -3.0834467,
          -2.6194308,
          -9.889638,
          5.4545302,
          -6.614148,
          15.095961,
          0.78432566,
          -0.8922609,
          6.4181604,
          -1.0236609,
          8.24371,
          2.2858634,
          4.061354,
          -2.2227933,
          5.1244116,
          -2.4916775,
          0.87483567,
          -11.232834,
          10.804922,
          -11.470329,
          -1.2825749,
          0.43807262,
          -9.515229,
          -2.1125152,
          -12.884613,
          11.816816,
          7.170208,
          11.290139,
          2.4814408,
          -1.0549983,
          10.552633,
          14.207381,
          11.948404,
          -2.0075266,
          -3.5174649,
          10.249425,
          -8.600101,
          -8.396924,
          -4.7688704,
          -11.334852,
          0.89754575,
          7.299127,
          -3.4348032,
          -2.9832115,
          -11.046961,
          0.34194475,
          -4.7459965,
          -6.43775,
          -4.986496,
          -9.69674,
          2.964835,
          -2.2681384,
          -7.786471,
          4.3819366,
          12.996886,
          7.4752617,
          -1.9428196,
          3.43656,
          1.5019381,
          5.450034,
          -5.831159,
          2.6383083,
          1.6385852,
          5.6988688,
          3.9636736,
          10.460807,
          6.404848,
          4.658062,
          -2.399807,
          4.008771,
          8.913901,
          11.269929,
          8.368993,
          -3.4469905,
          -9.931398,
          1.598874,
          8.41007,
          3.6438985,
          -14.741814,
          -8.350009,
          -4.5091286,
          -3.4238257,
          0.61547804,
          2.2139652,
          -10.984669,
          2.4155746,
          0.06979339,
          -3.8669407,
          5.188554,
          0.89316386,
          13.310601,
          -0.24204065,
          -12.022442,
          2.118863,
          1.0192089,
          1.8401157,
          0.9209319,
          7.817493,
          11.155241,
          2.2519732,
          1.8280659,
          5.061631,
          -2.5495458,
          -11.163075,
          5.245317,
          -2.1361005,
          4.0782976,
          -1.3289952,
          -10.714225,
          -3.9920948,
          -4.707161,
          -2.2795255,
          4.9579496,
          2.1242046,
          -13.036318,
          12.351248,
          -1.7748822,
          -2.2286093,
          -5.0940466,
          -0.8482322,
          6.6262784,
          5.6341677,
          1.8954796,
          6.4417744,
          1.8872316,
          -1.2030476,
          -8.924763,
          3.5816975,
          8.733354,
          1.2186346,
          8.378623,
          6.2502007,
          -0.20820524,
          2.1575189,
          -3.1956196,
          2.6693122,
          -4.6644506,
          -12.935524,
          9.634329,
          3.528952,
          10.510434,
          -2.1694996,
          12.288213,
          8.886614,
          -8.692946,
          -5.4453998,
          12.25207,
          -4.0505667,
          2.7706592,
          -4.6252384,
          6.279361,
          0.87789375,
          -1.2080501,
          3.7374468,
          4.9641156,
          -2.5176213,
          -11.26296,
          9.310441,
          -10.993463,
          5.2850504,
          11.869446,
          -10.498195,
          6.7554946,
          5.209318,
          -4.591579,
          -3.7558882,
          8.263672,
          -3.2265205,
          1.0215427,
          11.944525,
          -1.4476333,
          -3.2635725,
          -0.55098194,
          6.097223,
          -3.0699036,
          10.119593,
          1.8140835,
          -13.553025,
          5.1065235,
          8.817927,
          -2.5378942,
          2.4367108,
          5.6019907,
          7.120267,
          -3.0961668,
          -10.3102865,
          5.535075,
          7.600024,
          4.4767494,
          0.32338545,
          -4.5229692,
          -0.16490118,
          -6.8361907,
          -2.4729896,
          4.184467,
          6.6649756,
          -7.1850047,
          -2.0100944,
          5.302777,
          -4.246951,
          -5.465615,
          -6.4774795,
          -4.564268,
          -10.624633,
          6.8020725,
          -12.643175,
          4.1559343,
          6.1489353,
          4.0935345,
          -5.818172,
          5.592484,
          -4.7578974,
          -9.575293,
          -1.365204,
          7.68298,
          6.8686,
          -3.08356,
          0.9763939,
          -1.2963349,
          3.2137053,
          2.9130733,
          6.066993,
          -10.689643,
          8.24271,
          1.5953925,
          6.3592052,
          -1.0945641,
          9.04071,
          -5.564005,
          -4.182134,
          -0.23948467,
          -5.523984,
          0.75535935,
          -3.215124,
          4.275687,
          -12.476774,
          8.726101,
          -0.98891133,
          5.357173,
          -5.847734,
          10.926781,
          0.056073748,
          7.296547,
          9.616833,
          -0.06421915,
          -1.4842876,
          -2.5961025,
          -4.225122,
          -0.8110755,
          4.3141026,
          0.6768749,
          9.3708515,
          3.241109,
          -14.040173,
          -2.9230893,
          -11.587605,
          7.488636,
          11.865432,
          7.848116,
          2.2556062,
          6.267788,
          0.9645227,
          5.8706,
          -9.947177,
          -14.096915,
          13.26975,
          9.364173,
          0.706182,
          2.4350677,
          -3.30708,
          6.836926,
          11.061118,
          -3.2100031,
          -5.955672,
          12.182891,
          7.686269,
          -1.4424981,
          -9.052413,
          7.257308,
          6.8684726,
          -5.898561,
          5.21975,
          -1.0890284,
          -2.9899151,
          -5.1575923,
          -11.547437,
          -0.14697358,
          -3.1255095,
          7.933536,
          -3.9326963,
          -4.328366,
          -14.01123,
          9.798991,
          -3.2810686,
          -4.733021,
          4.097588,
          -3.5598996,
          -1.172471,
          -10.4608755,
          10.276909,
          14.310808,
          3.714149,
          -1.1665343,
          -2.4795852,
          -1.2934914,
          5.624293,
          7.286508,
          -4.8925457,
          -1.5238239,
          -2.1889384,
          5.046054,
          10.003583,
          -0.4709645,
          5.715977,
          -3.4614248,
          -4.0875993,
          6.1496553,
          -4.7481213,
          -14.034189,
          5.5551586,
          -2.181832,
          5.231954,
          -1.5934551,
          -6.436635,
          0.69400847,
          -0.5294353,
          -1.3684275,
          5.051115,
          -4.40043,
          -2.7410316,
          -3.6658704,
          -4.055991,
          -12.385229,
          2.2182202,
          7.5697646,
          -8.4092245,
          1.8030298,
          -2.1943192,
          2.631233,
          -2.2518222,
          9.209658,
          -0.908438,
          0.33032855,
          4.361163,
          -0.34408545,
          -2.7280283,
          -8.610992,
          3.258764,
          -2.1634154,
          -12.154107,
          -3.1956246,
          1.333525,
          1.9548014,
          -1.7621161,
          3.201777,
          -11.976106,
          -12.710802,
          -0.7292205,
          -6.3895926,
          5.766254,
          -3.8196623,
          9.810189,
          -1.6483198,
          -0.8809404,
          5.635577,
          2.420629,
          1.1228707,
          7.5358067,
          3.7358365,
          -3.2306335,
          -7.091856,
          -12.31511,
          1.2152046,
          -3.3516304,
          15.042967,
          12.644946,
          8.787593,
          5.1573763,
          0.7710321,
          -11.418796,
          6.179655,
          4.93662,
          6.4581194,
          -1.1867853,
          -9.301609,
          3.8403986,
          8.749414,
          -3.552455,
          1.596179,
          -6.714912,
          -8.572237,
          5.1979103,
          7.469327,
          6.3839426,
          -0.8385544,
          -3.914648,
          5.5292764,
          5.8917937,
          -1.6756933,
          9.316543,
          -0.19922198,
          4.7740173,
          -1.9646411,
          -6.9305058,
          0.039198026,
          -4.9195313,
          -6.041193,
          -5.477929,
          -3.255677,
          -4.880594,
          13.664029,
          -0.20507494,
          2.2748315,
          -12.670926,
          -13.504777,
          -7.0152693,
          -8.470846,
          6.781601,
          4.0821366,
          -5.105233,
          -0.43908972,
          -5.1935525,
          3.7552948,
          -2.2590356,
          -0.6899975,
          -3.1319096,
          -5.518787,
          -3.0827734,
          7.856761,
          14.308961,
          -0.80425006,
          11.406426,
          8.303255,
          10.75905,
          7.769696,
          -1.2958705,
          -10.599016,
          -11.713005,
          13.175627,
          5.507121,
          0.38529018,
          -5.7708855,
          10.6467,
          -0.39077762,
          6.519295,
          0.05414775,
          -4.6093664,
          -7.0151544,
          -0.7426538,
          -6.340769,
          5.0143075,
          -3.8229277,
          -11.544639,
          -1.0606674,
          8.65067,
          -4.1583743,
          -3.4450727,
          5.358972,
          0.94672537,
          2.917752,
          -2.3789763,
          8.920203,
          14.284696,
          2.033376,
          -4.007189,
          -11.250924,
          4.7050767,
          8.233594,
          0.73877555,
          -3.884203,
          11.11263,
          12.287777,
          -2.7860415,
          -1.5206888,
          -4.3716273,
          -8.899522,
          10.799866,
          5.1518636,
          0.3624259,
          4.390551,
          6.7120295,
          -0.3559209,
          -10.68971,
          -0.09910571,
          8.060767,
          1.4330989,
          0.74494946,
          -6.2991924,
          10.659695,
          1.3775694,
          0.76658714,
          14.957291,
          -4.596685,
          2.0965705,
          -1.8448335,
          -8.052419,
          1.3024224,
          6.39642,
          13.762763,
          9.062755,
          0.99489117,
          10.037355,
          5.3157477,
          -7.241707,
          -13.090769,
          -0.798887,
          -1.660249,
          2.0843503,
          5.7245646,
          6.77611,
          1.7876602,
          -7.350071,
          -6.993424,
          3.875808,
          -2.0662763,
          11.992034,
          1.6178935,
          14.316827,
          -1.5509832,
          4.239999,
          6.234429,
          -2.2538352,
          -8.765997,
          -2.3859642,
          12.285074,
          3.8919256,
          5.6380873,
          7.118932,
          -2.287432,
          -1.5448395,
          8.117729,
          7.4166284,
          -14.099008,
          -0.40928122,
          -3.3117435,
          -0.89311475,
          -10.745837,
          -3.5160923,
          -0.257517,
          -0.6418168,
          -10.087364,
          -5.8324623,
          -7.5751123,
          -11.890165,
          0.89329576,
          -6.923595,
          -10.3873825,
          -1.8121716,
          -11.388665,
          -0.96480125,
          -0.21209435,
          0.638655,
          1.9233512,
          5.913409,
          2.4808807,
          -3.702576,
          -0.12908047,
          3.1564386,
          7.25854,
          2.960556,
          0.1464053,
          8.961947,
          3.761878,
          9.619067,
          3.302722,
          15.426366,
          -0.2174066,
          -3.7729182,
          4.346697,
          -4.158893,
          0.17238589,
          -2.0147827,
          4.412793,
          -12.474771,
          -3.7598686,
          -6.9405212,
          8.870504,
          2.4842644,
          -4.359081,
          -1.0280652,
          1.1371315,
          4.264409,
          13.857656,
          -10.325739,
          8.080587,
          3.860008,
          -4.099795,
          -3.9177635,
          -1.2080884,
          -0.3577954,
          -1.5881628,
          -14.12474,
          -9.632133,
          4.79016,
          -7.482207,
          -11.683449,
          -12.840385,
          3.5878472,
          6.32645,
          -5.160876,
          -12.315177,
          -14.785018,
          12.315105,
          0.66226625,
          5.7173686,
          11.060592,
          -2.9817011,
          5.310858,
          -0.6387561,
          2.1678658,
          -6.91476,
          -4.6768665,
          -4.709488,
          3.4511924,
          13.544671,
          8.12662,
          -1.4958459,
          -8.921124,
          9.91063,
          -7.3278084,
          -2.754453,
          -0.26195255,
          -3.1594532,
          -0.29177293,
          -6.016305,
          -1.1875242,
          -3.083462,
          9.439989,
          -5.5892377,
          -3.40406,
          -1.304508,
          5.1481133,
          -0.27886152,
          1.2743924,
          -9.856686,
          -1.7422926,
          -10.941611,
          2.5758357,
          -2.2867758,
          8.231634,
          -2.6554744,
          3.883041,
          13.289881,
          6.373429,
          9.671115,
          1.5117184,
          -5.510067,
          -1.625574,
          12.052756,
          3.0119689,
          -0.68927515,
          -7.1164246,
          -5.41975,
          9.7588625,
          -1.0624623,
          8.414394,
          1.6890293,
          4.4336233,
          8.049686,
          10.309911,
          -0.42415422,
          -2.0409274,
          6.0545363,
          0.60701287,
          -11.426266,
          -4.0270195,
          5.533424,
          11.304081,
          11.236756,
          -0.50113034,
          10.49279,
          11.042469,
          0.18927243,
          2.9791784,
          12.78042,
          -1.5395365,
          5.901526,
          2.7664907,
          -4.8346863,
          -1.3672401,
          1.5141088,
          -1.5903289,
          8.9257965,
          5.1981525,
          8.255972,
          8.124122,
          -0.78560406,
          -3.9900706,
          0.36230317,
          -1.6761556,
          2.899331,
          7.3453207,
          -10.31713,
          10.951181,
          1.7463481,
          -2.5609229,
          -1.6292804,
          -10.96025,
          0.60899913,
          1.2516615,
          11.76699,
          8.102008,
          -4.134648,
          -4.1550317,
          -3.1997864,
          -2.3568382,
          9.507388,
          -10.035346,
          -1.7850456,
          1.0783213,
          5.6885047,
          13.430476,
          0.3105217,
          1.0947415,
          -4.56036,
          0.28823024,
          8.394699,
          4.1341534,
          3.8534667,
          -10.319414,
          0.26169774,
          7.678414,
          10.00454,
          1.5722209,
          11.934981,
          8.617327,
          7.5950294,
          -2.301678,
          -2.5180433,
          -4.773976,
          -12.092068,
          10.549969,
          -5.995578,
          -5.205323,
          -0.7679491,
          -2.7940912,
          2.3608725,
          6.4305058,
          -11.225642,
          9.425787,
          9.508549,
          -6.0948915,
          5.946012,
          3.2289898,
          -2.6948164,
          10.289395,
          -2.7511473,
          1.623844,
          -2.6102366,
          -2.3660505,
          -6.0712786,
          -13.652047,
          -5.8332887,
          -10.76146,
          9.850027,
          -3.0094752,
          -0.5954791,
          -0.757322,
          8.644979,
          -6.110534,
          -12.522268,
          -0.552836,
          6.783612,
          -12.670649,
          -11.4026165,
          6.0760775,
          8.711145,
          0.15260178,
          -4.3208685,
          -14.6945095,
          -7.882128,
          1.6634784,
          3.237925,
          -0.7703867,
          -13.490832,
          -13.003195,
          7.430565,
          -5.3630786,
          -4.515379,
          -4.19085,
          8.629101,
          10.240022,
          12.01058,
          -1.3125014,
          -9.730647,
          -2.8055468,
          -5.9473953,
          9.652973,
          -3.4980068,
          2.7218347,
          -12.087027,
          0.82260436,
          0.072648786,
          4.5701275,
          -9.8687725,
          -6.8727703,
          -7.3706894,
          -5.9320316,
          6.555012,
          -2.4928746,
          0.562802,
          0.054446705,
          -2.9029121,
          -11.065535,
          -0.16929272,
          -5.1705017,
          10.08913,
          -3.941007,
          -11.393533,
          -1.134056,
          6.906486,
          -2.705796,
          4.184624,
          9.401929,
          -13.60182,
          -0.5603095,
          2.259803,
          6.578296,
          -12.374906,
          12.450079,
          1.3027277,
          8.278539,
          8.556975,
          1.7622831,
          -0.32922277,
          7.235991,
          -2.8391547,
          0.23428948,
          6.5266495,
          5.077047,
          2.5488892,
          2.4837186,
          3.076058,
          1.7769629,
          -6.3280215,
          -1.1936475,
          7.3096385,
          1.5461386,
          -4.64211,
          -3.209685,
          -7.664592,
          -1.6053572,
          7.248157,
          0.044324927,
          2.1523247,
          7.3263226,
          -14.362969,
          12.262614,
          9.725707,
          -12.34044,
          5.5163474,
          -8.059433,
          -4.79493,
          3.2188778,
          -3.3831778,
          13.011153,
          8.999132,
          -9.442512,
          -1.4008106,
          7.075315,
          7.6944494,
          6.707419,
          -4.5886025,
          0.8513408,
          -2.4756875,
          -8.709195,
          -11.336119,
          6.734526,
          10.006567,
          -3.2220016,
          -6.3445573,
          7.2041583,
          4.6529775,
          -9.990673,
          -0.15686375,
          -2.61993,
          6.5932245,
          10.907373,
          9.225911,
          13.333568,
          -2.5471938,
          -4.8632245,
          -5.691226,
          -2.242975,
          3.8183765,
          -9.520401,
          -2.0227225,
          -0.60683304,
          10.997028,
          13.446984,
          15.809246,
          5.66299,
          -5.2649946,
          7.616857,
          2.8042545,
          -11.1825285,
          -0.9366443,
          -11.393335,
          -9.555777,
          -0.7977551,
          12.432921,
          0.24606733,
          -1.2947688,
          -1.5060688,
          10.705043,
          4.23745,
          14.932101,
          4.867139,
          -11.019373,
          14.089229,
          -3.87317,
          11.721128,
          6.5129423,
          7.321415,
          4.0019975,
          -13.118447
         ],
         "yaxis": "y"
        },
        {
         "customdata": [
          [
           "huge magneto-crystalline anisotropy of x-ray linear dichroism observed\n  on co/femn bilayers"
          ],
          [
           "discovery of x-ray emission from the young radio pulsar psr j1357-6429"
          ],
          [
           "the radio emission, x-ray emission, and hydrodynamics of g328.4+0.2: a\n  comprehensive analysis of a luminous pulsar wind nebula, its neutron star,\n  and the progenitor supernova explosion"
          ],
          [
           "near-infrared spectra of the black hole x-ray binary, a0620-00"
          ],
          [
           "diffuse x-ray emission from the carina nebula observed with suzaku"
          ],
          [
           "dramatic variability of x-ray absorption lines in the black hole\n  candidate cygnus x-1"
          ],
          [
           "modeling accretion disk x-ray continuum of black hole candidates"
          ],
          [
           "non-resonant and resonant x-ray scattering studies on multiferroic\n  tbmn2o5"
          ],
          [
           "swift/xrt observes the fifth outburst of the periodic supergiant fast\n  x-ray transient igr j11215-5952"
          ],
          [
           "x-ray dichroism and the pseudogap phase of cuprates"
          ],
          [
           "study on correlations between the twin kilohertz quasi-periodic\n  oscillations in low-mass x-ray binaries"
          ],
          [
           "constraints on the interactions between dark matter and baryons from the\n  x-ray quantum calorimetry experiment"
          ],
          [
           "jet interactions in massive x-ray binaries"
          ],
          [
           "compton x-ray and gamma-ray emission from extended radio galaxies"
          ],
          [
           "x-ray timing observations of psr j1930+1852 in the crab-like snr\n  g54.1+0.3"
          ]
         ],
         "hovertemplate": "highlight=True<br>x=%{x}<br>y=%{y}<br>title=%{customdata[0]}<extra></extra>",
         "legendgroup": "True",
         "marker": {
          "color": "#EF553B",
          "symbol": "circle"
         },
         "mode": "markers",
         "name": "True",
         "orientation": "v",
         "showlegend": true,
         "type": "scatter",
         "x": [
          -9.678768,
          -14.065742,
          -4.7813296,
          5.1530433,
          -1.0916065,
          8.539427,
          -2.9980512,
          -5.5598326,
          -4.5937457,
          19.247404,
          -3.9451668,
          -2.7481217,
          19.963184,
          -11.1196375,
          -4.2508674
         ],
         "xaxis": "x",
         "y": [
          6.9984756,
          -3.398461,
          6.813565,
          -4.791785,
          -10.885464,
          3.7478592,
          0.27266288,
          4.5458403,
          10.151399,
          1.3042701,
          3.2655613,
          7.172401,
          -1.0433916,
          4.953108,
          4.364776
         ],
         "yaxis": "y"
        }
       ],
       "layout": {
        "height": 1000,
        "legend": {
         "title": {
          "text": "highlight"
         },
         "tracegroupgap": 0
        },
        "template": {
         "data": {
          "bar": [
           {
            "error_x": {
             "color": "#2a3f5f"
            },
            "error_y": {
             "color": "#2a3f5f"
            },
            "marker": {
             "line": {
              "color": "#E5ECF6",
              "width": 0.5
             },
             "pattern": {
              "fillmode": "overlay",
              "size": 10,
              "solidity": 0.2
             }
            },
            "type": "bar"
           }
          ],
          "barpolar": [
           {
            "marker": {
             "line": {
              "color": "#E5ECF6",
              "width": 0.5
             },
             "pattern": {
              "fillmode": "overlay",
              "size": 10,
              "solidity": 0.2
             }
            },
            "type": "barpolar"
           }
          ],
          "carpet": [
           {
            "aaxis": {
             "endlinecolor": "#2a3f5f",
             "gridcolor": "white",
             "linecolor": "white",
             "minorgridcolor": "white",
             "startlinecolor": "#2a3f5f"
            },
            "baxis": {
             "endlinecolor": "#2a3f5f",
             "gridcolor": "white",
             "linecolor": "white",
             "minorgridcolor": "white",
             "startlinecolor": "#2a3f5f"
            },
            "type": "carpet"
           }
          ],
          "choropleth": [
           {
            "colorbar": {
             "outlinewidth": 0,
             "ticks": ""
            },
            "type": "choropleth"
           }
          ],
          "contour": [
           {
            "colorbar": {
             "outlinewidth": 0,
             "ticks": ""
            },
            "colorscale": [
             [
              0,
              "#0d0887"
             ],
             [
              0.1111111111111111,
              "#46039f"
             ],
             [
              0.2222222222222222,
              "#7201a8"
             ],
             [
              0.3333333333333333,
              "#9c179e"
             ],
             [
              0.4444444444444444,
              "#bd3786"
             ],
             [
              0.5555555555555556,
              "#d8576b"
             ],
             [
              0.6666666666666666,
              "#ed7953"
             ],
             [
              0.7777777777777778,
              "#fb9f3a"
             ],
             [
              0.8888888888888888,
              "#fdca26"
             ],
             [
              1,
              "#f0f921"
             ]
            ],
            "type": "contour"
           }
          ],
          "contourcarpet": [
           {
            "colorbar": {
             "outlinewidth": 0,
             "ticks": ""
            },
            "type": "contourcarpet"
           }
          ],
          "heatmap": [
           {
            "colorbar": {
             "outlinewidth": 0,
             "ticks": ""
            },
            "colorscale": [
             [
              0,
              "#0d0887"
             ],
             [
              0.1111111111111111,
              "#46039f"
             ],
             [
              0.2222222222222222,
              "#7201a8"
             ],
             [
              0.3333333333333333,
              "#9c179e"
             ],
             [
              0.4444444444444444,
              "#bd3786"
             ],
             [
              0.5555555555555556,
              "#d8576b"
             ],
             [
              0.6666666666666666,
              "#ed7953"
             ],
             [
              0.7777777777777778,
              "#fb9f3a"
             ],
             [
              0.8888888888888888,
              "#fdca26"
             ],
             [
              1,
              "#f0f921"
             ]
            ],
            "type": "heatmap"
           }
          ],
          "heatmapgl": [
           {
            "colorbar": {
             "outlinewidth": 0,
             "ticks": ""
            },
            "colorscale": [
             [
              0,
              "#0d0887"
             ],
             [
              0.1111111111111111,
              "#46039f"
             ],
             [
              0.2222222222222222,
              "#7201a8"
             ],
             [
              0.3333333333333333,
              "#9c179e"
             ],
             [
              0.4444444444444444,
              "#bd3786"
             ],
             [
              0.5555555555555556,
              "#d8576b"
             ],
             [
              0.6666666666666666,
              "#ed7953"
             ],
             [
              0.7777777777777778,
              "#fb9f3a"
             ],
             [
              0.8888888888888888,
              "#fdca26"
             ],
             [
              1,
              "#f0f921"
             ]
            ],
            "type": "heatmapgl"
           }
          ],
          "histogram": [
           {
            "marker": {
             "pattern": {
              "fillmode": "overlay",
              "size": 10,
              "solidity": 0.2
             }
            },
            "type": "histogram"
           }
          ],
          "histogram2d": [
           {
            "colorbar": {
             "outlinewidth": 0,
             "ticks": ""
            },
            "colorscale": [
             [
              0,
              "#0d0887"
             ],
             [
              0.1111111111111111,
              "#46039f"
             ],
             [
              0.2222222222222222,
              "#7201a8"
             ],
             [
              0.3333333333333333,
              "#9c179e"
             ],
             [
              0.4444444444444444,
              "#bd3786"
             ],
             [
              0.5555555555555556,
              "#d8576b"
             ],
             [
              0.6666666666666666,
              "#ed7953"
             ],
             [
              0.7777777777777778,
              "#fb9f3a"
             ],
             [
              0.8888888888888888,
              "#fdca26"
             ],
             [
              1,
              "#f0f921"
             ]
            ],
            "type": "histogram2d"
           }
          ],
          "histogram2dcontour": [
           {
            "colorbar": {
             "outlinewidth": 0,
             "ticks": ""
            },
            "colorscale": [
             [
              0,
              "#0d0887"
             ],
             [
              0.1111111111111111,
              "#46039f"
             ],
             [
              0.2222222222222222,
              "#7201a8"
             ],
             [
              0.3333333333333333,
              "#9c179e"
             ],
             [
              0.4444444444444444,
              "#bd3786"
             ],
             [
              0.5555555555555556,
              "#d8576b"
             ],
             [
              0.6666666666666666,
              "#ed7953"
             ],
             [
              0.7777777777777778,
              "#fb9f3a"
             ],
             [
              0.8888888888888888,
              "#fdca26"
             ],
             [
              1,
              "#f0f921"
             ]
            ],
            "type": "histogram2dcontour"
           }
          ],
          "mesh3d": [
           {
            "colorbar": {
             "outlinewidth": 0,
             "ticks": ""
            },
            "type": "mesh3d"
           }
          ],
          "parcoords": [
           {
            "line": {
             "colorbar": {
              "outlinewidth": 0,
              "ticks": ""
             }
            },
            "type": "parcoords"
           }
          ],
          "pie": [
           {
            "automargin": true,
            "type": "pie"
           }
          ],
          "scatter": [
           {
            "fillpattern": {
             "fillmode": "overlay",
             "size": 10,
             "solidity": 0.2
            },
            "type": "scatter"
           }
          ],
          "scatter3d": [
           {
            "line": {
             "colorbar": {
              "outlinewidth": 0,
              "ticks": ""
             }
            },
            "marker": {
             "colorbar": {
              "outlinewidth": 0,
              "ticks": ""
             }
            },
            "type": "scatter3d"
           }
          ],
          "scattercarpet": [
           {
            "marker": {
             "colorbar": {
              "outlinewidth": 0,
              "ticks": ""
             }
            },
            "type": "scattercarpet"
           }
          ],
          "scattergeo": [
           {
            "marker": {
             "colorbar": {
              "outlinewidth": 0,
              "ticks": ""
             }
            },
            "type": "scattergeo"
           }
          ],
          "scattergl": [
           {
            "marker": {
             "colorbar": {
              "outlinewidth": 0,
              "ticks": ""
             }
            },
            "type": "scattergl"
           }
          ],
          "scattermapbox": [
           {
            "marker": {
             "colorbar": {
              "outlinewidth": 0,
              "ticks": ""
             }
            },
            "type": "scattermapbox"
           }
          ],
          "scatterpolar": [
           {
            "marker": {
             "colorbar": {
              "outlinewidth": 0,
              "ticks": ""
             }
            },
            "type": "scatterpolar"
           }
          ],
          "scatterpolargl": [
           {
            "marker": {
             "colorbar": {
              "outlinewidth": 0,
              "ticks": ""
             }
            },
            "type": "scatterpolargl"
           }
          ],
          "scatterternary": [
           {
            "marker": {
             "colorbar": {
              "outlinewidth": 0,
              "ticks": ""
             }
            },
            "type": "scatterternary"
           }
          ],
          "surface": [
           {
            "colorbar": {
             "outlinewidth": 0,
             "ticks": ""
            },
            "colorscale": [
             [
              0,
              "#0d0887"
             ],
             [
              0.1111111111111111,
              "#46039f"
             ],
             [
              0.2222222222222222,
              "#7201a8"
             ],
             [
              0.3333333333333333,
              "#9c179e"
             ],
             [
              0.4444444444444444,
              "#bd3786"
             ],
             [
              0.5555555555555556,
              "#d8576b"
             ],
             [
              0.6666666666666666,
              "#ed7953"
             ],
             [
              0.7777777777777778,
              "#fb9f3a"
             ],
             [
              0.8888888888888888,
              "#fdca26"
             ],
             [
              1,
              "#f0f921"
             ]
            ],
            "type": "surface"
           }
          ],
          "table": [
           {
            "cells": {
             "fill": {
              "color": "#EBF0F8"
             },
             "line": {
              "color": "white"
             }
            },
            "header": {
             "fill": {
              "color": "#C8D4E3"
             },
             "line": {
              "color": "white"
             }
            },
            "type": "table"
           }
          ]
         },
         "layout": {
          "annotationdefaults": {
           "arrowcolor": "#2a3f5f",
           "arrowhead": 0,
           "arrowwidth": 1
          },
          "autotypenumbers": "strict",
          "coloraxis": {
           "colorbar": {
            "outlinewidth": 0,
            "ticks": ""
           }
          },
          "colorscale": {
           "diverging": [
            [
             0,
             "#8e0152"
            ],
            [
             0.1,
             "#c51b7d"
            ],
            [
             0.2,
             "#de77ae"
            ],
            [
             0.3,
             "#f1b6da"
            ],
            [
             0.4,
             "#fde0ef"
            ],
            [
             0.5,
             "#f7f7f7"
            ],
            [
             0.6,
             "#e6f5d0"
            ],
            [
             0.7,
             "#b8e186"
            ],
            [
             0.8,
             "#7fbc41"
            ],
            [
             0.9,
             "#4d9221"
            ],
            [
             1,
             "#276419"
            ]
           ],
           "sequential": [
            [
             0,
             "#0d0887"
            ],
            [
             0.1111111111111111,
             "#46039f"
            ],
            [
             0.2222222222222222,
             "#7201a8"
            ],
            [
             0.3333333333333333,
             "#9c179e"
            ],
            [
             0.4444444444444444,
             "#bd3786"
            ],
            [
             0.5555555555555556,
             "#d8576b"
            ],
            [
             0.6666666666666666,
             "#ed7953"
            ],
            [
             0.7777777777777778,
             "#fb9f3a"
            ],
            [
             0.8888888888888888,
             "#fdca26"
            ],
            [
             1,
             "#f0f921"
            ]
           ],
           "sequentialminus": [
            [
             0,
             "#0d0887"
            ],
            [
             0.1111111111111111,
             "#46039f"
            ],
            [
             0.2222222222222222,
             "#7201a8"
            ],
            [
             0.3333333333333333,
             "#9c179e"
            ],
            [
             0.4444444444444444,
             "#bd3786"
            ],
            [
             0.5555555555555556,
             "#d8576b"
            ],
            [
             0.6666666666666666,
             "#ed7953"
            ],
            [
             0.7777777777777778,
             "#fb9f3a"
            ],
            [
             0.8888888888888888,
             "#fdca26"
            ],
            [
             1,
             "#f0f921"
            ]
           ]
          },
          "colorway": [
           "#636efa",
           "#EF553B",
           "#00cc96",
           "#ab63fa",
           "#FFA15A",
           "#19d3f3",
           "#FF6692",
           "#B6E880",
           "#FF97FF",
           "#FECB52"
          ],
          "font": {
           "color": "#2a3f5f"
          },
          "geo": {
           "bgcolor": "white",
           "lakecolor": "white",
           "landcolor": "#E5ECF6",
           "showlakes": true,
           "showland": true,
           "subunitcolor": "white"
          },
          "hoverlabel": {
           "align": "left"
          },
          "hovermode": "closest",
          "mapbox": {
           "style": "light"
          },
          "paper_bgcolor": "white",
          "plot_bgcolor": "#E5ECF6",
          "polar": {
           "angularaxis": {
            "gridcolor": "white",
            "linecolor": "white",
            "ticks": ""
           },
           "bgcolor": "#E5ECF6",
           "radialaxis": {
            "gridcolor": "white",
            "linecolor": "white",
            "ticks": ""
           }
          },
          "scene": {
           "xaxis": {
            "backgroundcolor": "#E5ECF6",
            "gridcolor": "white",
            "gridwidth": 2,
            "linecolor": "white",
            "showbackground": true,
            "ticks": "",
            "zerolinecolor": "white"
           },
           "yaxis": {
            "backgroundcolor": "#E5ECF6",
            "gridcolor": "white",
            "gridwidth": 2,
            "linecolor": "white",
            "showbackground": true,
            "ticks": "",
            "zerolinecolor": "white"
           },
           "zaxis": {
            "backgroundcolor": "#E5ECF6",
            "gridcolor": "white",
            "gridwidth": 2,
            "linecolor": "white",
            "showbackground": true,
            "ticks": "",
            "zerolinecolor": "white"
           }
          },
          "shapedefaults": {
           "line": {
            "color": "#2a3f5f"
           }
          },
          "ternary": {
           "aaxis": {
            "gridcolor": "white",
            "linecolor": "white",
            "ticks": ""
           },
           "baxis": {
            "gridcolor": "white",
            "linecolor": "white",
            "ticks": ""
           },
           "bgcolor": "#E5ECF6",
           "caxis": {
            "gridcolor": "white",
            "linecolor": "white",
            "ticks": ""
           }
          },
          "title": {
           "x": 0.05
          },
          "xaxis": {
           "automargin": true,
           "gridcolor": "white",
           "linecolor": "white",
           "ticks": "",
           "title": {
            "standoff": 15
           },
           "zerolinecolor": "white",
           "zerolinewidth": 2
          },
          "yaxis": {
           "automargin": true,
           "gridcolor": "white",
           "linecolor": "white",
           "ticks": "",
           "title": {
            "standoff": 15
           },
           "zerolinecolor": "white",
           "zerolinewidth": 2
          }
         }
        },
        "title": {
         "text": "t-SNE Visualization of Word Embeddings"
        },
        "width": 1000,
        "xaxis": {
         "anchor": "y",
         "domain": [
          0,
          1
         ],
         "title": {
          "text": "x"
         }
        },
        "yaxis": {
         "anchor": "x",
         "domain": [
          0,
          1
         ],
         "title": {
          "text": "y"
         }
        }
       }
      }
     },
     "metadata": {},
     "output_type": "display_data"
    }
   ],
   "source": [
    "import numpy as np\n",
    "import pandas as pd\n",
    "import plotly.express as px\n",
    "from sklearn.manifold import TSNE\n",
    "from sklearn.decomposition import PCA\n",
    "\n",
    "# Load embeddings and titles\n",
    "embeddings = title_embeddings.cpu().numpy()\n",
    "tsne = TSNE(n_components=2, random_state=0)\n",
    "embeddings_2d = tsne.fit_transform(embeddings)\n",
    "tsne_df = pd.DataFrame(embeddings_2d, columns=['x', 'y'])\n",
    "tsne_df['title'] = titles\n",
    "\n",
    "# Define a column to specify if the title contains a specific string\n",
    "specific_string = \"x-ray\"  # Change this to your desired string\n",
    "tsne_df['highlight'] = tsne_df['title'].apply(lambda x: specific_string in x)\n",
    "\n",
    "# Plot with Plotly\n",
    "fig = px.scatter(tsne_df, x='x', y='y', color='highlight', hover_data=['title'], title='t-SNE Visualization of Word Embeddings', width=1000, height=1000)\n",
    "fig.update_layout(\n",
    "    xaxis_title='x',\n",
    "    yaxis_title='y',\n",
    ")\n",
    "fig.show()\n"
   ]
  },
  {
   "cell_type": "code",
   "execution_count": 84,
   "metadata": {},
   "outputs": [
    {
     "data": {
      "text/plain": [
       "Counter({'of': 589,\n",
       "         'the': 467,\n",
       "         'in': 324,\n",
       "         'and': 321,\n",
       "         'a': 202,\n",
       "         'for': 152,\n",
       "         'on': 126,\n",
       "         'with': 103,\n",
       "         'quantum': 65,\n",
       "         'to': 61,\n",
       "         'from': 58,\n",
       "         'at': 43,\n",
       "         'theory': 41,\n",
       "         'model': 39,\n",
       "         'an': 37,\n",
       "         'energy': 31,\n",
       "         'field': 30,\n",
       "         'by': 29,\n",
       "         'phase': 25,\n",
       "         'spin': 25,\n",
       "         'systems': 24,\n",
       "         'analysis': 22,\n",
       "         'evolution': 19,\n",
       "         'as': 19,\n",
       "         'emission': 19,\n",
       "         'approach': 19,\n",
       "         'effects': 18,\n",
       "         'new': 18,\n",
       "         'equations': 18,\n",
       "         'dynamics': 18,\n",
       "         'dark': 17,\n",
       "         'states': 17,\n",
       "         'finite': 17,\n",
       "         'solutions': 17,\n",
       "         'state': 17,\n",
       "         'star': 17,\n",
       "         'structure': 16,\n",
       "         'properties': 15,\n",
       "         'data': 15,\n",
       "         'transition': 15,\n",
       "         'magnetic': 15,\n",
       "         'x-ray': 15,\n",
       "         'formation': 14,\n",
       "         'fields': 14,\n",
       "         'functions': 14,\n",
       "         'effect': 14,\n",
       "         'black': 14,\n",
       "         'entanglement': 14,\n",
       "         'equation': 14,\n",
       "         'matter': 13,\n",
       "         'linear': 13,\n",
       "         'decays': 12,\n",
       "         'group': 12,\n",
       "         'particles': 12,\n",
       "         '-': 12,\n",
       "         'networks': 12,\n",
       "         'system': 11,\n",
       "         'based': 11,\n",
       "         'using': 11,\n",
       "         'spaces': 11,\n",
       "         'search': 11,\n",
       "         'decay': 11,\n",
       "         'cluster': 11,\n",
       "         'density': 11,\n",
       "         'between': 11,\n",
       "         'time': 11,\n",
       "         'large': 11,\n",
       "         'electron': 11,\n",
       "         'general': 10,\n",
       "         'observations': 10,\n",
       "         'correlation': 10,\n",
       "         'entropy': 10,\n",
       "         'binary': 10,\n",
       "         'study': 10,\n",
       "         'experimental': 10,\n",
       "         'strong': 10,\n",
       "         'algebras': 10,\n",
       "         'mixing': 10,\n",
       "         'line': 10,\n",
       "         'galaxies': 10,\n",
       "         'type': 10,\n",
       "         'high': 10,\n",
       "         'survey': 9,\n",
       "         'distribution': 9,\n",
       "         'integral': 9,\n",
       "         'generalized': 9,\n",
       "         'interactions': 9,\n",
       "         'space': 9,\n",
       "         'neutrinos': 9,\n",
       "         'scattering': 9,\n",
       "         'part': 9,\n",
       "         'algorithm': 9,\n",
       "         'dynamical': 9,\n",
       "         'nonlinear': 9,\n",
       "         'relativistic': 9,\n",
       "         'bose-einstein': 9,\n",
       "         'modeling': 9,\n",
       "         'groups': 9,\n",
       "         'potential': 9,\n",
       "         'spectroscopy': 9,\n",
       "         'boundary': 9,\n",
       "         'gamma-ray': 9,\n",
       "         'neutron': 9,\n",
       "         'galaxy': 9,\n",
       "         'hole': 9,\n",
       "         'its': 8,\n",
       "         'via': 8,\n",
       "         'measurement': 8,\n",
       "         'molecular': 8,\n",
       "         'stochastic': 8,\n",
       "         'chiral': 8,\n",
       "         'light': 8,\n",
       "         'lattice': 8,\n",
       "         'nuclei': 8,\n",
       "         'random': 8,\n",
       "         'two': 8,\n",
       "         'gas': 8,\n",
       "         'some': 8,\n",
       "         'their': 8,\n",
       "         'string': 8,\n",
       "         'low': 8,\n",
       "         'thermal': 8,\n",
       "         'dependence': 8,\n",
       "         'spectral': 8,\n",
       "         'critical': 8,\n",
       "         'stars': 8,\n",
       "         'universe': 8,\n",
       "         'nuclear': 8,\n",
       "         'superconducting': 8,\n",
       "         'velocity': 8,\n",
       "         'differential': 8,\n",
       "         'disk': 8,\n",
       "         'behavior': 8,\n",
       "         'resonance': 7,\n",
       "         'limit': 7,\n",
       "         'graphene': 7,\n",
       "         'symmetry': 7,\n",
       "         'supernova': 7,\n",
       "         'dipole': 7,\n",
       "         'number': 7,\n",
       "         'geometry': 7,\n",
       "         'i': 7,\n",
       "         'white': 7,\n",
       "         'first': 7,\n",
       "         'symmetries': 7,\n",
       "         'polarization': 7,\n",
       "         'gauge': 7,\n",
       "         'rings': 7,\n",
       "         'condensates': 7,\n",
       "         'statistical': 7,\n",
       "         'holes': 7,\n",
       "         'geometric': 7,\n",
       "         'interaction': 7,\n",
       "         'vortex': 7,\n",
       "         'point': 7,\n",
       "         'dimensions': 7,\n",
       "         'topological': 7,\n",
       "         'two-dimensional': 7,\n",
       "         'evidence': 7,\n",
       "         'modes': 7,\n",
       "         'surface': 7,\n",
       "         'relaxation': 7,\n",
       "         'through': 7,\n",
       "         'radio': 7,\n",
       "         'diffusion': 7,\n",
       "         'optical': 7,\n",
       "         'models': 7,\n",
       "         'clusters': 7,\n",
       "         'local': 7,\n",
       "         'applications': 7,\n",
       "         'coupled': 7,\n",
       "         'conditions': 7,\n",
       "         'lhc': 6,\n",
       "         'fluid': 6,\n",
       "         'atomic': 6,\n",
       "         'mechanics': 6,\n",
       "         '-->': 6,\n",
       "         'solar': 6,\n",
       "         'ferromagnetic': 6,\n",
       "         'crystal': 6,\n",
       "         'origin': 6,\n",
       "         'multiple': 6,\n",
       "         'simulation': 6,\n",
       "         'function': 6,\n",
       "         'free': 6,\n",
       "         'kinetic': 6,\n",
       "         'dwarf': 6,\n",
       "         'mass': 6,\n",
       "         'invariance': 6,\n",
       "         'order': 6,\n",
       "         'problem': 6,\n",
       "         'globular': 6,\n",
       "         'gravity': 6,\n",
       "         'einstein': 6,\n",
       "         'carbon': 6,\n",
       "         'lower': 6,\n",
       "         'angular': 6,\n",
       "         'temperature': 6,\n",
       "         'dots': 6,\n",
       "         'spectra': 6,\n",
       "         'calculations': 6,\n",
       "         'effective': 6,\n",
       "         'glast': 6,\n",
       "         'near': 6,\n",
       "         'electromagnetic': 6,\n",
       "         'particle': 6,\n",
       "         'correlations': 6,\n",
       "         'simulations': 6,\n",
       "         'around': 6,\n",
       "         'radiation': 6,\n",
       "         'information': 6,\n",
       "         'coupling': 6,\n",
       "         'planetary': 6,\n",
       "         'noise': 6,\n",
       "         'constant': 6,\n",
       "         'higher': 6,\n",
       "         'optimal': 6,\n",
       "         'test': 6,\n",
       "         'weak': 6,\n",
       "         'production': 5,\n",
       "         'numbers': 5,\n",
       "         'spitzer': 5,\n",
       "         'observed': 5,\n",
       "         '2': 5,\n",
       "         'modular': 5,\n",
       "         'form': 5,\n",
       "         'holomorphic': 5,\n",
       "         'loop': 5,\n",
       "         'pure': 5,\n",
       "         'spinor': 5,\n",
       "         'baryons': 5,\n",
       "         'spectroscopic': 5,\n",
       "         'theorem': 5,\n",
       "         'approximation': 5,\n",
       "         'correlated': 5,\n",
       "         'exact': 5,\n",
       "         'neutrino': 5,\n",
       "         'discrete': 5,\n",
       "         'scalar': 5,\n",
       "         'classical': 5,\n",
       "         'sets': 5,\n",
       "         'smooth': 5,\n",
       "         'ii': 5,\n",
       "         'manifolds': 5,\n",
       "         'transitions': 5,\n",
       "         'cosmology': 5,\n",
       "         'coulomb': 5,\n",
       "         'theories': 5,\n",
       "         'momentum': 5,\n",
       "         'oscillations': 5,\n",
       "         'current': 5,\n",
       "         'background': 5,\n",
       "         'operator': 5,\n",
       "         'singularities': 5,\n",
       "         'aspects': 5,\n",
       "         'timing': 5,\n",
       "         'case': 5,\n",
       "         'single': 5,\n",
       "         'due': 5,\n",
       "         '--': 5,\n",
       "         'curves': 5,\n",
       "         'towards': 5,\n",
       "         'scheme': 5,\n",
       "         'direct': 5,\n",
       "         'heavy': 5,\n",
       "         'source': 5,\n",
       "         'discovery': 5,\n",
       "         'junctions': 5,\n",
       "         'computation': 5,\n",
       "         'complexity': 5,\n",
       "         'matrix': 5,\n",
       "         'three': 5,\n",
       "         'gamma': 5,\n",
       "         'ngc': 5,\n",
       "         'complex': 5,\n",
       "         'bursts': 5,\n",
       "         'rule': 5,\n",
       "         'lines': 5,\n",
       "         'generation': 5,\n",
       "         'absorption': 5,\n",
       "         'laser': 5,\n",
       "         'mean': 5,\n",
       "         'driven': 5,\n",
       "         'sources': 5,\n",
       "         'ring': 5,\n",
       "         'distributions': 5,\n",
       "         'measures': 5,\n",
       "         'dimensional': 5,\n",
       "         'crossover': 5,\n",
       "         'spectrum': 5,\n",
       "         'organic': 5,\n",
       "         'dependent': 5,\n",
       "         'collisions': 5,\n",
       "         'd': 5,\n",
       "         'galactic': 5,\n",
       "         'extended': 5,\n",
       "         'vector': 5,\n",
       "         'representations': 5,\n",
       "         'gravitational': 5,\n",
       "         'massive': 5,\n",
       "         'conjecture': 5,\n",
       "         'hd': 5,\n",
       "         'photons': 5,\n",
       "         'bounds': 5,\n",
       "         'numerical': 4,\n",
       "         'superstring': 4,\n",
       "         'probability': 4,\n",
       "         'process': 4,\n",
       "         'arrays': 4,\n",
       "         'lie': 4,\n",
       "         'strongly': 4,\n",
       "         'method': 4,\n",
       "         'convergence': 4,\n",
       "         'technique': 4,\n",
       "         'noncommutative': 4,\n",
       "         'methods': 4,\n",
       "         'relation': 4,\n",
       "         'channel': 4,\n",
       "         'active': 4,\n",
       "         'sources:': 4,\n",
       "         'classification': 4,\n",
       "         'maps': 4,\n",
       "         'persistent': 4,\n",
       "         'violation': 4,\n",
       "         'is': 4,\n",
       "         'one-dimensional': 4,\n",
       "         'harmonic': 4,\n",
       "         'chemical': 4,\n",
       "         'locally': 4,\n",
       "         'polynomial': 4,\n",
       "         'laws': 4,\n",
       "         'hilbert': 4,\n",
       "         'character': 4,\n",
       "         'materials': 4,\n",
       "         'wave': 4,\n",
       "         'ion': 4,\n",
       "         'thin': 4,\n",
       "         'films': 4,\n",
       "         'phonon': 4,\n",
       "         'domains': 4,\n",
       "         'dimension': 4,\n",
       "         'unified': 4,\n",
       "         'fe': 4,\n",
       "         'vacuum': 4,\n",
       "         'decoherence': 4,\n",
       "         'initial': 4,\n",
       "         'spin-1/2': 4,\n",
       "         'heisenberg': 4,\n",
       "         'chains': 4,\n",
       "         'pairing': 4,\n",
       "         'formulation': 4,\n",
       "         'equilibrium': 4,\n",
       "         'potentials': 4,\n",
       "         'constraints': 4,\n",
       "         'switching': 4,\n",
       "         'genetic': 4,\n",
       "         'events': 4,\n",
       "         'environment': 4,\n",
       "         'exotic': 4,\n",
       "         'interacting': 4,\n",
       "         'curvature': 4,\n",
       "         'flux': 4,\n",
       "         'modulation': 4,\n",
       "         'algebraic': 4,\n",
       "         'surfaces': 4,\n",
       "         'tunneling': 4,\n",
       "         'boson': 4,\n",
       "         'hubbard': 4,\n",
       "         'rules': 4,\n",
       "         'yang-mills': 4,\n",
       "         'codes': 4,\n",
       "         'weighted': 4,\n",
       "         'non': 4,\n",
       "         'control': 4,\n",
       "         'planet': 4,\n",
       "         'nearby': 4,\n",
       "         'canonical': 4,\n",
       "         'qed': 4,\n",
       "         'periodic': 4,\n",
       "         'network': 4,\n",
       "         'small': 4,\n",
       "         'complete': 4,\n",
       "         'fractional': 4,\n",
       "         'elliptic': 4,\n",
       "         'operators': 4,\n",
       "         'metallic': 4,\n",
       "         'conservation': 4,\n",
       "         '3d': 4,\n",
       "         'incompressible': 4,\n",
       "         'observation': 4,\n",
       "         'families': 4,\n",
       "         'superconductors': 4,\n",
       "         'under': 4,\n",
       "         'oscillation': 4,\n",
       "         'stability': 4,\n",
       "         'higgs': 4,\n",
       "         'engineering': 4,\n",
       "         'cosmological': 4,\n",
       "         'surveys': 4,\n",
       "         'long': 4,\n",
       "         'electronic': 4,\n",
       "         'plane': 4,\n",
       "         'varieties': 4,\n",
       "         'gev': 4,\n",
       "         'redshift': 4,\n",
       "         'variable': 4,\n",
       "         'cosmic': 4,\n",
       "         'volume': 4,\n",
       "         'selection': 4,\n",
       "         'energies': 3,\n",
       "         'pairs': 3,\n",
       "         'continuum': 3,\n",
       "         'solution': 3,\n",
       "         'forms': 3,\n",
       "         'over': 3,\n",
       "         'correspondence': 3,\n",
       "         'half': 3,\n",
       "         'weight': 3,\n",
       "         'product': 3,\n",
       "         'intermediate': 3,\n",
       "         'contact': 3,\n",
       "         'waves': 3,\n",
       "         'film': 3,\n",
       "         'substructures': 3,\n",
       "         'products': 3,\n",
       "         'real': 3,\n",
       "         'functionals': 3,\n",
       "         'flavor': 3,\n",
       "         'breaking': 3,\n",
       "         'within': 3,\n",
       "         'quark': 3,\n",
       "         'electron-phonon': 3,\n",
       "         'probing': 3,\n",
       "         'i.': 3,\n",
       "         'theoretical': 3,\n",
       "         'accuracy': 3,\n",
       "         'astrophysical': 3,\n",
       "         'turbulent': 3,\n",
       "         'flows': 3,\n",
       "         'capacity': 3,\n",
       "         'unit': 3,\n",
       "         'intelligent': 3,\n",
       "         'global': 3,\n",
       "         'orbital': 3,\n",
       "         'unstable': 3,\n",
       "         'walks': 3,\n",
       "         'double': 3,\n",
       "         'littlewood-richardson': 3,\n",
       "         'polynomials': 3,\n",
       "         'iv.': 3,\n",
       "         'relations': 3,\n",
       "         'epitaxial': 3,\n",
       "         'note': 3,\n",
       "         'about': 3,\n",
       "         'objects': 3,\n",
       "         'expanding': 3,\n",
       "         'decomposition': 3,\n",
       "         'independent': 3,\n",
       "         'cp': 3,\n",
       "         'forces': 3,\n",
       "         'associated': 3,\n",
       "         'unitary': 3,\n",
       "         'solitons': 3,\n",
       "         'hydrodynamics': 3,\n",
       "         'cooling': 3,\n",
       "         'photonic': 3,\n",
       "         'physical': 3,\n",
       "         'bullet': 3,\n",
       "         'compact': 3,\n",
       "         'growth': 3,\n",
       "         'shape': 3,\n",
       "         'conformal': 3,\n",
       "         'symplectic': 3,\n",
       "         ':': 3,\n",
       "         'nanotubes': 3,\n",
       "         'exchange': 3,\n",
       "         'trapped': 3,\n",
       "         'stimulated': 3,\n",
       "         'microwave': 3,\n",
       "         'resonator': 3,\n",
       "         'anisotropic': 3,\n",
       "         'i:': 3,\n",
       "         'contacts': 3,\n",
       "         'oscillator': 3,\n",
       "         'orbits': 3,\n",
       "         'instanton': 3,\n",
       "         'liquid': 3,\n",
       "         'localization': 3,\n",
       "         'resolution': 3,\n",
       "         'semiconductor': 3,\n",
       "         'relativity': 3,\n",
       "         'thermodynamics': 3,\n",
       "         'experiment': 3,\n",
       "         'fast': 3,\n",
       "         'interstellar': 3,\n",
       "         'sequences': 3,\n",
       "         'insulator': 3,\n",
       "         'raman': 3,\n",
       "         'related': 3,\n",
       "         'quasicrystals': 3,\n",
       "         'meson': 3,\n",
       "         'shocks': 3,\n",
       "         'very': 3,\n",
       "         'qubit': 3,\n",
       "         'physics': 3,\n",
       "         'charged': 3,\n",
       "         'giant': 3,\n",
       "         'optimization': 3,\n",
       "         'emitting': 3,\n",
       "         'agn': 3,\n",
       "         'wall': 3,\n",
       "         'mechanical': 3,\n",
       "         'affine': 3,\n",
       "         'josephson': 3,\n",
       "         'young': 3,\n",
       "         'activation': 3,\n",
       "         'fusion': 3,\n",
       "         'asymptotic': 3,\n",
       "         'brownian': 3,\n",
       "         'luminous': 3,\n",
       "         'are': 3,\n",
       "         'vs': 3,\n",
       "         'sampling': 3,\n",
       "         'perturbative': 3,\n",
       "         'non-perturbative': 3,\n",
       "         'swift': 3,\n",
       "         'extra-solar': 3,\n",
       "         'force': 3,\n",
       "         'corrections': 3,\n",
       "         'antiferromagnetic': 3,\n",
       "         'rigorous': 3,\n",
       "         'b_s': 3,\n",
       "         'out': 3,\n",
       "         'ratio': 3,\n",
       "         'dust': 3,\n",
       "         'orbifold': 3,\n",
       "         'abelian': 3,\n",
       "         'expansion': 3,\n",
       "         'values': 3,\n",
       "         'instantons': 3,\n",
       "         'color': 3,\n",
       "         'variability': 3,\n",
       "         'during': 3,\n",
       "         'southern': 3,\n",
       "         '=': 3,\n",
       "         'fluctuations': 3,\n",
       "         'anomalous': 3,\n",
       "         'graphs': 3,\n",
       "         'mapping': 3,\n",
       "         'region': 3,\n",
       "         'space-time': 3,\n",
       "         'markov': 3,\n",
       "         'second': 3,\n",
       "         'schwarzschild': 3,\n",
       "         'thermodynamic': 3,\n",
       "         'core': 3,\n",
       "         'atom': 3,\n",
       "         'transform': 3,\n",
       "         'theorems': 3,\n",
       "         'vectors': 3,\n",
       "         'scaling': 3,\n",
       "         'prediction': 3,\n",
       "         'bundles': 3,\n",
       "         'processes': 3,\n",
       "         'accretion': 3,\n",
       "         'bound': 3,\n",
       "         'power': 3,\n",
       "         'extra': 3,\n",
       "         'boundaries': 3,\n",
       "         'ricci': 3,\n",
       "         'spin-orbit': 3,\n",
       "         'metal': 3,\n",
       "         'insulating': 3,\n",
       "         'terms': 3,\n",
       "         'fifth': 3,\n",
       "         'application': 3,\n",
       "         'scale': 3,\n",
       "         'phonon-mediated': 3,\n",
       "         'infrared': 3,\n",
       "         'structural': 3,\n",
       "         'blazar': 3,\n",
       "         'sequence': 3,\n",
       "         'de': 3,\n",
       "         'investigation': 3,\n",
       "         'action': 3,\n",
       "         'instability': 3,\n",
       "         'populations': 3,\n",
       "         'other': 3,\n",
       "         'superconductivity': 3,\n",
       "         'transfer': 3,\n",
       "         'doped': 3,\n",
       "         'reduction': 3,\n",
       "         'fragmentation': 3,\n",
       "         'binaries': 3,\n",
       "         'into': 3,\n",
       "         'digital': 3,\n",
       "         'phases': 3,\n",
       "         'principle': 3,\n",
       "         'square': 3,\n",
       "         'feedback': 3,\n",
       "         'pinning': 3,\n",
       "         'condensate': 3,\n",
       "         'perturbation': 3,\n",
       "         'microlensing': 3,\n",
       "         'extragalactic': 3,\n",
       "         'superconductor': 3,\n",
       "         'maximum': 3,\n",
       "         'testing': 3,\n",
       "         'scales': 3,\n",
       "         'long-range': 3,\n",
       "         'masses': 3,\n",
       "         'bosons': 3,\n",
       "         'flow': 3,\n",
       "         'percolation': 3,\n",
       "         'studied': 3,\n",
       "         'generic': 3,\n",
       "         'orthogonal': 3,\n",
       "         'bipartite': 3,\n",
       "         'stable': 3,\n",
       "         'operations': 3,\n",
       "         'excitations': 3,\n",
       "         'transformations': 3,\n",
       "         'elements': 3,\n",
       "         'radial': 3,\n",
       "         'interference': 3,\n",
       "         'fluids': 3,\n",
       "         'devices': 3,\n",
       "         'open': 3,\n",
       "         'storage': 3,\n",
       "         'composite': 3,\n",
       "         'market': 3,\n",
       "         'architecture': 3,\n",
       "         'moduli': 3,\n",
       "         'k^-': 3,\n",
       "         'coherent': 3,\n",
       "         'one': 3,\n",
       "         'sky': 3,\n",
       "         'quantization': 3,\n",
       "         'monitoring': 3,\n",
       "         'spatially': 3,\n",
       "         'splitting': 3,\n",
       "         'triangular': 3,\n",
       "         'seyfert': 3,\n",
       "         'cataclysmic': 3,\n",
       "         'coding': 3,\n",
       "         'gaussian': 3,\n",
       "         'calculation': 2,\n",
       "         'cross': 2,\n",
       "         'sections': 2,\n",
       "         'cycle': 2,\n",
       "         '$\\\\lambda_{\\\\alpha}$': 2,\n",
       "         'bosonic': 2,\n",
       "         'characters': 2,\n",
       "         'c2d': 2,\n",
       "         'large,': 2,\n",
       "         'nearby,': 2,\n",
       "         'ix.': 2,\n",
       "         'serpens': 2,\n",
       "         'population': 2,\n",
       "         'mips': 2,\n",
       "         'constructions': 2,\n",
       "         'fourier': 2,\n",
       "         'coefficients': 2,\n",
       "         '$p$-adic': 2,\n",
       "         'weakly': 2,\n",
       "         'iterated': 2,\n",
       "         'fermionic': 2,\n",
       "         'amplitudes': 2,\n",
       "         'formalism': 2,\n",
       "         'lifetime': 2,\n",
       "         'charmed': 2,\n",
       "         'polar': 2,\n",
       "         'extinction': 2,\n",
       "         'basis': 2,\n",
       "         'hadronic': 2,\n",
       "         'factor': 2,\n",
       "         'd0': 2,\n",
       "         'ideal': 2,\n",
       "         'probe': 2,\n",
       "         'transverse': 2,\n",
       "         'media': 2,\n",
       "         'monte': 2,\n",
       "         'carlo': 2,\n",
       "         'placeholder': 2,\n",
       "         'infinite-dimensional': 2,\n",
       "         'nucleon': 2,\n",
       "         'protons': 2,\n",
       "         'approximation.': 2,\n",
       "         'ii.': 2,\n",
       "         'extrapolation': 2,\n",
       "         'increase': 2,\n",
       "         'much': 2,\n",
       "         'than': 2,\n",
       "         'wavelength': 2,\n",
       "         'recent': 2,\n",
       "         'developments': 2,\n",
       "         'radius': 2,\n",
       "         'pion': 2,\n",
       "         'boltzmann': 2,\n",
       "         'magnetized': 2,\n",
       "         'collisional': 2,\n",
       "         'cost': 2,\n",
       "         'location': 2,\n",
       "         'simultaneously': 2,\n",
       "         'acoustic': 2,\n",
       "         'challenges': 2,\n",
       "         'fano': 2,\n",
       "         'polytopes': 2,\n",
       "         'curved': 2,\n",
       "         'spacetime': 2,\n",
       "         'special': 2,\n",
       "         'density-functional': 2,\n",
       "         'diagram': 2,\n",
       "         'companion': 2,\n",
       "         'excitation': 2,\n",
       "         'relationship': 2,\n",
       "         'nilpotent': 2,\n",
       "         'commutation': 2,\n",
       "         'coincidence': 2,\n",
       "         'narrow': 2,\n",
       "         'electrons': 2,\n",
       "         'procedure': 2,\n",
       "         'finding': 2,\n",
       "         'integrals': 2,\n",
       "         'any': 2,\n",
       "         'universal': 2,\n",
       "         'perturbations': 2,\n",
       "         'deformations': 2,\n",
       "         'why': 2,\n",
       "         'there': 2,\n",
       "         'freely': 2,\n",
       "         'inelastic': 2,\n",
       "         'family': 2,\n",
       "         'universality': 2,\n",
       "         'clustering': 2,\n",
       "         'approximate': 2,\n",
       "         'hyperbolic': 2,\n",
       "         'features': 2,\n",
       "         'many': 2,\n",
       "         'classes': 2,\n",
       "         'automorphisms': 2,\n",
       "         'fermions': 2,\n",
       "         'lensing': 2,\n",
       "         'clusters:': 2,\n",
       "         'convex': 2,\n",
       "         'topology': 2,\n",
       "         'change': 2,\n",
       "         'duality': 2,\n",
       "         'rigid': 2,\n",
       "         'subsets': 2,\n",
       "         'nanowires': 2,\n",
       "         'twisted': 2,\n",
       "         'aligned': 2,\n",
       "         'walled': 2,\n",
       "         'antiferromagnet': 2,\n",
       "         'stringy': 2,\n",
       "         'morse': 2,\n",
       "         'ground': 2,\n",
       "         'electric': 2,\n",
       "         'brane': 2,\n",
       "         'proper': 2,\n",
       "         'discs': 2,\n",
       "         'stein': 2,\n",
       "         'characteristics': 2,\n",
       "         'mgb2': 2,\n",
       "         'swift/xrt': 2,\n",
       "         'grbs': 2,\n",
       "         'set': 2,\n",
       "         'dissipative': 2,\n",
       "         '2+1': 2,\n",
       "         'spacetimes': 2,\n",
       "         'blue': 2,\n",
       "         'sitter': 2,\n",
       "         'renormalization': 2,\n",
       "         'inflation': 2,\n",
       "         'landscape': 2,\n",
       "         'view': 2,\n",
       "         'ensemble': 2,\n",
       "         'optics': 2,\n",
       "         'construction': 2,\n",
       "         'magnetism': 2,\n",
       "         'extraction': 2,\n",
       "         'medium': 2,\n",
       "         'program': 2,\n",
       "         'coronal': 2,\n",
       "         'alternative': 2,\n",
       "         'liquids': 2,\n",
       "         'soft': 2,\n",
       "         'ab-initio': 2,\n",
       "         'metastable': 2,\n",
       "         'runaway': 2,\n",
       "         'radiative': 2,\n",
       "         '$b\\\\to\\\\pi\\\\pi$': 2,\n",
       "         'mediated': 2,\n",
       "         'mechanism': 2,\n",
       "         'coherence': 2,\n",
       "         'hydrogen': 2,\n",
       "         'plasma': 2,\n",
       "         'skin': 2,\n",
       "         'structures': 2,\n",
       "         'anisotropy': 2,\n",
       "         'dichroism': 2,\n",
       "         'susy': 2,\n",
       "         'remarks': 2,\n",
       "         'sterile': 2,\n",
       "         'he': 2,\n",
       "         'contained': 2,\n",
       "         'partially': 2,\n",
       "         'knots': 2,\n",
       "         'disks': 2,\n",
       "         'domain': 2,\n",
       "         'generated': 2,\n",
       "         'categories': 2,\n",
       "         'average': 2,\n",
       "         'census': 2,\n",
       "         'nebula': 2,\n",
       "         'pulsar': 2,\n",
       "         'psr': 2,\n",
       "         'resonant': 2,\n",
       "         'rank': 2,\n",
       "         '3': 2,\n",
       "         'coefficient': 2,\n",
       "         'collision': 2,\n",
       "         'different': 2,\n",
       "         'drifts': 2,\n",
       "         'fading': 2,\n",
       "         'quantized': 2,\n",
       "         'periodicity': 2,\n",
       "         'criteria': 2,\n",
       "         'emission,': 2,\n",
       "         'wind': 2,\n",
       "         'progenitor': 2,\n",
       "         'return': 2,\n",
       "         'static': 2,\n",
       "         'annihilation': 2,\n",
       "         'considerations': 2,\n",
       "         'supernovae': 2,\n",
       "         'exploring': 2,\n",
       "         'k': 2,\n",
       "         '3783': 2,\n",
       "         'gravitation': 2,\n",
       "         'space,': 2,\n",
       "         'or': 2,\n",
       "         'programming': 2,\n",
       "         'representation': 2,\n",
       "         'outer': 2,\n",
       "         'main': 2,\n",
       "         'detection': 2,\n",
       "         'characterization': 2,\n",
       "         'quasi-2d': 2,\n",
       "         'model:': 2,\n",
       "         'non-local': 2,\n",
       "         'comparison': 2,\n",
       "         'solids': 2,\n",
       "         'hall': 2,\n",
       "         'layers': 2,\n",
       "         'time-domain': 2,\n",
       "         'sum': 2,\n",
       "         'error': 2,\n",
       "         'does': 2,\n",
       "         'present': 2,\n",
       "         'enhancement': 2,\n",
       "         'branching': 2,\n",
       "         'three-point': 2,\n",
       "         'projective': 2,\n",
       "         'skyrmion': 2,\n",
       "         'rem': 2,\n",
       "         'near-ir': 2,\n",
       "         '2005': 2,\n",
       "         'circuits': 2,\n",
       "         'harps': 2,\n",
       "         'planets.': 2,\n",
       "         'x.': 2,\n",
       "         'm': 2,\n",
       "         '11': 2,\n",
       "         'competition': 2,\n",
       "         'pattern': 2,\n",
       "         'version': 2,\n",
       "         'metric': 2,\n",
       "         'q-deformed': 2,\n",
       "         'dispersion': 2,\n",
       "         'turbulence': 2,\n",
       "         'tomography': 2,\n",
       "         'bimodality': 2,\n",
       "         'realistic': 2,\n",
       "         'approaching': 2,\n",
       "         'jet': 2,\n",
       "         'isospin': 2,\n",
       "         'yield': 2,\n",
       "         'qcd': 2,\n",
       "         'types': 2,\n",
       "         'parametrized': 2,\n",
       "         'arrangements': 2,\n",
       "         'beyond': 2,\n",
       "         'remnant': 2,\n",
       "         'entire': 2,\n",
       "         'exponential': 2,\n",
       "         'single-walled': 2,\n",
       "         'world': 2,\n",
       "         'degree': 2,\n",
       "         'moment': 2,\n",
       "         'nanotube': 2,\n",
       "         'lorentz': 2,\n",
       "         'late-type': 2,\n",
       "         'fundamental': 2,\n",
       "         'propagation': 2,\n",
       "         'asymmetric': 2,\n",
       "         'currents': 2,\n",
       "         'metallicity': 2,\n",
       "         'sequential': 2,\n",
       "         'quadratic': 2,\n",
       "         'electroweak': 2,\n",
       "         'mssm': 2,\n",
       "         'large-scale': 2,\n",
       "         'mean-field': 2,\n",
       "         'stationary': 2,\n",
       "         'dimensionality': 2,\n",
       "         'euler': 2,\n",
       "         'cylindrical': 2,\n",
       "         'behaviour': 2,\n",
       "         'inverse': 2,\n",
       "         'navier-stokes': 2,\n",
       "         'category': 2,\n",
       "         'mixtures': 2,\n",
       "         'colloidal': 2,\n",
       "         'spheres': 2,\n",
       "         'robustness': 2,\n",
       "         'estimates': 2,\n",
       "         'class': 2,\n",
       "         'dispersive': 2,\n",
       "         'can': 2,\n",
       "         'final': 2,\n",
       "         'results': 2,\n",
       "         'equivalent': 2,\n",
       "         'candidates': 2,\n",
       "         'evolutionary': 2,\n",
       "         'inhomogeneous': 2,\n",
       "         'revisited': 2,\n",
       "         'motion': 2,\n",
       "         'lengths': 2,\n",
       "         'b': 2,\n",
       "         'rho': 2,\n",
       "         'rare': 2,\n",
       "         'without': 2,\n",
       "         'rich': 2,\n",
       "         'holonomic': 2,\n",
       "         'matrices': 2,\n",
       "         'polymers': 2,\n",
       "         'rates': 2,\n",
       "         'condition': 2,\n",
       "         'ultracold': 2,\n",
       "         'fermi': 2,\n",
       "         'nanoparticles': 2,\n",
       "         'optimality': 2,\n",
       "         '\\\\to': 2,\n",
       "         'increasing': 2,\n",
       "         'trees': 2,\n",
       "         'modelling': 2,\n",
       "         'red': 2,\n",
       "         'difference': 2,\n",
       "         '1d': 2,\n",
       "         'conductors': 2,\n",
       "         'no': 2,\n",
       "         'subgroups': 2,\n",
       "         'blockade': 2,\n",
       "         'nanoscale': 2,\n",
       "         'infinite': 2,\n",
       "         'fixed': 2,\n",
       "         'points': 2,\n",
       "         'hamiltonian': 2,\n",
       "         'beam': 2,\n",
       "         'switch': 2,\n",
       "         'reduced': 2,\n",
       "         'external': 2,\n",
       "         'protein': 2,\n",
       "         'ell^+': 2,\n",
       "         'reaction': 2,\n",
       "         'unification': 2,\n",
       "         'standard': 2,\n",
       "         'manipulating': 2,\n",
       "         'viscous': 2,\n",
       "         'worldsheet': 2,\n",
       "         'disorder': 2,\n",
       "         'screening': 2,\n",
       "         'candidate': 2,\n",
       "         'cygnus': 2,\n",
       "         'cuprates': 2,\n",
       "         'extrasolar': 2,\n",
       "         'wide': 2,\n",
       "         'low-mass': 2,\n",
       "         'backgrounds': 2,\n",
       "         'displacement': 2,\n",
       "         'detector': 2,\n",
       "         'rotation': 2,\n",
       "         'milky': 2,\n",
       "         'way': 2,\n",
       "         'extremely': 2,\n",
       "         'telescope': 2,\n",
       "         'egret': 2,\n",
       "         'debris': 2,\n",
       "         ...})"
      ]
     },
     "execution_count": 84,
     "metadata": {},
     "output_type": "execute_result"
    }
   ],
   "source": [
    "# Get vocab of titles\n",
    "\n",
    "from collections import Counter\n",
    "\n",
    "vocab = Counter()\n",
    "for title in titles:\n",
    "    vocab.update(title.split())\n",
    "\n",
    "vocab"
   ]
  }
 ],
 "metadata": {
  "kernelspec": {
   "display_name": "Python 3",
   "language": "python",
   "name": "python3"
  },
  "language_info": {
   "codemirror_mode": {
    "name": "ipython",
    "version": 3
   },
   "file_extension": ".py",
   "mimetype": "text/x-python",
   "name": "python",
   "nbconvert_exporter": "python",
   "pygments_lexer": "ipython3",
   "version": "3.11.6"
  }
 },
 "nbformat": 4,
 "nbformat_minor": 2
}
